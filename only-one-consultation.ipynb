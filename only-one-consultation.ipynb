{
 "cells": [
  {
   "cell_type": "code",
   "execution_count": 1,
   "metadata": {},
   "outputs": [],
   "source": [
    "import sys\n",
    "import pandas as pd\n",
    "\n",
    "\n",
    "# from tqdm import tqdm_notebook\n",
    "\n",
    "sys.path.append(\"/home/sergey/drclinics/common\")\n",
    "from universal_connection import UniversalConnection, DBType\n",
    "\n",
    "sys.path.append(\"/home/sergey/drclinics/reports\")\n",
    "# from report_utils import excel_report\n",
    "\n",
    "from connect_platform import connect_telemed\n",
    "\n",
    "import numpy as np\n",
    "from log import log"
   ]
  },
  {
   "cell_type": "code",
   "execution_count": 2,
   "metadata": {},
   "outputs": [],
   "source": [
    "import datetime"
   ]
  },
  {
   "cell_type": "code",
   "execution_count": 3,
   "metadata": {},
   "outputs": [],
   "source": [
    "sql = \"\"\"\n",
    "select \tpatient.id patient_id,\n",
    "\t\ta.id app_id,\n",
    "\t\tdate(a.finished at time zone 'UTC') finished\n",
    "from patient \n",
    "inner join appointment a on a.patient_id = patient.id\n",
    "where \n",
    "\t  a.good\n",
    "      and not (\n",
    "      \ta.patient_id in (\n",
    "\t      \tselect patient_id\n",
    "\t      \tfrom patient_categories pcat\n",
    "\t      \tinner join reference rf\n",
    "\t      \t   on rf.id=pcat.reference_id\n",
    "\t      \twhere rf.code='TEST'\n",
    "\t      \t)\n",
    "\t    or lower(a.report_comment)='тест'\n",
    "      \t)\n",
    "\"\"\""
   ]
  },
  {
   "cell_type": "code",
   "execution_count": 4,
   "metadata": {},
   "outputs": [
    {
     "name": "stdout",
     "output_type": "stream",
     "text": [
      "2020-05-22 18:42:05 connect to postgres database using config file \"/home/sergey/drclinics/common/../.credentials/telemed/prom.cfg\"\n",
      "2020-05-22 18:42:05 creating ssh tunnel to 172.16.100.19 as root...\n",
      "2020-05-22 18:42:06 connect postgres using parameters:\n",
      "                    database: telemed\n",
      "\t\t\t\t    user: norekhov\n",
      "\t\t\t\t    password: ***masked***\n",
      "\t\t\t\t    host: localhost\n",
      "\t\t\t\t    port: 33951\n",
      "2020-05-22 18:42:06 @telemed: execute sql:\n",
      "\t\t\t\t    SET TIME ZONE 'Europe/Moscow'\n",
      "\t\t\t\t    None\n",
      "2020-05-22 18:42:06 @telemed query:\n",
      "                    select \tpatient.id patient_id,\n",
      "\t\t\t\t    \t\ta.id app_id,\n",
      "\t\t\t\t    \t\tdate(a.finished at time zone 'UTC') finished\n",
      "\t\t\t\t    from patient \n",
      "\t\t\t\t    inner join appointment a on a.patient_id = patient.id\n",
      "\t\t\t\t    where \n",
      "\t\t\t\t    \t  a.good\n",
      "\t\t\t\t          and not (\n",
      "\t\t\t\t          \ta.patient_id in (\n",
      "\t\t\t\t    \t      \tselect patient_id\n",
      "\t\t\t\t    \t      \tfrom patient_categories pcat\n",
      "\t\t\t\t    \t      \tinner join reference rf\n",
      "\t\t\t\t    \t      \t   on rf.id=pcat.reference_id\n",
      "\t\t\t\t    \t      \twhere rf.code='TEST'\n",
      "\t\t\t\t    \t      \t)\n",
      "\t\t\t\t    \t    or lower(a.report_comment)='тест'\n",
      "\t\t\t\t          \t)\n",
      "                    None\n",
      "2020-05-22 18:42:08 return 162748 rows\n",
      "2020-05-22 18:42:09 @telemed: closing postgres connection...\n",
      "2020-05-22 18:42:09 closing ssh tunnel to 172.16.100.19...\n"
     ]
    }
   ],
   "source": [
    "conn = connect_telemed()\n",
    "df: pd.DataFrame = conn.query(sql)\n",
    "conn.close()"
   ]
  },
  {
   "cell_type": "code",
   "execution_count": null,
   "metadata": {},
   "outputs": [],
   "source": []
  },
  {
   "cell_type": "code",
   "execution_count": 5,
   "metadata": {},
   "outputs": [
    {
     "data": {
      "text/html": [
       "<div>\n",
       "<style scoped>\n",
       "    .dataframe tbody tr th:only-of-type {\n",
       "        vertical-align: middle;\n",
       "    }\n",
       "\n",
       "    .dataframe tbody tr th {\n",
       "        vertical-align: top;\n",
       "    }\n",
       "\n",
       "    .dataframe thead th {\n",
       "        text-align: right;\n",
       "    }\n",
       "</style>\n",
       "<table border=\"1\" class=\"dataframe\">\n",
       "  <thead>\n",
       "    <tr style=\"text-align: right;\">\n",
       "      <th></th>\n",
       "      <th>patient_id</th>\n",
       "      <th>app_id</th>\n",
       "      <th>finished</th>\n",
       "    </tr>\n",
       "  </thead>\n",
       "  <tbody>\n",
       "    <tr>\n",
       "      <th>0</th>\n",
       "      <td>1190533</td>\n",
       "      <td>66663</td>\n",
       "      <td>2019-08-29</td>\n",
       "    </tr>\n",
       "    <tr>\n",
       "      <th>1</th>\n",
       "      <td>1648936</td>\n",
       "      <td>84449</td>\n",
       "      <td>2019-11-27</td>\n",
       "    </tr>\n",
       "    <tr>\n",
       "      <th>2</th>\n",
       "      <td>1192092</td>\n",
       "      <td>76411</td>\n",
       "      <td>2019-10-21</td>\n",
       "    </tr>\n",
       "    <tr>\n",
       "      <th>3</th>\n",
       "      <td>1170981</td>\n",
       "      <td>66666</td>\n",
       "      <td>2019-08-29</td>\n",
       "    </tr>\n",
       "    <tr>\n",
       "      <th>4</th>\n",
       "      <td>2919271</td>\n",
       "      <td>119907</td>\n",
       "      <td>2020-03-19</td>\n",
       "    </tr>\n",
       "  </tbody>\n",
       "</table>\n",
       "</div>"
      ],
      "text/plain": [
       "   patient_id  app_id    finished\n",
       "0     1190533   66663  2019-08-29\n",
       "1     1648936   84449  2019-11-27\n",
       "2     1192092   76411  2019-10-21\n",
       "3     1170981   66666  2019-08-29\n",
       "4     2919271  119907  2020-03-19"
      ]
     },
     "execution_count": 5,
     "metadata": {},
     "output_type": "execute_result"
    }
   ],
   "source": [
    "df.head()"
   ]
  },
  {
   "cell_type": "code",
   "execution_count": null,
   "metadata": {},
   "outputs": [],
   "source": []
  },
  {
   "cell_type": "code",
   "execution_count": 6,
   "metadata": {},
   "outputs": [],
   "source": [
    "df_cons_total = df.groupby(['patient_id'])[['app_id']].count().reset_index().rename(columns={'app_id':'cons_total'})"
   ]
  },
  {
   "cell_type": "code",
   "execution_count": 7,
   "metadata": {},
   "outputs": [],
   "source": [
    "#df_cons_total.head()"
   ]
  },
  {
   "cell_type": "code",
   "execution_count": 8,
   "metadata": {},
   "outputs": [
    {
     "data": {
      "text/plain": [
       "40250"
      ]
     },
     "execution_count": 8,
     "metadata": {},
     "output_type": "execute_result"
    }
   ],
   "source": [
    "# patients with only 1 consultation\n",
    "len(df_cons_total[df_cons_total['cons_total'] == 1])"
   ]
  },
  {
   "cell_type": "code",
   "execution_count": 9,
   "metadata": {},
   "outputs": [
    {
     "data": {
      "text/plain": [
       "68708"
      ]
     },
     "execution_count": 9,
     "metadata": {},
     "output_type": "execute_result"
    }
   ],
   "source": [
    "# total patients\n",
    "len(df.patient_id.unique())\n",
    "#len(df_cons)"
   ]
  },
  {
   "cell_type": "code",
   "execution_count": 10,
   "metadata": {},
   "outputs": [
    {
     "data": {
      "text/plain": [
       "162748"
      ]
     },
     "execution_count": 10,
     "metadata": {},
     "output_type": "execute_result"
    }
   ],
   "source": [
    "# total consultations\n",
    "len(df.app_id.unique())"
   ]
  },
  {
   "cell_type": "code",
   "execution_count": null,
   "metadata": {},
   "outputs": [],
   "source": []
  },
  {
   "cell_type": "code",
   "execution_count": 11,
   "metadata": {},
   "outputs": [
    {
     "data": {
      "text/plain": [
       "\"\\nd = {\\n    'total consultations': [len(df.app_id.unique()), 1],\\n    'total patients': [len(df.patient_id.unique()), 2],\\n    'patients with 1 consultation':[len(df_cons_total[df_cons_total['cons_total'] == 1]), 3]\\n    \\n}\\n\""
      ]
     },
     "execution_count": 11,
     "metadata": {},
     "output_type": "execute_result"
    }
   ],
   "source": [
    "\"\"\"\n",
    "d = {\n",
    "    'total consultations': [len(df.app_id.unique()), 1],\n",
    "    'total patients': [len(df.patient_id.unique()), 2],\n",
    "    'patients with 1 consultation':[len(df_cons_total[df_cons_total['cons_total'] == 1]), 3]\n",
    "    \n",
    "}\n",
    "\"\"\""
   ]
  },
  {
   "cell_type": "code",
   "execution_count": 12,
   "metadata": {},
   "outputs": [],
   "source": [
    "#report3 = pd.DataFrame.from_dict(d, orient='index').rename(columns={0:'Total', 1:'WEB start'})"
   ]
  },
  {
   "cell_type": "code",
   "execution_count": 13,
   "metadata": {},
   "outputs": [],
   "source": [
    "#report3"
   ]
  },
  {
   "cell_type": "code",
   "execution_count": null,
   "metadata": {},
   "outputs": [],
   "source": []
  },
  {
   "cell_type": "code",
   "execution_count": 14,
   "metadata": {},
   "outputs": [],
   "source": [
    "df_cons_web = df[df['finished'] >= datetime.datetime.strptime('2020-03-30', '%Y-%m-%d').date()]"
   ]
  },
  {
   "cell_type": "code",
   "execution_count": 16,
   "metadata": {},
   "outputs": [],
   "source": [
    "df_cons_web_group = df_cons_web.groupby(['patient_id'])[['app_id']].count().reset_index().rename(columns={'app_id':'cons_total'})"
   ]
  },
  {
   "cell_type": "code",
   "execution_count": 17,
   "metadata": {},
   "outputs": [],
   "source": [
    "#df_cons_web_group.head()"
   ]
  },
  {
   "cell_type": "code",
   "execution_count": null,
   "metadata": {},
   "outputs": [],
   "source": []
  },
  {
   "cell_type": "code",
   "execution_count": 18,
   "metadata": {},
   "outputs": [
    {
     "data": {
      "text/plain": [
       "23398"
      ]
     },
     "execution_count": 18,
     "metadata": {},
     "output_type": "execute_result"
    }
   ],
   "source": [
    "# WEB patients with only 1 consultation\n",
    "len(df_cons_web_group[df_cons_web_group['cons_total'] == 1])"
   ]
  },
  {
   "cell_type": "code",
   "execution_count": 19,
   "metadata": {},
   "outputs": [
    {
     "data": {
      "text/plain": [
       "37763"
      ]
     },
     "execution_count": 19,
     "metadata": {},
     "output_type": "execute_result"
    }
   ],
   "source": [
    "# WEB total patients\n",
    "len(df_cons_web.patient_id.unique())\n",
    "#len(df_cons)"
   ]
  },
  {
   "cell_type": "code",
   "execution_count": 20,
   "metadata": {},
   "outputs": [
    {
     "data": {
      "text/plain": [
       "78558"
      ]
     },
     "execution_count": 20,
     "metadata": {},
     "output_type": "execute_result"
    }
   ],
   "source": [
    "# WEB total consultations\n",
    "len(df_cons_web.app_id.unique())"
   ]
  },
  {
   "cell_type": "code",
   "execution_count": null,
   "metadata": {},
   "outputs": [],
   "source": []
  },
  {
   "cell_type": "code",
   "execution_count": 21,
   "metadata": {},
   "outputs": [],
   "source": [
    "total_con = len(df.app_id.unique())\n",
    "total_con_web = len(df_cons_web.app_id.unique())\n",
    "\n",
    "total_pat = len(df.patient_id.unique())\n",
    "total_pat_web = len(df_cons_web.patient_id.unique())\n",
    "\n",
    "pat_solo = len(df_cons_total[df_cons_total['cons_total'] == 1])\n",
    "pat_solo_web = len(df_cons_web_group[df_cons_web_group['cons_total'] == 1])\n",
    "\n",
    "d = {\n",
    "    'Всего консультаций': [total_con, \n",
    "                           total_con_web,\n",
    "                           '-',\n",
    "                           '-'],\n",
    "    'Всего пациентов': [total_pat, \n",
    "                        total_pat_web,\n",
    "                        '-',\n",
    "                        '-'],\n",
    "    'Пациентов с 1-ой консультацией': [pat_solo, \n",
    "                                       pat_solo_web,\n",
    "                                       round(pat_solo * 100 / total_pat, 2),\n",
    "                                       round(pat_solo_web * 100 / total_pat_web, 2)]\n",
    "    \n",
    "}"
   ]
  },
  {
   "cell_type": "code",
   "execution_count": 22,
   "metadata": {},
   "outputs": [],
   "source": [
    "report3 = pd.DataFrame.from_dict(d, orient='index').rename(columns={0:'Всего', \n",
    "                                                                    1:'Из них с начала WEB',\n",
    "                                                                    2:'Пациентов с 1-ой консультацией, %',\n",
    "                                                                    3:'Пациентов с 1-ой косультацией с начала WEB %'})"
   ]
  },
  {
   "cell_type": "code",
   "execution_count": 23,
   "metadata": {},
   "outputs": [
    {
     "data": {
      "text/html": [
       "<div>\n",
       "<style scoped>\n",
       "    .dataframe tbody tr th:only-of-type {\n",
       "        vertical-align: middle;\n",
       "    }\n",
       "\n",
       "    .dataframe tbody tr th {\n",
       "        vertical-align: top;\n",
       "    }\n",
       "\n",
       "    .dataframe thead th {\n",
       "        text-align: right;\n",
       "    }\n",
       "</style>\n",
       "<table border=\"1\" class=\"dataframe\">\n",
       "  <thead>\n",
       "    <tr style=\"text-align: right;\">\n",
       "      <th></th>\n",
       "      <th>Всего</th>\n",
       "      <th>Из них с начала WEB</th>\n",
       "      <th>Пациентов с 1-ой консультацией, %</th>\n",
       "      <th>Пациентов с 1-ой косультацией с начала WEB %</th>\n",
       "    </tr>\n",
       "  </thead>\n",
       "  <tbody>\n",
       "    <tr>\n",
       "      <th>Всего консультаций</th>\n",
       "      <td>162748</td>\n",
       "      <td>78558</td>\n",
       "      <td>-</td>\n",
       "      <td>-</td>\n",
       "    </tr>\n",
       "    <tr>\n",
       "      <th>Всего пациентов</th>\n",
       "      <td>68708</td>\n",
       "      <td>37763</td>\n",
       "      <td>-</td>\n",
       "      <td>-</td>\n",
       "    </tr>\n",
       "    <tr>\n",
       "      <th>Пациентов с 1-ой консультацией</th>\n",
       "      <td>40250</td>\n",
       "      <td>23398</td>\n",
       "      <td>58.58</td>\n",
       "      <td>61.96</td>\n",
       "    </tr>\n",
       "  </tbody>\n",
       "</table>\n",
       "</div>"
      ],
      "text/plain": [
       "                                 Всего  Из них с начала WEB  \\\n",
       "Всего консультаций              162748                78558   \n",
       "Всего пациентов                  68708                37763   \n",
       "Пациентов с 1-ой консультацией   40250                23398   \n",
       "\n",
       "                               Пациентов с 1-ой консультацией, %  \\\n",
       "Всего консультаций                                             -   \n",
       "Всего пациентов                                                -   \n",
       "Пациентов с 1-ой консультацией                             58.58   \n",
       "\n",
       "                               Пациентов с 1-ой косультацией с начала WEB %  \n",
       "Всего консультаций                                                        -  \n",
       "Всего пациентов                                                           -  \n",
       "Пациентов с 1-ой консультацией                                        61.96  "
      ]
     },
     "execution_count": 23,
     "metadata": {},
     "output_type": "execute_result"
    }
   ],
   "source": [
    "report3"
   ]
  },
  {
   "cell_type": "code",
   "execution_count": null,
   "metadata": {},
   "outputs": [],
   "source": []
  },
  {
   "cell_type": "code",
   "execution_count": 24,
   "metadata": {},
   "outputs": [],
   "source": [
    "global writer\n",
    "writer = None"
   ]
  },
  {
   "cell_type": "code",
   "execution_count": 25,
   "metadata": {},
   "outputs": [],
   "source": [
    "def corr_width(x: int):\n",
    "    if x <= 7:\n",
    "        return 7\n",
    "    elif x >=30:\n",
    "        return 30\n",
    "    return x\n",
    "\n",
    "def auto_columns_width(file_name, data, sheet_name, formatting=[]):\n",
    "    \n",
    "    # writer\n",
    "    global writer\n",
    "    if not writer:\n",
    "        writer = pd.ExcelWriter(file_name, engine='xlsxwriter')\n",
    "    \n",
    "    # drop pandas RangeIndex\n",
    "    if isinstance(data.index, pd.core.indexes.range.RangeIndex):\n",
    "        data.to_excel(writer, sheet_name=sheet_name, index=False)\n",
    "    else:\n",
    "        data.to_excel(writer, sheet_name=sheet_name)\n",
    "    \n",
    "    # select current worksheet\n",
    "    worksheet = writer.sheets[sheet_name]\n",
    "    \n",
    "    # read columns\n",
    "    cols = list(data.columns)\n",
    "    cols_iter = list(data.columns)\n",
    "    \n",
    "    # datacolumns to str\n",
    "    for i in range(len(cols)):\n",
    "        if isinstance(cols[i], datetime.date):\n",
    "            cols[i] = cols[i].strftime('%Y-%m-%d')\n",
    "    \n",
    "    # if index exists = set k=1\n",
    "    k = 0\n",
    "    if data.index.dtype == object:\n",
    "        k = 1\n",
    "    \n",
    "    # setting index length\n",
    "    worksheet.set_column(0, 0, max(data.index.astype(str).map(len)) * 1.2)\n",
    "    \n",
    "    # setting columns length\n",
    "    for i, col in enumerate(cols, k):\n",
    "        \n",
    "        if data[cols_iter[i-k]].dtype == int:\n",
    "            col_len = corr_width(len(col)) * 1.2\n",
    "        else:\n",
    "            # эта помойка выбирает что длиннее - название столбца или какое-то значение внутри него\n",
    "            col_len = max(corr_width(max(data[(cols_iter[i-k])].fillna(0).astype(str).map(len))), len(col))\n",
    "            col_len *= 1.2\n",
    "        \n",
    "        print(i, col, col_len)\n",
    "        worksheet.set_column(i, i, col_len)"
   ]
  },
  {
   "cell_type": "code",
   "execution_count": 26,
   "metadata": {},
   "outputs": [
    {
     "name": "stdout",
     "output_type": "stream",
     "text": [
      "1 Всего 8.4\n",
      "2 Из них с начала WEB 22.8\n",
      "3 Пациентов с 1-ой консультацией, % 39.6\n",
      "4 Пациентов с 1-ой косультацией с начала WEB % 52.8\n"
     ]
    }
   ],
   "source": [
    "auto_columns_width('only-one-con.xlsx', report3, 'data')\n",
    "\n",
    "writer.save()"
   ]
  },
  {
   "cell_type": "code",
   "execution_count": null,
   "metadata": {},
   "outputs": [],
   "source": []
  }
 ],
 "metadata": {
  "kernelspec": {
   "display_name": "Python 3",
   "language": "python",
   "name": "python3"
  },
  "language_info": {
   "codemirror_mode": {
    "name": "ipython",
    "version": 3
   },
   "file_extension": ".py",
   "mimetype": "text/x-python",
   "name": "python",
   "nbconvert_exporter": "python",
   "pygments_lexer": "ipython3",
   "version": "3.7.6"
  }
 },
 "nbformat": 4,
 "nbformat_minor": 4
}
