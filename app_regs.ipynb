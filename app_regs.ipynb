{
 "cells": [
  {
   "cell_type": "code",
   "execution_count": 1,
   "metadata": {},
   "outputs": [],
   "source": [
    "import configparser\n",
    "import unittest\n",
    "import datetime\n",
    "import sys\n",
    "import pandas as pd\n",
    "\n",
    "# from tqdm import tqdm_notebook\n",
    "\n",
    "sys.path.append(\"/home/sergey/drclinics/common\")\n",
    "from universal_connection import UniversalConnection, DBType\n",
    "\n",
    "sys.path.append(\"/home/sergey/drclinics/reports\")\n",
    "# from report_utils import excel_report\n",
    "\n",
    "import numpy as np\n",
    "from log import log"
   ]
  },
  {
   "cell_type": "code",
   "execution_count": 2,
   "metadata": {},
   "outputs": [],
   "source": [
    "from region import get_region_by_two_bases, clean_region"
   ]
  },
  {
   "cell_type": "code",
   "execution_count": 3,
   "metadata": {},
   "outputs": [],
   "source": [
    "import datetime\n",
    "from utils import get_path, DATETIME_FORMAT"
   ]
  },
  {
   "cell_type": "code",
   "execution_count": 4,
   "metadata": {},
   "outputs": [],
   "source": [
    "import seaborn as sns"
   ]
  },
  {
   "cell_type": "code",
   "execution_count": 5,
   "metadata": {},
   "outputs": [],
   "source": [
    "sql = '''\n",
    "select a.id appoint_id,\n",
    "\t   p.person_id,\n",
    "\t   per.phone,\n",
    "\t   --per.partner_id,\n",
    "\t   --par.\"name\", \n",
    "\t   case when pc.product_id in (\n",
    "            select id from product\n",
    "            where full_name like '%ВЭБ%') then 'VEBMED'\n",
    "        \telse 'ПРОЧИЕ'\n",
    "        end \"name\",\n",
    "\t   DATE(a.finished + 3 * interval '1 hour')\n",
    "from appointment a\n",
    "left join patient p on a.patient_id = p.id \n",
    "left join person per on p.person_id = per.id \n",
    "left join promotion promo on a.promotion_id = promo.id\n",
    "----\n",
    "inner join product_condition pc\n",
    "   on promo.product_condition_id = pc.id\n",
    "----\n",
    "where a.finished at time zone 'UTC' > '2020-03-30'\n",
    "and a.finished < timezone('UTC', now() - (extract(hour from now())) * interval '1 hour' - (extract(minute from now())) * interval '1 minute' - (extract(second from now())) * interval '1 second')\n",
    "and a.good\n",
    "\tand not (\n",
    "\t\t\ta.patient_id in (\n",
    "\t\t\t\t\t\t\tselect patient_id from patient_categories pcat\n",
    "\t\t\t\t\t\t\tinner join reference rf \n",
    "\t\t\t\t\t\t\ton rf.id = pcat.reference_id\n",
    "\t\t\t\t\t\t\twhere rf.code = 'TEST'\n",
    "\t\t\t)\n",
    "\t\t\tor lower(a.report_comment) = 'тест'\n",
    "\t)\n",
    "\n",
    "'''"
   ]
  },
  {
   "cell_type": "code",
   "execution_count": 6,
   "metadata": {},
   "outputs": [
    {
     "name": "stdout",
     "output_type": "stream",
     "text": [
      "2020-05-28 13:25:02 connect to postgres database using config file \"../../../.credentials/telemed/prom.cfg\"\n",
      "2020-05-28 13:25:02 creating ssh tunnel to 172.16.100.19 as root...\n",
      "2020-05-28 13:25:02 connect postgres using parameters:\n",
      "                    database: telemed\n",
      "\t\t\t\t    user: norekhov\n",
      "\t\t\t\t    password: ***masked***\n",
      "\t\t\t\t    host: localhost\n",
      "\t\t\t\t    port: 38515\n",
      "2020-05-28 13:25:02 @telemed: execute sql:\n",
      "\t\t\t\t    SET TIME ZONE 'Europe/Moscow'\n",
      "\t\t\t\t    None\n"
     ]
    }
   ],
   "source": [
    "connection = UniversalConnection('../../../.credentials/telemed/prom.cfg', DBType.Postgres)"
   ]
  },
  {
   "cell_type": "code",
   "execution_count": 7,
   "metadata": {},
   "outputs": [
    {
     "name": "stdout",
     "output_type": "stream",
     "text": [
      "2020-05-28 13:25:02 @telemed query:\n",
      "                    select a.id appoint_id,\n",
      "\t\t\t\t    \t   p.person_id,\n",
      "\t\t\t\t    \t   per.phone,\n",
      "\t\t\t\t    \t   --per.partner_id,\n",
      "\t\t\t\t    \t   --par.\"name\", \n",
      "\t\t\t\t    \t   case when pc.product_id in (\n",
      "\t\t\t\t                select id from product\n",
      "\t\t\t\t                where full_name like '%ВЭБ%') then 'VEBMED'\n",
      "\t\t\t\t            \telse 'ПРОЧИЕ'\n",
      "\t\t\t\t            end \"name\",\n",
      "\t\t\t\t    \t   DATE(a.finished + 3 * interval '1 hour')\n",
      "\t\t\t\t    from appointment a\n",
      "\t\t\t\t    left join patient p on a.patient_id = p.id \n",
      "\t\t\t\t    left join person per on p.person_id = per.id \n",
      "\t\t\t\t    left join promotion promo on a.promotion_id = promo.id\n",
      "\t\t\t\t    ----\n",
      "\t\t\t\t    inner join product_condition pc\n",
      "\t\t\t\t       on promo.product_condition_id = pc.id\n",
      "\t\t\t\t    ----\n",
      "\t\t\t\t    where a.finished at time zone 'UTC' > '2020-03-30'\n",
      "\t\t\t\t    and a.finished < timezone('UTC', now() - (extract(hour from now())) * interval '1 hour' - (extract(minute from now())) * interval '1 minute' - (extract(second from now())) * interval '1 second')\n",
      "\t\t\t\t    and a.good\n",
      "\t\t\t\t    \tand not (\n",
      "\t\t\t\t    \t\t\ta.patient_id in (\n",
      "\t\t\t\t    \t\t\t\t\t\t\tselect patient_id from patient_categories pcat\n",
      "\t\t\t\t    \t\t\t\t\t\t\tinner join reference rf \n",
      "\t\t\t\t    \t\t\t\t\t\t\ton rf.id = pcat.reference_id\n",
      "\t\t\t\t    \t\t\t\t\t\t\twhere rf.code = 'TEST'\n",
      "\t\t\t\t    \t\t\t)\n",
      "\t\t\t\t    \t\t\tor lower(a.report_comment) = 'тест'\n",
      "\t\t\t\t    \t)\n",
      "                    None\n",
      "2020-05-28 13:25:06 return 82431 rows\n"
     ]
    }
   ],
   "source": [
    "data = connection.query(sql)"
   ]
  },
  {
   "cell_type": "code",
   "execution_count": 8,
   "metadata": {},
   "outputs": [
    {
     "name": "stdout",
     "output_type": "stream",
     "text": [
      "2020-05-28 13:25:06 @telemed: closing postgres connection...\n",
      "2020-05-28 13:25:06 closing ssh tunnel to 172.16.100.19...\n"
     ]
    }
   ],
   "source": [
    "connection.close()"
   ]
  },
  {
   "cell_type": "code",
   "execution_count": 9,
   "metadata": {},
   "outputs": [],
   "source": [
    "df = pd.DataFrame(data).copy()"
   ]
  },
  {
   "cell_type": "code",
   "execution_count": 10,
   "metadata": {},
   "outputs": [
    {
     "data": {
      "text/html": [
       "<div>\n",
       "<style scoped>\n",
       "    .dataframe tbody tr th:only-of-type {\n",
       "        vertical-align: middle;\n",
       "    }\n",
       "\n",
       "    .dataframe tbody tr th {\n",
       "        vertical-align: top;\n",
       "    }\n",
       "\n",
       "    .dataframe thead th {\n",
       "        text-align: right;\n",
       "    }\n",
       "</style>\n",
       "<table border=\"1\" class=\"dataframe\">\n",
       "  <thead>\n",
       "    <tr style=\"text-align: right;\">\n",
       "      <th></th>\n",
       "      <th>appoint_id</th>\n",
       "      <th>person_id</th>\n",
       "      <th>phone</th>\n",
       "      <th>name</th>\n",
       "      <th>date</th>\n",
       "    </tr>\n",
       "  </thead>\n",
       "  <tbody>\n",
       "    <tr>\n",
       "      <th>0</th>\n",
       "      <td>137211</td>\n",
       "      <td>1585718</td>\n",
       "      <td>79091582287</td>\n",
       "      <td>ПРОЧИЕ</td>\n",
       "      <td>2020-04-08</td>\n",
       "    </tr>\n",
       "    <tr>\n",
       "      <th>1</th>\n",
       "      <td>127919</td>\n",
       "      <td>2546091</td>\n",
       "      <td>79518565014</td>\n",
       "      <td>VEBMED</td>\n",
       "      <td>2020-03-31</td>\n",
       "    </tr>\n",
       "    <tr>\n",
       "      <th>2</th>\n",
       "      <td>144566</td>\n",
       "      <td>3521114</td>\n",
       "      <td>79687101977</td>\n",
       "      <td>VEBMED</td>\n",
       "      <td>2020-04-15</td>\n",
       "    </tr>\n",
       "    <tr>\n",
       "      <th>3</th>\n",
       "      <td>136013</td>\n",
       "      <td>3201622</td>\n",
       "      <td>79089255484</td>\n",
       "      <td>ПРОЧИЕ</td>\n",
       "      <td>2020-04-07</td>\n",
       "    </tr>\n",
       "    <tr>\n",
       "      <th>4</th>\n",
       "      <td>128137</td>\n",
       "      <td>1141636</td>\n",
       "      <td>79180989263</td>\n",
       "      <td>ПРОЧИЕ</td>\n",
       "      <td>2020-03-31</td>\n",
       "    </tr>\n",
       "  </tbody>\n",
       "</table>\n",
       "</div>"
      ],
      "text/plain": [
       "   appoint_id  person_id        phone    name        date\n",
       "0      137211    1585718  79091582287  ПРОЧИЕ  2020-04-08\n",
       "1      127919    2546091  79518565014  VEBMED  2020-03-31\n",
       "2      144566    3521114  79687101977  VEBMED  2020-04-15\n",
       "3      136013    3201622  79089255484  ПРОЧИЕ  2020-04-07\n",
       "4      128137    1141636  79180989263  ПРОЧИЕ  2020-03-31"
      ]
     },
     "execution_count": 10,
     "metadata": {},
     "output_type": "execute_result"
    }
   ],
   "source": [
    "df.head()"
   ]
  },
  {
   "cell_type": "code",
   "execution_count": 11,
   "metadata": {},
   "outputs": [],
   "source": [
    "# df_test = pd.DataFrame(data).copy()"
   ]
  },
  {
   "cell_type": "code",
   "execution_count": 12,
   "metadata": {},
   "outputs": [],
   "source": [
    "# df_test['region'] = df_test['phone'].apply(get_region_by_phone_nikita)"
   ]
  },
  {
   "cell_type": "code",
   "execution_count": 13,
   "metadata": {},
   "outputs": [],
   "source": [
    "# df_test[df_test['region'] != 'Неизвестный регион']"
   ]
  },
  {
   "cell_type": "code",
   "execution_count": 14,
   "metadata": {},
   "outputs": [],
   "source": [
    "# df_test.region.unique()"
   ]
  },
  {
   "cell_type": "code",
   "execution_count": null,
   "metadata": {},
   "outputs": [],
   "source": []
  },
  {
   "cell_type": "code",
   "execution_count": null,
   "metadata": {},
   "outputs": [],
   "source": []
  },
  {
   "cell_type": "code",
   "execution_count": 15,
   "metadata": {},
   "outputs": [],
   "source": [
    "#def phone_base_nikita():\n",
    "#    base = pd.read_csv('phone_city_map.csv')\n",
    "#    \n",
    "#    column_base = ['idx', 'phone', 'region']\n",
    "#    base['phone'] = base['phone'].astype(str)\n",
    "#    base.columns = column_base\n",
    "#    base['clean_region'] = ''\n",
    "#    \n",
    "#    for i in range(base.shape[0]):\n",
    "#        temp = base['region'][i].replace('(', '').replace(')', '').replace(\"'\",\" \")\n",
    "#        temp = list(temp.split(','))\n",
    "#        for j in range(len(temp)):\n",
    "#            temp[j] = temp[j].strip()\n",
    "#            \n",
    "#        temp = [x for x in temp if x]\n",
    "#        if not temp:\n",
    "#            temp = ['Заглушка','Неизвестный регион']\n",
    "#        elif len(temp) == 1:\n",
    "#            temp.insert(0, 'Заглушка')\n",
    "#        \n",
    "#        base['clean_region'][i] = temp\n",
    "#    \n",
    "#    return base"
   ]
  },
  {
   "cell_type": "markdown",
   "metadata": {},
   "source": [
    "----------"
   ]
  },
  {
   "cell_type": "code",
   "execution_count": 16,
   "metadata": {},
   "outputs": [],
   "source": [
    "#def phone_base():\n",
    "#    base = pd.read_csv('DEF.csv')\n",
    "#    \n",
    "#    column_base = ['code', 'start', 'end', 'capacity', 'operator', 'region']\n",
    "#    base.columns = column_base\n",
    "#    \n",
    "#    return base"
   ]
  },
  {
   "cell_type": "code",
   "execution_count": 17,
   "metadata": {},
   "outputs": [],
   "source": [
    "#def get_region_by_phone(phone, base=phone_base()):\n",
    "#    if type(phone) != str:\n",
    "#        phone = str(phone)\n",
    "#    phone = ''.join(i for i in phone if i.isdigit())\n",
    "#    if phone[0] == '8' or phone[0] == '7':\n",
    "#        phone = phone[1:]\n",
    "#    if len(phone) != 10:\n",
    "#        return 'Неизвестный регион'\n",
    "#    return base.loc[(base['code'] == int(phone[0:3])) &\n",
    "#                    (base['start'] <= int(phone[3:])) &\n",
    "#                    (base['end'] >= int(phone[3:]))\n",
    "#                    ]['region'].to_string(index=False).strip()"
   ]
  },
  {
   "cell_type": "code",
   "execution_count": 18,
   "metadata": {},
   "outputs": [],
   "source": [
    "#def get_region_by_phone_nikita(phone, base=phone_base_nikita()):\n",
    "#    if type(phone) != str:\n",
    "#        phone = str(phone)\n",
    "#    phone = ''.join(i for i in phone if i.isdigit())    \n",
    "#    if phone[0] == '8':\n",
    "#        phone = '7'+ phone[1:]\n",
    "#    if len(phone) != 11:\n",
    "#        return 'Неизвестный регион'\n",
    "#    \n",
    "#    try:\n",
    "#        return base.loc[(base['phone'] == phone)]['clean_region'].to_list()[0][1]\n",
    "#    except:\n",
    "#        return 'Неизвестный регион'\n",
    "#"
   ]
  },
  {
   "cell_type": "code",
   "execution_count": 19,
   "metadata": {},
   "outputs": [],
   "source": [
    "#def get_region_by_two_bases(phone, base=phone_base(), base_n=phone_base_nikita()):\n",
    "#    if type(phone) != str:\n",
    "#        phone = str(phone)\n",
    "#    phone = ''.join(i for i in phone if i.isdigit())    \n",
    "#    if phone[0] == '8':\n",
    "#        phone = '7'+ phone[1:]\n",
    "#    if len(phone) != 11:\n",
    "#        return 'Неизвестный регион'\n",
    "#    \n",
    "#    try:\n",
    "#        return base_n.loc[(base_n['phone'] == phone)]['clean_region'].to_list()[0][1]\n",
    "#    except:\n",
    "#        return base.loc[(base['code'] == int(phone[1:4])) &\n",
    "#                    (base['start'] <= int(phone[4:])) &\n",
    "#                    (base['end'] >= int(phone[4:]))\n",
    "#                    ]['region'].to_string(index=False).strip()"
   ]
  },
  {
   "cell_type": "code",
   "execution_count": 20,
   "metadata": {},
   "outputs": [],
   "source": [
    "#def clean_region(region, dictionary=regions_dict):\n",
    "#    if region in dictionary:\n",
    "#        return dictionary[region]\n",
    "#    return 'Неизвестный регион'"
   ]
  },
  {
   "cell_type": "code",
   "execution_count": 21,
   "metadata": {},
   "outputs": [],
   "source": [
    "#base_n = phone_base_nikita()"
   ]
  },
  {
   "cell_type": "code",
   "execution_count": 22,
   "metadata": {},
   "outputs": [],
   "source": [
    "#base_n.loc[(base_n['phone'] == '79525833000')]['clean_region'].to_list()[0][1]"
   ]
  },
  {
   "cell_type": "markdown",
   "metadata": {},
   "source": [
    "### DICTIONARY FUNDAMENTALS"
   ]
  },
  {
   "cell_type": "code",
   "execution_count": 23,
   "metadata": {},
   "outputs": [],
   "source": [
    "# base=phone_base()\n",
    "# base_n=phone_base_nikita()\n",
    "\n",
    "# temp = []\n",
    "# for i in range(base_n.shape[0]):\n",
    "#     if base_n['clean_region'][i][1] not in temp:\n",
    "#         temp.append(base_n['clean_region'][i][1])\n",
    "\n",
    "# file_name = 'phones_dictionary.xls'\n",
    "# writer = pd.ExcelWriter(file_name, engine='xlsxwriter')\n",
    "# pd.DataFrame(list(base.region.unique())).to_excel(writer, sheet_name='base1')\n",
    "# pd.DataFrame(temp).to_excel(writer, sheet_name='base_nikita')\n",
    "\n",
    "# writer.save()"
   ]
  },
  {
   "cell_type": "markdown",
   "metadata": {},
   "source": [
    "----------"
   ]
  },
  {
   "cell_type": "code",
   "execution_count": 24,
   "metadata": {},
   "outputs": [],
   "source": [
    "#pd.DataFrame(list(base.region.unique()))"
   ]
  },
  {
   "cell_type": "code",
   "execution_count": 25,
   "metadata": {},
   "outputs": [],
   "source": [
    "#########base_n[base_n.applymap(lambda x: x[1] if isinstance(x, list) else x).duplicated('clean_region')]"
   ]
  },
  {
   "cell_type": "code",
   "execution_count": null,
   "metadata": {},
   "outputs": [],
   "source": []
  },
  {
   "cell_type": "code",
   "execution_count": 26,
   "metadata": {},
   "outputs": [],
   "source": [
    "#pd.DataFrame(temp)"
   ]
  },
  {
   "cell_type": "code",
   "execution_count": null,
   "metadata": {},
   "outputs": [],
   "source": []
  },
  {
   "cell_type": "code",
   "execution_count": 27,
   "metadata": {
    "jupyter": {
     "source_hidden": true
    }
   },
   "outputs": [],
   "source": [
    "regions_dict = {\n",
    "                'Алтайский край':'Алтайский край',\n",
    "                'Амурская обл.':'Амурская область',\n",
    "                'Архангельская обл.':'Архангельская область',\n",
    "                'Архангельская область и Ненецкий автономный округ':'Архангельская область',\n",
    "                'Астраханская обл.':'Астраханская область',\n",
    "                'Белгородская обл.':'Белгородская область',\n",
    "                'Брянская обл.':'Брянская область',\n",
    "                'Владимирская обл.':'Владимирская область',\n",
    "                'Волгоградская обл.':'Волгоградская область',\n",
    "                'Волгоградская область':'Волгоградская область',\n",
    "                'Вологодская обл.':'Вологодская область',\n",
    "                'Воронежская обл.':'Воронежская область',\n",
    "                'Воронежская область':'Воронежская область',\n",
    "                'г. Владимир|Владимирская обл.':'Владимирская область',\n",
    "                'г. Кострома|р-н Костромской|Костромская обл.':'Костромская область',\n",
    "                'г. Москва и Московская область':'Москва и Московская область',\n",
    "                'г. Норильск|Красноярский край':'Красноярский край',\n",
    "                'г. Псков|Псковская обл.':'Псковская область',\n",
    "                'г. Санкт - Петербург и Ленинградская область':'Санкт-Петербург',\n",
    "                'г. Санкт-Петербург и Ленинградская область':'Санкт-Петербург',\n",
    "                'г. Севастополь':'Севастополь',\n",
    "                'г. Сочи|Краснодарский край':'Краснодарский край',\n",
    "                'Еврейская автономная обл.':'Еврейская автономная область',\n",
    "                'Забайкальский край':'Забайкальский край',\n",
    "                'Ивановская обл.':'Ивановская область',\n",
    "                'Иркутская обл.':'Иркутская область',\n",
    "                'Иркутская область':'Иркутская область',\n",
    "                'Кабардино-Балкарская Республика':'Кабардино-Балкарская Республика',\n",
    "                'Калининградская обл.':'Калининградская область',\n",
    "                'Калужская обл.':'Калужская область',\n",
    "                'Камчатский край':'Камчатский край',\n",
    "                'Карачаево-Черкесская Республика':'Карачаево-Черкесская Республика',\n",
    "                'Кемеровская обл.':'Кемеровская область',\n",
    "                'Кировская обл.':'Кировская область',\n",
    "                'Корякский округ|Камчатский край':'Камчатский край',\n",
    "                'Костромская обл.':'Костромская область',\n",
    "                'Краснодарский край':'Краснодарский край',\n",
    "                'Красноярский край':'Красноярский край',\n",
    "                'Курганская обл.':'Курганская область',\n",
    "                'Курская обл.':'Курская область',\n",
    "                'Липецкая обл.':'Липецкая область',\n",
    "                'Магаданская обл.':'Магаданская область',\n",
    "                'Мурманская обл.':'Мурманская область',\n",
    "                'Ненецкий АО':'Ненецкий автономный округ',\n",
    "                'Нижегородская обл.':'Нижегородская область',\n",
    "                'Новгородская обл.':'Новгородская область',\n",
    "                'Новосибирская обл.':'Новосибирская область',\n",
    "                'Омская обл.':'Омская область',\n",
    "                'Оренбургская обл.':'Оренбургская область',\n",
    "                'Орловская обл.':'Орловская область',\n",
    "                'Пензенская обл.':'Пензенская область',\n",
    "                'Пермский край':'Пермский край',\n",
    "                'Приморский край':'Приморский край',\n",
    "                'Псковская обл.':'Псковская область',\n",
    "                'р-ны Абзелиловский и Белорецкий|р-ны Абзелиловский и Белорецкий':'Республика Башкортостан',\n",
    "                'Республика Адыгея':'Республика Адыгея',\n",
    "                'Республика Алтай':'Республика Алтай',\n",
    "                'Республика Башкортостан':'Республика Башкортостан',\n",
    "                'Республика Бурятия':'Республика Бурятия',\n",
    "                'Республика Дагестан':'Республика Дагестан',\n",
    "                'Республика Ингушетия':'Республика Ингушетия',\n",
    "                'Республика Кабардино-Балкарская':'Кабардино-Балкарская Республика',\n",
    "                'Республика Калмыкия':'Республика Калмыкия',\n",
    "                'Республика Карачаево-Черкесская':'Карачаево-Черкесская Республика',\n",
    "                'Республика Карелия':'Республика Карелия',\n",
    "                'Республика Коми':'Республика Коми',\n",
    "                'Республика Крым':'Республика Крым',\n",
    "                'Республика Крым и г. Севастополь':'Севастополь',\n",
    "                'Республика Марий Эл':'Республика Марий Эл',\n",
    "                'Республика Мордовия':'Республика Мордовия',\n",
    "                'Республика Саха /Якутия/':'Республика Саха Якутия',\n",
    "                'Республика Северная Осетия - Алания':'Республика Северная Осетия — Алания',\n",
    "                'Республика Татарстан':'Республика Татарстан',\n",
    "                'Республика Тыва':'Республика Тыва',\n",
    "                'Республика Удмуртская':'Удмуртская Республика',\n",
    "                'Республика Хакасия':'Республика Хакасия',\n",
    "                'Российская Федерация':'Неизвестный регион',\n",
    "                'Ростовская обл.':'Ростовская область',\n",
    "                'Ростовская область':'Ростовская область',\n",
    "                'Рязанская обл.':'Рязанская область',\n",
    "                'Самарская обл.':'Самарская область',\n",
    "                'Самарская область':'Самарская область',\n",
    "                'Саратовская обл.':'Саратовская область',\n",
    "                'Сахалинская обл.':'Сахалинская область',\n",
    "                'Свердловская обл.':'Свердловская область',\n",
    "                'Свердловская область':'Свердловская область',\n",
    "                'Смоленская обл.':'Смоленская область',\n",
    "                'Смоленская область':'Смоленская область',\n",
    "                'Ставропольский край':'Ставропольский край',\n",
    "                'Сургутский район и г. Сургут':'Ханты-Мансийский автономный округ',\n",
    "                'Тамбовская обл.':'Тамбовская область',\n",
    "                'Тверская обл.':'Тверская область',\n",
    "                'Томская обл.':'Томская область',\n",
    "                'Томская область':'Томская область',\n",
    "                'Тульская обл.':'Тульская область',\n",
    "                'Тюменская обл.':'Тюменская область',\n",
    "                'Тюменская область':'Тюменская область',\n",
    "                'Удмуртская Республика':'Удмуртская Республика',\n",
    "                'Ульяновская обл.':'Ульяновская область',\n",
    "                'Хабаровский край':'Хабаровский край',\n",
    "                'Ханты - Мансийский - Югра АО':'Ханты-Мансийский автономный округ',\n",
    "                'Челябинская обл.':'Челябинская область',\n",
    "                'Челябинская область':'Челябинская область',\n",
    "                'Чеченская Республика':'Чеченская Республика',\n",
    "                'Чувашская Республика':'Чувашская Республика',\n",
    "                'Чувашская Республика - Чувашия':'Чувашская Республика',\n",
    "                'Чукотский АО':'Чукотский автономный округ',\n",
    "                'Ямало-Ненецкий АО':'Ямало-Ненецкий автономный округ',\n",
    "                'Ярославская обл.':'Ярославская область',\n",
    "                'Москва':'Москва и Московская область',\n",
    "                'Московская область':'Москва и Московская область',\n",
    "                'Алматы':'Алматы',\n",
    "                'Брестская область':'Брестская область',\n",
    "                'Витебская область':'Витебская область',\n",
    "                'Восточно-Казахстанская область':'Восточно-Казахстанская область',\n",
    "                'город республиканского значения Нур-Султан':'город республиканского значения Нур-Султан',\n",
    "                'Донецкая область':'Донецкая область',\n",
    "                'Ереван':'Ереван',\n",
    "                'Ленинградская область':'Санкт-Петербург',\n",
    "                'Минск':'Минск',\n",
    "                'Минская область':'Минская область',\n",
    "                'муниципалитет Тбилиси':'муниципалитет Тбилиси',\n",
    "                'Северо-Западный федеральный округ':'Санкт-Петербург',\n",
    "                'Северо-Казахстанская область':'Северо-Казахстанская область',\n",
    "                'Центральный федеральный округ':'Москва и Московская область',\n",
    "                'Киев':'Киев',\n",
    "                'Magnesia ad Sipylum':'Неизвестный регион',\n",
    "                'Wattala':'Неизвестный регион',\n",
    "                'автономное сообщество Андалусия':'Неизвестный регион',\n",
    "                'автономное сообщество Валенсия':'Неизвестный регион',\n",
    "                'Англия':'Неизвестный регион',\n",
    "                'Анкара':'Неизвестный регион',\n",
    "                'Анталья':'Неизвестный регион',\n",
    "                'Армавирская область':'Неизвестный регион',\n",
    "                'Атырауская область':'Неизвестный регион',\n",
    "                'Берлин':'Неизвестный регион',\n",
    "                'Будапешт':'Неизвестный регион',\n",
    "                'Бурса':'Неизвестный регион',\n",
    "                'Вена':'Неизвестный регион',\n",
    "                'Вестра-Гёталанд':'Неизвестный регион',\n",
    "                'Виктория':'Неизвестный регион',\n",
    "                'Гессен':'Неизвестный регион',\n",
    "                'Джорджия':'Неизвестный регион',\n",
    "                'Иль-де-Франс':'Неизвестный регион',\n",
    "                'Истарская жупания':'Неизвестный регион',\n",
    "                'Калифорния':'Неизвестный регион',\n",
    "                'Каталония':'Неизвестный регион',\n",
    "                'Кыршехир':'Неизвестный регион',\n",
    "                'Ломбардия':'Неизвестный регион',\n",
    "                'Мангистауская область':'Неизвестный регион',\n",
    "                'Марыйский велаят':'Неизвестный регион',\n",
    "                'Норд-Брабант':'Неизвестный регион',\n",
    "                'Норд-Холланд':'Неизвестный регион',\n",
    "                'область Варна':'Неизвестный регион',\n",
    "                'префектура Токио':'Неизвестный регион',\n",
    "                'Прованс-Альпы-Лазурный Берег':'Неизвестный регион',\n",
    "                'провинция Бали':'Неизвестный регион',\n",
    "                'провинция Кханьхоа':'Неизвестный регион',\n",
    "                'провинция Онтарио':'Неизвестный регион',\n",
    "                'Пусан':'Неизвестный регион',\n",
    "                'Пхукет':'Неизвестный регион',\n",
    "                'Северный Рейн-Вестфалия':'Неизвестный регион',\n",
    "                'Стокгольм':'Неизвестный регион',\n",
    "                'столичный регион Брюссель':'Неизвестный регион',\n",
    "                'Сулия':'Неизвестный регион',\n",
    "                'Тоскана':'Неизвестный регион',\n",
    "                'Утрехт':'Неизвестный регион',\n",
    "                'Уусимаа':'Неизвестный регион',\n",
    "                'Цюрих':'Неизвестный регион',\n",
    "                'штат Мэриленд':'Неизвестный регион',\n",
    "                'штат Нью-Йорк':'Неизвестный регион',\n",
    "                'штат Флорида':'Неизвестный регион',\n",
    "                'эмират Дубай':'Неизвестный регион',\n",
    "                'эмират Рас-эль-Хайма':'Неизвестный регион'\n",
    "}"
   ]
  },
  {
   "cell_type": "code",
   "execution_count": 28,
   "metadata": {},
   "outputs": [
    {
     "data": {
      "text/plain": [
       "\"\\nbase = pd.read_csv('./data/phone_city_map.csv')\\n\\ncolumn_base = ['idx', 'phone', 'region']\\nbase['phone'] = base['phone'].astype(str)\\nbase.columns = column_base\\nbase['clean_region'] = ''\\n\\n\""
      ]
     },
     "execution_count": 28,
     "metadata": {},
     "output_type": "execute_result"
    }
   ],
   "source": [
    "\"\"\"\n",
    "base = pd.read_csv('./data/phone_city_map.csv')\n",
    "\n",
    "column_base = ['idx', 'phone', 'region']\n",
    "base['phone'] = base['phone'].astype(str)\n",
    "base.columns = column_base\n",
    "base['clean_region'] = ''\n",
    "\n",
    "\"\"\""
   ]
  },
  {
   "cell_type": "code",
   "execution_count": 29,
   "metadata": {},
   "outputs": [],
   "source": [
    "# base.head()"
   ]
  },
  {
   "cell_type": "code",
   "execution_count": 30,
   "metadata": {},
   "outputs": [
    {
     "data": {
      "text/plain": [
       "'\\ndef split_reg(region):\\n    temp = region.replace(\\'(\\', \\'\\').replace(\\')\\', \\'\\').replace(\"\\'\",\" \")\\n    temp = list(temp.split(\\',\\'))\\n    for j in range(len(temp)):\\n        temp[j] = temp[j].strip()\\n\\n    temp = [x for x in temp if x]\\n    if not temp:\\n        temp = [\\'Заглушка\\',\\'Неизвестный регион\\']\\n    elif len(temp) == 1:\\n        temp.insert(0, \\'Заглушка\\')\\n    return temp\\n'"
      ]
     },
     "execution_count": 30,
     "metadata": {},
     "output_type": "execute_result"
    }
   ],
   "source": [
    "\"\"\"\n",
    "def split_reg(region):\n",
    "    temp = region.replace('(', '').replace(')', '').replace(\"'\",\" \")\n",
    "    temp = list(temp.split(','))\n",
    "    for j in range(len(temp)):\n",
    "        temp[j] = temp[j].strip()\n",
    "\n",
    "    temp = [x for x in temp if x]\n",
    "    if not temp:\n",
    "        temp = ['Заглушка','Неизвестный регион']\n",
    "    elif len(temp) == 1:\n",
    "        temp.insert(0, 'Заглушка')\n",
    "    return temp\n",
    "\"\"\""
   ]
  },
  {
   "cell_type": "code",
   "execution_count": 31,
   "metadata": {},
   "outputs": [],
   "source": [
    "#base['clean_region'] = base['region'].apply(split_reg)"
   ]
  },
  {
   "cell_type": "code",
   "execution_count": 32,
   "metadata": {},
   "outputs": [],
   "source": [
    "#base.head()"
   ]
  },
  {
   "cell_type": "code",
   "execution_count": null,
   "metadata": {},
   "outputs": [],
   "source": []
  },
  {
   "cell_type": "code",
   "execution_count": 33,
   "metadata": {},
   "outputs": [],
   "source": [
    "# base=phone_base()"
   ]
  },
  {
   "cell_type": "code",
   "execution_count": 34,
   "metadata": {},
   "outputs": [],
   "source": [
    "# base.info()"
   ]
  },
  {
   "cell_type": "code",
   "execution_count": 35,
   "metadata": {},
   "outputs": [],
   "source": [
    "# base.head()"
   ]
  },
  {
   "cell_type": "code",
   "execution_count": 36,
   "metadata": {},
   "outputs": [],
   "source": [
    "# base.loc[(base['phone'] == '79262121904')]['clean_region'].to_list()"
   ]
  },
  {
   "cell_type": "code",
   "execution_count": 37,
   "metadata": {},
   "outputs": [],
   "source": [
    "# base.loc[(base['phone'] == '79670921000')]['clean_region'].to_list()"
   ]
  },
  {
   "cell_type": "code",
   "execution_count": null,
   "metadata": {},
   "outputs": [],
   "source": []
  },
  {
   "cell_type": "code",
   "execution_count": 38,
   "metadata": {},
   "outputs": [],
   "source": [
    "# base.loc[(base['phone'] == )]['clean_region'].to_list()"
   ]
  },
  {
   "cell_type": "code",
   "execution_count": 39,
   "metadata": {},
   "outputs": [],
   "source": [
    "# base.loc[(base['phone'] == '79262121904')]['clean_region'].to_list()[0][1]\n"
   ]
  },
  {
   "cell_type": "code",
   "execution_count": null,
   "metadata": {},
   "outputs": [],
   "source": []
  },
  {
   "cell_type": "code",
   "execution_count": 40,
   "metadata": {},
   "outputs": [],
   "source": [
    "#df"
   ]
  },
  {
   "cell_type": "code",
   "execution_count": 41,
   "metadata": {},
   "outputs": [],
   "source": [
    "#df_test[(df_test['date'] == df_test.loc[0]['date']) & (df_test['region'] == 'Алтайский край')]"
   ]
  },
  {
   "cell_type": "code",
   "execution_count": null,
   "metadata": {},
   "outputs": [],
   "source": []
  },
  {
   "cell_type": "code",
   "execution_count": 42,
   "metadata": {},
   "outputs": [],
   "source": [
    "df['dirty_region'] = df['phone'].apply(get_region_by_two_bases)"
   ]
  },
  {
   "cell_type": "code",
   "execution_count": 43,
   "metadata": {},
   "outputs": [],
   "source": [
    "#df['region'] = df[df['region'] == 'Неизвестный регион'].apply(get_region_by_phone)"
   ]
  },
  {
   "cell_type": "code",
   "execution_count": 44,
   "metadata": {},
   "outputs": [],
   "source": [
    "#df = df.replace('Series([], )', 'Неизвестный регион')"
   ]
  },
  {
   "cell_type": "code",
   "execution_count": 45,
   "metadata": {},
   "outputs": [],
   "source": [
    "df['region'] = df['dirty_region'].apply(clean_region)"
   ]
  },
  {
   "cell_type": "code",
   "execution_count": 46,
   "metadata": {},
   "outputs": [
    {
     "data": {
      "text/html": [
       "<div>\n",
       "<style scoped>\n",
       "    .dataframe tbody tr th:only-of-type {\n",
       "        vertical-align: middle;\n",
       "    }\n",
       "\n",
       "    .dataframe tbody tr th {\n",
       "        vertical-align: top;\n",
       "    }\n",
       "\n",
       "    .dataframe thead th {\n",
       "        text-align: right;\n",
       "    }\n",
       "</style>\n",
       "<table border=\"1\" class=\"dataframe\">\n",
       "  <thead>\n",
       "    <tr style=\"text-align: right;\">\n",
       "      <th></th>\n",
       "      <th>appoint_id</th>\n",
       "      <th>person_id</th>\n",
       "      <th>phone</th>\n",
       "      <th>name</th>\n",
       "      <th>date</th>\n",
       "      <th>dirty_region</th>\n",
       "      <th>region</th>\n",
       "    </tr>\n",
       "  </thead>\n",
       "  <tbody>\n",
       "    <tr>\n",
       "      <th>0</th>\n",
       "      <td>137211</td>\n",
       "      <td>1585718</td>\n",
       "      <td>79091582287</td>\n",
       "      <td>ПРОЧИЕ</td>\n",
       "      <td>2020-04-08</td>\n",
       "      <td>г. Москва и Московская область</td>\n",
       "      <td>Москва и Московская область</td>\n",
       "    </tr>\n",
       "    <tr>\n",
       "      <th>1</th>\n",
       "      <td>127919</td>\n",
       "      <td>2546091</td>\n",
       "      <td>79518565014</td>\n",
       "      <td>VEBMED</td>\n",
       "      <td>2020-03-31</td>\n",
       "      <td>Воронежская обл.</td>\n",
       "      <td>Воронежская область</td>\n",
       "    </tr>\n",
       "    <tr>\n",
       "      <th>2</th>\n",
       "      <td>144566</td>\n",
       "      <td>3521114</td>\n",
       "      <td>79687101977</td>\n",
       "      <td>VEBMED</td>\n",
       "      <td>2020-04-15</td>\n",
       "      <td>г. Москва и Московская область</td>\n",
       "      <td>Москва и Московская область</td>\n",
       "    </tr>\n",
       "    <tr>\n",
       "      <th>3</th>\n",
       "      <td>136013</td>\n",
       "      <td>3201622</td>\n",
       "      <td>79089255484</td>\n",
       "      <td>ПРОЧИЕ</td>\n",
       "      <td>2020-04-07</td>\n",
       "      <td>Свердловская обл.</td>\n",
       "      <td>Свердловская область</td>\n",
       "    </tr>\n",
       "    <tr>\n",
       "      <th>4</th>\n",
       "      <td>128137</td>\n",
       "      <td>1141636</td>\n",
       "      <td>79180989263</td>\n",
       "      <td>ПРОЧИЕ</td>\n",
       "      <td>2020-03-31</td>\n",
       "      <td>Краснодарский край</td>\n",
       "      <td>Краснодарский край</td>\n",
       "    </tr>\n",
       "    <tr>\n",
       "      <th>5</th>\n",
       "      <td>135952</td>\n",
       "      <td>3201364</td>\n",
       "      <td>79911116364</td>\n",
       "      <td>VEBMED</td>\n",
       "      <td>2020-04-07</td>\n",
       "      <td>Ставропольский край</td>\n",
       "      <td>Ставропольский край</td>\n",
       "    </tr>\n",
       "    <tr>\n",
       "      <th>6</th>\n",
       "      <td>168719</td>\n",
       "      <td>3565800</td>\n",
       "      <td>79520769150</td>\n",
       "      <td>ПРОЧИЕ</td>\n",
       "      <td>2020-04-28</td>\n",
       "      <td>Республика Мордовия</td>\n",
       "      <td>Республика Мордовия</td>\n",
       "    </tr>\n",
       "    <tr>\n",
       "      <th>7</th>\n",
       "      <td>173510</td>\n",
       "      <td>3557449</td>\n",
       "      <td>79605280008</td>\n",
       "      <td>VEBMED</td>\n",
       "      <td>2020-04-30</td>\n",
       "      <td>Ярославская обл.</td>\n",
       "      <td>Ярославская область</td>\n",
       "    </tr>\n",
       "    <tr>\n",
       "      <th>8</th>\n",
       "      <td>152628</td>\n",
       "      <td>3531222</td>\n",
       "      <td>79536239692</td>\n",
       "      <td>VEBMED</td>\n",
       "      <td>2020-04-21</td>\n",
       "      <td>Орловская обл.</td>\n",
       "      <td>Орловская область</td>\n",
       "    </tr>\n",
       "    <tr>\n",
       "      <th>9</th>\n",
       "      <td>208128</td>\n",
       "      <td>3616025</td>\n",
       "      <td>79953064562</td>\n",
       "      <td>VEBMED</td>\n",
       "      <td>2020-05-17</td>\n",
       "      <td>Пензенская обл.</td>\n",
       "      <td>Пензенская область</td>\n",
       "    </tr>\n",
       "    <tr>\n",
       "      <th>10</th>\n",
       "      <td>127960</td>\n",
       "      <td>2626621</td>\n",
       "      <td>79149123969</td>\n",
       "      <td>ПРОЧИЕ</td>\n",
       "      <td>2020-03-31</td>\n",
       "      <td>Иркутская обл.</td>\n",
       "      <td>Иркутская область</td>\n",
       "    </tr>\n",
       "    <tr>\n",
       "      <th>11</th>\n",
       "      <td>135890</td>\n",
       "      <td>792842</td>\n",
       "      <td>79172240600</td>\n",
       "      <td>ПРОЧИЕ</td>\n",
       "      <td>2020-04-07</td>\n",
       "      <td>Республика Татарстан</td>\n",
       "      <td>Республика Татарстан</td>\n",
       "    </tr>\n",
       "    <tr>\n",
       "      <th>12</th>\n",
       "      <td>131310</td>\n",
       "      <td>3084235</td>\n",
       "      <td>79166063464</td>\n",
       "      <td>VEBMED</td>\n",
       "      <td>2020-04-04</td>\n",
       "      <td>г. Москва и Московская область</td>\n",
       "      <td>Москва и Московская область</td>\n",
       "    </tr>\n",
       "    <tr>\n",
       "      <th>13</th>\n",
       "      <td>153655</td>\n",
       "      <td>3540638</td>\n",
       "      <td>79996980789</td>\n",
       "      <td>VEBMED</td>\n",
       "      <td>2020-04-21</td>\n",
       "      <td>Ростовская обл.</td>\n",
       "      <td>Ростовская область</td>\n",
       "    </tr>\n",
       "    <tr>\n",
       "      <th>14</th>\n",
       "      <td>127866</td>\n",
       "      <td>3056218</td>\n",
       "      <td>79608725544</td>\n",
       "      <td>ПРОЧИЕ</td>\n",
       "      <td>2020-03-31</td>\n",
       "      <td>Волгоградская обл.</td>\n",
       "      <td>Волгоградская область</td>\n",
       "    </tr>\n",
       "  </tbody>\n",
       "</table>\n",
       "</div>"
      ],
      "text/plain": [
       "    appoint_id  person_id        phone    name        date  \\\n",
       "0       137211    1585718  79091582287  ПРОЧИЕ  2020-04-08   \n",
       "1       127919    2546091  79518565014  VEBMED  2020-03-31   \n",
       "2       144566    3521114  79687101977  VEBMED  2020-04-15   \n",
       "3       136013    3201622  79089255484  ПРОЧИЕ  2020-04-07   \n",
       "4       128137    1141636  79180989263  ПРОЧИЕ  2020-03-31   \n",
       "5       135952    3201364  79911116364  VEBMED  2020-04-07   \n",
       "6       168719    3565800  79520769150  ПРОЧИЕ  2020-04-28   \n",
       "7       173510    3557449  79605280008  VEBMED  2020-04-30   \n",
       "8       152628    3531222  79536239692  VEBMED  2020-04-21   \n",
       "9       208128    3616025  79953064562  VEBMED  2020-05-17   \n",
       "10      127960    2626621  79149123969  ПРОЧИЕ  2020-03-31   \n",
       "11      135890     792842  79172240600  ПРОЧИЕ  2020-04-07   \n",
       "12      131310    3084235  79166063464  VEBMED  2020-04-04   \n",
       "13      153655    3540638  79996980789  VEBMED  2020-04-21   \n",
       "14      127866    3056218  79608725544  ПРОЧИЕ  2020-03-31   \n",
       "\n",
       "                      dirty_region                       region  \n",
       "0   г. Москва и Московская область  Москва и Московская область  \n",
       "1                 Воронежская обл.          Воронежская область  \n",
       "2   г. Москва и Московская область  Москва и Московская область  \n",
       "3                Свердловская обл.         Свердловская область  \n",
       "4               Краснодарский край           Краснодарский край  \n",
       "5              Ставропольский край          Ставропольский край  \n",
       "6              Республика Мордовия          Республика Мордовия  \n",
       "7                 Ярославская обл.          Ярославская область  \n",
       "8                   Орловская обл.            Орловская область  \n",
       "9                  Пензенская обл.           Пензенская область  \n",
       "10                  Иркутская обл.            Иркутская область  \n",
       "11            Республика Татарстан         Республика Татарстан  \n",
       "12  г. Москва и Московская область  Москва и Московская область  \n",
       "13                 Ростовская обл.           Ростовская область  \n",
       "14              Волгоградская обл.        Волгоградская область  "
      ]
     },
     "execution_count": 46,
     "metadata": {},
     "output_type": "execute_result"
    }
   ],
   "source": [
    "df.head(15)"
   ]
  },
  {
   "cell_type": "code",
   "execution_count": null,
   "metadata": {},
   "outputs": [],
   "source": []
  },
  {
   "cell_type": "code",
   "execution_count": 47,
   "metadata": {},
   "outputs": [],
   "source": [
    "#df.region.unique()"
   ]
  },
  {
   "cell_type": "code",
   "execution_count": null,
   "metadata": {},
   "outputs": [],
   "source": []
  },
  {
   "cell_type": "code",
   "execution_count": null,
   "metadata": {},
   "outputs": [],
   "source": [
    "# temp = df.region.unique()\n",
    "\n",
    "# temp = list(temp)\n",
    "# temp.sort()\n",
    "\n",
    "# temp"
   ]
  },
  {
   "cell_type": "code",
   "execution_count": null,
   "metadata": {},
   "outputs": [],
   "source": []
  },
  {
   "cell_type": "code",
   "execution_count": null,
   "metadata": {},
   "outputs": [],
   "source": [
    "#df[(df['date'] == '2020-03-30') & (df['region'] == 'Алтайский край')]"
   ]
  },
  {
   "cell_type": "code",
   "execution_count": null,
   "metadata": {},
   "outputs": [],
   "source": []
  },
  {
   "cell_type": "code",
   "execution_count": null,
   "metadata": {},
   "outputs": [],
   "source": [
    "#df.info()"
   ]
  },
  {
   "cell_type": "code",
   "execution_count": null,
   "metadata": {},
   "outputs": [],
   "source": [
    "# reg_names = [name for name in df.region.unique()]"
   ]
  },
  {
   "cell_type": "code",
   "execution_count": null,
   "metadata": {},
   "outputs": [],
   "source": [
    "# reg_names.sort()"
   ]
  },
  {
   "cell_type": "code",
   "execution_count": null,
   "metadata": {},
   "outputs": [],
   "source": [
    "# reg_names.insert(0, 'Всего консультаций')"
   ]
  },
  {
   "cell_type": "code",
   "execution_count": null,
   "metadata": {},
   "outputs": [],
   "source": [
    "#reg_names"
   ]
  },
  {
   "cell_type": "code",
   "execution_count": null,
   "metadata": {},
   "outputs": [],
   "source": [
    "#reg_names.index('Incorrect phone')"
   ]
  },
  {
   "cell_type": "code",
   "execution_count": null,
   "metadata": {},
   "outputs": [],
   "source": [
    "#d = dict()"
   ]
  },
  {
   "cell_type": "code",
   "execution_count": null,
   "metadata": {},
   "outputs": [],
   "source": [
    "#for i in range(df.shape[0]):\n",
    "#    d[df['date'][i]] = d.get(df['date'][i], [0 for name in reg_names]) \n",
    "#    d[df['date'][i]][reg_names.index(df['region'][i])] += 1\n",
    "#    d[df['date'][i]][0] += 1"
   ]
  },
  {
   "cell_type": "code",
   "execution_count": null,
   "metadata": {},
   "outputs": [],
   "source": [
    "#d"
   ]
  },
  {
   "cell_type": "code",
   "execution_count": null,
   "metadata": {},
   "outputs": [],
   "source": [
    "#report = pd.DataFrame.from_dict(d, orient='index').sort_index()"
   ]
  },
  {
   "cell_type": "code",
   "execution_count": null,
   "metadata": {},
   "outputs": [],
   "source": [
    "#report.columns = reg_names"
   ]
  },
  {
   "cell_type": "code",
   "execution_count": null,
   "metadata": {},
   "outputs": [],
   "source": [
    "#report"
   ]
  },
  {
   "cell_type": "code",
   "execution_count": null,
   "metadata": {},
   "outputs": [],
   "source": [
    "# len(df.phone.unique())"
   ]
  },
  {
   "cell_type": "code",
   "execution_count": null,
   "metadata": {},
   "outputs": [],
   "source": []
  },
  {
   "cell_type": "code",
   "execution_count": null,
   "metadata": {},
   "outputs": [],
   "source": []
  },
  {
   "cell_type": "code",
   "execution_count": 48,
   "metadata": {},
   "outputs": [],
   "source": [
    "d2 = dict()"
   ]
  },
  {
   "cell_type": "code",
   "execution_count": 49,
   "metadata": {},
   "outputs": [],
   "source": [
    "dates = [date for date in df.date.unique()]"
   ]
  },
  {
   "cell_type": "code",
   "execution_count": 50,
   "metadata": {},
   "outputs": [],
   "source": [
    "dates.sort()"
   ]
  },
  {
   "cell_type": "code",
   "execution_count": 51,
   "metadata": {},
   "outputs": [
    {
     "data": {
      "text/plain": [
       "[datetime.date(2020, 3, 30),\n",
       " datetime.date(2020, 3, 31),\n",
       " datetime.date(2020, 4, 1),\n",
       " datetime.date(2020, 4, 2),\n",
       " datetime.date(2020, 4, 3),\n",
       " datetime.date(2020, 4, 4),\n",
       " datetime.date(2020, 4, 5),\n",
       " datetime.date(2020, 4, 6),\n",
       " datetime.date(2020, 4, 7),\n",
       " datetime.date(2020, 4, 8),\n",
       " datetime.date(2020, 4, 9),\n",
       " datetime.date(2020, 4, 10),\n",
       " datetime.date(2020, 4, 11),\n",
       " datetime.date(2020, 4, 12),\n",
       " datetime.date(2020, 4, 13),\n",
       " datetime.date(2020, 4, 14),\n",
       " datetime.date(2020, 4, 15),\n",
       " datetime.date(2020, 4, 16),\n",
       " datetime.date(2020, 4, 17),\n",
       " datetime.date(2020, 4, 18),\n",
       " datetime.date(2020, 4, 19),\n",
       " datetime.date(2020, 4, 20),\n",
       " datetime.date(2020, 4, 21),\n",
       " datetime.date(2020, 4, 22),\n",
       " datetime.date(2020, 4, 23),\n",
       " datetime.date(2020, 4, 24),\n",
       " datetime.date(2020, 4, 25),\n",
       " datetime.date(2020, 4, 26),\n",
       " datetime.date(2020, 4, 27),\n",
       " datetime.date(2020, 4, 28),\n",
       " datetime.date(2020, 4, 29),\n",
       " datetime.date(2020, 4, 30),\n",
       " datetime.date(2020, 5, 1),\n",
       " datetime.date(2020, 5, 2),\n",
       " datetime.date(2020, 5, 3),\n",
       " datetime.date(2020, 5, 4),\n",
       " datetime.date(2020, 5, 5),\n",
       " datetime.date(2020, 5, 6),\n",
       " datetime.date(2020, 5, 7),\n",
       " datetime.date(2020, 5, 8),\n",
       " datetime.date(2020, 5, 9),\n",
       " datetime.date(2020, 5, 10),\n",
       " datetime.date(2020, 5, 11),\n",
       " datetime.date(2020, 5, 12),\n",
       " datetime.date(2020, 5, 13),\n",
       " datetime.date(2020, 5, 14),\n",
       " datetime.date(2020, 5, 15),\n",
       " datetime.date(2020, 5, 16),\n",
       " datetime.date(2020, 5, 17),\n",
       " datetime.date(2020, 5, 18),\n",
       " datetime.date(2020, 5, 19),\n",
       " datetime.date(2020, 5, 20),\n",
       " datetime.date(2020, 5, 21),\n",
       " datetime.date(2020, 5, 22),\n",
       " datetime.date(2020, 5, 23),\n",
       " datetime.date(2020, 5, 24),\n",
       " datetime.date(2020, 5, 25),\n",
       " datetime.date(2020, 5, 26),\n",
       " datetime.date(2020, 5, 27)]"
      ]
     },
     "execution_count": 51,
     "metadata": {},
     "output_type": "execute_result"
    }
   ],
   "source": [
    "dates"
   ]
  },
  {
   "cell_type": "code",
   "execution_count": 54,
   "metadata": {},
   "outputs": [],
   "source": [
    "for i in range(df.shape[0]):\n",
    "    d2[df['region'][i]] = d2.get(df['region'][i], [0 for date in dates]) \n",
    "    d2[df['region'][i]][dates.index(df['date'][i])] += 1\n",
    "    #d2[df['region'][i]][0] += 1"
   ]
  },
  {
   "cell_type": "code",
   "execution_count": 55,
   "metadata": {},
   "outputs": [],
   "source": [
    "#d2"
   ]
  },
  {
   "cell_type": "code",
   "execution_count": 56,
   "metadata": {},
   "outputs": [],
   "source": [
    "report2 = pd.DataFrame.from_dict(d2, orient='index').sort_index()"
   ]
  },
  {
   "cell_type": "code",
   "execution_count": 57,
   "metadata": {},
   "outputs": [],
   "source": [
    "report2.columns = dates"
   ]
  },
  {
   "cell_type": "code",
   "execution_count": 58,
   "metadata": {},
   "outputs": [],
   "source": [
    "report2['mean'] = report2.mean(axis=1).astype(int)"
   ]
  },
  {
   "cell_type": "code",
   "execution_count": 59,
   "metadata": {},
   "outputs": [],
   "source": [
    "report2['total'] = report2.sum(axis=1)"
   ]
  },
  {
   "cell_type": "code",
   "execution_count": 60,
   "metadata": {},
   "outputs": [
    {
     "data": {
      "text/html": [
       "<div>\n",
       "<style scoped>\n",
       "    .dataframe tbody tr th:only-of-type {\n",
       "        vertical-align: middle;\n",
       "    }\n",
       "\n",
       "    .dataframe tbody tr th {\n",
       "        vertical-align: top;\n",
       "    }\n",
       "\n",
       "    .dataframe thead th {\n",
       "        text-align: right;\n",
       "    }\n",
       "</style>\n",
       "<table border=\"1\" class=\"dataframe\">\n",
       "  <thead>\n",
       "    <tr style=\"text-align: right;\">\n",
       "      <th></th>\n",
       "      <th>2020-03-30</th>\n",
       "      <th>2020-03-31</th>\n",
       "      <th>2020-04-01</th>\n",
       "      <th>2020-04-02</th>\n",
       "      <th>2020-04-03</th>\n",
       "      <th>2020-04-04</th>\n",
       "      <th>2020-04-05</th>\n",
       "      <th>2020-04-06</th>\n",
       "      <th>2020-04-07</th>\n",
       "      <th>2020-04-08</th>\n",
       "      <th>...</th>\n",
       "      <th>2020-05-20</th>\n",
       "      <th>2020-05-21</th>\n",
       "      <th>2020-05-22</th>\n",
       "      <th>2020-05-23</th>\n",
       "      <th>2020-05-24</th>\n",
       "      <th>2020-05-25</th>\n",
       "      <th>2020-05-26</th>\n",
       "      <th>2020-05-27</th>\n",
       "      <th>mean</th>\n",
       "      <th>total</th>\n",
       "    </tr>\n",
       "  </thead>\n",
       "  <tbody>\n",
       "    <tr>\n",
       "      <th>Москва и Московская область</th>\n",
       "      <td>150</td>\n",
       "      <td>181</td>\n",
       "      <td>216</td>\n",
       "      <td>219</td>\n",
       "      <td>243</td>\n",
       "      <td>187</td>\n",
       "      <td>197</td>\n",
       "      <td>260</td>\n",
       "      <td>240</td>\n",
       "      <td>277</td>\n",
       "      <td>...</td>\n",
       "      <td>545</td>\n",
       "      <td>568</td>\n",
       "      <td>490</td>\n",
       "      <td>367</td>\n",
       "      <td>313</td>\n",
       "      <td>510</td>\n",
       "      <td>507</td>\n",
       "      <td>419</td>\n",
       "      <td>387</td>\n",
       "      <td>23254</td>\n",
       "    </tr>\n",
       "    <tr>\n",
       "      <th>Орловская область</th>\n",
       "      <td>5</td>\n",
       "      <td>3</td>\n",
       "      <td>1</td>\n",
       "      <td>1</td>\n",
       "      <td>5</td>\n",
       "      <td>2</td>\n",
       "      <td>1</td>\n",
       "      <td>3</td>\n",
       "      <td>2</td>\n",
       "      <td>17</td>\n",
       "      <td>...</td>\n",
       "      <td>16</td>\n",
       "      <td>20</td>\n",
       "      <td>19</td>\n",
       "      <td>8</td>\n",
       "      <td>7</td>\n",
       "      <td>14</td>\n",
       "      <td>10</td>\n",
       "      <td>16</td>\n",
       "      <td>15</td>\n",
       "      <td>907</td>\n",
       "    </tr>\n",
       "    <tr>\n",
       "      <th>Ивановская область</th>\n",
       "      <td>6</td>\n",
       "      <td>5</td>\n",
       "      <td>7</td>\n",
       "      <td>5</td>\n",
       "      <td>6</td>\n",
       "      <td>5</td>\n",
       "      <td>6</td>\n",
       "      <td>10</td>\n",
       "      <td>42</td>\n",
       "      <td>121</td>\n",
       "      <td>...</td>\n",
       "      <td>33</td>\n",
       "      <td>41</td>\n",
       "      <td>48</td>\n",
       "      <td>23</td>\n",
       "      <td>20</td>\n",
       "      <td>47</td>\n",
       "      <td>37</td>\n",
       "      <td>35</td>\n",
       "      <td>33</td>\n",
       "      <td>1997</td>\n",
       "    </tr>\n",
       "    <tr>\n",
       "      <th>Санкт-Петербург</th>\n",
       "      <td>40</td>\n",
       "      <td>53</td>\n",
       "      <td>64</td>\n",
       "      <td>55</td>\n",
       "      <td>55</td>\n",
       "      <td>46</td>\n",
       "      <td>49</td>\n",
       "      <td>57</td>\n",
       "      <td>48</td>\n",
       "      <td>54</td>\n",
       "      <td>...</td>\n",
       "      <td>184</td>\n",
       "      <td>178</td>\n",
       "      <td>121</td>\n",
       "      <td>128</td>\n",
       "      <td>135</td>\n",
       "      <td>153</td>\n",
       "      <td>147</td>\n",
       "      <td>127</td>\n",
       "      <td>86</td>\n",
       "      <td>5202</td>\n",
       "    </tr>\n",
       "    <tr>\n",
       "      <th>Неизвестный регион</th>\n",
       "      <td>12</td>\n",
       "      <td>16</td>\n",
       "      <td>41</td>\n",
       "      <td>24</td>\n",
       "      <td>25</td>\n",
       "      <td>37</td>\n",
       "      <td>27</td>\n",
       "      <td>54</td>\n",
       "      <td>51</td>\n",
       "      <td>56</td>\n",
       "      <td>...</td>\n",
       "      <td>25</td>\n",
       "      <td>23</td>\n",
       "      <td>24</td>\n",
       "      <td>23</td>\n",
       "      <td>13</td>\n",
       "      <td>20</td>\n",
       "      <td>25</td>\n",
       "      <td>15</td>\n",
       "      <td>41</td>\n",
       "      <td>2490</td>\n",
       "    </tr>\n",
       "    <tr>\n",
       "      <th>Республика Татарстан</th>\n",
       "      <td>10</td>\n",
       "      <td>18</td>\n",
       "      <td>14</td>\n",
       "      <td>12</td>\n",
       "      <td>21</td>\n",
       "      <td>19</td>\n",
       "      <td>53</td>\n",
       "      <td>54</td>\n",
       "      <td>44</td>\n",
       "      <td>46</td>\n",
       "      <td>...</td>\n",
       "      <td>76</td>\n",
       "      <td>93</td>\n",
       "      <td>52</td>\n",
       "      <td>33</td>\n",
       "      <td>56</td>\n",
       "      <td>75</td>\n",
       "      <td>92</td>\n",
       "      <td>83</td>\n",
       "      <td>51</td>\n",
       "      <td>3085</td>\n",
       "    </tr>\n",
       "    <tr>\n",
       "      <th>Свердловская область</th>\n",
       "      <td>11</td>\n",
       "      <td>15</td>\n",
       "      <td>20</td>\n",
       "      <td>26</td>\n",
       "      <td>26</td>\n",
       "      <td>24</td>\n",
       "      <td>16</td>\n",
       "      <td>28</td>\n",
       "      <td>24</td>\n",
       "      <td>25</td>\n",
       "      <td>...</td>\n",
       "      <td>79</td>\n",
       "      <td>89</td>\n",
       "      <td>69</td>\n",
       "      <td>21</td>\n",
       "      <td>45</td>\n",
       "      <td>54</td>\n",
       "      <td>48</td>\n",
       "      <td>31</td>\n",
       "      <td>38</td>\n",
       "      <td>2330</td>\n",
       "    </tr>\n",
       "    <tr>\n",
       "      <th>Ярославская область</th>\n",
       "      <td>2</td>\n",
       "      <td>3</td>\n",
       "      <td>6</td>\n",
       "      <td>12</td>\n",
       "      <td>7</td>\n",
       "      <td>7</td>\n",
       "      <td>11</td>\n",
       "      <td>16</td>\n",
       "      <td>22</td>\n",
       "      <td>19</td>\n",
       "      <td>...</td>\n",
       "      <td>43</td>\n",
       "      <td>46</td>\n",
       "      <td>22</td>\n",
       "      <td>27</td>\n",
       "      <td>22</td>\n",
       "      <td>23</td>\n",
       "      <td>30</td>\n",
       "      <td>21</td>\n",
       "      <td>21</td>\n",
       "      <td>1283</td>\n",
       "    </tr>\n",
       "    <tr>\n",
       "      <th>Краснодарский край</th>\n",
       "      <td>13</td>\n",
       "      <td>27</td>\n",
       "      <td>23</td>\n",
       "      <td>19</td>\n",
       "      <td>28</td>\n",
       "      <td>21</td>\n",
       "      <td>27</td>\n",
       "      <td>36</td>\n",
       "      <td>14</td>\n",
       "      <td>26</td>\n",
       "      <td>...</td>\n",
       "      <td>95</td>\n",
       "      <td>107</td>\n",
       "      <td>72</td>\n",
       "      <td>62</td>\n",
       "      <td>66</td>\n",
       "      <td>76</td>\n",
       "      <td>81</td>\n",
       "      <td>73</td>\n",
       "      <td>47</td>\n",
       "      <td>2869</td>\n",
       "    </tr>\n",
       "    <tr>\n",
       "      <th>Республика Башкортостан</th>\n",
       "      <td>15</td>\n",
       "      <td>9</td>\n",
       "      <td>18</td>\n",
       "      <td>10</td>\n",
       "      <td>9</td>\n",
       "      <td>36</td>\n",
       "      <td>33</td>\n",
       "      <td>33</td>\n",
       "      <td>33</td>\n",
       "      <td>27</td>\n",
       "      <td>...</td>\n",
       "      <td>119</td>\n",
       "      <td>138</td>\n",
       "      <td>68</td>\n",
       "      <td>100</td>\n",
       "      <td>82</td>\n",
       "      <td>100</td>\n",
       "      <td>104</td>\n",
       "      <td>69</td>\n",
       "      <td>47</td>\n",
       "      <td>2850</td>\n",
       "    </tr>\n",
       "    <tr>\n",
       "      <th>Самарская область</th>\n",
       "      <td>9</td>\n",
       "      <td>9</td>\n",
       "      <td>17</td>\n",
       "      <td>15</td>\n",
       "      <td>18</td>\n",
       "      <td>14</td>\n",
       "      <td>22</td>\n",
       "      <td>23</td>\n",
       "      <td>15</td>\n",
       "      <td>13</td>\n",
       "      <td>...</td>\n",
       "      <td>90</td>\n",
       "      <td>74</td>\n",
       "      <td>48</td>\n",
       "      <td>42</td>\n",
       "      <td>57</td>\n",
       "      <td>76</td>\n",
       "      <td>80</td>\n",
       "      <td>61</td>\n",
       "      <td>35</td>\n",
       "      <td>2119</td>\n",
       "    </tr>\n",
       "    <tr>\n",
       "      <th>Нижегородская область</th>\n",
       "      <td>14</td>\n",
       "      <td>15</td>\n",
       "      <td>12</td>\n",
       "      <td>15</td>\n",
       "      <td>10</td>\n",
       "      <td>15</td>\n",
       "      <td>11</td>\n",
       "      <td>22</td>\n",
       "      <td>11</td>\n",
       "      <td>10</td>\n",
       "      <td>...</td>\n",
       "      <td>46</td>\n",
       "      <td>35</td>\n",
       "      <td>35</td>\n",
       "      <td>31</td>\n",
       "      <td>23</td>\n",
       "      <td>31</td>\n",
       "      <td>32</td>\n",
       "      <td>34</td>\n",
       "      <td>30</td>\n",
       "      <td>1848</td>\n",
       "    </tr>\n",
       "    <tr>\n",
       "      <th>Пермский край</th>\n",
       "      <td>3</td>\n",
       "      <td>8</td>\n",
       "      <td>10</td>\n",
       "      <td>10</td>\n",
       "      <td>10</td>\n",
       "      <td>9</td>\n",
       "      <td>7</td>\n",
       "      <td>12</td>\n",
       "      <td>5</td>\n",
       "      <td>16</td>\n",
       "      <td>...</td>\n",
       "      <td>31</td>\n",
       "      <td>27</td>\n",
       "      <td>33</td>\n",
       "      <td>9</td>\n",
       "      <td>28</td>\n",
       "      <td>14</td>\n",
       "      <td>18</td>\n",
       "      <td>11</td>\n",
       "      <td>15</td>\n",
       "      <td>910</td>\n",
       "    </tr>\n",
       "    <tr>\n",
       "      <th>Волгоградская область</th>\n",
       "      <td>3</td>\n",
       "      <td>7</td>\n",
       "      <td>8</td>\n",
       "      <td>9</td>\n",
       "      <td>4</td>\n",
       "      <td>3</td>\n",
       "      <td>4</td>\n",
       "      <td>6</td>\n",
       "      <td>5</td>\n",
       "      <td>7</td>\n",
       "      <td>...</td>\n",
       "      <td>13</td>\n",
       "      <td>27</td>\n",
       "      <td>17</td>\n",
       "      <td>21</td>\n",
       "      <td>25</td>\n",
       "      <td>28</td>\n",
       "      <td>22</td>\n",
       "      <td>28</td>\n",
       "      <td>11</td>\n",
       "      <td>702</td>\n",
       "    </tr>\n",
       "    <tr>\n",
       "      <th>Иркутская область</th>\n",
       "      <td>3</td>\n",
       "      <td>8</td>\n",
       "      <td>6</td>\n",
       "      <td>12</td>\n",
       "      <td>6</td>\n",
       "      <td>8</td>\n",
       "      <td>8</td>\n",
       "      <td>13</td>\n",
       "      <td>7</td>\n",
       "      <td>6</td>\n",
       "      <td>...</td>\n",
       "      <td>10</td>\n",
       "      <td>10</td>\n",
       "      <td>14</td>\n",
       "      <td>21</td>\n",
       "      <td>17</td>\n",
       "      <td>29</td>\n",
       "      <td>38</td>\n",
       "      <td>33</td>\n",
       "      <td>13</td>\n",
       "      <td>780</td>\n",
       "    </tr>\n",
       "    <tr>\n",
       "      <th>Челябинская область</th>\n",
       "      <td>6</td>\n",
       "      <td>8</td>\n",
       "      <td>8</td>\n",
       "      <td>2</td>\n",
       "      <td>9</td>\n",
       "      <td>9</td>\n",
       "      <td>13</td>\n",
       "      <td>15</td>\n",
       "      <td>10</td>\n",
       "      <td>6</td>\n",
       "      <td>...</td>\n",
       "      <td>61</td>\n",
       "      <td>58</td>\n",
       "      <td>31</td>\n",
       "      <td>18</td>\n",
       "      <td>26</td>\n",
       "      <td>35</td>\n",
       "      <td>31</td>\n",
       "      <td>27</td>\n",
       "      <td>24</td>\n",
       "      <td>1475</td>\n",
       "    </tr>\n",
       "    <tr>\n",
       "      <th>Ростовская область</th>\n",
       "      <td>5</td>\n",
       "      <td>6</td>\n",
       "      <td>5</td>\n",
       "      <td>9</td>\n",
       "      <td>17</td>\n",
       "      <td>11</td>\n",
       "      <td>10</td>\n",
       "      <td>10</td>\n",
       "      <td>8</td>\n",
       "      <td>13</td>\n",
       "      <td>...</td>\n",
       "      <td>67</td>\n",
       "      <td>62</td>\n",
       "      <td>46</td>\n",
       "      <td>31</td>\n",
       "      <td>41</td>\n",
       "      <td>62</td>\n",
       "      <td>50</td>\n",
       "      <td>41</td>\n",
       "      <td>29</td>\n",
       "      <td>1744</td>\n",
       "    </tr>\n",
       "    <tr>\n",
       "      <th>Воронежская область</th>\n",
       "      <td>17</td>\n",
       "      <td>8</td>\n",
       "      <td>7</td>\n",
       "      <td>16</td>\n",
       "      <td>6</td>\n",
       "      <td>9</td>\n",
       "      <td>8</td>\n",
       "      <td>29</td>\n",
       "      <td>10</td>\n",
       "      <td>14</td>\n",
       "      <td>...</td>\n",
       "      <td>26</td>\n",
       "      <td>23</td>\n",
       "      <td>23</td>\n",
       "      <td>10</td>\n",
       "      <td>11</td>\n",
       "      <td>21</td>\n",
       "      <td>20</td>\n",
       "      <td>16</td>\n",
       "      <td>16</td>\n",
       "      <td>1006</td>\n",
       "    </tr>\n",
       "    <tr>\n",
       "      <th>Липецкая область</th>\n",
       "      <td>1</td>\n",
       "      <td>6</td>\n",
       "      <td>4</td>\n",
       "      <td>2</td>\n",
       "      <td>8</td>\n",
       "      <td>3</td>\n",
       "      <td>4</td>\n",
       "      <td>3</td>\n",
       "      <td>4</td>\n",
       "      <td>7</td>\n",
       "      <td>...</td>\n",
       "      <td>7</td>\n",
       "      <td>12</td>\n",
       "      <td>11</td>\n",
       "      <td>4</td>\n",
       "      <td>4</td>\n",
       "      <td>7</td>\n",
       "      <td>4</td>\n",
       "      <td>5</td>\n",
       "      <td>5</td>\n",
       "      <td>329</td>\n",
       "    </tr>\n",
       "    <tr>\n",
       "      <th>Калужская область</th>\n",
       "      <td>7</td>\n",
       "      <td>11</td>\n",
       "      <td>3</td>\n",
       "      <td>5</td>\n",
       "      <td>7</td>\n",
       "      <td>2</td>\n",
       "      <td>4</td>\n",
       "      <td>8</td>\n",
       "      <td>5</td>\n",
       "      <td>7</td>\n",
       "      <td>...</td>\n",
       "      <td>24</td>\n",
       "      <td>13</td>\n",
       "      <td>11</td>\n",
       "      <td>10</td>\n",
       "      <td>20</td>\n",
       "      <td>18</td>\n",
       "      <td>25</td>\n",
       "      <td>18</td>\n",
       "      <td>11</td>\n",
       "      <td>715</td>\n",
       "    </tr>\n",
       "    <tr>\n",
       "      <th>Красноярский край</th>\n",
       "      <td>6</td>\n",
       "      <td>5</td>\n",
       "      <td>6</td>\n",
       "      <td>7</td>\n",
       "      <td>11</td>\n",
       "      <td>8</td>\n",
       "      <td>5</td>\n",
       "      <td>9</td>\n",
       "      <td>13</td>\n",
       "      <td>13</td>\n",
       "      <td>...</td>\n",
       "      <td>54</td>\n",
       "      <td>51</td>\n",
       "      <td>33</td>\n",
       "      <td>25</td>\n",
       "      <td>54</td>\n",
       "      <td>61</td>\n",
       "      <td>64</td>\n",
       "      <td>66</td>\n",
       "      <td>25</td>\n",
       "      <td>1525</td>\n",
       "    </tr>\n",
       "    <tr>\n",
       "      <th>Чувашская Республика</th>\n",
       "      <td>1</td>\n",
       "      <td>5</td>\n",
       "      <td>1</td>\n",
       "      <td>3</td>\n",
       "      <td>2</td>\n",
       "      <td>7</td>\n",
       "      <td>6</td>\n",
       "      <td>10</td>\n",
       "      <td>6</td>\n",
       "      <td>3</td>\n",
       "      <td>...</td>\n",
       "      <td>22</td>\n",
       "      <td>28</td>\n",
       "      <td>17</td>\n",
       "      <td>20</td>\n",
       "      <td>16</td>\n",
       "      <td>25</td>\n",
       "      <td>20</td>\n",
       "      <td>17</td>\n",
       "      <td>11</td>\n",
       "      <td>686</td>\n",
       "    </tr>\n",
       "    <tr>\n",
       "      <th>Новосибирская область</th>\n",
       "      <td>16</td>\n",
       "      <td>9</td>\n",
       "      <td>8</td>\n",
       "      <td>8</td>\n",
       "      <td>7</td>\n",
       "      <td>14</td>\n",
       "      <td>11</td>\n",
       "      <td>20</td>\n",
       "      <td>22</td>\n",
       "      <td>15</td>\n",
       "      <td>...</td>\n",
       "      <td>31</td>\n",
       "      <td>29</td>\n",
       "      <td>30</td>\n",
       "      <td>18</td>\n",
       "      <td>12</td>\n",
       "      <td>39</td>\n",
       "      <td>31</td>\n",
       "      <td>24</td>\n",
       "      <td>20</td>\n",
       "      <td>1253</td>\n",
       "    </tr>\n",
       "    <tr>\n",
       "      <th>Кабардино-Балкарская Республика</th>\n",
       "      <td>1</td>\n",
       "      <td>0</td>\n",
       "      <td>0</td>\n",
       "      <td>2</td>\n",
       "      <td>0</td>\n",
       "      <td>1</td>\n",
       "      <td>0</td>\n",
       "      <td>5</td>\n",
       "      <td>13</td>\n",
       "      <td>7</td>\n",
       "      <td>...</td>\n",
       "      <td>6</td>\n",
       "      <td>10</td>\n",
       "      <td>5</td>\n",
       "      <td>2</td>\n",
       "      <td>3</td>\n",
       "      <td>7</td>\n",
       "      <td>0</td>\n",
       "      <td>7</td>\n",
       "      <td>2</td>\n",
       "      <td>173</td>\n",
       "    </tr>\n",
       "    <tr>\n",
       "      <th>Белгородская область</th>\n",
       "      <td>8</td>\n",
       "      <td>2</td>\n",
       "      <td>7</td>\n",
       "      <td>4</td>\n",
       "      <td>5</td>\n",
       "      <td>5</td>\n",
       "      <td>6</td>\n",
       "      <td>4</td>\n",
       "      <td>8</td>\n",
       "      <td>4</td>\n",
       "      <td>...</td>\n",
       "      <td>25</td>\n",
       "      <td>16</td>\n",
       "      <td>11</td>\n",
       "      <td>8</td>\n",
       "      <td>7</td>\n",
       "      <td>4</td>\n",
       "      <td>11</td>\n",
       "      <td>9</td>\n",
       "      <td>9</td>\n",
       "      <td>550</td>\n",
       "    </tr>\n",
       "  </tbody>\n",
       "</table>\n",
       "<p>25 rows × 61 columns</p>\n",
       "</div>"
      ],
      "text/plain": [
       "                                 2020-03-30  2020-03-31  2020-04-01  \\\n",
       "Москва и Московская область             150         181         216   \n",
       "Орловская область                         5           3           1   \n",
       "Ивановская область                        6           5           7   \n",
       "Санкт-Петербург                          40          53          64   \n",
       "Неизвестный регион                       12          16          41   \n",
       "Республика Татарстан                     10          18          14   \n",
       "Свердловская область                     11          15          20   \n",
       "Ярославская область                       2           3           6   \n",
       "Краснодарский край                       13          27          23   \n",
       "Республика Башкортостан                  15           9          18   \n",
       "Самарская область                         9           9          17   \n",
       "Нижегородская область                    14          15          12   \n",
       "Пермский край                             3           8          10   \n",
       "Волгоградская область                     3           7           8   \n",
       "Иркутская область                         3           8           6   \n",
       "Челябинская область                       6           8           8   \n",
       "Ростовская область                        5           6           5   \n",
       "Воронежская область                      17           8           7   \n",
       "Липецкая область                          1           6           4   \n",
       "Калужская область                         7          11           3   \n",
       "Красноярский край                         6           5           6   \n",
       "Чувашская Республика                      1           5           1   \n",
       "Новосибирская область                    16           9           8   \n",
       "Кабардино-Балкарская Республика           1           0           0   \n",
       "Белгородская область                      8           2           7   \n",
       "\n",
       "                                 2020-04-02  2020-04-03  2020-04-04  \\\n",
       "Москва и Московская область             219         243         187   \n",
       "Орловская область                         1           5           2   \n",
       "Ивановская область                        5           6           5   \n",
       "Санкт-Петербург                          55          55          46   \n",
       "Неизвестный регион                       24          25          37   \n",
       "Республика Татарстан                     12          21          19   \n",
       "Свердловская область                     26          26          24   \n",
       "Ярославская область                      12           7           7   \n",
       "Краснодарский край                       19          28          21   \n",
       "Республика Башкортостан                  10           9          36   \n",
       "Самарская область                        15          18          14   \n",
       "Нижегородская область                    15          10          15   \n",
       "Пермский край                            10          10           9   \n",
       "Волгоградская область                     9           4           3   \n",
       "Иркутская область                        12           6           8   \n",
       "Челябинская область                       2           9           9   \n",
       "Ростовская область                        9          17          11   \n",
       "Воронежская область                      16           6           9   \n",
       "Липецкая область                          2           8           3   \n",
       "Калужская область                         5           7           2   \n",
       "Красноярский край                         7          11           8   \n",
       "Чувашская Республика                      3           2           7   \n",
       "Новосибирская область                     8           7          14   \n",
       "Кабардино-Балкарская Республика           2           0           1   \n",
       "Белгородская область                      4           5           5   \n",
       "\n",
       "                                 2020-04-05  2020-04-06  2020-04-07  \\\n",
       "Москва и Московская область             197         260         240   \n",
       "Орловская область                         1           3           2   \n",
       "Ивановская область                        6          10          42   \n",
       "Санкт-Петербург                          49          57          48   \n",
       "Неизвестный регион                       27          54          51   \n",
       "Республика Татарстан                     53          54          44   \n",
       "Свердловская область                     16          28          24   \n",
       "Ярославская область                      11          16          22   \n",
       "Краснодарский край                       27          36          14   \n",
       "Республика Башкортостан                  33          33          33   \n",
       "Самарская область                        22          23          15   \n",
       "Нижегородская область                    11          22          11   \n",
       "Пермский край                             7          12           5   \n",
       "Волгоградская область                     4           6           5   \n",
       "Иркутская область                         8          13           7   \n",
       "Челябинская область                      13          15          10   \n",
       "Ростовская область                       10          10           8   \n",
       "Воронежская область                       8          29          10   \n",
       "Липецкая область                          4           3           4   \n",
       "Калужская область                         4           8           5   \n",
       "Красноярский край                         5           9          13   \n",
       "Чувашская Республика                      6          10           6   \n",
       "Новосибирская область                    11          20          22   \n",
       "Кабардино-Балкарская Республика           0           5          13   \n",
       "Белгородская область                      6           4           8   \n",
       "\n",
       "                                 2020-04-08  ...  2020-05-20  2020-05-21  \\\n",
       "Москва и Московская область             277  ...         545         568   \n",
       "Орловская область                        17  ...          16          20   \n",
       "Ивановская область                      121  ...          33          41   \n",
       "Санкт-Петербург                          54  ...         184         178   \n",
       "Неизвестный регион                       56  ...          25          23   \n",
       "Республика Татарстан                     46  ...          76          93   \n",
       "Свердловская область                     25  ...          79          89   \n",
       "Ярославская область                      19  ...          43          46   \n",
       "Краснодарский край                       26  ...          95         107   \n",
       "Республика Башкортостан                  27  ...         119         138   \n",
       "Самарская область                        13  ...          90          74   \n",
       "Нижегородская область                    10  ...          46          35   \n",
       "Пермский край                            16  ...          31          27   \n",
       "Волгоградская область                     7  ...          13          27   \n",
       "Иркутская область                         6  ...          10          10   \n",
       "Челябинская область                       6  ...          61          58   \n",
       "Ростовская область                       13  ...          67          62   \n",
       "Воронежская область                      14  ...          26          23   \n",
       "Липецкая область                          7  ...           7          12   \n",
       "Калужская область                         7  ...          24          13   \n",
       "Красноярский край                        13  ...          54          51   \n",
       "Чувашская Республика                      3  ...          22          28   \n",
       "Новосибирская область                    15  ...          31          29   \n",
       "Кабардино-Балкарская Республика           7  ...           6          10   \n",
       "Белгородская область                      4  ...          25          16   \n",
       "\n",
       "                                 2020-05-22  2020-05-23  2020-05-24  \\\n",
       "Москва и Московская область             490         367         313   \n",
       "Орловская область                        19           8           7   \n",
       "Ивановская область                       48          23          20   \n",
       "Санкт-Петербург                         121         128         135   \n",
       "Неизвестный регион                       24          23          13   \n",
       "Республика Татарстан                     52          33          56   \n",
       "Свердловская область                     69          21          45   \n",
       "Ярославская область                      22          27          22   \n",
       "Краснодарский край                       72          62          66   \n",
       "Республика Башкортостан                  68         100          82   \n",
       "Самарская область                        48          42          57   \n",
       "Нижегородская область                    35          31          23   \n",
       "Пермский край                            33           9          28   \n",
       "Волгоградская область                    17          21          25   \n",
       "Иркутская область                        14          21          17   \n",
       "Челябинская область                      31          18          26   \n",
       "Ростовская область                       46          31          41   \n",
       "Воронежская область                      23          10          11   \n",
       "Липецкая область                         11           4           4   \n",
       "Калужская область                        11          10          20   \n",
       "Красноярский край                        33          25          54   \n",
       "Чувашская Республика                     17          20          16   \n",
       "Новосибирская область                    30          18          12   \n",
       "Кабардино-Балкарская Республика           5           2           3   \n",
       "Белгородская область                     11           8           7   \n",
       "\n",
       "                                 2020-05-25  2020-05-26  2020-05-27  mean  \\\n",
       "Москва и Московская область             510         507         419   387   \n",
       "Орловская область                        14          10          16    15   \n",
       "Ивановская область                       47          37          35    33   \n",
       "Санкт-Петербург                         153         147         127    86   \n",
       "Неизвестный регион                       20          25          15    41   \n",
       "Республика Татарстан                     75          92          83    51   \n",
       "Свердловская область                     54          48          31    38   \n",
       "Ярославская область                      23          30          21    21   \n",
       "Краснодарский край                       76          81          73    47   \n",
       "Республика Башкортостан                 100         104          69    47   \n",
       "Самарская область                        76          80          61    35   \n",
       "Нижегородская область                    31          32          34    30   \n",
       "Пермский край                            14          18          11    15   \n",
       "Волгоградская область                    28          22          28    11   \n",
       "Иркутская область                        29          38          33    13   \n",
       "Челябинская область                      35          31          27    24   \n",
       "Ростовская область                       62          50          41    29   \n",
       "Воронежская область                      21          20          16    16   \n",
       "Липецкая область                          7           4           5     5   \n",
       "Калужская область                        18          25          18    11   \n",
       "Красноярский край                        61          64          66    25   \n",
       "Чувашская Республика                     25          20          17    11   \n",
       "Новосибирская область                    39          31          24    20   \n",
       "Кабардино-Балкарская Республика           7           0           7     2   \n",
       "Белгородская область                      4          11           9     9   \n",
       "\n",
       "                                 total  \n",
       "Москва и Московская область      23254  \n",
       "Орловская область                  907  \n",
       "Ивановская область                1997  \n",
       "Санкт-Петербург                   5202  \n",
       "Неизвестный регион                2490  \n",
       "Республика Татарстан              3085  \n",
       "Свердловская область              2330  \n",
       "Ярославская область               1283  \n",
       "Краснодарский край                2869  \n",
       "Республика Башкортостан           2850  \n",
       "Самарская область                 2119  \n",
       "Нижегородская область             1848  \n",
       "Пермский край                      910  \n",
       "Волгоградская область              702  \n",
       "Иркутская область                  780  \n",
       "Челябинская область               1475  \n",
       "Ростовская область                1744  \n",
       "Воронежская область               1006  \n",
       "Липецкая область                   329  \n",
       "Калужская область                  715  \n",
       "Красноярский край                 1525  \n",
       "Чувашская Республика               686  \n",
       "Новосибирская область             1253  \n",
       "Кабардино-Балкарская Республика    173  \n",
       "Белгородская область               550  \n",
       "\n",
       "[25 rows x 61 columns]"
      ]
     },
     "execution_count": 60,
     "metadata": {},
     "output_type": "execute_result"
    }
   ],
   "source": [
    "report2.sort_values(report2.columns[10], ascending=False).head(25)\n",
    "#report2.sort_values('mean', ascending=False).head(25)"
   ]
  },
  {
   "cell_type": "markdown",
   "metadata": {},
   "source": [
    "-------"
   ]
  },
  {
   "cell_type": "code",
   "execution_count": null,
   "metadata": {},
   "outputs": [],
   "source": [
    "#report3.loc[['Ивановская обл. VEBMED', 'Ивановская обл. _прочие']]"
   ]
  },
  {
   "cell_type": "code",
   "execution_count": null,
   "metadata": {},
   "outputs": [],
   "source": [
    "#report3.loc[['Орловская обл. VEBMED', 'Орловская обл. _прочие']]"
   ]
  },
  {
   "cell_type": "code",
   "execution_count": null,
   "metadata": {},
   "outputs": [],
   "source": [
    "#report3.loc[['Республика Татарстан VEBMED', 'Республика Татарстан _прочие']]"
   ]
  },
  {
   "cell_type": "code",
   "execution_count": null,
   "metadata": {},
   "outputs": [],
   "source": []
  },
  {
   "cell_type": "code",
   "execution_count": null,
   "metadata": {},
   "outputs": [],
   "source": []
  },
  {
   "cell_type": "code",
   "execution_count": 61,
   "metadata": {},
   "outputs": [],
   "source": [
    "report2 = report2.sort_values('total', ascending=False)"
   ]
  },
  {
   "cell_type": "code",
   "execution_count": null,
   "metadata": {},
   "outputs": [],
   "source": [
    "#report2.to_excel('app_regions_new.xls')"
   ]
  },
  {
   "cell_type": "code",
   "execution_count": null,
   "metadata": {},
   "outputs": [],
   "source": []
  },
  {
   "cell_type": "markdown",
   "metadata": {},
   "source": [
    "----"
   ]
  },
  {
   "cell_type": "markdown",
   "metadata": {},
   "source": [
    "# WEBMED"
   ]
  },
  {
   "cell_type": "code",
   "execution_count": 62,
   "metadata": {},
   "outputs": [],
   "source": [
    "d3 = dict()"
   ]
  },
  {
   "cell_type": "code",
   "execution_count": 63,
   "metadata": {},
   "outputs": [],
   "source": [
    "dates = [date for date in df.date.unique()]\n",
    "dates.sort()"
   ]
  },
  {
   "cell_type": "code",
   "execution_count": 64,
   "metadata": {},
   "outputs": [],
   "source": [
    "#df['region'][1]"
   ]
  },
  {
   "cell_type": "code",
   "execution_count": 65,
   "metadata": {},
   "outputs": [],
   "source": [
    "for i in range(df.shape[0]):\n",
    "    if df['name'][i] == 'VEBMED':\n",
    "        #region_name = df[]\n",
    "        d3[df['region'][i] + ' VEBMED'] = d3.get(df['region'][i]  + ' VEBMED', [0 for date in dates]) \n",
    "        d3[df['region'][i] + ' VEBMED'][dates.index(df['date'][i])] += 1\n",
    "    #d2[df['region'][i]][0] += 1\n",
    "    \n",
    "    if df['name'][i] != 'VEBMED':\n",
    "        d3[df['region'][i] + ' _прочие'] = d3.get(df['region'][i] + ' _прочие', [0 for date in dates]) \n",
    "        d3[df['region'][i] + ' _прочие'][dates.index(df['date'][i])] += 1"
   ]
  },
  {
   "cell_type": "code",
   "execution_count": null,
   "metadata": {},
   "outputs": [],
   "source": []
  },
  {
   "cell_type": "code",
   "execution_count": 66,
   "metadata": {},
   "outputs": [],
   "source": [
    "report3 = pd.DataFrame.from_dict(d3, orient='index').sort_index()"
   ]
  },
  {
   "cell_type": "code",
   "execution_count": 67,
   "metadata": {},
   "outputs": [],
   "source": [
    "report3.columns = dates"
   ]
  },
  {
   "cell_type": "code",
   "execution_count": 68,
   "metadata": {},
   "outputs": [],
   "source": [
    "report3['total'] = report3.sum(axis=1)"
   ]
  },
  {
   "cell_type": "code",
   "execution_count": 69,
   "metadata": {},
   "outputs": [
    {
     "data": {
      "text/html": [
       "<div>\n",
       "<style scoped>\n",
       "    .dataframe tbody tr th:only-of-type {\n",
       "        vertical-align: middle;\n",
       "    }\n",
       "\n",
       "    .dataframe tbody tr th {\n",
       "        vertical-align: top;\n",
       "    }\n",
       "\n",
       "    .dataframe thead th {\n",
       "        text-align: right;\n",
       "    }\n",
       "</style>\n",
       "<table border=\"1\" class=\"dataframe\">\n",
       "  <thead>\n",
       "    <tr style=\"text-align: right;\">\n",
       "      <th></th>\n",
       "      <th>2020-03-30</th>\n",
       "      <th>2020-03-31</th>\n",
       "      <th>2020-04-01</th>\n",
       "      <th>2020-04-02</th>\n",
       "      <th>2020-04-03</th>\n",
       "      <th>2020-04-04</th>\n",
       "      <th>2020-04-05</th>\n",
       "      <th>2020-04-06</th>\n",
       "      <th>2020-04-07</th>\n",
       "      <th>2020-04-08</th>\n",
       "      <th>...</th>\n",
       "      <th>2020-05-19</th>\n",
       "      <th>2020-05-20</th>\n",
       "      <th>2020-05-21</th>\n",
       "      <th>2020-05-22</th>\n",
       "      <th>2020-05-23</th>\n",
       "      <th>2020-05-24</th>\n",
       "      <th>2020-05-25</th>\n",
       "      <th>2020-05-26</th>\n",
       "      <th>2020-05-27</th>\n",
       "      <th>total</th>\n",
       "    </tr>\n",
       "  </thead>\n",
       "  <tbody>\n",
       "    <tr>\n",
       "      <th>Алматы VEBMED</th>\n",
       "      <td>0</td>\n",
       "      <td>0</td>\n",
       "      <td>0</td>\n",
       "      <td>0</td>\n",
       "      <td>0</td>\n",
       "      <td>0</td>\n",
       "      <td>0</td>\n",
       "      <td>0</td>\n",
       "      <td>0</td>\n",
       "      <td>0</td>\n",
       "      <td>...</td>\n",
       "      <td>0</td>\n",
       "      <td>0</td>\n",
       "      <td>0</td>\n",
       "      <td>0</td>\n",
       "      <td>0</td>\n",
       "      <td>0</td>\n",
       "      <td>0</td>\n",
       "      <td>0</td>\n",
       "      <td>0</td>\n",
       "      <td>1</td>\n",
       "    </tr>\n",
       "    <tr>\n",
       "      <th>Алтайский край VEBMED</th>\n",
       "      <td>0</td>\n",
       "      <td>1</td>\n",
       "      <td>2</td>\n",
       "      <td>1</td>\n",
       "      <td>4</td>\n",
       "      <td>1</td>\n",
       "      <td>2</td>\n",
       "      <td>4</td>\n",
       "      <td>3</td>\n",
       "      <td>2</td>\n",
       "      <td>...</td>\n",
       "      <td>69</td>\n",
       "      <td>28</td>\n",
       "      <td>60</td>\n",
       "      <td>35</td>\n",
       "      <td>8</td>\n",
       "      <td>22</td>\n",
       "      <td>27</td>\n",
       "      <td>31</td>\n",
       "      <td>30</td>\n",
       "      <td>1071</td>\n",
       "    </tr>\n",
       "    <tr>\n",
       "      <th>Алтайский край _прочие</th>\n",
       "      <td>3</td>\n",
       "      <td>1</td>\n",
       "      <td>1</td>\n",
       "      <td>2</td>\n",
       "      <td>5</td>\n",
       "      <td>3</td>\n",
       "      <td>2</td>\n",
       "      <td>6</td>\n",
       "      <td>3</td>\n",
       "      <td>5</td>\n",
       "      <td>...</td>\n",
       "      <td>1</td>\n",
       "      <td>1</td>\n",
       "      <td>1</td>\n",
       "      <td>3</td>\n",
       "      <td>1</td>\n",
       "      <td>0</td>\n",
       "      <td>0</td>\n",
       "      <td>1</td>\n",
       "      <td>2</td>\n",
       "      <td>90</td>\n",
       "    </tr>\n",
       "    <tr>\n",
       "      <th>Амурская область VEBMED</th>\n",
       "      <td>0</td>\n",
       "      <td>0</td>\n",
       "      <td>1</td>\n",
       "      <td>1</td>\n",
       "      <td>2</td>\n",
       "      <td>1</td>\n",
       "      <td>0</td>\n",
       "      <td>0</td>\n",
       "      <td>0</td>\n",
       "      <td>2</td>\n",
       "      <td>...</td>\n",
       "      <td>14</td>\n",
       "      <td>17</td>\n",
       "      <td>14</td>\n",
       "      <td>13</td>\n",
       "      <td>4</td>\n",
       "      <td>7</td>\n",
       "      <td>10</td>\n",
       "      <td>8</td>\n",
       "      <td>2</td>\n",
       "      <td>195</td>\n",
       "    </tr>\n",
       "    <tr>\n",
       "      <th>Амурская область _прочие</th>\n",
       "      <td>2</td>\n",
       "      <td>0</td>\n",
       "      <td>0</td>\n",
       "      <td>0</td>\n",
       "      <td>0</td>\n",
       "      <td>0</td>\n",
       "      <td>0</td>\n",
       "      <td>3</td>\n",
       "      <td>2</td>\n",
       "      <td>0</td>\n",
       "      <td>...</td>\n",
       "      <td>1</td>\n",
       "      <td>0</td>\n",
       "      <td>0</td>\n",
       "      <td>0</td>\n",
       "      <td>0</td>\n",
       "      <td>0</td>\n",
       "      <td>1</td>\n",
       "      <td>1</td>\n",
       "      <td>0</td>\n",
       "      <td>31</td>\n",
       "    </tr>\n",
       "    <tr>\n",
       "      <th>...</th>\n",
       "      <td>...</td>\n",
       "      <td>...</td>\n",
       "      <td>...</td>\n",
       "      <td>...</td>\n",
       "      <td>...</td>\n",
       "      <td>...</td>\n",
       "      <td>...</td>\n",
       "      <td>...</td>\n",
       "      <td>...</td>\n",
       "      <td>...</td>\n",
       "      <td>...</td>\n",
       "      <td>...</td>\n",
       "      <td>...</td>\n",
       "      <td>...</td>\n",
       "      <td>...</td>\n",
       "      <td>...</td>\n",
       "      <td>...</td>\n",
       "      <td>...</td>\n",
       "      <td>...</td>\n",
       "      <td>...</td>\n",
       "      <td>...</td>\n",
       "    </tr>\n",
       "    <tr>\n",
       "      <th>Чукотский автономный округ VEBMED</th>\n",
       "      <td>0</td>\n",
       "      <td>0</td>\n",
       "      <td>0</td>\n",
       "      <td>0</td>\n",
       "      <td>0</td>\n",
       "      <td>0</td>\n",
       "      <td>0</td>\n",
       "      <td>0</td>\n",
       "      <td>0</td>\n",
       "      <td>0</td>\n",
       "      <td>...</td>\n",
       "      <td>0</td>\n",
       "      <td>0</td>\n",
       "      <td>0</td>\n",
       "      <td>0</td>\n",
       "      <td>0</td>\n",
       "      <td>0</td>\n",
       "      <td>1</td>\n",
       "      <td>0</td>\n",
       "      <td>0</td>\n",
       "      <td>1</td>\n",
       "    </tr>\n",
       "    <tr>\n",
       "      <th>Ямало-Ненецкий автономный округ VEBMED</th>\n",
       "      <td>0</td>\n",
       "      <td>0</td>\n",
       "      <td>1</td>\n",
       "      <td>0</td>\n",
       "      <td>1</td>\n",
       "      <td>1</td>\n",
       "      <td>1</td>\n",
       "      <td>3</td>\n",
       "      <td>1</td>\n",
       "      <td>0</td>\n",
       "      <td>...</td>\n",
       "      <td>4</td>\n",
       "      <td>4</td>\n",
       "      <td>6</td>\n",
       "      <td>2</td>\n",
       "      <td>1</td>\n",
       "      <td>2</td>\n",
       "      <td>3</td>\n",
       "      <td>2</td>\n",
       "      <td>2</td>\n",
       "      <td>106</td>\n",
       "    </tr>\n",
       "    <tr>\n",
       "      <th>Ямало-Ненецкий автономный округ _прочие</th>\n",
       "      <td>3</td>\n",
       "      <td>3</td>\n",
       "      <td>2</td>\n",
       "      <td>1</td>\n",
       "      <td>1</td>\n",
       "      <td>1</td>\n",
       "      <td>1</td>\n",
       "      <td>3</td>\n",
       "      <td>2</td>\n",
       "      <td>2</td>\n",
       "      <td>...</td>\n",
       "      <td>0</td>\n",
       "      <td>0</td>\n",
       "      <td>0</td>\n",
       "      <td>0</td>\n",
       "      <td>1</td>\n",
       "      <td>0</td>\n",
       "      <td>0</td>\n",
       "      <td>0</td>\n",
       "      <td>0</td>\n",
       "      <td>59</td>\n",
       "    </tr>\n",
       "    <tr>\n",
       "      <th>Ярославская область VEBMED</th>\n",
       "      <td>0</td>\n",
       "      <td>3</td>\n",
       "      <td>4</td>\n",
       "      <td>8</td>\n",
       "      <td>6</td>\n",
       "      <td>5</td>\n",
       "      <td>6</td>\n",
       "      <td>14</td>\n",
       "      <td>21</td>\n",
       "      <td>16</td>\n",
       "      <td>...</td>\n",
       "      <td>33</td>\n",
       "      <td>40</td>\n",
       "      <td>43</td>\n",
       "      <td>21</td>\n",
       "      <td>22</td>\n",
       "      <td>20</td>\n",
       "      <td>22</td>\n",
       "      <td>29</td>\n",
       "      <td>19</td>\n",
       "      <td>1141</td>\n",
       "    </tr>\n",
       "    <tr>\n",
       "      <th>Ярославская область _прочие</th>\n",
       "      <td>2</td>\n",
       "      <td>0</td>\n",
       "      <td>2</td>\n",
       "      <td>4</td>\n",
       "      <td>1</td>\n",
       "      <td>2</td>\n",
       "      <td>5</td>\n",
       "      <td>2</td>\n",
       "      <td>1</td>\n",
       "      <td>3</td>\n",
       "      <td>...</td>\n",
       "      <td>0</td>\n",
       "      <td>3</td>\n",
       "      <td>3</td>\n",
       "      <td>1</td>\n",
       "      <td>5</td>\n",
       "      <td>2</td>\n",
       "      <td>1</td>\n",
       "      <td>1</td>\n",
       "      <td>2</td>\n",
       "      <td>121</td>\n",
       "    </tr>\n",
       "  </tbody>\n",
       "</table>\n",
       "<p>168 rows × 60 columns</p>\n",
       "</div>"
      ],
      "text/plain": [
       "                                         2020-03-30  2020-03-31  2020-04-01  \\\n",
       "Алматы VEBMED                                     0           0           0   \n",
       "Алтайский край VEBMED                             0           1           2   \n",
       "Алтайский край _прочие                            3           1           1   \n",
       "Амурская область VEBMED                           0           0           1   \n",
       "Амурская область _прочие                          2           0           0   \n",
       "...                                             ...         ...         ...   \n",
       "Чукотский автономный округ VEBMED                 0           0           0   \n",
       "Ямало-Ненецкий автономный округ VEBMED            0           0           1   \n",
       "Ямало-Ненецкий автономный округ _прочие           3           3           2   \n",
       "Ярославская область VEBMED                        0           3           4   \n",
       "Ярославская область _прочие                       2           0           2   \n",
       "\n",
       "                                         2020-04-02  2020-04-03  2020-04-04  \\\n",
       "Алматы VEBMED                                     0           0           0   \n",
       "Алтайский край VEBMED                             1           4           1   \n",
       "Алтайский край _прочие                            2           5           3   \n",
       "Амурская область VEBMED                           1           2           1   \n",
       "Амурская область _прочие                          0           0           0   \n",
       "...                                             ...         ...         ...   \n",
       "Чукотский автономный округ VEBMED                 0           0           0   \n",
       "Ямало-Ненецкий автономный округ VEBMED            0           1           1   \n",
       "Ямало-Ненецкий автономный округ _прочие           1           1           1   \n",
       "Ярославская область VEBMED                        8           6           5   \n",
       "Ярославская область _прочие                       4           1           2   \n",
       "\n",
       "                                         2020-04-05  2020-04-06  2020-04-07  \\\n",
       "Алматы VEBMED                                     0           0           0   \n",
       "Алтайский край VEBMED                             2           4           3   \n",
       "Алтайский край _прочие                            2           6           3   \n",
       "Амурская область VEBMED                           0           0           0   \n",
       "Амурская область _прочие                          0           3           2   \n",
       "...                                             ...         ...         ...   \n",
       "Чукотский автономный округ VEBMED                 0           0           0   \n",
       "Ямало-Ненецкий автономный округ VEBMED            1           3           1   \n",
       "Ямало-Ненецкий автономный округ _прочие           1           3           2   \n",
       "Ярославская область VEBMED                        6          14          21   \n",
       "Ярославская область _прочие                       5           2           1   \n",
       "\n",
       "                                         2020-04-08  ...  2020-05-19  \\\n",
       "Алматы VEBMED                                     0  ...           0   \n",
       "Алтайский край VEBMED                             2  ...          69   \n",
       "Алтайский край _прочие                            5  ...           1   \n",
       "Амурская область VEBMED                           2  ...          14   \n",
       "Амурская область _прочие                          0  ...           1   \n",
       "...                                             ...  ...         ...   \n",
       "Чукотский автономный округ VEBMED                 0  ...           0   \n",
       "Ямало-Ненецкий автономный округ VEBMED            0  ...           4   \n",
       "Ямало-Ненецкий автономный округ _прочие           2  ...           0   \n",
       "Ярославская область VEBMED                       16  ...          33   \n",
       "Ярославская область _прочие                       3  ...           0   \n",
       "\n",
       "                                         2020-05-20  2020-05-21  2020-05-22  \\\n",
       "Алматы VEBMED                                     0           0           0   \n",
       "Алтайский край VEBMED                            28          60          35   \n",
       "Алтайский край _прочие                            1           1           3   \n",
       "Амурская область VEBMED                          17          14          13   \n",
       "Амурская область _прочие                          0           0           0   \n",
       "...                                             ...         ...         ...   \n",
       "Чукотский автономный округ VEBMED                 0           0           0   \n",
       "Ямало-Ненецкий автономный округ VEBMED            4           6           2   \n",
       "Ямало-Ненецкий автономный округ _прочие           0           0           0   \n",
       "Ярославская область VEBMED                       40          43          21   \n",
       "Ярославская область _прочие                       3           3           1   \n",
       "\n",
       "                                         2020-05-23  2020-05-24  2020-05-25  \\\n",
       "Алматы VEBMED                                     0           0           0   \n",
       "Алтайский край VEBMED                             8          22          27   \n",
       "Алтайский край _прочие                            1           0           0   \n",
       "Амурская область VEBMED                           4           7          10   \n",
       "Амурская область _прочие                          0           0           1   \n",
       "...                                             ...         ...         ...   \n",
       "Чукотский автономный округ VEBMED                 0           0           1   \n",
       "Ямало-Ненецкий автономный округ VEBMED            1           2           3   \n",
       "Ямало-Ненецкий автономный округ _прочие           1           0           0   \n",
       "Ярославская область VEBMED                       22          20          22   \n",
       "Ярославская область _прочие                       5           2           1   \n",
       "\n",
       "                                         2020-05-26  2020-05-27  total  \n",
       "Алматы VEBMED                                     0           0      1  \n",
       "Алтайский край VEBMED                            31          30   1071  \n",
       "Алтайский край _прочие                            1           2     90  \n",
       "Амурская область VEBMED                           8           2    195  \n",
       "Амурская область _прочие                          1           0     31  \n",
       "...                                             ...         ...    ...  \n",
       "Чукотский автономный округ VEBMED                 0           0      1  \n",
       "Ямало-Ненецкий автономный округ VEBMED            2           2    106  \n",
       "Ямало-Ненецкий автономный округ _прочие           0           0     59  \n",
       "Ярославская область VEBMED                       29          19   1141  \n",
       "Ярославская область _прочие                       1           2    121  \n",
       "\n",
       "[168 rows x 60 columns]"
      ]
     },
     "execution_count": 69,
     "metadata": {},
     "output_type": "execute_result"
    }
   ],
   "source": [
    "report3"
   ]
  },
  {
   "cell_type": "code",
   "execution_count": null,
   "metadata": {},
   "outputs": [],
   "source": []
  },
  {
   "cell_type": "code",
   "execution_count": 71,
   "metadata": {},
   "outputs": [
    {
     "data": {
      "text/html": [
       "<div>\n",
       "<style scoped>\n",
       "    .dataframe tbody tr th:only-of-type {\n",
       "        vertical-align: middle;\n",
       "    }\n",
       "\n",
       "    .dataframe tbody tr th {\n",
       "        vertical-align: top;\n",
       "    }\n",
       "\n",
       "    .dataframe thead th {\n",
       "        text-align: right;\n",
       "    }\n",
       "</style>\n",
       "<table border=\"1\" class=\"dataframe\">\n",
       "  <thead>\n",
       "    <tr style=\"text-align: right;\">\n",
       "      <th></th>\n",
       "      <th>2020-03-30</th>\n",
       "      <th>2020-03-31</th>\n",
       "      <th>2020-04-01</th>\n",
       "      <th>2020-04-02</th>\n",
       "      <th>2020-04-03</th>\n",
       "      <th>2020-04-04</th>\n",
       "      <th>2020-04-05</th>\n",
       "      <th>2020-04-06</th>\n",
       "      <th>2020-04-07</th>\n",
       "      <th>2020-04-08</th>\n",
       "      <th>...</th>\n",
       "      <th>2020-05-19</th>\n",
       "      <th>2020-05-20</th>\n",
       "      <th>2020-05-21</th>\n",
       "      <th>2020-05-22</th>\n",
       "      <th>2020-05-23</th>\n",
       "      <th>2020-05-24</th>\n",
       "      <th>2020-05-25</th>\n",
       "      <th>2020-05-26</th>\n",
       "      <th>2020-05-27</th>\n",
       "      <th>total</th>\n",
       "    </tr>\n",
       "  </thead>\n",
       "  <tbody>\n",
       "    <tr>\n",
       "      <th>Мурманская область VEBMED</th>\n",
       "      <td>0</td>\n",
       "      <td>0</td>\n",
       "      <td>0</td>\n",
       "      <td>0</td>\n",
       "      <td>3</td>\n",
       "      <td>1</td>\n",
       "      <td>1</td>\n",
       "      <td>2</td>\n",
       "      <td>2</td>\n",
       "      <td>2</td>\n",
       "      <td>...</td>\n",
       "      <td>16</td>\n",
       "      <td>17</td>\n",
       "      <td>17</td>\n",
       "      <td>14</td>\n",
       "      <td>8</td>\n",
       "      <td>9</td>\n",
       "      <td>15</td>\n",
       "      <td>8</td>\n",
       "      <td>7</td>\n",
       "      <td>318</td>\n",
       "    </tr>\n",
       "  </tbody>\n",
       "</table>\n",
       "<p>1 rows × 60 columns</p>\n",
       "</div>"
      ],
      "text/plain": [
       "                           2020-03-30  2020-03-31  2020-04-01  2020-04-02  \\\n",
       "Мурманская область VEBMED           0           0           0           0   \n",
       "\n",
       "                           2020-04-03  2020-04-04  2020-04-05  2020-04-06  \\\n",
       "Мурманская область VEBMED           3           1           1           2   \n",
       "\n",
       "                           2020-04-07  2020-04-08  ...  2020-05-19  \\\n",
       "Мурманская область VEBMED           2           2  ...          16   \n",
       "\n",
       "                           2020-05-20  2020-05-21  2020-05-22  2020-05-23  \\\n",
       "Мурманская область VEBMED          17          17          14           8   \n",
       "\n",
       "                           2020-05-24  2020-05-25  2020-05-26  2020-05-27  \\\n",
       "Мурманская область VEBMED           9          15           8           7   \n",
       "\n",
       "                           total  \n",
       "Мурманская область VEBMED    318  \n",
       "\n",
       "[1 rows x 60 columns]"
      ]
     },
     "execution_count": 71,
     "metadata": {},
     "output_type": "execute_result"
    }
   ],
   "source": [
    "report3[report3.index == 'Мурманская область VEBMED']"
   ]
  },
  {
   "cell_type": "code",
   "execution_count": 72,
   "metadata": {},
   "outputs": [
    {
     "data": {
      "text/html": [
       "<div>\n",
       "<style scoped>\n",
       "    .dataframe tbody tr th:only-of-type {\n",
       "        vertical-align: middle;\n",
       "    }\n",
       "\n",
       "    .dataframe tbody tr th {\n",
       "        vertical-align: top;\n",
       "    }\n",
       "\n",
       "    .dataframe thead th {\n",
       "        text-align: right;\n",
       "    }\n",
       "</style>\n",
       "<table border=\"1\" class=\"dataframe\">\n",
       "  <thead>\n",
       "    <tr style=\"text-align: right;\">\n",
       "      <th></th>\n",
       "      <th>2020-03-30</th>\n",
       "      <th>2020-03-31</th>\n",
       "      <th>2020-04-01</th>\n",
       "      <th>2020-04-02</th>\n",
       "      <th>2020-04-03</th>\n",
       "      <th>2020-04-04</th>\n",
       "      <th>2020-04-05</th>\n",
       "      <th>2020-04-06</th>\n",
       "      <th>2020-04-07</th>\n",
       "      <th>2020-04-08</th>\n",
       "      <th>...</th>\n",
       "      <th>2020-05-19</th>\n",
       "      <th>2020-05-20</th>\n",
       "      <th>2020-05-21</th>\n",
       "      <th>2020-05-22</th>\n",
       "      <th>2020-05-23</th>\n",
       "      <th>2020-05-24</th>\n",
       "      <th>2020-05-25</th>\n",
       "      <th>2020-05-26</th>\n",
       "      <th>2020-05-27</th>\n",
       "      <th>total</th>\n",
       "    </tr>\n",
       "  </thead>\n",
       "  <tbody>\n",
       "    <tr>\n",
       "      <th>Красноярский край VEBMED</th>\n",
       "      <td>0</td>\n",
       "      <td>2</td>\n",
       "      <td>4</td>\n",
       "      <td>3</td>\n",
       "      <td>5</td>\n",
       "      <td>5</td>\n",
       "      <td>3</td>\n",
       "      <td>4</td>\n",
       "      <td>9</td>\n",
       "      <td>7</td>\n",
       "      <td>...</td>\n",
       "      <td>52</td>\n",
       "      <td>50</td>\n",
       "      <td>51</td>\n",
       "      <td>30</td>\n",
       "      <td>22</td>\n",
       "      <td>53</td>\n",
       "      <td>55</td>\n",
       "      <td>61</td>\n",
       "      <td>63</td>\n",
       "      <td>1285</td>\n",
       "    </tr>\n",
       "  </tbody>\n",
       "</table>\n",
       "<p>1 rows × 60 columns</p>\n",
       "</div>"
      ],
      "text/plain": [
       "                          2020-03-30  2020-03-31  2020-04-01  2020-04-02  \\\n",
       "Красноярский край VEBMED           0           2           4           3   \n",
       "\n",
       "                          2020-04-03  2020-04-04  2020-04-05  2020-04-06  \\\n",
       "Красноярский край VEBMED           5           5           3           4   \n",
       "\n",
       "                          2020-04-07  2020-04-08  ...  2020-05-19  2020-05-20  \\\n",
       "Красноярский край VEBMED           9           7  ...          52          50   \n",
       "\n",
       "                          2020-05-21  2020-05-22  2020-05-23  2020-05-24  \\\n",
       "Красноярский край VEBMED          51          30          22          53   \n",
       "\n",
       "                          2020-05-25  2020-05-26  2020-05-27  total  \n",
       "Красноярский край VEBMED          55          61          63   1285  \n",
       "\n",
       "[1 rows x 60 columns]"
      ]
     },
     "execution_count": 72,
     "metadata": {},
     "output_type": "execute_result"
    }
   ],
   "source": [
    "report3[report3.index == 'Красноярский край VEBMED']"
   ]
  },
  {
   "cell_type": "code",
   "execution_count": null,
   "metadata": {},
   "outputs": [],
   "source": [
    "#report3.to_excel('app_regions_new-3.xls')"
   ]
  },
  {
   "cell_type": "code",
   "execution_count": null,
   "metadata": {},
   "outputs": [],
   "source": [
    "#import openpyxl"
   ]
  },
  {
   "cell_type": "code",
   "execution_count": 75,
   "metadata": {},
   "outputs": [
    {
     "data": {
      "text/plain": [
       "100"
      ]
     },
     "execution_count": 75,
     "metadata": {},
     "output_type": "execute_result"
    }
   ],
   "source": [
    "len(df[(df['region'] == 'Мурманская область') & (df['name'] == 'VEBMED')].person_id.unique())"
   ]
  },
  {
   "cell_type": "code",
   "execution_count": 77,
   "metadata": {},
   "outputs": [
    {
     "data": {
      "text/plain": [
       "374"
      ]
     },
     "execution_count": 77,
     "metadata": {},
     "output_type": "execute_result"
    }
   ],
   "source": [
    "len(df[(df['region'] == 'Красноярский край') & (df['name'] == 'VEBMED')].person_id.unique())"
   ]
  },
  {
   "cell_type": "code",
   "execution_count": null,
   "metadata": {},
   "outputs": [],
   "source": []
  },
  {
   "cell_type": "code",
   "execution_count": null,
   "metadata": {},
   "outputs": [],
   "source": []
  },
  {
   "cell_type": "code",
   "execution_count": null,
   "metadata": {},
   "outputs": [],
   "source": []
  },
  {
   "cell_type": "code",
   "execution_count": 41,
   "metadata": {},
   "outputs": [],
   "source": [
    "report_date: str = datetime.datetime.now().strftime(DATETIME_FORMAT).replace(':', '-')"
   ]
  },
  {
   "cell_type": "code",
   "execution_count": null,
   "metadata": {},
   "outputs": [],
   "source": []
  },
  {
   "cell_type": "code",
   "execution_count": 42,
   "metadata": {},
   "outputs": [],
   "source": [
    "#\n",
    "file_name = 'appointments_regions' + report_date + '.xlsx'"
   ]
  },
  {
   "cell_type": "code",
   "execution_count": 44,
   "metadata": {},
   "outputs": [],
   "source": [
    "def styled_report(data):\n",
    "    cm = sns.light_palette(\"green\", as_cmap=True)\n",
    "    return data.style.background_gradient(cmap=cm)"
   ]
  },
  {
   "cell_type": "code",
   "execution_count": 105,
   "metadata": {},
   "outputs": [],
   "source": [
    "styled_report2 = styled_report(report2)\n",
    "styled_report3 = styled_report(report3)"
   ]
  },
  {
   "cell_type": "code",
   "execution_count": null,
   "metadata": {},
   "outputs": [],
   "source": []
  },
  {
   "cell_type": "code",
   "execution_count": 65,
   "metadata": {},
   "outputs": [],
   "source": [
    "# styled_report2"
   ]
  },
  {
   "cell_type": "code",
   "execution_count": null,
   "metadata": {},
   "outputs": [],
   "source": []
  },
  {
   "cell_type": "code",
   "execution_count": 73,
   "metadata": {},
   "outputs": [],
   "source": [
    "cols = list(styled_report2.columns)"
   ]
  },
  {
   "cell_type": "code",
   "execution_count": 79,
   "metadata": {},
   "outputs": [
    {
     "data": {
      "text/plain": [
       "datetime.date(2020, 3, 30)"
      ]
     },
     "execution_count": 79,
     "metadata": {},
     "output_type": "execute_result"
    }
   ],
   "source": [
    "cols[0]"
   ]
  },
  {
   "cell_type": "code",
   "execution_count": 77,
   "metadata": {},
   "outputs": [
    {
     "data": {
      "text/plain": [
       "True"
      ]
     },
     "execution_count": 77,
     "metadata": {},
     "output_type": "execute_result"
    }
   ],
   "source": [
    "isinstance(cols[0], datetime.date)"
   ]
  },
  {
   "cell_type": "code",
   "execution_count": 92,
   "metadata": {},
   "outputs": [],
   "source": [
    "# type(styled_report2)"
   ]
  },
  {
   "cell_type": "code",
   "execution_count": 103,
   "metadata": {},
   "outputs": [],
   "source": [
    "def auto_columns_width(file_name, data, sheet_name, formatting=[]):\n",
    "    writer = pd.ExcelWriter(file_name, engine='xlsxwriter')\n",
    "    data.to_excel(writer, sheet_name=sheet_name)\n",
    "    worksheet = writer.sheets[sheet_name]\n",
    "    cols = list(data.columns)\n",
    "    #\n",
    "    for i in range(len(cols)):\n",
    "        if isinstance(cols[i], datetime.date):\n",
    "            cols[i] = cols[i].strftime('%Y-%m-%d')\n",
    "    # print(cols)\n",
    "    \n",
    "    for i, col in enumerate(cols):\n",
    "        print(i, col)\n",
    "        worksheet.set_column(first_col=i+1, last_col=i+1, width=(len(col) * 1,5))\n",
    "        \n",
    "    writer.save()"
   ]
  },
  {
   "cell_type": "code",
   "execution_count": 108,
   "metadata": {},
   "outputs": [],
   "source": [
    "# auto_columns_width('1123.xlsx', styled_report2, 'test')"
   ]
  },
  {
   "cell_type": "code",
   "execution_count": 97,
   "metadata": {},
   "outputs": [],
   "source": [
    "# writer.save()"
   ]
  },
  {
   "cell_type": "code",
   "execution_count": null,
   "metadata": {},
   "outputs": [],
   "source": []
  },
  {
   "cell_type": "code",
   "execution_count": null,
   "metadata": {},
   "outputs": [],
   "source": []
  },
  {
   "cell_type": "code",
   "execution_count": null,
   "metadata": {},
   "outputs": [],
   "source": []
  },
  {
   "cell_type": "code",
   "execution_count": null,
   "metadata": {},
   "outputs": [],
   "source": [
    "file_name = 'appointments_regions' + report_date + '.xlsx'\n",
    "writer = pd.ExcelWriter(file_name, engine='xlsxwriter')\n",
    "\n",
    "cm = sns.light_palette(\"green\", as_cmap=True)\n",
    "styled_report2 = report2.style.background_gradient(cmap=cm)\n",
    "styled_report2.to_excel(writer, sheet_name='Regions total')\n",
    "worksheet = writer.sheets['Regions total']\n",
    "worksheet.set_column('A:A', 50)\n",
    "worksheet.set_column(1, len(report2.columns), 10)\n",
    "\n",
    "# styled_report3 = report3.style.apply(lambda x: ['background:lightblue' if 'VEBMED' in x else 'background:lightgray' for x in report3.index], axis=0)\n",
    "styled_report3 = report3.style.background_gradient(cmap=cm)\n",
    "styled_report3.to_excel(writer, sheet_name='WEB partition')\n",
    "worksheet = writer.sheets['WEB partition']\n",
    "worksheet.set_column('A:A', 50)\n",
    "worksheet.set_column(1, len(report3.columns), 10)\n",
    "\n",
    "\n",
    "writer.save()"
   ]
  },
  {
   "cell_type": "code",
   "execution_count": null,
   "metadata": {},
   "outputs": [],
   "source": [
    "#report3.to_excel('test.xlsx', engine='xlsxwriter')"
   ]
  },
  {
   "cell_type": "code",
   "execution_count": null,
   "metadata": {},
   "outputs": [],
   "source": [
    "#writer2 = pd.ExcelWriter('test.xlsx', engine='xlsxwriter')\n",
    "#report3.style.apply(lambda x: ['background:lightblue' if 'VEBMED' in x else 'background:lightgray' for x in report3.index], axis=0)\\\n",
    "#                    .to_excel(writer2, sheet_name='1')\n",
    "#writer2.save()"
   ]
  },
  {
   "cell_type": "code",
   "execution_count": null,
   "metadata": {},
   "outputs": [],
   "source": [
    "#report3.style.apply(lambda x: ['background:lightblue' if 'VEBMED' in x else 'background:lightgray' for x in report3.index], axis=0)"
   ]
  },
  {
   "cell_type": "code",
   "execution_count": null,
   "metadata": {},
   "outputs": [],
   "source": [
    "#report3.index"
   ]
  },
  {
   "cell_type": "code",
   "execution_count": null,
   "metadata": {},
   "outputs": [],
   "source": []
  },
  {
   "cell_type": "code",
   "execution_count": null,
   "metadata": {},
   "outputs": [],
   "source": [
    "# report3_temp = pd.DataFrame(report3).copy()"
   ]
  },
  {
   "cell_type": "code",
   "execution_count": null,
   "metadata": {},
   "outputs": [],
   "source": [
    "#cm = sns.light_palette(\"green\", as_cmap=True)\n",
    "\n",
    "#s = report3_temp.style.background_gradient(cmap=cm)"
   ]
  },
  {
   "cell_type": "code",
   "execution_count": null,
   "metadata": {},
   "outputs": [],
   "source": [
    "# s"
   ]
  },
  {
   "cell_type": "code",
   "execution_count": null,
   "metadata": {},
   "outputs": [],
   "source": [
    "#writer = pd.ExcelWriter('test.xlsx', engine='xlsxwriter')"
   ]
  },
  {
   "cell_type": "code",
   "execution_count": null,
   "metadata": {},
   "outputs": [],
   "source": [
    "#s.to_excel(writer, sheet_name='Sheet1')"
   ]
  },
  {
   "cell_type": "code",
   "execution_count": null,
   "metadata": {},
   "outputs": [],
   "source": [
    "#worksheet = writer.sheets['Sheet1']"
   ]
  },
  {
   "cell_type": "code",
   "execution_count": null,
   "metadata": {},
   "outputs": [],
   "source": [
    "#workbook  = writer.book"
   ]
  },
  {
   "cell_type": "code",
   "execution_count": null,
   "metadata": {},
   "outputs": [],
   "source": [
    "#format1 = workbook.add_format()\n",
    "#format1.set_bold()\n",
    "#format1.set_underline()"
   ]
  },
  {
   "cell_type": "code",
   "execution_count": null,
   "metadata": {},
   "outputs": [],
   "source": [
    "#worksheet.set_column('A:A', 50)\n",
    "#worksheet.set_column(1, len(report3.columns), 10)"
   ]
  },
  {
   "cell_type": "code",
   "execution_count": null,
   "metadata": {},
   "outputs": [],
   "source": []
  },
  {
   "cell_type": "code",
   "execution_count": null,
   "metadata": {},
   "outputs": [],
   "source": [
    "#writer.save()"
   ]
  },
  {
   "cell_type": "code",
   "execution_count": null,
   "metadata": {},
   "outputs": [],
   "source": [
    "#report3.style.apply(lambda x: ['background:lightblue' if 'VEBMED' in x else 'background:lightgray' for x in report3.index], axis=0)"
   ]
  },
  {
   "cell_type": "code",
   "execution_count": null,
   "metadata": {},
   "outputs": [],
   "source": [
    "#rport3"
   ]
  },
  {
   "cell_type": "code",
   "execution_count": null,
   "metadata": {},
   "outputs": [],
   "source": []
  },
  {
   "cell_type": "code",
   "execution_count": null,
   "metadata": {},
   "outputs": [],
   "source": []
  },
  {
   "cell_type": "code",
   "execution_count": null,
   "metadata": {},
   "outputs": [],
   "source": [
    "#reg_dict = pd.DataFrame.from_dict(regions_dict, orient='index')"
   ]
  },
  {
   "cell_type": "code",
   "execution_count": null,
   "metadata": {},
   "outputs": [],
   "source": [
    "#reg_dict.to_csv('reg_dict.csv')"
   ]
  },
  {
   "cell_type": "code",
   "execution_count": null,
   "metadata": {},
   "outputs": [],
   "source": [
    "#a = pd.read_csv('reg_dict.csv')"
   ]
  },
  {
   "cell_type": "code",
   "execution_count": null,
   "metadata": {},
   "outputs": [],
   "source": [
    "#a.columns = ['key', 'value']"
   ]
  },
  {
   "cell_type": "code",
   "execution_count": null,
   "metadata": {},
   "outputs": [],
   "source": [
    "#a.head()"
   ]
  },
  {
   "cell_type": "code",
   "execution_count": null,
   "metadata": {},
   "outputs": [],
   "source": [
    "#regions_dict = pd.Series(a.value.values,index=a.key).to_dict()"
   ]
  },
  {
   "cell_type": "code",
   "execution_count": null,
   "metadata": {},
   "outputs": [],
   "source": [
    "#regions_dict"
   ]
  },
  {
   "cell_type": "code",
   "execution_count": null,
   "metadata": {},
   "outputs": [],
   "source": []
  },
  {
   "cell_type": "code",
   "execution_count": 119,
   "metadata": {},
   "outputs": [],
   "source": [
    "global writer\n",
    "writer = None"
   ]
  },
  {
   "cell_type": "code",
   "execution_count": 124,
   "metadata": {},
   "outputs": [],
   "source": [
    "def corr_width(x: int):\n",
    "    if x <= 7:\n",
    "        return 7\n",
    "    elif x >=50:\n",
    "        return 50\n",
    "    return x\n",
    "\n",
    "def auto_columns_width(file_name, data, sheet_name, formatting=[]):\n",
    "    \n",
    "    # writer\n",
    "    global writer\n",
    "    if not writer:\n",
    "        writer = pd.ExcelWriter(file_name, engine='xlsxwriter')\n",
    "    \n",
    "    # drop pandas RangeIndex\n",
    "    if isinstance(data.index, pd.core.indexes.range.RangeIndex):\n",
    "        data.to_excel(writer, sheet_name=sheet_name, index=False)\n",
    "    else:\n",
    "        data.to_excel(writer, sheet_name=sheet_name)\n",
    "    \n",
    "    # select current worksheet\n",
    "    worksheet = writer.sheets[sheet_name]\n",
    "    \n",
    "    # read columns\n",
    "    cols = list(data.columns)\n",
    "    cols_iter = list(data.columns)\n",
    "    \n",
    "    # datacolumns to str\n",
    "    for i in range(len(cols)):\n",
    "        if isinstance(cols[i], datetime.date):\n",
    "            cols[i] = cols[i].strftime('%Y-%m-%d')\n",
    "    \n",
    "    # if index exists = set k=1\n",
    "    k = 0\n",
    "    if data.index.dtype == object:\n",
    "        k = 1\n",
    "    \n",
    "    # setting index length\n",
    "    worksheet.set_column(0, 0, max(data.index.astype(str).map(len)) * 1.5)\n",
    "    \n",
    "    # setting columns length\n",
    "    for i, col in enumerate(cols, k):\n",
    "        \n",
    "        if data[cols_iter[i-k]].dtype == int:\n",
    "            col_len = corr_width(len(col)) * 1.5\n",
    "        else:\n",
    "            col_len = max(corr_width(max(data[cols_iter[i-k]].fillna(0).astype(str).map(len))), len(col))\n",
    "            col_len *= 1.5\n",
    "        \n",
    "        print(i, col, col_len)\n",
    "        worksheet.set_column(i, i, col_len)\n",
    "        "
   ]
  },
  {
   "cell_type": "code",
   "execution_count": 125,
   "metadata": {},
   "outputs": [
    {
     "ename": "TypeError",
     "evalue": "'Styler' object is not subscriptable",
     "output_type": "error",
     "traceback": [
      "\u001b[0;31m---------------------------------------------------------------------------\u001b[0m",
      "\u001b[0;31mTypeError\u001b[0m                                 Traceback (most recent call last)",
      "\u001b[0;32m<ipython-input-125-23538c6a5eee>\u001b[0m in \u001b[0;36m<module>\u001b[0;34m\u001b[0m\n\u001b[0;32m----> 1\u001b[0;31m \u001b[0mauto_columns_width\u001b[0m\u001b[0;34m(\u001b[0m\u001b[0;34m'1234.xlsx'\u001b[0m\u001b[0;34m,\u001b[0m \u001b[0mstyled_report2\u001b[0m\u001b[0;34m,\u001b[0m \u001b[0;34m'rep2'\u001b[0m\u001b[0;34m)\u001b[0m\u001b[0;34m\u001b[0m\u001b[0;34m\u001b[0m\u001b[0m\n\u001b[0m\u001b[1;32m      2\u001b[0m \u001b[0mauto_columns_width\u001b[0m\u001b[0;34m(\u001b[0m\u001b[0;34m'1234.xlsx'\u001b[0m\u001b[0;34m,\u001b[0m \u001b[0mstyled_report3\u001b[0m\u001b[0;34m,\u001b[0m \u001b[0;34m'rep3'\u001b[0m\u001b[0;34m)\u001b[0m\u001b[0;34m\u001b[0m\u001b[0;34m\u001b[0m\u001b[0m\n\u001b[1;32m      3\u001b[0m \u001b[0;34m\u001b[0m\u001b[0m\n\u001b[1;32m      4\u001b[0m \u001b[0mwriter\u001b[0m\u001b[0;34m.\u001b[0m\u001b[0msave\u001b[0m\u001b[0;34m(\u001b[0m\u001b[0;34m)\u001b[0m\u001b[0;34m\u001b[0m\u001b[0;34m\u001b[0m\u001b[0m\n",
      "\u001b[0;32m<ipython-input-124-974f3f73eaff>\u001b[0m in \u001b[0;36mauto_columns_width\u001b[0;34m(file_name, data, sheet_name, formatting)\u001b[0m\n\u001b[1;32m     42\u001b[0m     \u001b[0;32mfor\u001b[0m \u001b[0mi\u001b[0m\u001b[0;34m,\u001b[0m \u001b[0mcol\u001b[0m \u001b[0;32min\u001b[0m \u001b[0menumerate\u001b[0m\u001b[0;34m(\u001b[0m\u001b[0mcols\u001b[0m\u001b[0;34m,\u001b[0m \u001b[0mk\u001b[0m\u001b[0;34m)\u001b[0m\u001b[0;34m:\u001b[0m\u001b[0;34m\u001b[0m\u001b[0;34m\u001b[0m\u001b[0m\n\u001b[1;32m     43\u001b[0m \u001b[0;34m\u001b[0m\u001b[0m\n\u001b[0;32m---> 44\u001b[0;31m         \u001b[0;32mif\u001b[0m \u001b[0mdata\u001b[0m\u001b[0;34m[\u001b[0m\u001b[0mcols_iter\u001b[0m\u001b[0;34m[\u001b[0m\u001b[0mi\u001b[0m\u001b[0;34m-\u001b[0m\u001b[0mk\u001b[0m\u001b[0;34m]\u001b[0m\u001b[0;34m]\u001b[0m\u001b[0;34m.\u001b[0m\u001b[0mdtype\u001b[0m \u001b[0;34m==\u001b[0m \u001b[0mint\u001b[0m\u001b[0;34m:\u001b[0m\u001b[0;34m\u001b[0m\u001b[0;34m\u001b[0m\u001b[0m\n\u001b[0m\u001b[1;32m     45\u001b[0m             \u001b[0mcol_len\u001b[0m \u001b[0;34m=\u001b[0m \u001b[0mcorr_width\u001b[0m\u001b[0;34m(\u001b[0m\u001b[0mlen\u001b[0m\u001b[0;34m(\u001b[0m\u001b[0mcol\u001b[0m\u001b[0;34m)\u001b[0m\u001b[0;34m)\u001b[0m \u001b[0;34m*\u001b[0m \u001b[0;36m1.5\u001b[0m\u001b[0;34m\u001b[0m\u001b[0;34m\u001b[0m\u001b[0m\n\u001b[1;32m     46\u001b[0m         \u001b[0;32melse\u001b[0m\u001b[0;34m:\u001b[0m\u001b[0;34m\u001b[0m\u001b[0;34m\u001b[0m\u001b[0m\n",
      "\u001b[0;31mTypeError\u001b[0m: 'Styler' object is not subscriptable"
     ]
    }
   ],
   "source": [
    "auto_columns_width('1234.xlsx', styled_report2, 'rep2')\n",
    "auto_columns_width('1234.xlsx', styled_report3, 'rep3')\n",
    "\n",
    "writer.save()"
   ]
  },
  {
   "cell_type": "code",
   "execution_count": 123,
   "metadata": {},
   "outputs": [
    {
     "data": {
      "text/plain": [
       "datetime.date(2020, 3, 30)"
      ]
     },
     "execution_count": 123,
     "metadata": {},
     "output_type": "execute_result"
    }
   ],
   "source": [
    "styled_report2.columns[0]"
   ]
  },
  {
   "cell_type": "code",
   "execution_count": 114,
   "metadata": {},
   "outputs": [
    {
     "data": {
      "text/plain": [
       "Index([2020-03-30, 2020-03-31, 2020-04-01, 2020-04-02, 2020-04-03, 2020-04-04,\n",
       "       2020-04-05, 2020-04-06, 2020-04-07, 2020-04-08, 2020-04-09, 2020-04-10,\n",
       "       2020-04-11, 2020-04-12, 2020-04-13, 2020-04-14, 2020-04-15, 2020-04-16,\n",
       "       2020-04-17, 2020-04-18, 2020-04-19, 2020-04-20, 2020-04-21, 2020-04-22,\n",
       "       2020-04-23, 2020-04-24, 2020-04-25, 2020-04-26, 2020-04-27, 2020-04-28,\n",
       "       2020-04-29, 2020-04-30, 2020-05-01, 2020-05-02, 2020-05-03, 2020-05-04,\n",
       "       2020-05-05, 2020-05-06, 2020-05-07, 2020-05-08, 2020-05-09, 2020-05-10,\n",
       "       2020-05-11, 2020-05-12, 2020-05-13, 2020-05-14, 2020-05-15, 2020-05-16,\n",
       "       2020-05-17,    'total'],\n",
       "      dtype='object')"
      ]
     },
     "execution_count": 114,
     "metadata": {},
     "output_type": "execute_result"
    }
   ],
   "source": [
    "styled_report3.columns"
   ]
  },
  {
   "cell_type": "code",
   "execution_count": null,
   "metadata": {},
   "outputs": [],
   "source": []
  }
 ],
 "metadata": {
  "kernelspec": {
   "display_name": "Python 3",
   "language": "python",
   "name": "python3"
  },
  "language_info": {
   "codemirror_mode": {
    "name": "ipython",
    "version": 3
   },
   "file_extension": ".py",
   "mimetype": "text/x-python",
   "name": "python",
   "nbconvert_exporter": "python",
   "pygments_lexer": "ipython3",
   "version": "3.7.6"
  }
 },
 "nbformat": 4,
 "nbformat_minor": 4
}
