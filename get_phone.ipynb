{
 "cells": [
  {
   "cell_type": "code",
   "execution_count": 236,
   "metadata": {},
   "outputs": [],
   "source": [
    "import pandas as pd\n",
    "import re"
   ]
  },
  {
   "cell_type": "code",
   "execution_count": 3,
   "metadata": {},
   "outputs": [],
   "source": [
    "phone_base = pd.read_excel('phone_base.xlsm')"
   ]
  },
  {
   "cell_type": "code",
   "execution_count": 5,
   "metadata": {},
   "outputs": [
    {
     "data": {
      "text/html": [
       "<div>\n",
       "<style scoped>\n",
       "    .dataframe tbody tr th:only-of-type {\n",
       "        vertical-align: middle;\n",
       "    }\n",
       "\n",
       "    .dataframe tbody tr th {\n",
       "        vertical-align: top;\n",
       "    }\n",
       "\n",
       "    .dataframe thead th {\n",
       "        text-align: right;\n",
       "    }\n",
       "</style>\n",
       "<table border=\"1\" class=\"dataframe\">\n",
       "  <thead>\n",
       "    <tr style=\"text-align: right;\">\n",
       "      <th></th>\n",
       "      <th>РЕГИОН</th>\n",
       "      <th>КОД</th>\n",
       "      <th>НУМЕРАЦИЯ</th>\n",
       "      <th>Начало</th>\n",
       "      <th>Конец</th>\n",
       "      <th>Нач_1</th>\n",
       "      <th>Кон_1</th>\n",
       "      <th>РЕГИОН.1</th>\n",
       "    </tr>\n",
       "  </thead>\n",
       "  <tbody>\n",
       "    <tr>\n",
       "      <th>0</th>\n",
       "      <td>Ростовская область</td>\n",
       "      <td>901</td>\n",
       "      <td>0000000 по 0009999</td>\n",
       "      <td>0</td>\n",
       "      <td>9999</td>\n",
       "      <td>9010000000</td>\n",
       "      <td>9010009999</td>\n",
       "      <td>Ростовская область</td>\n",
       "    </tr>\n",
       "    <tr>\n",
       "      <th>1</th>\n",
       "      <td>Краснодарский край</td>\n",
       "      <td>901</td>\n",
       "      <td>1000000 по 1009999</td>\n",
       "      <td>1000000</td>\n",
       "      <td>1009999</td>\n",
       "      <td>9011000000</td>\n",
       "      <td>9011009999</td>\n",
       "      <td>Краснодарский край</td>\n",
       "    </tr>\n",
       "    <tr>\n",
       "      <th>2</th>\n",
       "      <td>Краснодарский край</td>\n",
       "      <td>901</td>\n",
       "      <td>1010000 по 1019999</td>\n",
       "      <td>1010000</td>\n",
       "      <td>1019999</td>\n",
       "      <td>9011010000</td>\n",
       "      <td>9011019999</td>\n",
       "      <td>Краснодарский край</td>\n",
       "    </tr>\n",
       "    <tr>\n",
       "      <th>3</th>\n",
       "      <td>Кабардино-Балкарская Республика</td>\n",
       "      <td>901</td>\n",
       "      <td>1040000 по 1049999</td>\n",
       "      <td>1040000</td>\n",
       "      <td>1049999</td>\n",
       "      <td>9011040000</td>\n",
       "      <td>9011049999</td>\n",
       "      <td>Кабардино-Балкарская Республика</td>\n",
       "    </tr>\n",
       "    <tr>\n",
       "      <th>4</th>\n",
       "      <td>Карачаево-Черкесская Республика</td>\n",
       "      <td>901</td>\n",
       "      <td>1050000 по 1059999</td>\n",
       "      <td>1050000</td>\n",
       "      <td>1059999</td>\n",
       "      <td>9011050000</td>\n",
       "      <td>9011059999</td>\n",
       "      <td>Карачаево-Черкесская Республика</td>\n",
       "    </tr>\n",
       "  </tbody>\n",
       "</table>\n",
       "</div>"
      ],
      "text/plain": [
       "                            РЕГИОН  КОД           НУМЕРАЦИЯ   Начало    Конец  \\\n",
       "0               Ростовская область  901  0000000 по 0009999        0     9999   \n",
       "1               Краснодарский край  901  1000000 по 1009999  1000000  1009999   \n",
       "2               Краснодарский край  901  1010000 по 1019999  1010000  1019999   \n",
       "3  Кабардино-Балкарская Республика  901  1040000 по 1049999  1040000  1049999   \n",
       "4  Карачаево-Черкесская Республика  901  1050000 по 1059999  1050000  1059999   \n",
       "\n",
       "        Нач_1       Кон_1                         РЕГИОН.1  \n",
       "0  9010000000  9010009999               Ростовская область  \n",
       "1  9011000000  9011009999               Краснодарский край  \n",
       "2  9011010000  9011019999               Краснодарский край  \n",
       "3  9011040000  9011049999  Кабардино-Балкарская Республика  \n",
       "4  9011050000  9011059999  Карачаево-Черкесская Республика  "
      ]
     },
     "execution_count": 5,
     "metadata": {},
     "output_type": "execute_result"
    }
   ],
   "source": [
    "phone_base.head()"
   ]
  },
  {
   "cell_type": "code",
   "execution_count": 6,
   "metadata": {},
   "outputs": [],
   "source": [
    "column_names = ['Region', 'Code', 'useless', 'start', 'end', 'fullstart', 'fullend', 'Region-2']"
   ]
  },
  {
   "cell_type": "code",
   "execution_count": 7,
   "metadata": {},
   "outputs": [],
   "source": [
    "phone_base.columns = column_names"
   ]
  },
  {
   "cell_type": "code",
   "execution_count": 8,
   "metadata": {},
   "outputs": [
    {
     "data": {
      "text/html": [
       "<div>\n",
       "<style scoped>\n",
       "    .dataframe tbody tr th:only-of-type {\n",
       "        vertical-align: middle;\n",
       "    }\n",
       "\n",
       "    .dataframe tbody tr th {\n",
       "        vertical-align: top;\n",
       "    }\n",
       "\n",
       "    .dataframe thead th {\n",
       "        text-align: right;\n",
       "    }\n",
       "</style>\n",
       "<table border=\"1\" class=\"dataframe\">\n",
       "  <thead>\n",
       "    <tr style=\"text-align: right;\">\n",
       "      <th></th>\n",
       "      <th>Region</th>\n",
       "      <th>Code</th>\n",
       "      <th>useless</th>\n",
       "      <th>start</th>\n",
       "      <th>end</th>\n",
       "      <th>fullstart</th>\n",
       "      <th>fullend</th>\n",
       "      <th>Region-2</th>\n",
       "    </tr>\n",
       "  </thead>\n",
       "  <tbody>\n",
       "    <tr>\n",
       "      <th>0</th>\n",
       "      <td>Ростовская область</td>\n",
       "      <td>901</td>\n",
       "      <td>0000000 по 0009999</td>\n",
       "      <td>0</td>\n",
       "      <td>9999</td>\n",
       "      <td>9010000000</td>\n",
       "      <td>9010009999</td>\n",
       "      <td>Ростовская область</td>\n",
       "    </tr>\n",
       "    <tr>\n",
       "      <th>1</th>\n",
       "      <td>Краснодарский край</td>\n",
       "      <td>901</td>\n",
       "      <td>1000000 по 1009999</td>\n",
       "      <td>1000000</td>\n",
       "      <td>1009999</td>\n",
       "      <td>9011000000</td>\n",
       "      <td>9011009999</td>\n",
       "      <td>Краснодарский край</td>\n",
       "    </tr>\n",
       "    <tr>\n",
       "      <th>2</th>\n",
       "      <td>Краснодарский край</td>\n",
       "      <td>901</td>\n",
       "      <td>1010000 по 1019999</td>\n",
       "      <td>1010000</td>\n",
       "      <td>1019999</td>\n",
       "      <td>9011010000</td>\n",
       "      <td>9011019999</td>\n",
       "      <td>Краснодарский край</td>\n",
       "    </tr>\n",
       "    <tr>\n",
       "      <th>3</th>\n",
       "      <td>Кабардино-Балкарская Республика</td>\n",
       "      <td>901</td>\n",
       "      <td>1040000 по 1049999</td>\n",
       "      <td>1040000</td>\n",
       "      <td>1049999</td>\n",
       "      <td>9011040000</td>\n",
       "      <td>9011049999</td>\n",
       "      <td>Кабардино-Балкарская Республика</td>\n",
       "    </tr>\n",
       "    <tr>\n",
       "      <th>4</th>\n",
       "      <td>Карачаево-Черкесская Республика</td>\n",
       "      <td>901</td>\n",
       "      <td>1050000 по 1059999</td>\n",
       "      <td>1050000</td>\n",
       "      <td>1059999</td>\n",
       "      <td>9011050000</td>\n",
       "      <td>9011059999</td>\n",
       "      <td>Карачаево-Черкесская Республика</td>\n",
       "    </tr>\n",
       "  </tbody>\n",
       "</table>\n",
       "</div>"
      ],
      "text/plain": [
       "                            Region  Code             useless    start  \\\n",
       "0               Ростовская область   901  0000000 по 0009999        0   \n",
       "1               Краснодарский край   901  1000000 по 1009999  1000000   \n",
       "2               Краснодарский край   901  1010000 по 1019999  1010000   \n",
       "3  Кабардино-Балкарская Республика   901  1040000 по 1049999  1040000   \n",
       "4  Карачаево-Черкесская Республика   901  1050000 по 1059999  1050000   \n",
       "\n",
       "       end   fullstart     fullend                         Region-2  \n",
       "0     9999  9010000000  9010009999               Ростовская область  \n",
       "1  1009999  9011000000  9011009999               Краснодарский край  \n",
       "2  1019999  9011010000  9011019999               Краснодарский край  \n",
       "3  1049999  9011040000  9011049999  Кабардино-Балкарская Республика  \n",
       "4  1059999  9011050000  9011059999  Карачаево-Черкесская Республика  "
      ]
     },
     "execution_count": 8,
     "metadata": {},
     "output_type": "execute_result"
    }
   ],
   "source": [
    "phone_base.head()"
   ]
  },
  {
   "cell_type": "code",
   "execution_count": 51,
   "metadata": {},
   "outputs": [
    {
     "name": "stdout",
     "output_type": "stream",
     "text": [
      "<class 'pandas.core.frame.DataFrame'>\n",
      "RangeIndex: 2558 entries, 0 to 2557\n",
      "Data columns (total 8 columns):\n",
      " #   Column     Non-Null Count  Dtype \n",
      "---  ------     --------------  ----- \n",
      " 0   Region     2558 non-null   object\n",
      " 1   Code       2558 non-null   int64 \n",
      " 2   useless    2558 non-null   object\n",
      " 3   start      2558 non-null   int64 \n",
      " 4   end        2558 non-null   int64 \n",
      " 5   fullstart  2558 non-null   int64 \n",
      " 6   fullend    2558 non-null   int64 \n",
      " 7   Region-2   2558 non-null   object\n",
      "dtypes: int64(5), object(3)\n",
      "memory usage: 160.0+ KB\n"
     ]
    }
   ],
   "source": [
    "phone_base.info()"
   ]
  },
  {
   "cell_type": "code",
   "execution_count": 54,
   "metadata": {},
   "outputs": [
    {
     "data": {
      "text/plain": [
       "'Кабардино-Балкарская Республика'"
      ]
     },
     "execution_count": 54,
     "metadata": {},
     "output_type": "execute_result"
    }
   ],
   "source": [
    "phone_base.loc[3]['Region']"
   ]
  },
  {
   "cell_type": "code",
   "execution_count": null,
   "metadata": {},
   "outputs": [],
   "source": []
  },
  {
   "cell_type": "markdown",
   "metadata": {},
   "source": [
    "### 1-й вариант"
   ]
  },
  {
   "cell_type": "code",
   "execution_count": 230,
   "metadata": {},
   "outputs": [],
   "source": [
    "def get_region_by_phone(phone, phone_base):\n",
    "    if type(phone) != str:\n",
    "        phone = str(phone)\n",
    "    phone = phone.replace('-', '').replace('(', '').replace(')', '').replace(' ', '')\n",
    "    if phone[0] == '+':\n",
    "        phone = phone[1:]\n",
    "    if phone[0] == '8' or phone[0] == '7':\n",
    "        phone = phone[1:]\n",
    "    if len(phone) != 10:\n",
    "        return 'Incorrect phone'\n",
    "    return phone_base.loc[(phone_base['Code'] == int(phone[0:3])) & \n",
    "                          (phone_base['start'] <= int(phone[3:])) &\n",
    "                          (phone_base['end'] >= int(phone[3:]))\n",
    "                         ]['Region'].to_string(index=False).strip()"
   ]
  },
  {
   "cell_type": "markdown",
   "metadata": {},
   "source": [
    "### 2-й вариант (re.sub)"
   ]
  },
  {
   "cell_type": "code",
   "execution_count": 243,
   "metadata": {},
   "outputs": [],
   "source": [
    "def get_region_by_phone(phone, phone_base):\n",
    "    if type(phone) != str:\n",
    "        phone = str(phone)\n",
    "    phone = re.sub('\\D', '', phone)    \n",
    "    if phone[0] == '8' or phone[0] == '7':\n",
    "        phone = phone[1:]\n",
    "    if len(phone) != 10:\n",
    "        return 'Incorrect phone'\n",
    "    return phone_base.loc[(phone_base['Code'] == int(phone[0:3])) & \n",
    "                          (phone_base['start'] <= int(phone[3:])) &\n",
    "                          (phone_base['end'] >= int(phone[3:]))\n",
    "                         ]['Region'].to_string(index=False).strip()"
   ]
  },
  {
   "cell_type": "markdown",
   "metadata": {},
   "source": [
    "### 3-й вариант (через генератор)"
   ]
  },
  {
   "cell_type": "code",
   "execution_count": 253,
   "metadata": {},
   "outputs": [],
   "source": [
    "def get_region_by_phone(phone, phone_base):\n",
    "    if type(phone) != str:\n",
    "        phone = str(phone)\n",
    "    phone = ''.join(i for i in phone if i.isdigit())    \n",
    "    if phone[0] == '8' or phone[0] == '7':\n",
    "        phone = phone[1:]\n",
    "    if len(phone) != 10:\n",
    "        return 'Incorrect phone'\n",
    "    return phone_base.loc[(phone_base['Code'] == int(phone[0:3])) & \n",
    "                          (phone_base['start'] <= int(phone[3:])) &\n",
    "                          (phone_base['end'] >= int(phone[3:]))\n",
    "                         ]['Region'].to_string(index=False).strip()"
   ]
  },
  {
   "cell_type": "code",
   "execution_count": null,
   "metadata": {},
   "outputs": [],
   "source": []
  },
  {
   "cell_type": "code",
   "execution_count": 254,
   "metadata": {},
   "outputs": [],
   "source": [
    "a = 9011009999\n",
    "b = '+79260001133'\n",
    "c = '8 9011040000'\n",
    "d = '7(928)997-00-00'"
   ]
  },
  {
   "cell_type": "code",
   "execution_count": 255,
   "metadata": {},
   "outputs": [
    {
     "data": {
      "text/plain": [
       "'Краснодарский край'"
      ]
     },
     "execution_count": 255,
     "metadata": {},
     "output_type": "execute_result"
    }
   ],
   "source": [
    "get_region_by_phone(a, phone_base)"
   ]
  },
  {
   "cell_type": "code",
   "execution_count": 256,
   "metadata": {},
   "outputs": [
    {
     "data": {
      "text/plain": [
       "'Московская область'"
      ]
     },
     "execution_count": 256,
     "metadata": {},
     "output_type": "execute_result"
    }
   ],
   "source": [
    "get_region_by_phone(b, phone_base)"
   ]
  },
  {
   "cell_type": "code",
   "execution_count": 257,
   "metadata": {},
   "outputs": [
    {
     "data": {
      "text/plain": [
       "'Кабардино-Балкарская Республика'"
      ]
     },
     "execution_count": 257,
     "metadata": {},
     "output_type": "execute_result"
    }
   ],
   "source": [
    "get_region_by_phone(c, phone_base)"
   ]
  },
  {
   "cell_type": "code",
   "execution_count": 258,
   "metadata": {},
   "outputs": [
    {
     "data": {
      "text/plain": [
       "'Ставропольский край'"
      ]
     },
     "execution_count": 258,
     "metadata": {},
     "output_type": "execute_result"
    }
   ],
   "source": [
    "get_region_by_phone(d, phone_base)"
   ]
  },
  {
   "cell_type": "code",
   "execution_count": null,
   "metadata": {},
   "outputs": [],
   "source": []
  },
  {
   "cell_type": "code",
   "execution_count": null,
   "metadata": {},
   "outputs": [],
   "source": []
  },
  {
   "cell_type": "code",
   "execution_count": null,
   "metadata": {},
   "outputs": [],
   "source": []
  },
  {
   "cell_type": "code",
   "execution_count": null,
   "metadata": {},
   "outputs": [],
   "source": []
  },
  {
   "cell_type": "code",
   "execution_count": null,
   "metadata": {},
   "outputs": [],
   "source": []
  }
 ],
 "metadata": {
  "kernelspec": {
   "display_name": "Python 3",
   "language": "python",
   "name": "python3"
  },
  "language_info": {
   "codemirror_mode": {
    "name": "ipython",
    "version": 3
   },
   "file_extension": ".py",
   "mimetype": "text/x-python",
   "name": "python",
   "nbconvert_exporter": "python",
   "pygments_lexer": "ipython3",
   "version": "3.7.6"
  }
 },
 "nbformat": 4,
 "nbformat_minor": 4
}
