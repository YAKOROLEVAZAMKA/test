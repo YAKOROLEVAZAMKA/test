{
 "cells": [
  {
   "cell_type": "code",
   "execution_count": 4,
   "metadata": {},
   "outputs": [],
   "source": [
    "import configparser\n",
    "import unittest\n",
    "import datetime\n",
    "import sys\n",
    "import pandas as pd\n",
    "\n",
    "\n",
    "# from tqdm import tqdm_notebook\n",
    "\n",
    "sys.path.append(\"/home/sergey/drclinics/common\")\n",
    "from universal_connection import UniversalConnection, DBType\n",
    "\n",
    "sys.path.append(\"/home/sergey/drclinics/reports\")\n",
    "# from report_utils import excel_report\n",
    "\n",
    "from connect_platform import connect_telemed\n",
    "\n",
    "import numpy as np\n",
    "from log import log"
   ]
  },
  {
   "cell_type": "code",
   "execution_count": 350,
   "metadata": {},
   "outputs": [],
   "source": [
    "import matplotlib.pyplot as plt\n",
    "import numpy as np"
   ]
  },
  {
   "cell_type": "code",
   "execution_count": 2,
   "metadata": {},
   "outputs": [],
   "source": [
    "participants = pd.read_excel('ВЭБМЕД участники опроса.xlsx')"
   ]
  },
  {
   "cell_type": "code",
   "execution_count": 62,
   "metadata": {},
   "outputs": [
    {
     "data": {
      "text/html": [
       "<div>\n",
       "<style scoped>\n",
       "    .dataframe tbody tr th:only-of-type {\n",
       "        vertical-align: middle;\n",
       "    }\n",
       "\n",
       "    .dataframe tbody tr th {\n",
       "        vertical-align: top;\n",
       "    }\n",
       "\n",
       "    .dataframe thead th {\n",
       "        text-align: right;\n",
       "    }\n",
       "</style>\n",
       "<table border=\"1\" class=\"dataframe\">\n",
       "  <thead>\n",
       "    <tr style=\"text-align: right;\">\n",
       "      <th></th>\n",
       "      <th>phone</th>\n",
       "    </tr>\n",
       "  </thead>\n",
       "  <tbody>\n",
       "    <tr>\n",
       "      <th>0</th>\n",
       "      <td>79774978848</td>\n",
       "    </tr>\n",
       "    <tr>\n",
       "      <th>1</th>\n",
       "      <td>79209781044</td>\n",
       "    </tr>\n",
       "    <tr>\n",
       "      <th>2</th>\n",
       "      <td>79999080837</td>\n",
       "    </tr>\n",
       "    <tr>\n",
       "      <th>3</th>\n",
       "      <td>79095863136</td>\n",
       "    </tr>\n",
       "    <tr>\n",
       "      <th>4</th>\n",
       "      <td>79163485944</td>\n",
       "    </tr>\n",
       "  </tbody>\n",
       "</table>\n",
       "</div>"
      ],
      "text/plain": [
       "         phone\n",
       "0  79774978848\n",
       "1  79209781044\n",
       "2  79999080837\n",
       "3  79095863136\n",
       "4  79163485944"
      ]
     },
     "execution_count": 62,
     "metadata": {},
     "output_type": "execute_result"
    }
   ],
   "source": [
    "participants.head()"
   ]
  },
  {
   "cell_type": "code",
   "execution_count": 179,
   "metadata": {},
   "outputs": [],
   "source": [
    "temp = []\n",
    "for i in range(participants.shape[0]):\n",
    "    temp.append(str(participants['phone'][i]))"
   ]
  },
  {
   "cell_type": "code",
   "execution_count": 180,
   "metadata": {},
   "outputs": [],
   "source": [
    "# temp = []\n",
    "# for i in range(5):\n",
    "#     temp.append(str(participants['phone'][i]))"
   ]
  },
  {
   "cell_type": "code",
   "execution_count": 165,
   "metadata": {},
   "outputs": [
    {
     "data": {
      "text/plain": [
       "['79774978848', '79209781044', '79999080837', '79095863136', '79163485944']"
      ]
     },
     "execution_count": 165,
     "metadata": {},
     "output_type": "execute_result"
    }
   ],
   "source": [
    "# temp"
   ]
  },
  {
   "cell_type": "code",
   "execution_count": 181,
   "metadata": {},
   "outputs": [],
   "source": [
    "ph = \"'\" + \"', '\".join(temp) + \"'\""
   ]
  },
  {
   "cell_type": "code",
   "execution_count": 182,
   "metadata": {},
   "outputs": [],
   "source": [
    "# ph"
   ]
  },
  {
   "cell_type": "code",
   "execution_count": 183,
   "metadata": {},
   "outputs": [],
   "source": [
    "# params = {'phones': \", \".join(temp)}"
   ]
  },
  {
   "cell_type": "code",
   "execution_count": 184,
   "metadata": {},
   "outputs": [],
   "source": [
    "# params = {'phones': '79774978848, 79209781044'}"
   ]
  },
  {
   "cell_type": "code",
   "execution_count": 185,
   "metadata": {},
   "outputs": [],
   "source": [
    "# params = {'phones': '79774978848'}"
   ]
  },
  {
   "cell_type": "code",
   "execution_count": 186,
   "metadata": {},
   "outputs": [],
   "source": [
    "# ph = \"'79774978848', '79209781044'\""
   ]
  },
  {
   "cell_type": "code",
   "execution_count": 187,
   "metadata": {},
   "outputs": [],
   "source": [
    "# params"
   ]
  },
  {
   "cell_type": "code",
   "execution_count": 188,
   "metadata": {},
   "outputs": [],
   "source": [
    "sql = \"\"\"\n",
    "select \tper.id person_id,\n",
    "\t\tpatient.id patient_id,\n",
    "\t\tconcat_ws(' ', per.first_name, per.middle_name, per.last_name) patient_fio,\n",
    "\t\tper.phone,\n",
    "\t\tper.birthday,\n",
    "\t\tdate_part('year', timezone('Europe/Moscow', now() - \n",
    "\t\t\t(extract(hour from now())) * interval '1 hour' - \n",
    "\t\t\t(extract(minute from now())) * interval '1 minute' - \n",
    "\t\t\t(extract(second from now())) * interval '1 second')) - \n",
    "\t\t\tdate_part('year', per.birthday) age,\n",
    "\t\tper.sex,\n",
    "\t\tdate(a.finished + 3 * interval '1 hour') app_finished,\n",
    "\t\t'CHAT' in (\n",
    "            select reference.code\n",
    "            from appointment_connection_type\n",
    "    \t\tleft join reference on reference.id = appointment_connection_type.reference_id\n",
    "    \t\twhere a.id = appointment_connection_type.appointment_id\n",
    "    \t\t) as is_chat,\n",
    "        'VIDEO' in (\n",
    "            select reference.code\n",
    "            from appointment_connection_type\n",
    "    \t\tleft join reference on reference.id = appointment_connection_type.reference_id\n",
    "    \t\twhere a.id = appointment_connection_type.appointment_id\n",
    "    \t\t) as is_video,\n",
    "        'AUDIO' in (\n",
    "            select reference.code\n",
    "            from appointment_connection_type\n",
    "    \t\tleft join reference on reference.id = appointment_connection_type.reference_id\n",
    "    \t\twhere a.id = appointment_connection_type.appointment_id\n",
    "    \t\t) as is_audio,\n",
    "        'PHONE' in (\n",
    "            select reference.code\n",
    "            from appointment_connection_type\n",
    "    \t\tleft join reference on reference.id = appointment_connection_type.reference_id\n",
    "    \t\twhere a.id = appointment_connection_type.appointment_id\n",
    "    \t\t) as is_phone\n",
    "from person per\n",
    "inner join patient on per.id = patient.person_id \n",
    "inner join appointment a on a.patient_id = patient.id\n",
    "left join promotion promo on a.promotion_id = promo.id\n",
    "where a.finished at time zone 'UTC' > '2020-03-30'\n",
    "and promo.description_tsvector = 'телемедицина_вэб'\n",
    "and phone in ({})\n",
    "and a.good\n",
    "  and not (\n",
    "    a.patient_id in (\n",
    "        select patient_id\n",
    "        from patient_categories pcat\n",
    "        inner join reference rf\n",
    "           on rf.id=pcat.reference_id\n",
    "        where rf.code='TEST'\n",
    "        )\n",
    "    or lower(a.report_comment)='тест'\n",
    "    )\n",
    "order by patient.id\n",
    "\"\"\".format(ph)\n",
    "             "
   ]
  },
  {
   "cell_type": "code",
   "execution_count": 189,
   "metadata": {},
   "outputs": [
    {
     "name": "stdout",
     "output_type": "stream",
     "text": [
      "2020-05-06 17:20:18 connect to postgres database using config file \"/home/sergey/drclinics/common/../.credentials/telemed/prom.cfg\"\n",
      "2020-05-06 17:20:18 creating ssh tunnel to 172.16.100.19 as root...\n",
      "2020-05-06 17:20:18 connect postgres using parameters:\n",
      "                    database: telemed\n",
      "\t\t\t\t    user: norekhov\n",
      "\t\t\t\t    password: ***masked***\n",
      "\t\t\t\t    host: localhost\n",
      "\t\t\t\t    port: 42059\n",
      "2020-05-06 17:20:18 @telemed: execute sql:\n",
      "\t\t\t\t    SET TIME ZONE 'Europe/Moscow'\n",
      "\t\t\t\t    None\n",
      "2020-05-06 17:20:18 @telemed query:\n",
      "                    select \tper.id person_id,\n",
      "\t\t\t\t    \t\tpatient.id patient_id,\n",
      "\t\t\t\t    \t\tconcat_ws(' ', per.first_name, per.middle_name, per.last_name) patient_fio,\n",
      "\t\t\t\t    \t\tper.phone,\n",
      "\t\t\t\t    \t\tper.birthday,\n",
      "\t\t\t\t    \t\tdate_part('year', timezone('Europe/Moscow', now() - \n",
      "\t\t\t\t    \t\t\t(extract(hour from now())) * interval '1 hour' - \n",
      "\t\t\t\t    \t\t\t(extract(minute from now())) * interval '1 minute' - \n",
      "\t\t\t\t    \t\t\t(extract(second from now())) * interval '1 second')) - \n",
      "\t\t\t\t    \t\t\tdate_part('year', per.birthday) age,\n",
      "\t\t\t\t    \t\tper.sex,\n",
      "\t\t\t\t    \t\tdate(a.finished + 3 * interval '1 hour') app_finished,\n",
      "\t\t\t\t    \t\t'CHAT' in (\n",
      "\t\t\t\t                select reference.code\n",
      "\t\t\t\t                from appointment_connection_type\n",
      "\t\t\t\t        \t\tleft join reference on reference.id = appointment_connection_type.reference_id\n",
      "\t\t\t\t        \t\twhere a.id = appointment_connection_type.appointment_id\n",
      "\t\t\t\t        \t\t) as is_chat,\n",
      "\t\t\t\t            'VIDEO' in (\n",
      "\t\t\t\t                select reference.code\n",
      "\t\t\t\t                from appointment_connection_type\n",
      "\t\t\t\t        \t\tleft join reference on reference.id = appointment_connection_type.reference_id\n",
      "\t\t\t\t        \t\twhere a.id = appointment_connection_type.appointment_id\n",
      "\t\t\t\t        \t\t) as is_video,\n",
      "\t\t\t\t            'AUDIO' in (\n",
      "\t\t\t\t                select reference.code\n",
      "\t\t\t\t                from appointment_connection_type\n",
      "\t\t\t\t        \t\tleft join reference on reference.id = appointment_connection_type.reference_id\n",
      "\t\t\t\t        \t\twhere a.id = appointment_connection_type.appointment_id\n",
      "\t\t\t\t        \t\t) as is_audio,\n",
      "\t\t\t\t            'PHONE' in (\n",
      "\t\t\t\t                select reference.code\n",
      "\t\t\t\t                from appointment_connection_type\n",
      "\t\t\t\t        \t\tleft join reference on reference.id = appointment_connection_type.reference_id\n",
      "\t\t\t\t        \t\twhere a.id = appointment_connection_type.appointment_id\n",
      "\t\t\t\t        \t\t) as is_phone\n",
      "\t\t\t\t    from person per\n",
      "\t\t\t\t    inner join patient on per.id = patient.person_id \n",
      "\t\t\t\t    inner join appointment a on a.patient_id = patient.id\n",
      "\t\t\t\t    left join promotion promo on a.promotion_id = promo.id\n",
      "\t\t\t\t    where a.finished at time zone 'UTC' > '2020-03-30'\n",
      "\t\t\t\t    and promo.description_tsvector = 'телемедицина_вэб'\n",
      "\t\t\t\t    and phone in ('79774978848', '79209781044', '79999080837', '79095863136', '79163485944', '79205443564', '79878407077', '79536506862', '79161803041', '79611193037', '79165736320', '79800798157', '79022802043', '79965606546', '79111862707', '79656367707', '79109903266', '79157232296', '79012854703', '79652224883', '79260140729', '74953071404', '79687505951', '79107680145', '79104066527', '79867542418', '79530584171', '79822826406', '79137974901', '79142665042', '79679277021', '79502901319', '79615931060', '79522803387', '79500899310', '79887825453', '79138391346', '79266069809', '79132477090', '79130900769', '79836056792', '79877831743', '79518027114', '79059359977', '79826032025', '79047823911', '79855253556', '79836051043', '79103415557', '79178608933', '79505972796', '79995207209', '79006411766', '79202859201', '79236167511', '79998554192', '79058150508', '79833811314', '79050883170', '79649170335', '79237078951', '79059250033', '79191517138', '79035163855', '79606350932', '79689323015', '79252785117', '79655947470', '79132764775', '79278912907', '79258707767', '79854288510', '79104901689', '79670219242', '79174536435', '79600633044', '79194339994', '79091860931', '79043812270', '79648661337', '79537033389', '79162651319', '79042310674', '79806880398', '79005028410', '79132477090', '79222800858', '79237447934', '79611171005', '79048595151', '79600528867', '79835453781', '79991558874', '79255301531', '79268495815', '79673359616', '79817146030', '79132614559', '79646972717', '79166108858', '79081737703', '79208789317', '79887410215', '79175599337', '79647636964', '79991703676', '79085753548', '79519666236', '79377345653', '79821148589', '79273877750', '79622029486', '79153373145', '79174536435', '79015798420', '79132767840', '79611171005', '79146519012', '79177442482', '79274078510', '79612075697', '79143884017', '79206520627', '79203425833', '79626908011', '79005797302', '79166671265', '79120108917', '79206168900', '79294295969', '79180449309', '79953329978', '79122105760', '79132572422', '79648661133', '79274456700', '79874082199', '79081732523', '79897157070', '79132160119', '79516935406', '79185365313', '79045263074', '79160697117', '79276803254', '79005797302', '79295225320', '79967715143', '79206778447', '79163439796', '79829256100', '79087026663', '79831054283', '79103645102', '79127532198', '79281402160', '79169750285', '79050100733', '79953328400', '79165406456', '79500859950', '79184034332', '79857596722', '79998231974', '79067115538', '79675350519', '79381511797', '79166690401', '79608655412', '79773119421', '79207705999', '79959281593', '79913294923', '79877433503', '79108808250', '79100842075', '79162857106', '79184808805', '79274520141', '79275137235', '79055960232', '79886791274', '79107692866', '79397923081', '79197523184', '79507107327', '79275099800', '79132240431', '79183888809', '79251282867', '79377966866', '79105642907', '79536190151', '79192069062', '79085093473', '79253354766', '79059249873', '79529450422', '79673672976', '79043021462', '79023066081', '79277117493', '79236127558', '79106909980', '79885497191', '79253407950', '79536232903', '79605020868', '79265927479', '79303452741', '79831248707', '79051701159', '79104655909', '79817717771', '79252823115', '79882701980', '79016519250', '79280659273', '79296014647', '79859570191', '79281539030', '79814027809', '79126629160', '79266651174', '79165769565', '79805274701', '79990708777', '79600348591', '79605284391', '79028382440', '79210199163', '79196456689', '79037990379', '79080600287', '79033064430', '79183398440', '79274533468', '79999291662', '79532791007', '79504033334', '79526012021', '79012899913', '79852247521', '79215515541', '79037808279', '79002424883', '79019497165', '79207621339', '79133932701', '79099333676', '79518664377', '79200331886', '79290131339', '79131847893', '79274562400', '79105937647', '79087561788', '79049593269', '79308162286', '79172472732', '79056783463', '79230071401', '79058222870', '79121390793', '79375217310', '79779395366', '79516733793', '79619696880', '79100064190', '79024033725', '79023066081', '79098052722', '79149774800', '79040715214', '79088280450', '79627956678', '79112851406', '79870683812', '79605020868', '79104691178', '79158310484', '79186953081', '79124423222', '79190581551', '79521973970', '79140364312', '79039671114', '79999080837', '79315006740', '79672308031', '79509193867', '79684009630', '79514268486', '79644956565', '79955075637', '79624225563', '79870487174', '79252707857', '79857492534', '79163774518', '79854569525', '79612229639', '79853308320', '79191517138', '79221309802', '79176050370', '79261241533', '79109407535', '79200594815', '79106969907', '79771779436', '79601758086', '79504835881', '79638125228', '79157232296', '79651027021', '79203730857', '77019522117', '79295191103', '79059680535', '79841605163', '79874049266', '79526757373', '79086821633', '79052328452', '79169309160', '79104763680', '79290590141', '79777508841', '79537966112', '79268581312', '79158475716', '79960261921', '79859300148', '79166576276', '79013659510', '79115447408', '79656585482', '79607860332', '79096717344', '79624957551', '79616691027', '79004778459', '79857521574', '79857677977', '79168886870', '79167929687', '79852378819', '79246607519', '79536997953', '79203693611', '79892660789', '79093083097', '79165584075', '79509193874', '79112261841', '79252707857', '79134738359', '79100064190', '79218582635', '79132270339', '79002935697', '79051701159', '79228667099', '79811431723', '79137574155', '79260140729', '79232574746', '79279054940', '79129128718', '79514268486', '79155577350', '79058623065', '79040159264', '79040544304', '79633336930', '79151778028', '79051904405', '79606956946', '79264607303', '79530545189', '79220315229', '79127200826', '79312891875', '79269411344', '79268407700', '79393801717', '79679496179', '79182878233', '79213611126', '79107481892', '79105830032', '79659506094', '79105595631', '79614317271', '79819872681', '79233582737', '79025641992', '79053177081', '79146893544', '79155916320', '79611109422', '79380222980', '79817527479', '79226362015', '79811590702', '79003482344', '79165733778', '79534304920', '79146953745', '79814081228', '79139199435', '79895359346', '79250942753', '79028820841', '79172999222', '79269160201', '79032320143', '79060467749', '79269005510', '79090425302', '79538967460', '79680451166', '79150861789', '79807015707', '79059110775', '79159933616', '79106644614', '79605950435', '79172603363', '79052523803', '79206536639', '79169415851', '79219191448', '79250788795', '79033720016', '79867654506', '79064270888', '79164410197', '79295571184', '79856205688', '79253589126', '79607860332', '79051701159', '79002798186', '79289362247', '79671048445', '79851201471', '79081266562', '79882783402', '79293354137', '79323244657', '79996511739', '79873847035', '79887825453', '79213058309', '79258227243', '79039334920', '79502900744', '79259186005', '79504229260', '79050596449', '79217558808', '79175238118', '79618038080', '79673682608', '79040542004', '79033534127', '79955075637', '79602741728', '79137298304', '79169176665', '79631703100', '79202174333', '79269411344', '79855156083', '79161488764', '79606956946', '79640098550', '79009095353', '79235409120', '79384311783', '79385446203', '79185501900', '79168076600', '79606479290', '79288753030', '79889888967', '79101676310', '79202510101', '79103844650', '79150585618', '79301272543', '79135124482', '79215905453', '79169229983', '79234181142', '78127056097', '79600307772', '79203400579', '79263824742', '79144156781', '79261341239', '79788121078', '79885852769', '79819037283', '79033405803', '79290475457', '79146953745', '79832031017', '79197523184', '79042119501', '79081452712', '79261790714', '79162131330', '79082930574', '79099479351', '79295758686', '79952201550', '79037260453', '79172899928', '790[...31876 chars removed from log...]\n",
      "                    None\n",
      "2020-05-06 17:20:21 return 7272 rows\n",
      "2020-05-06 17:20:21 @telemed: closing postgres connection...\n",
      "2020-05-06 17:20:21 closing ssh tunnel to 172.16.100.19...\n"
     ]
    }
   ],
   "source": [
    "conn = connect_telemed()\n",
    "df: pd.DataFrame = conn.query(sql)\n",
    "conn.close()"
   ]
  },
  {
   "cell_type": "code",
   "execution_count": 191,
   "metadata": {},
   "outputs": [
    {
     "data": {
      "text/html": [
       "<div>\n",
       "<style scoped>\n",
       "    .dataframe tbody tr th:only-of-type {\n",
       "        vertical-align: middle;\n",
       "    }\n",
       "\n",
       "    .dataframe tbody tr th {\n",
       "        vertical-align: top;\n",
       "    }\n",
       "\n",
       "    .dataframe thead th {\n",
       "        text-align: right;\n",
       "    }\n",
       "</style>\n",
       "<table border=\"1\" class=\"dataframe\">\n",
       "  <thead>\n",
       "    <tr style=\"text-align: right;\">\n",
       "      <th></th>\n",
       "      <th>person_id</th>\n",
       "      <th>patient_id</th>\n",
       "      <th>patient_fio</th>\n",
       "      <th>phone</th>\n",
       "      <th>birthday</th>\n",
       "      <th>age</th>\n",
       "      <th>sex</th>\n",
       "      <th>app_finished</th>\n",
       "      <th>is_chat</th>\n",
       "      <th>is_video</th>\n",
       "      <th>is_audio</th>\n",
       "      <th>is_phone</th>\n",
       "    </tr>\n",
       "  </thead>\n",
       "  <tbody>\n",
       "    <tr>\n",
       "      <th>0</th>\n",
       "      <td>4076</td>\n",
       "      <td>3836</td>\n",
       "      <td>Анонимp4545 Анонимp4545</td>\n",
       "      <td>79852533418</td>\n",
       "      <td>2000-01-01</td>\n",
       "      <td>20.0</td>\n",
       "      <td>None</td>\n",
       "      <td>2020-04-22</td>\n",
       "      <td>False</td>\n",
       "      <td>False</td>\n",
       "      <td>True</td>\n",
       "      <td>False</td>\n",
       "    </tr>\n",
       "    <tr>\n",
       "      <th>1</th>\n",
       "      <td>4076</td>\n",
       "      <td>3836</td>\n",
       "      <td>Анонимp4545 Анонимp4545</td>\n",
       "      <td>79852533418</td>\n",
       "      <td>2000-01-01</td>\n",
       "      <td>20.0</td>\n",
       "      <td>None</td>\n",
       "      <td>2020-04-28</td>\n",
       "      <td>False</td>\n",
       "      <td>True</td>\n",
       "      <td>False</td>\n",
       "      <td>False</td>\n",
       "    </tr>\n",
       "    <tr>\n",
       "      <th>2</th>\n",
       "      <td>4076</td>\n",
       "      <td>3836</td>\n",
       "      <td>Анонимp4545 Анонимp4545</td>\n",
       "      <td>79852533418</td>\n",
       "      <td>2000-01-01</td>\n",
       "      <td>20.0</td>\n",
       "      <td>None</td>\n",
       "      <td>2020-04-29</td>\n",
       "      <td>False</td>\n",
       "      <td>True</td>\n",
       "      <td>False</td>\n",
       "      <td>False</td>\n",
       "    </tr>\n",
       "    <tr>\n",
       "      <th>3</th>\n",
       "      <td>7515</td>\n",
       "      <td>7220</td>\n",
       "      <td>Зульфия Альбертовна Сагундукова</td>\n",
       "      <td>79600348591</td>\n",
       "      <td>1992-04-24</td>\n",
       "      <td>28.0</td>\n",
       "      <td>FEMALE</td>\n",
       "      <td>2020-04-27</td>\n",
       "      <td>False</td>\n",
       "      <td>True</td>\n",
       "      <td>False</td>\n",
       "      <td>False</td>\n",
       "    </tr>\n",
       "    <tr>\n",
       "      <th>4</th>\n",
       "      <td>10362</td>\n",
       "      <td>9972</td>\n",
       "      <td>Алексей Сергеевич Поляков</td>\n",
       "      <td>79268799198</td>\n",
       "      <td>1999-09-08</td>\n",
       "      <td>21.0</td>\n",
       "      <td>MALE</td>\n",
       "      <td>2020-04-28</td>\n",
       "      <td>True</td>\n",
       "      <td>False</td>\n",
       "      <td>True</td>\n",
       "      <td>False</td>\n",
       "    </tr>\n",
       "  </tbody>\n",
       "</table>\n",
       "</div>"
      ],
      "text/plain": [
       "   person_id  patient_id                      patient_fio        phone  \\\n",
       "0       4076        3836          Анонимp4545 Анонимp4545  79852533418   \n",
       "1       4076        3836          Анонимp4545 Анонимp4545  79852533418   \n",
       "2       4076        3836          Анонимp4545 Анонимp4545  79852533418   \n",
       "3       7515        7220  Зульфия Альбертовна Сагундукова  79600348591   \n",
       "4      10362        9972        Алексей Сергеевич Поляков  79268799198   \n",
       "\n",
       "     birthday   age     sex app_finished  is_chat  is_video  is_audio  \\\n",
       "0  2000-01-01  20.0    None   2020-04-22    False     False      True   \n",
       "1  2000-01-01  20.0    None   2020-04-28    False      True     False   \n",
       "2  2000-01-01  20.0    None   2020-04-29    False      True     False   \n",
       "3  1992-04-24  28.0  FEMALE   2020-04-27    False      True     False   \n",
       "4  1999-09-08  21.0    MALE   2020-04-28     True     False      True   \n",
       "\n",
       "   is_phone  \n",
       "0     False  \n",
       "1     False  \n",
       "2     False  \n",
       "3     False  \n",
       "4     False  "
      ]
     },
     "execution_count": 191,
     "metadata": {},
     "output_type": "execute_result"
    }
   ],
   "source": [
    "df.head()"
   ]
  },
  {
   "cell_type": "code",
   "execution_count": 203,
   "metadata": {},
   "outputs": [
    {
     "name": "stdout",
     "output_type": "stream",
     "text": [
      "<class 'pandas.core.frame.DataFrame'>\n",
      "RangeIndex: 7272 entries, 0 to 7271\n",
      "Data columns (total 12 columns):\n",
      " #   Column        Non-Null Count  Dtype  \n",
      "---  ------        --------------  -----  \n",
      " 0   person_id     7272 non-null   int64  \n",
      " 1   patient_id    7272 non-null   int64  \n",
      " 2   patient_fio   7272 non-null   object \n",
      " 3   phone         7272 non-null   object \n",
      " 4   birthday      7272 non-null   object \n",
      " 5   age           7272 non-null   float64\n",
      " 6   sex           7272 non-null   object \n",
      " 7   app_finished  7272 non-null   object \n",
      " 8   is_chat       7272 non-null   bool   \n",
      " 9   is_video      7272 non-null   bool   \n",
      " 10  is_audio      7272 non-null   bool   \n",
      " 11  is_phone      7272 non-null   bool   \n",
      "dtypes: bool(4), float64(1), int64(2), object(5)\n",
      "memory usage: 483.0+ KB\n"
     ]
    }
   ],
   "source": [
    "df.info()"
   ]
  },
  {
   "cell_type": "code",
   "execution_count": 278,
   "metadata": {},
   "outputs": [
    {
     "data": {
      "text/plain": [
       "array(['MALE', 'FEMALE'], dtype=object)"
      ]
     },
     "execution_count": 278,
     "metadata": {},
     "output_type": "execute_result"
    }
   ],
   "source": [
    "df.sex.unique()"
   ]
  },
  {
   "cell_type": "code",
   "execution_count": 200,
   "metadata": {},
   "outputs": [],
   "source": [
    "df.fillna(value='Unknown', inplace=True)"
   ]
  },
  {
   "cell_type": "code",
   "execution_count": 277,
   "metadata": {},
   "outputs": [
    {
     "data": {
      "text/plain": [
       "Series([], Name: sex, dtype: int64)"
      ]
     },
     "execution_count": 277,
     "metadata": {},
     "output_type": "execute_result"
    }
   ],
   "source": [
    "df[df['sex'] == 'Unknown'].groupby(['patient_id', 'patient_fio', 'sex'])['sex'].count()"
   ]
  },
  {
   "cell_type": "code",
   "execution_count": 16,
   "metadata": {},
   "outputs": [
    {
     "data": {
      "text/html": [
       "<div>\n",
       "<style scoped>\n",
       "    .dataframe tbody tr th:only-of-type {\n",
       "        vertical-align: middle;\n",
       "    }\n",
       "\n",
       "    .dataframe tbody tr th {\n",
       "        vertical-align: top;\n",
       "    }\n",
       "\n",
       "    .dataframe thead th {\n",
       "        text-align: right;\n",
       "    }\n",
       "</style>\n",
       "<table border=\"1\" class=\"dataframe\">\n",
       "  <thead>\n",
       "    <tr style=\"text-align: right;\">\n",
       "      <th></th>\n",
       "      <th></th>\n",
       "      <th></th>\n",
       "      <th>sex</th>\n",
       "    </tr>\n",
       "    <tr>\n",
       "      <th>patient_id</th>\n",
       "      <th>patient_fio</th>\n",
       "      <th>sex</th>\n",
       "      <th></th>\n",
       "    </tr>\n",
       "  </thead>\n",
       "  <tbody>\n",
       "  </tbody>\n",
       "</table>\n",
       "</div>"
      ],
      "text/plain": [
       "Empty DataFrame\n",
       "Columns: [sex]\n",
       "Index: []"
      ]
     },
     "execution_count": 16,
     "metadata": {},
     "output_type": "execute_result"
    }
   ],
   "source": [
    "pd.DataFrame(df[df['sex'] == 'Unknown'].groupby(['patient_id', 'patient_fio', 'sex'])['sex'].count()).head(25)"
   ]
  },
  {
   "cell_type": "code",
   "execution_count": 274,
   "metadata": {},
   "outputs": [],
   "source": [
    "d = {\n",
    "    52452:'MALE', 84640:'FEMALE', 144261:'FEMALE', 358284:'MALE', 437315:'MALE', 468809:'FEMALE', 3091467:'FEMALE', \n",
    "    3050272:'FEMALE', 3049512:'FEMALE', 3192928:'FEMALE', 3174578:'FEMALE', 3165476:'FEMALE', 3165337:'FEMALE', \n",
    "    3048066:'MALE', 3486251:'FEMALE', 3483688:'FEMALE', 3202156:'MALE', 3201951:'FEMALE', 3193306:'FEMALE', 3047850:'FEMALE',\n",
    "    3495740:'FEMALE', 3495717:'FEMALE', 3495537:'FEMALE', 3495250:'FEMALE', 3494275:'FEMALE', 3488376:'FEMALE', \n",
    "    3045906:'MALE', 3045247:'FEMALE', 3031471:'MALE', 3026541:'FEMALE', 3498675:'MALE', 3497919:'FEMALE', 3496864:'FEMALE', \n",
    "    3496642:'FEMALE', 3496582:'FEMALE', 3496503:'FEMALE', 3496143:'FEMALE', 3496059:'MALE', 3495880:'FEMALE', 3495810:'FEMALE',\n",
    "    3504844:'FEMALE', 3502890:'FEMALE', 3502849:'FEMALE', 3502557:'FEMALE', 3502354:'FEMALE', 3502031:'MALE', \n",
    "    3501997:'FEMALE', 3501149:'FEMALE', 3501056:'FEMALE', 3498758:'FEMALE', 3000090:'FEMALE', 2995467:'FEMALE',\n",
    "    2983494:'FEMALE', 2973433:'FEMALE', 3510604:'FEMALE', 3510515:'MALE', 3510448:'FEMALE', 3509963:'FEMALE', 3509941:'FEMALE', \n",
    "    3508716:'FEMALE', 3505395:'FEMALE', 3505541:'FEMALE', 3505595:'FEMALE', 3505622:'FEMALE', 3514809:'FEMALE', 3514733:'MALE',\n",
    "    3514643:'FEMALE', 3514584:'FEMALE', 3513871:'FEMALE', 3513656:'FEMALE', 3513481:'FEMALE', 3513439:'FEMALE', 3516559:'FEMALE',\n",
    "    3516382:'FEMALE', 3516158:'FEMALE', 3516071:'FEMALE', 3515017:'FEMALE', 506161:'FEMALE', 3506172:'FEMALE', 3513174:'FEMALE',\n",
    "    3520987:'FEMALE', 3520741:'FEMALE', 3519365:'FEMALE', 3519123:'FEMALE', 3518869:'FEMALE', 3517044:'FEMALE', 2915315:'MALE',\n",
    "    3504913:'FEMALE', 3505970:'FEMALE', 3506161:'FEMALE', 3525893:'FEMALE', 3525721:'MALE', 3525688:'FEMALE', 3525370:'FEMALE',\n",
    "    3525050:'FEMALE', 3524743:'FEMALE', 3524611:'FEMALE', 3521044:'FEMALE', 3521033:'FEMALE', 3516840:'FEMALE', 3514982:'FEMALE',\n",
    "    3527462:'MALE', 3527408:'FEMALE', 3527240:'FEMALE', 3527210:'FEMALE', 3527209:'MALE', 3521019:'FEMALE', 3526638:'MALE',\n",
    "    3527846:'FEMALE', 3527783:'MALE', 3527763:'FEMALE', 3527712:'FEMALE', 3527663:'FEMALE', 3527648:'FEMALE', 3527034:'FEMALE',\n",
    "    3528752:'FEMALE', 3528726:'FEMALE', 3528118:'MALE', 3528036:'FEMALE', 3527980:'FEMALE', 3527969:'FEMALE', 3527956:'MALE',\n",
    "    3527578:'FEMALE', 3527045:'FEMALE', 3530484:'FEMALE', 3530073:'FEMALE', 3529910:'FEMALE', 3529754:'FEMALE', 3529463:'FEMALE',\n",
    "    3529428:'FEMALE', 3529390:'FEMALE', 3529071:'FEMALE', 3528910:'MALE', 3526699:'FEMALE', 3531577:'FEMALE', 3530637:'FEMALE',\n",
    "    3530545:'FEMALE', 3526692:'FEMALE', 3526478:'FEMALE', 3515008:'FEMALE', 3514814:'FEMALE', 3512796:'FEMALE', 2904780:'FEMALE',\n",
    "    2676391:'FEMALE', 2595303:'FEMALE', 2198022:'FEMALE', 2123509:'FEMALE', 1738326:'FEMALE', 1307873:'FEMALE', 482226:'FEMALE',\n",
    "    12311:'MALE', 3836:'MALE' # ANONYMOUS x2\n",
    "}"
   ]
  },
  {
   "cell_type": "code",
   "execution_count": 275,
   "metadata": {},
   "outputs": [
    {
     "name": "stderr",
     "output_type": "stream",
     "text": [
      "WARNING:py.warnings:/home/sergey/anaconda3/lib/python3.7/site-packages/ipykernel_launcher.py:3: SettingWithCopyWarning: \n",
      "A value is trying to be set on a copy of a slice from a DataFrame\n",
      "\n",
      "See the caveats in the documentation: https://pandas.pydata.org/pandas-docs/stable/user_guide/indexing.html#returning-a-view-versus-a-copy\n",
      "  This is separate from the ipykernel package so we can avoid doing imports until\n",
      "\n"
     ]
    }
   ],
   "source": [
    "for i in range(df.shape[0]):\n",
    "    if df['patient_id'][i] in d:\n",
    "        df['sex'][i] = d[df['patient_id'][i]]"
   ]
  },
  {
   "cell_type": "code",
   "execution_count": 279,
   "metadata": {},
   "outputs": [
    {
     "data": {
      "text/html": [
       "<div>\n",
       "<style scoped>\n",
       "    .dataframe tbody tr th:only-of-type {\n",
       "        vertical-align: middle;\n",
       "    }\n",
       "\n",
       "    .dataframe tbody tr th {\n",
       "        vertical-align: top;\n",
       "    }\n",
       "\n",
       "    .dataframe thead th {\n",
       "        text-align: right;\n",
       "    }\n",
       "</style>\n",
       "<table border=\"1\" class=\"dataframe\">\n",
       "  <thead>\n",
       "    <tr style=\"text-align: right;\">\n",
       "      <th></th>\n",
       "      <th>person_id</th>\n",
       "      <th>patient_id</th>\n",
       "      <th>patient_fio</th>\n",
       "      <th>phone</th>\n",
       "      <th>birthday</th>\n",
       "      <th>age</th>\n",
       "      <th>sex</th>\n",
       "      <th>app_finished</th>\n",
       "      <th>is_chat</th>\n",
       "      <th>is_video</th>\n",
       "      <th>is_audio</th>\n",
       "      <th>is_phone</th>\n",
       "    </tr>\n",
       "  </thead>\n",
       "  <tbody>\n",
       "    <tr>\n",
       "      <th>0</th>\n",
       "      <td>4076</td>\n",
       "      <td>3836</td>\n",
       "      <td>Анонимp4545 Анонимp4545</td>\n",
       "      <td>79852533418</td>\n",
       "      <td>2000-01-01</td>\n",
       "      <td>20.0</td>\n",
       "      <td>MALE</td>\n",
       "      <td>2020-04-22</td>\n",
       "      <td>False</td>\n",
       "      <td>False</td>\n",
       "      <td>True</td>\n",
       "      <td>False</td>\n",
       "    </tr>\n",
       "    <tr>\n",
       "      <th>1</th>\n",
       "      <td>4076</td>\n",
       "      <td>3836</td>\n",
       "      <td>Анонимp4545 Анонимp4545</td>\n",
       "      <td>79852533418</td>\n",
       "      <td>2000-01-01</td>\n",
       "      <td>20.0</td>\n",
       "      <td>MALE</td>\n",
       "      <td>2020-04-28</td>\n",
       "      <td>False</td>\n",
       "      <td>True</td>\n",
       "      <td>False</td>\n",
       "      <td>False</td>\n",
       "    </tr>\n",
       "    <tr>\n",
       "      <th>2</th>\n",
       "      <td>4076</td>\n",
       "      <td>3836</td>\n",
       "      <td>Анонимp4545 Анонимp4545</td>\n",
       "      <td>79852533418</td>\n",
       "      <td>2000-01-01</td>\n",
       "      <td>20.0</td>\n",
       "      <td>MALE</td>\n",
       "      <td>2020-04-29</td>\n",
       "      <td>False</td>\n",
       "      <td>True</td>\n",
       "      <td>False</td>\n",
       "      <td>False</td>\n",
       "    </tr>\n",
       "    <tr>\n",
       "      <th>3</th>\n",
       "      <td>7515</td>\n",
       "      <td>7220</td>\n",
       "      <td>Зульфия Альбертовна Сагундукова</td>\n",
       "      <td>79600348591</td>\n",
       "      <td>1992-04-24</td>\n",
       "      <td>28.0</td>\n",
       "      <td>FEMALE</td>\n",
       "      <td>2020-04-27</td>\n",
       "      <td>False</td>\n",
       "      <td>True</td>\n",
       "      <td>False</td>\n",
       "      <td>False</td>\n",
       "    </tr>\n",
       "    <tr>\n",
       "      <th>4</th>\n",
       "      <td>10362</td>\n",
       "      <td>9972</td>\n",
       "      <td>Алексей Сергеевич Поляков</td>\n",
       "      <td>79268799198</td>\n",
       "      <td>1999-09-08</td>\n",
       "      <td>21.0</td>\n",
       "      <td>MALE</td>\n",
       "      <td>2020-04-28</td>\n",
       "      <td>True</td>\n",
       "      <td>False</td>\n",
       "      <td>True</td>\n",
       "      <td>False</td>\n",
       "    </tr>\n",
       "    <tr>\n",
       "      <th>5</th>\n",
       "      <td>12701</td>\n",
       "      <td>12311</td>\n",
       "      <td>Аноним 9256 Аноним</td>\n",
       "      <td>79998231974</td>\n",
       "      <td>1970-01-01</td>\n",
       "      <td>50.0</td>\n",
       "      <td>MALE</td>\n",
       "      <td>2020-04-27</td>\n",
       "      <td>False</td>\n",
       "      <td>False</td>\n",
       "      <td>True</td>\n",
       "      <td>False</td>\n",
       "    </tr>\n",
       "    <tr>\n",
       "      <th>6</th>\n",
       "      <td>25992</td>\n",
       "      <td>25549</td>\n",
       "      <td>Денис Сергеевич Кунгуров</td>\n",
       "      <td>79854244014</td>\n",
       "      <td>1978-06-30</td>\n",
       "      <td>42.0</td>\n",
       "      <td>MALE</td>\n",
       "      <td>2020-04-30</td>\n",
       "      <td>False</td>\n",
       "      <td>False</td>\n",
       "      <td>False</td>\n",
       "      <td>True</td>\n",
       "    </tr>\n",
       "    <tr>\n",
       "      <th>7</th>\n",
       "      <td>25992</td>\n",
       "      <td>25549</td>\n",
       "      <td>Денис Сергеевич Кунгуров</td>\n",
       "      <td>79854244014</td>\n",
       "      <td>1978-06-30</td>\n",
       "      <td>42.0</td>\n",
       "      <td>MALE</td>\n",
       "      <td>2020-04-28</td>\n",
       "      <td>False</td>\n",
       "      <td>False</td>\n",
       "      <td>False</td>\n",
       "      <td>True</td>\n",
       "    </tr>\n",
       "    <tr>\n",
       "      <th>8</th>\n",
       "      <td>25992</td>\n",
       "      <td>25549</td>\n",
       "      <td>Денис Сергеевич Кунгуров</td>\n",
       "      <td>79854244014</td>\n",
       "      <td>1978-06-30</td>\n",
       "      <td>42.0</td>\n",
       "      <td>MALE</td>\n",
       "      <td>2020-04-22</td>\n",
       "      <td>False</td>\n",
       "      <td>False</td>\n",
       "      <td>False</td>\n",
       "      <td>True</td>\n",
       "    </tr>\n",
       "    <tr>\n",
       "      <th>9</th>\n",
       "      <td>25992</td>\n",
       "      <td>25549</td>\n",
       "      <td>Денис Сергеевич Кунгуров</td>\n",
       "      <td>79854244014</td>\n",
       "      <td>1978-06-30</td>\n",
       "      <td>42.0</td>\n",
       "      <td>MALE</td>\n",
       "      <td>2020-05-03</td>\n",
       "      <td>True</td>\n",
       "      <td>False</td>\n",
       "      <td>True</td>\n",
       "      <td>False</td>\n",
       "    </tr>\n",
       "    <tr>\n",
       "      <th>10</th>\n",
       "      <td>25992</td>\n",
       "      <td>25549</td>\n",
       "      <td>Денис Сергеевич Кунгуров</td>\n",
       "      <td>79854244014</td>\n",
       "      <td>1978-06-30</td>\n",
       "      <td>42.0</td>\n",
       "      <td>MALE</td>\n",
       "      <td>2020-04-23</td>\n",
       "      <td>False</td>\n",
       "      <td>True</td>\n",
       "      <td>False</td>\n",
       "      <td>False</td>\n",
       "    </tr>\n",
       "    <tr>\n",
       "      <th>11</th>\n",
       "      <td>25992</td>\n",
       "      <td>25549</td>\n",
       "      <td>Денис Сергеевич Кунгуров</td>\n",
       "      <td>79854244014</td>\n",
       "      <td>1978-06-30</td>\n",
       "      <td>42.0</td>\n",
       "      <td>MALE</td>\n",
       "      <td>2020-04-30</td>\n",
       "      <td>False</td>\n",
       "      <td>True</td>\n",
       "      <td>False</td>\n",
       "      <td>False</td>\n",
       "    </tr>\n",
       "    <tr>\n",
       "      <th>12</th>\n",
       "      <td>25992</td>\n",
       "      <td>25549</td>\n",
       "      <td>Денис Сергеевич Кунгуров</td>\n",
       "      <td>79854244014</td>\n",
       "      <td>1978-06-30</td>\n",
       "      <td>42.0</td>\n",
       "      <td>MALE</td>\n",
       "      <td>2020-04-18</td>\n",
       "      <td>True</td>\n",
       "      <td>False</td>\n",
       "      <td>False</td>\n",
       "      <td>False</td>\n",
       "    </tr>\n",
       "    <tr>\n",
       "      <th>13</th>\n",
       "      <td>25992</td>\n",
       "      <td>25549</td>\n",
       "      <td>Денис Сергеевич Кунгуров</td>\n",
       "      <td>79854244014</td>\n",
       "      <td>1978-06-30</td>\n",
       "      <td>42.0</td>\n",
       "      <td>MALE</td>\n",
       "      <td>2020-04-28</td>\n",
       "      <td>False</td>\n",
       "      <td>False</td>\n",
       "      <td>False</td>\n",
       "      <td>True</td>\n",
       "    </tr>\n",
       "    <tr>\n",
       "      <th>14</th>\n",
       "      <td>38451</td>\n",
       "      <td>37911</td>\n",
       "      <td>Марина Александровна Киселева</td>\n",
       "      <td>79163301468</td>\n",
       "      <td>1997-02-13</td>\n",
       "      <td>23.0</td>\n",
       "      <td>FEMALE</td>\n",
       "      <td>2020-04-28</td>\n",
       "      <td>False</td>\n",
       "      <td>False</td>\n",
       "      <td>False</td>\n",
       "      <td>True</td>\n",
       "    </tr>\n",
       "  </tbody>\n",
       "</table>\n",
       "</div>"
      ],
      "text/plain": [
       "    person_id  patient_id                      patient_fio        phone  \\\n",
       "0        4076        3836          Анонимp4545 Анонимp4545  79852533418   \n",
       "1        4076        3836          Анонимp4545 Анонимp4545  79852533418   \n",
       "2        4076        3836          Анонимp4545 Анонимp4545  79852533418   \n",
       "3        7515        7220  Зульфия Альбертовна Сагундукова  79600348591   \n",
       "4       10362        9972        Алексей Сергеевич Поляков  79268799198   \n",
       "5       12701       12311               Аноним 9256 Аноним  79998231974   \n",
       "6       25992       25549         Денис Сергеевич Кунгуров  79854244014   \n",
       "7       25992       25549         Денис Сергеевич Кунгуров  79854244014   \n",
       "8       25992       25549         Денис Сергеевич Кунгуров  79854244014   \n",
       "9       25992       25549         Денис Сергеевич Кунгуров  79854244014   \n",
       "10      25992       25549         Денис Сергеевич Кунгуров  79854244014   \n",
       "11      25992       25549         Денис Сергеевич Кунгуров  79854244014   \n",
       "12      25992       25549         Денис Сергеевич Кунгуров  79854244014   \n",
       "13      25992       25549         Денис Сергеевич Кунгуров  79854244014   \n",
       "14      38451       37911    Марина Александровна Киселева  79163301468   \n",
       "\n",
       "      birthday   age     sex app_finished  is_chat  is_video  is_audio  \\\n",
       "0   2000-01-01  20.0    MALE   2020-04-22    False     False      True   \n",
       "1   2000-01-01  20.0    MALE   2020-04-28    False      True     False   \n",
       "2   2000-01-01  20.0    MALE   2020-04-29    False      True     False   \n",
       "3   1992-04-24  28.0  FEMALE   2020-04-27    False      True     False   \n",
       "4   1999-09-08  21.0    MALE   2020-04-28     True     False      True   \n",
       "5   1970-01-01  50.0    MALE   2020-04-27    False     False      True   \n",
       "6   1978-06-30  42.0    MALE   2020-04-30    False     False     False   \n",
       "7   1978-06-30  42.0    MALE   2020-04-28    False     False     False   \n",
       "8   1978-06-30  42.0    MALE   2020-04-22    False     False     False   \n",
       "9   1978-06-30  42.0    MALE   2020-05-03     True     False      True   \n",
       "10  1978-06-30  42.0    MALE   2020-04-23    False      True     False   \n",
       "11  1978-06-30  42.0    MALE   2020-04-30    False      True     False   \n",
       "12  1978-06-30  42.0    MALE   2020-04-18     True     False     False   \n",
       "13  1978-06-30  42.0    MALE   2020-04-28    False     False     False   \n",
       "14  1997-02-13  23.0  FEMALE   2020-04-28    False     False     False   \n",
       "\n",
       "    is_phone  \n",
       "0      False  \n",
       "1      False  \n",
       "2      False  \n",
       "3      False  \n",
       "4      False  \n",
       "5      False  \n",
       "6       True  \n",
       "7       True  \n",
       "8       True  \n",
       "9      False  \n",
       "10     False  \n",
       "11     False  \n",
       "12     False  \n",
       "13      True  \n",
       "14      True  "
      ]
     },
     "execution_count": 279,
     "metadata": {},
     "output_type": "execute_result"
    }
   ],
   "source": [
    "df.head(15)"
   ]
  },
  {
   "cell_type": "code",
   "execution_count": 280,
   "metadata": {},
   "outputs": [],
   "source": [
    "df['using_application'] = ''\n",
    "df['using_phone'] = ''"
   ]
  },
  {
   "cell_type": "code",
   "execution_count": 285,
   "metadata": {},
   "outputs": [
    {
     "name": "stderr",
     "output_type": "stream",
     "text": [
      "WARNING:py.warnings:/home/sergey/anaconda3/lib/python3.7/site-packages/ipykernel_launcher.py:3: SettingWithCopyWarning: \n",
      "A value is trying to be set on a copy of a slice from a DataFrame\n",
      "\n",
      "See the caveats in the documentation: https://pandas.pydata.org/pandas-docs/stable/user_guide/indexing.html#returning-a-view-versus-a-copy\n",
      "  This is separate from the ipykernel package so we can avoid doing imports until\n",
      "\n"
     ]
    }
   ],
   "source": [
    "for i in range(df.shape[0]):\n",
    "    if df['is_phone'][i] == True:\n",
    "        df['using_phone'][i] = 'Phone'\n",
    "    if df['is_chat'][i] == True or df['is_video'][i] == True or df['is_audio'][i] == True:\n",
    "        df['using_application'] = 'Application'"
   ]
  },
  {
   "cell_type": "code",
   "execution_count": 298,
   "metadata": {},
   "outputs": [
    {
     "data": {
      "text/html": [
       "<div>\n",
       "<style scoped>\n",
       "    .dataframe tbody tr th:only-of-type {\n",
       "        vertical-align: middle;\n",
       "    }\n",
       "\n",
       "    .dataframe tbody tr th {\n",
       "        vertical-align: top;\n",
       "    }\n",
       "\n",
       "    .dataframe thead th {\n",
       "        text-align: right;\n",
       "    }\n",
       "</style>\n",
       "<table border=\"1\" class=\"dataframe\">\n",
       "  <thead>\n",
       "    <tr style=\"text-align: right;\">\n",
       "      <th></th>\n",
       "      <th>person_id</th>\n",
       "      <th>patient_id</th>\n",
       "      <th>patient_fio</th>\n",
       "      <th>phone</th>\n",
       "      <th>birthday</th>\n",
       "      <th>age</th>\n",
       "      <th>sex</th>\n",
       "      <th>app_finished</th>\n",
       "      <th>is_chat</th>\n",
       "      <th>is_video</th>\n",
       "      <th>is_audio</th>\n",
       "      <th>is_phone</th>\n",
       "      <th>using_application</th>\n",
       "      <th>using_phone</th>\n",
       "    </tr>\n",
       "  </thead>\n",
       "  <tbody>\n",
       "    <tr>\n",
       "      <th>0</th>\n",
       "      <td>4076</td>\n",
       "      <td>3836</td>\n",
       "      <td>Анонимp4545 Анонимp4545</td>\n",
       "      <td>79852533418</td>\n",
       "      <td>2000-01-01</td>\n",
       "      <td>20.0</td>\n",
       "      <td>MALE</td>\n",
       "      <td>2020-04-22</td>\n",
       "      <td>False</td>\n",
       "      <td>False</td>\n",
       "      <td>True</td>\n",
       "      <td>False</td>\n",
       "      <td>Application</td>\n",
       "      <td></td>\n",
       "    </tr>\n",
       "    <tr>\n",
       "      <th>1</th>\n",
       "      <td>4076</td>\n",
       "      <td>3836</td>\n",
       "      <td>Анонимp4545 Анонимp4545</td>\n",
       "      <td>79852533418</td>\n",
       "      <td>2000-01-01</td>\n",
       "      <td>20.0</td>\n",
       "      <td>MALE</td>\n",
       "      <td>2020-04-28</td>\n",
       "      <td>False</td>\n",
       "      <td>True</td>\n",
       "      <td>False</td>\n",
       "      <td>False</td>\n",
       "      <td>Application</td>\n",
       "      <td></td>\n",
       "    </tr>\n",
       "    <tr>\n",
       "      <th>2</th>\n",
       "      <td>4076</td>\n",
       "      <td>3836</td>\n",
       "      <td>Анонимp4545 Анонимp4545</td>\n",
       "      <td>79852533418</td>\n",
       "      <td>2000-01-01</td>\n",
       "      <td>20.0</td>\n",
       "      <td>MALE</td>\n",
       "      <td>2020-04-29</td>\n",
       "      <td>False</td>\n",
       "      <td>True</td>\n",
       "      <td>False</td>\n",
       "      <td>False</td>\n",
       "      <td>Application</td>\n",
       "      <td></td>\n",
       "    </tr>\n",
       "    <tr>\n",
       "      <th>3</th>\n",
       "      <td>7515</td>\n",
       "      <td>7220</td>\n",
       "      <td>Зульфия Альбертовна Сагундукова</td>\n",
       "      <td>79600348591</td>\n",
       "      <td>1992-04-24</td>\n",
       "      <td>28.0</td>\n",
       "      <td>FEMALE</td>\n",
       "      <td>2020-04-27</td>\n",
       "      <td>False</td>\n",
       "      <td>True</td>\n",
       "      <td>False</td>\n",
       "      <td>False</td>\n",
       "      <td>Application</td>\n",
       "      <td></td>\n",
       "    </tr>\n",
       "    <tr>\n",
       "      <th>4</th>\n",
       "      <td>10362</td>\n",
       "      <td>9972</td>\n",
       "      <td>Алексей Сергеевич Поляков</td>\n",
       "      <td>79268799198</td>\n",
       "      <td>1999-09-08</td>\n",
       "      <td>21.0</td>\n",
       "      <td>MALE</td>\n",
       "      <td>2020-04-28</td>\n",
       "      <td>True</td>\n",
       "      <td>False</td>\n",
       "      <td>True</td>\n",
       "      <td>False</td>\n",
       "      <td>Application</td>\n",
       "      <td></td>\n",
       "    </tr>\n",
       "  </tbody>\n",
       "</table>\n",
       "</div>"
      ],
      "text/plain": [
       "   person_id  patient_id                      patient_fio        phone  \\\n",
       "0       4076        3836          Анонимp4545 Анонимp4545  79852533418   \n",
       "1       4076        3836          Анонимp4545 Анонимp4545  79852533418   \n",
       "2       4076        3836          Анонимp4545 Анонимp4545  79852533418   \n",
       "3       7515        7220  Зульфия Альбертовна Сагундукова  79600348591   \n",
       "4      10362        9972        Алексей Сергеевич Поляков  79268799198   \n",
       "\n",
       "     birthday   age     sex app_finished  is_chat  is_video  is_audio  \\\n",
       "0  2000-01-01  20.0    MALE   2020-04-22    False     False      True   \n",
       "1  2000-01-01  20.0    MALE   2020-04-28    False      True     False   \n",
       "2  2000-01-01  20.0    MALE   2020-04-29    False      True     False   \n",
       "3  1992-04-24  28.0  FEMALE   2020-04-27    False      True     False   \n",
       "4  1999-09-08  21.0    MALE   2020-04-28     True     False      True   \n",
       "\n",
       "   is_phone using_application using_phone  \n",
       "0     False       Application              \n",
       "1     False       Application              \n",
       "2     False       Application              \n",
       "3     False       Application              \n",
       "4     False       Application              "
      ]
     },
     "execution_count": 298,
     "metadata": {},
     "output_type": "execute_result"
    }
   ],
   "source": [
    "df.head()"
   ]
  },
  {
   "cell_type": "code",
   "execution_count": null,
   "metadata": {},
   "outputs": [],
   "source": [
    "# 03.05.2020"
   ]
  },
  {
   "cell_type": "code",
   "execution_count": 297,
   "metadata": {},
   "outputs": [
    {
     "name": "stdout",
     "output_type": "stream",
     "text": [
      "2020-05-06 18:36:07 @telemed: closing postgres connection...\n",
      "2020-05-06 18:36:07 closing ssh tunnel to 172.16.100.19...\n",
      "2020-05-06 18:36:07 @telemed: closing postgres connection...\n",
      "2020-05-06 18:36:07 closing ssh tunnel to 172.16.100.19...\n"
     ]
    }
   ],
   "source": [
    "df['app_finished'] = df['app_finished'].apply(pd.to_datetime)"
   ]
  },
  {
   "cell_type": "code",
   "execution_count": 301,
   "metadata": {},
   "outputs": [
    {
     "data": {
      "text/html": [
       "<div>\n",
       "<style scoped>\n",
       "    .dataframe tbody tr th:only-of-type {\n",
       "        vertical-align: middle;\n",
       "    }\n",
       "\n",
       "    .dataframe tbody tr th {\n",
       "        vertical-align: top;\n",
       "    }\n",
       "\n",
       "    .dataframe thead th {\n",
       "        text-align: right;\n",
       "    }\n",
       "</style>\n",
       "<table border=\"1\" class=\"dataframe\">\n",
       "  <thead>\n",
       "    <tr style=\"text-align: right;\">\n",
       "      <th></th>\n",
       "      <th>person_id</th>\n",
       "      <th>patient_id</th>\n",
       "      <th>patient_fio</th>\n",
       "      <th>phone</th>\n",
       "      <th>birthday</th>\n",
       "      <th>age</th>\n",
       "      <th>sex</th>\n",
       "      <th>app_finished</th>\n",
       "      <th>is_chat</th>\n",
       "      <th>is_video</th>\n",
       "      <th>is_audio</th>\n",
       "      <th>is_phone</th>\n",
       "      <th>using_application</th>\n",
       "      <th>using_phone</th>\n",
       "    </tr>\n",
       "  </thead>\n",
       "  <tbody>\n",
       "    <tr>\n",
       "      <th>9</th>\n",
       "      <td>25992</td>\n",
       "      <td>25549</td>\n",
       "      <td>Денис Сергеевич Кунгуров</td>\n",
       "      <td>79854244014</td>\n",
       "      <td>1978-06-30</td>\n",
       "      <td>42.0</td>\n",
       "      <td>MALE</td>\n",
       "      <td>2020-05-03</td>\n",
       "      <td>True</td>\n",
       "      <td>False</td>\n",
       "      <td>True</td>\n",
       "      <td>False</td>\n",
       "      <td>Application</td>\n",
       "      <td></td>\n",
       "    </tr>\n",
       "    <tr>\n",
       "      <th>36</th>\n",
       "      <td>140286</td>\n",
       "      <td>130376</td>\n",
       "      <td>Лариса Анатольевна Родионова</td>\n",
       "      <td>79283573616</td>\n",
       "      <td>1972-11-14</td>\n",
       "      <td>48.0</td>\n",
       "      <td>FEMALE</td>\n",
       "      <td>2020-05-03</td>\n",
       "      <td>False</td>\n",
       "      <td>False</td>\n",
       "      <td>False</td>\n",
       "      <td>True</td>\n",
       "      <td>Application</td>\n",
       "      <td>Phone</td>\n",
       "    </tr>\n",
       "    <tr>\n",
       "      <th>95</th>\n",
       "      <td>2073569</td>\n",
       "      <td>2052071</td>\n",
       "      <td>Екатерина Андреевна Иванова</td>\n",
       "      <td>79218582635</td>\n",
       "      <td>1986-08-29</td>\n",
       "      <td>34.0</td>\n",
       "      <td>FEMALE</td>\n",
       "      <td>2020-05-03</td>\n",
       "      <td>False</td>\n",
       "      <td>False</td>\n",
       "      <td>True</td>\n",
       "      <td>False</td>\n",
       "      <td>Application</td>\n",
       "      <td></td>\n",
       "    </tr>\n",
       "    <tr>\n",
       "      <th>101</th>\n",
       "      <td>2222306</td>\n",
       "      <td>2198022</td>\n",
       "      <td>Мария Александровна Бочарова</td>\n",
       "      <td>79210876239</td>\n",
       "      <td>1993-03-21</td>\n",
       "      <td>27.0</td>\n",
       "      <td>FEMALE</td>\n",
       "      <td>2020-05-03</td>\n",
       "      <td>False</td>\n",
       "      <td>False</td>\n",
       "      <td>False</td>\n",
       "      <td>True</td>\n",
       "      <td>Application</td>\n",
       "      <td>Phone</td>\n",
       "    </tr>\n",
       "    <tr>\n",
       "      <th>272</th>\n",
       "      <td>3085198</td>\n",
       "      <td>3048796</td>\n",
       "      <td>Карина Васильевна Потапнина</td>\n",
       "      <td>79013569483</td>\n",
       "      <td>1992-11-03</td>\n",
       "      <td>28.0</td>\n",
       "      <td>FEMALE</td>\n",
       "      <td>2020-05-03</td>\n",
       "      <td>True</td>\n",
       "      <td>False</td>\n",
       "      <td>False</td>\n",
       "      <td>False</td>\n",
       "      <td>Application</td>\n",
       "      <td></td>\n",
       "    </tr>\n",
       "    <tr>\n",
       "      <th>...</th>\n",
       "      <td>...</td>\n",
       "      <td>...</td>\n",
       "      <td>...</td>\n",
       "      <td>...</td>\n",
       "      <td>...</td>\n",
       "      <td>...</td>\n",
       "      <td>...</td>\n",
       "      <td>...</td>\n",
       "      <td>...</td>\n",
       "      <td>...</td>\n",
       "      <td>...</td>\n",
       "      <td>...</td>\n",
       "      <td>...</td>\n",
       "      <td>...</td>\n",
       "    </tr>\n",
       "    <tr>\n",
       "      <th>7196</th>\n",
       "      <td>3567468</td>\n",
       "      <td>3530627</td>\n",
       "      <td>Ольга Дмитриевна Кашаева</td>\n",
       "      <td>79172047863</td>\n",
       "      <td>1985-08-27</td>\n",
       "      <td>35.0</td>\n",
       "      <td>FEMALE</td>\n",
       "      <td>2020-05-03</td>\n",
       "      <td>False</td>\n",
       "      <td>False</td>\n",
       "      <td>False</td>\n",
       "      <td>True</td>\n",
       "      <td>Application</td>\n",
       "      <td>Phone</td>\n",
       "    </tr>\n",
       "    <tr>\n",
       "      <th>7234</th>\n",
       "      <td>3568334</td>\n",
       "      <td>3531493</td>\n",
       "      <td>Галина Михайловна Куршакова</td>\n",
       "      <td>79212816561</td>\n",
       "      <td>1964-06-04</td>\n",
       "      <td>56.0</td>\n",
       "      <td>FEMALE</td>\n",
       "      <td>2020-05-03</td>\n",
       "      <td>False</td>\n",
       "      <td>False</td>\n",
       "      <td>True</td>\n",
       "      <td>False</td>\n",
       "      <td>Application</td>\n",
       "      <td></td>\n",
       "    </tr>\n",
       "    <tr>\n",
       "      <th>7247</th>\n",
       "      <td>3568418</td>\n",
       "      <td>3531577</td>\n",
       "      <td>Галина Ивановна Гасан</td>\n",
       "      <td>79170260451</td>\n",
       "      <td>1986-09-03</td>\n",
       "      <td>34.0</td>\n",
       "      <td>FEMALE</td>\n",
       "      <td>2020-05-03</td>\n",
       "      <td>False</td>\n",
       "      <td>False</td>\n",
       "      <td>True</td>\n",
       "      <td>False</td>\n",
       "      <td>Application</td>\n",
       "      <td></td>\n",
       "    </tr>\n",
       "    <tr>\n",
       "      <th>7255</th>\n",
       "      <td>3568450</td>\n",
       "      <td>3531609</td>\n",
       "      <td>Елена Сергеевна Серажетдинова</td>\n",
       "      <td>79121461777</td>\n",
       "      <td>1990-01-04</td>\n",
       "      <td>30.0</td>\n",
       "      <td>FEMALE</td>\n",
       "      <td>2020-05-03</td>\n",
       "      <td>False</td>\n",
       "      <td>False</td>\n",
       "      <td>False</td>\n",
       "      <td>True</td>\n",
       "      <td>Application</td>\n",
       "      <td>Phone</td>\n",
       "    </tr>\n",
       "    <tr>\n",
       "      <th>7270</th>\n",
       "      <td>3586101</td>\n",
       "      <td>3549223</td>\n",
       "      <td>Мария Ивановна Вершинина</td>\n",
       "      <td>79195818448</td>\n",
       "      <td>1949-11-02</td>\n",
       "      <td>71.0</td>\n",
       "      <td>FEMALE</td>\n",
       "      <td>2020-05-03</td>\n",
       "      <td>False</td>\n",
       "      <td>False</td>\n",
       "      <td>False</td>\n",
       "      <td>True</td>\n",
       "      <td>Application</td>\n",
       "      <td>Phone</td>\n",
       "    </tr>\n",
       "  </tbody>\n",
       "</table>\n",
       "<p>153 rows × 14 columns</p>\n",
       "</div>"
      ],
      "text/plain": [
       "      person_id  patient_id                    patient_fio        phone  \\\n",
       "9         25992       25549       Денис Сергеевич Кунгуров  79854244014   \n",
       "36       140286      130376   Лариса Анатольевна Родионова  79283573616   \n",
       "95      2073569     2052071    Екатерина Андреевна Иванова  79218582635   \n",
       "101     2222306     2198022   Мария Александровна Бочарова  79210876239   \n",
       "272     3085198     3048796    Карина Васильевна Потапнина  79013569483   \n",
       "...         ...         ...                            ...          ...   \n",
       "7196    3567468     3530627       Ольга Дмитриевна Кашаева  79172047863   \n",
       "7234    3568334     3531493    Галина Михайловна Куршакова  79212816561   \n",
       "7247    3568418     3531577          Галина Ивановна Гасан  79170260451   \n",
       "7255    3568450     3531609  Елена Сергеевна Серажетдинова  79121461777   \n",
       "7270    3586101     3549223       Мария Ивановна Вершинина  79195818448   \n",
       "\n",
       "        birthday   age     sex app_finished  is_chat  is_video  is_audio  \\\n",
       "9     1978-06-30  42.0    MALE   2020-05-03     True     False      True   \n",
       "36    1972-11-14  48.0  FEMALE   2020-05-03    False     False     False   \n",
       "95    1986-08-29  34.0  FEMALE   2020-05-03    False     False      True   \n",
       "101   1993-03-21  27.0  FEMALE   2020-05-03    False     False     False   \n",
       "272   1992-11-03  28.0  FEMALE   2020-05-03     True     False     False   \n",
       "...          ...   ...     ...          ...      ...       ...       ...   \n",
       "7196  1985-08-27  35.0  FEMALE   2020-05-03    False     False     False   \n",
       "7234  1964-06-04  56.0  FEMALE   2020-05-03    False     False      True   \n",
       "7247  1986-09-03  34.0  FEMALE   2020-05-03    False     False      True   \n",
       "7255  1990-01-04  30.0  FEMALE   2020-05-03    False     False     False   \n",
       "7270  1949-11-02  71.0  FEMALE   2020-05-03    False     False     False   \n",
       "\n",
       "      is_phone using_application using_phone  \n",
       "9        False       Application              \n",
       "36        True       Application       Phone  \n",
       "95       False       Application              \n",
       "101       True       Application       Phone  \n",
       "272      False       Application              \n",
       "...        ...               ...         ...  \n",
       "7196      True       Application       Phone  \n",
       "7234     False       Application              \n",
       "7247     False       Application              \n",
       "7255      True       Application       Phone  \n",
       "7270      True       Application       Phone  \n",
       "\n",
       "[153 rows x 14 columns]"
      ]
     },
     "execution_count": 301,
     "metadata": {},
     "output_type": "execute_result"
    }
   ],
   "source": [
    "df[df['app_finished'] == pd.Timestamp(2020,5,3)]"
   ]
  },
  {
   "cell_type": "code",
   "execution_count": null,
   "metadata": {},
   "outputs": [],
   "source": []
  },
  {
   "cell_type": "code",
   "execution_count": 302,
   "metadata": {},
   "outputs": [
    {
     "data": {
      "text/plain": [
       "patient_id  sex   \n",
       "25549       MALE      1\n",
       "130376      FEMALE    1\n",
       "2052071     FEMALE    1\n",
       "2198022     FEMALE    1\n",
       "3048796     FEMALE    1\n",
       "                     ..\n",
       "3530627     FEMALE    1\n",
       "3531493     FEMALE    1\n",
       "3531577     FEMALE    1\n",
       "3531609     FEMALE    1\n",
       "3549223     FEMALE    1\n",
       "Name: phone, Length: 146, dtype: int64"
      ]
     },
     "execution_count": 302,
     "metadata": {},
     "output_type": "execute_result"
    }
   ],
   "source": [
    "df[df['app_finished'] == pd.Timestamp(2020,5,3)].groupby(['patient_id', 'sex'])['phone'].count()"
   ]
  },
  {
   "cell_type": "code",
   "execution_count": null,
   "metadata": {},
   "outputs": [],
   "source": []
  },
  {
   "cell_type": "code",
   "execution_count": null,
   "metadata": {},
   "outputs": [],
   "source": []
  },
  {
   "cell_type": "markdown",
   "metadata": {},
   "source": [
    "### NEW_PART (2020-05-03)"
   ]
  },
  {
   "cell_type": "code",
   "execution_count": null,
   "metadata": {},
   "outputs": [],
   "source": [
    "# patients 2020-05-03"
   ]
  },
  {
   "cell_type": "code",
   "execution_count": 303,
   "metadata": {},
   "outputs": [
    {
     "data": {
      "text/plain": [
       "146"
      ]
     },
     "execution_count": 303,
     "metadata": {},
     "output_type": "execute_result"
    }
   ],
   "source": [
    "len(df[df['app_finished'] == pd.Timestamp(2020,5,3)].groupby(['patient_id', 'sex'])['phone'].count())"
   ]
  },
  {
   "cell_type": "code",
   "execution_count": null,
   "metadata": {},
   "outputs": [],
   "source": [
    "# total patients"
   ]
  },
  {
   "cell_type": "code",
   "execution_count": 304,
   "metadata": {},
   "outputs": [
    {
     "data": {
      "text/plain": [
       "2040"
      ]
     },
     "execution_count": 304,
     "metadata": {},
     "output_type": "execute_result"
    }
   ],
   "source": [
    "len(df.groupby(['patient_id', 'sex'])['phone'].count())"
   ]
  },
  {
   "cell_type": "markdown",
   "metadata": {},
   "source": [
    "-------------------------"
   ]
  },
  {
   "cell_type": "code",
   "execution_count": null,
   "metadata": {},
   "outputs": [],
   "source": []
  },
  {
   "cell_type": "code",
   "execution_count": null,
   "metadata": {},
   "outputs": [],
   "source": []
  },
  {
   "cell_type": "code",
   "execution_count": 309,
   "metadata": {},
   "outputs": [],
   "source": [
    "df_old = pd.DataFrame(df.groupby(['patient_id', 'sex'])['phone'].count().reset_index())"
   ]
  },
  {
   "cell_type": "code",
   "execution_count": 311,
   "metadata": {},
   "outputs": [
    {
     "data": {
      "text/html": [
       "<div>\n",
       "<style scoped>\n",
       "    .dataframe tbody tr th:only-of-type {\n",
       "        vertical-align: middle;\n",
       "    }\n",
       "\n",
       "    .dataframe tbody tr th {\n",
       "        vertical-align: top;\n",
       "    }\n",
       "\n",
       "    .dataframe thead th {\n",
       "        text-align: right;\n",
       "    }\n",
       "</style>\n",
       "<table border=\"1\" class=\"dataframe\">\n",
       "  <thead>\n",
       "    <tr style=\"text-align: right;\">\n",
       "      <th></th>\n",
       "      <th>patient_id</th>\n",
       "      <th>sex</th>\n",
       "      <th>phone</th>\n",
       "    </tr>\n",
       "  </thead>\n",
       "  <tbody>\n",
       "    <tr>\n",
       "      <th>0</th>\n",
       "      <td>3836</td>\n",
       "      <td>MALE</td>\n",
       "      <td>3</td>\n",
       "    </tr>\n",
       "    <tr>\n",
       "      <th>4</th>\n",
       "      <td>25549</td>\n",
       "      <td>MALE</td>\n",
       "      <td>8</td>\n",
       "    </tr>\n",
       "    <tr>\n",
       "      <th>8</th>\n",
       "      <td>67763</td>\n",
       "      <td>FEMALE</td>\n",
       "      <td>4</td>\n",
       "    </tr>\n",
       "    <tr>\n",
       "      <th>10</th>\n",
       "      <td>76628</td>\n",
       "      <td>MALE</td>\n",
       "      <td>2</td>\n",
       "    </tr>\n",
       "    <tr>\n",
       "      <th>11</th>\n",
       "      <td>84640</td>\n",
       "      <td>FEMALE</td>\n",
       "      <td>3</td>\n",
       "    </tr>\n",
       "    <tr>\n",
       "      <th>...</th>\n",
       "      <td>...</td>\n",
       "      <td>...</td>\n",
       "      <td>...</td>\n",
       "    </tr>\n",
       "    <tr>\n",
       "      <th>2021</th>\n",
       "      <td>3531555</td>\n",
       "      <td>FEMALE</td>\n",
       "      <td>2</td>\n",
       "    </tr>\n",
       "    <tr>\n",
       "      <th>2023</th>\n",
       "      <td>3531577</td>\n",
       "      <td>FEMALE</td>\n",
       "      <td>6</td>\n",
       "    </tr>\n",
       "    <tr>\n",
       "      <th>2024</th>\n",
       "      <td>3531602</td>\n",
       "      <td>MALE</td>\n",
       "      <td>5</td>\n",
       "    </tr>\n",
       "    <tr>\n",
       "      <th>2025</th>\n",
       "      <td>3531609</td>\n",
       "      <td>FEMALE</td>\n",
       "      <td>2</td>\n",
       "    </tr>\n",
       "    <tr>\n",
       "      <th>2031</th>\n",
       "      <td>3531743</td>\n",
       "      <td>FEMALE</td>\n",
       "      <td>2</td>\n",
       "    </tr>\n",
       "  </tbody>\n",
       "</table>\n",
       "<p>1382 rows × 3 columns</p>\n",
       "</div>"
      ],
      "text/plain": [
       "      patient_id     sex  phone\n",
       "0           3836    MALE      3\n",
       "4          25549    MALE      8\n",
       "8          67763  FEMALE      4\n",
       "10         76628    MALE      2\n",
       "11         84640  FEMALE      3\n",
       "...          ...     ...    ...\n",
       "2021     3531555  FEMALE      2\n",
       "2023     3531577  FEMALE      6\n",
       "2024     3531602    MALE      5\n",
       "2025     3531609  FEMALE      2\n",
       "2031     3531743  FEMALE      2\n",
       "\n",
       "[1382 rows x 3 columns]"
      ]
     },
     "execution_count": 311,
     "metadata": {},
     "output_type": "execute_result"
    }
   ],
   "source": [
    "df_old[df_old['phone'] > 1]"
   ]
  },
  {
   "cell_type": "code",
   "execution_count": null,
   "metadata": {},
   "outputs": [],
   "source": []
  },
  {
   "cell_type": "markdown",
   "metadata": {},
   "source": [
    "### MORE THAN 1 CONS"
   ]
  },
  {
   "cell_type": "code",
   "execution_count": null,
   "metadata": {},
   "outputs": [],
   "source": [
    "# more than 1 consultation"
   ]
  },
  {
   "cell_type": "code",
   "execution_count": 312,
   "metadata": {},
   "outputs": [
    {
     "data": {
      "text/plain": [
       "1382"
      ]
     },
     "execution_count": 312,
     "metadata": {},
     "output_type": "execute_result"
    }
   ],
   "source": [
    "len(df_old[df_old['phone'] > 1])"
   ]
  },
  {
   "cell_type": "code",
   "execution_count": null,
   "metadata": {},
   "outputs": [],
   "source": [
    "# total consultations"
   ]
  },
  {
   "cell_type": "code",
   "execution_count": 319,
   "metadata": {},
   "outputs": [
    {
     "data": {
      "text/plain": [
       "6614"
      ]
     },
     "execution_count": 319,
     "metadata": {},
     "output_type": "execute_result"
    }
   ],
   "source": [
    "df_old['phone'][df_old['phone'] > 1].sum(axis=0)"
   ]
  },
  {
   "cell_type": "markdown",
   "metadata": {},
   "source": [
    "------------------------------"
   ]
  },
  {
   "cell_type": "code",
   "execution_count": null,
   "metadata": {},
   "outputs": [],
   "source": []
  },
  {
   "cell_type": "code",
   "execution_count": 326,
   "metadata": {},
   "outputs": [],
   "source": [
    "df_male_female = pd.DataFrame(df.groupby(['sex', 'patient_id'])['phone'].count().reset_index())"
   ]
  },
  {
   "cell_type": "code",
   "execution_count": 329,
   "metadata": {},
   "outputs": [
    {
     "data": {
      "text/plain": [
       "sex\n",
       "FEMALE    6207\n",
       "MALE      1065\n",
       "Name: phone, dtype: int64"
      ]
     },
     "execution_count": 329,
     "metadata": {},
     "output_type": "execute_result"
    }
   ],
   "source": [
    "df_male_female.groupby('sex')['phone'].sum()"
   ]
  },
  {
   "cell_type": "code",
   "execution_count": null,
   "metadata": {},
   "outputs": [],
   "source": []
  },
  {
   "cell_type": "markdown",
   "metadata": {},
   "source": [
    "### SEX PARTITION"
   ]
  },
  {
   "cell_type": "code",
   "execution_count": 337,
   "metadata": {},
   "outputs": [
    {
     "data": {
      "text/plain": [
       "6207"
      ]
     },
     "execution_count": 337,
     "metadata": {},
     "output_type": "execute_result"
    }
   ],
   "source": [
    "df_male_female[df_male_female['sex'] == 'FEMALE'].groupby('sex')['phone'].sum()[0]"
   ]
  },
  {
   "cell_type": "code",
   "execution_count": 338,
   "metadata": {},
   "outputs": [
    {
     "data": {
      "text/plain": [
       "1065"
      ]
     },
     "execution_count": 338,
     "metadata": {},
     "output_type": "execute_result"
    }
   ],
   "source": [
    "df_male_female[df_male_female['sex'] == 'MALE'].groupby('sex')['phone'].sum()[0]"
   ]
  },
  {
   "cell_type": "markdown",
   "metadata": {},
   "source": [
    "----------------------"
   ]
  },
  {
   "cell_type": "code",
   "execution_count": null,
   "metadata": {},
   "outputs": [],
   "source": []
  },
  {
   "cell_type": "code",
   "execution_count": 339,
   "metadata": {},
   "outputs": [],
   "source": [
    "df_aged = pd.DataFrame(df)"
   ]
  },
  {
   "cell_type": "code",
   "execution_count": 341,
   "metadata": {},
   "outputs": [],
   "source": [
    "df_aged['age_cat'] = df_aged['age'].apply(lambda age: (age < 30 and 1) or (age < 40 and 2) or (age < 50 and 3) \n",
    "                                          or (age > 49 and 4))"
   ]
  },
  {
   "cell_type": "code",
   "execution_count": 346,
   "metadata": {},
   "outputs": [
    {
     "data": {
      "text/html": [
       "<div>\n",
       "<style scoped>\n",
       "    .dataframe tbody tr th:only-of-type {\n",
       "        vertical-align: middle;\n",
       "    }\n",
       "\n",
       "    .dataframe tbody tr th {\n",
       "        vertical-align: top;\n",
       "    }\n",
       "\n",
       "    .dataframe thead th {\n",
       "        text-align: right;\n",
       "    }\n",
       "</style>\n",
       "<table border=\"1\" class=\"dataframe\">\n",
       "  <thead>\n",
       "    <tr style=\"text-align: right;\">\n",
       "      <th></th>\n",
       "      <th>person_id</th>\n",
       "      <th>patient_id</th>\n",
       "      <th>patient_fio</th>\n",
       "      <th>phone</th>\n",
       "      <th>birthday</th>\n",
       "      <th>age</th>\n",
       "      <th>sex</th>\n",
       "      <th>app_finished</th>\n",
       "      <th>is_chat</th>\n",
       "      <th>is_video</th>\n",
       "      <th>is_audio</th>\n",
       "      <th>is_phone</th>\n",
       "      <th>using_application</th>\n",
       "      <th>using_phone</th>\n",
       "      <th>age_cat</th>\n",
       "    </tr>\n",
       "  </thead>\n",
       "  <tbody>\n",
       "    <tr>\n",
       "      <th>0</th>\n",
       "      <td>4076</td>\n",
       "      <td>3836</td>\n",
       "      <td>Анонимp4545 Анонимp4545</td>\n",
       "      <td>79852533418</td>\n",
       "      <td>2000-01-01</td>\n",
       "      <td>20.0</td>\n",
       "      <td>MALE</td>\n",
       "      <td>2020-04-22</td>\n",
       "      <td>False</td>\n",
       "      <td>False</td>\n",
       "      <td>True</td>\n",
       "      <td>False</td>\n",
       "      <td>Application</td>\n",
       "      <td></td>\n",
       "      <td>1</td>\n",
       "    </tr>\n",
       "    <tr>\n",
       "      <th>1</th>\n",
       "      <td>4076</td>\n",
       "      <td>3836</td>\n",
       "      <td>Анонимp4545 Анонимp4545</td>\n",
       "      <td>79852533418</td>\n",
       "      <td>2000-01-01</td>\n",
       "      <td>20.0</td>\n",
       "      <td>MALE</td>\n",
       "      <td>2020-04-28</td>\n",
       "      <td>False</td>\n",
       "      <td>True</td>\n",
       "      <td>False</td>\n",
       "      <td>False</td>\n",
       "      <td>Application</td>\n",
       "      <td></td>\n",
       "      <td>1</td>\n",
       "    </tr>\n",
       "    <tr>\n",
       "      <th>2</th>\n",
       "      <td>4076</td>\n",
       "      <td>3836</td>\n",
       "      <td>Анонимp4545 Анонимp4545</td>\n",
       "      <td>79852533418</td>\n",
       "      <td>2000-01-01</td>\n",
       "      <td>20.0</td>\n",
       "      <td>MALE</td>\n",
       "      <td>2020-04-29</td>\n",
       "      <td>False</td>\n",
       "      <td>True</td>\n",
       "      <td>False</td>\n",
       "      <td>False</td>\n",
       "      <td>Application</td>\n",
       "      <td></td>\n",
       "      <td>1</td>\n",
       "    </tr>\n",
       "    <tr>\n",
       "      <th>3</th>\n",
       "      <td>7515</td>\n",
       "      <td>7220</td>\n",
       "      <td>Зульфия Альбертовна Сагундукова</td>\n",
       "      <td>79600348591</td>\n",
       "      <td>1992-04-24</td>\n",
       "      <td>28.0</td>\n",
       "      <td>FEMALE</td>\n",
       "      <td>2020-04-27</td>\n",
       "      <td>False</td>\n",
       "      <td>True</td>\n",
       "      <td>False</td>\n",
       "      <td>False</td>\n",
       "      <td>Application</td>\n",
       "      <td></td>\n",
       "      <td>1</td>\n",
       "    </tr>\n",
       "    <tr>\n",
       "      <th>4</th>\n",
       "      <td>10362</td>\n",
       "      <td>9972</td>\n",
       "      <td>Алексей Сергеевич Поляков</td>\n",
       "      <td>79268799198</td>\n",
       "      <td>1999-09-08</td>\n",
       "      <td>21.0</td>\n",
       "      <td>MALE</td>\n",
       "      <td>2020-04-28</td>\n",
       "      <td>True</td>\n",
       "      <td>False</td>\n",
       "      <td>True</td>\n",
       "      <td>False</td>\n",
       "      <td>Application</td>\n",
       "      <td></td>\n",
       "      <td>1</td>\n",
       "    </tr>\n",
       "  </tbody>\n",
       "</table>\n",
       "</div>"
      ],
      "text/plain": [
       "   person_id  patient_id                      patient_fio        phone  \\\n",
       "0       4076        3836          Анонимp4545 Анонимp4545  79852533418   \n",
       "1       4076        3836          Анонимp4545 Анонимp4545  79852533418   \n",
       "2       4076        3836          Анонимp4545 Анонимp4545  79852533418   \n",
       "3       7515        7220  Зульфия Альбертовна Сагундукова  79600348591   \n",
       "4      10362        9972        Алексей Сергеевич Поляков  79268799198   \n",
       "\n",
       "     birthday   age     sex app_finished  is_chat  is_video  is_audio  \\\n",
       "0  2000-01-01  20.0    MALE   2020-04-22    False     False      True   \n",
       "1  2000-01-01  20.0    MALE   2020-04-28    False      True     False   \n",
       "2  2000-01-01  20.0    MALE   2020-04-29    False      True     False   \n",
       "3  1992-04-24  28.0  FEMALE   2020-04-27    False      True     False   \n",
       "4  1999-09-08  21.0    MALE   2020-04-28     True     False      True   \n",
       "\n",
       "   is_phone using_application using_phone  age_cat  \n",
       "0     False       Application                    1  \n",
       "1     False       Application                    1  \n",
       "2     False       Application                    1  \n",
       "3     False       Application                    1  \n",
       "4     False       Application                    1  "
      ]
     },
     "execution_count": 346,
     "metadata": {},
     "output_type": "execute_result"
    }
   ],
   "source": [
    "df_aged.head()"
   ]
  },
  {
   "cell_type": "code",
   "execution_count": 385,
   "metadata": {},
   "outputs": [],
   "source": [
    "#fig, axes = plt.subplots(1, 4, figsize=(24, 6))\n",
    "#df_aged[df_aged['age_cat'] == 1]['age'].value_counts().sort_index().plot.bar(ax=axes[0], color='green')\n",
    "#axes[0].set_title(\"Under 30\", fontsize=18)\n",
    "#df_aged[df_aged['age_cat'] == 2]['age'].value_counts().sort_index().plot.bar(ax=axes[1], color='blue')\n",
    "#axes[1].set_title(\"Under 40\", fontsize=18)\n",
    "#df_aged[df_aged['age_cat'] == 3]['age'].value_counts().sort_index().plot.bar(ax=axes[2], color='black')\n",
    "#axes[2].set_title(\"Under 50\", fontsize=18)\n",
    "#df_aged[df_aged['age_cat'] == 4]['age'].value_counts().sort_index().plot.bar(ax=axes[3], color='black')\n",
    "#axes[3].set_title(\"Over 50\", fontsize=18)\n"
   ]
  },
  {
   "cell_type": "code",
   "execution_count": null,
   "metadata": {},
   "outputs": [],
   "source": []
  },
  {
   "cell_type": "code",
   "execution_count": 384,
   "metadata": {},
   "outputs": [
    {
     "data": {
      "image/png": "[encoded data removed]",
      "text/plain": [
       "<Figure size 1152x576 with 4 Axes>"
      ]
     },
     "metadata": {
      "needs_background": "light"
     },
     "output_type": "display_data"
    }
   ],
   "source": [
    "fig, axes = plt.subplots(2, 2, figsize=(16, 8))\n",
    "\n",
    "df_aged[df_aged['age_cat'] == 1]['age'].value_counts().sort_index().plot.bar(\n",
    "    ax=axes[0][0], fontsize=12, color='forestgreen'\n",
    ")\n",
    "axes[0][0].set_title(\"0-30\", fontsize=18)\n",
    "\n",
    "df_aged[df_aged['age_cat'] == 2]['age'].value_counts().sort_index().plot.bar(\n",
    "    ax=axes[0][1], fontsize=12, color='blue'\n",
    ")\n",
    "axes[0][1].set_title(\"30-40\", fontsize=18)\n",
    "\n",
    "df_aged[df_aged['age_cat'] == 3]['age'].value_counts().sort_index().plot.bar(\n",
    "    ax=axes[1][0], fontsize=12, color='gray'\n",
    ")\n",
    "axes[1][0].set_title(\"40-50\", fontsize=18)\n",
    "\n",
    "df_aged[df_aged['age_cat'] == 4]['age'].value_counts().sort_index().plot.bar(\n",
    "    ax=axes[1][1], fontsize=12, color='black'\n",
    ")\n",
    "axes[1][1].set_title(\"More 50\", fontsize=18)\n",
    "    \n",
    "plt.subplots_adjust(hspace=.5)"
   ]
  },
  {
   "cell_type": "code",
   "execution_count": null,
   "metadata": {},
   "outputs": [],
   "source": []
  },
  {
   "cell_type": "code",
   "execution_count": null,
   "metadata": {},
   "outputs": [],
   "source": []
  },
  {
   "cell_type": "markdown",
   "metadata": {},
   "source": [
    "# FAST RABBIT"
   ]
  },
  {
   "cell_type": "code",
   "execution_count": 1,
   "metadata": {},
   "outputs": [],
   "source": [
    "import configparser\n",
    "import unittest\n",
    "import datetime\n",
    "import sys\n",
    "import pandas as pd\n",
    "\n",
    "\n",
    "# from tqdm import tqdm_notebook\n",
    "\n",
    "sys.path.append(\"/home/sergey/drclinics/common\")\n",
    "from universal_connection import UniversalConnection, DBType\n",
    "\n",
    "sys.path.append(\"/home/sergey/drclinics/reports\")\n",
    "# from report_utils import excel_report\n",
    "\n",
    "from connect_platform import connect_telemed\n",
    "\n",
    "import numpy as np\n",
    "from log import log"
   ]
  },
  {
   "cell_type": "code",
   "execution_count": 2,
   "metadata": {},
   "outputs": [],
   "source": [
    "participants = pd.read_excel('ВЭБМЕД участники опроса.xlsx')"
   ]
  },
  {
   "cell_type": "code",
   "execution_count": 4,
   "metadata": {},
   "outputs": [],
   "source": [
    "temp_ph = []\n",
    "for i in range(participants.shape[0]):\n",
    "    temp_ph.append(str(participants['phone'][i]))"
   ]
  },
  {
   "cell_type": "code",
   "execution_count": 5,
   "metadata": {},
   "outputs": [],
   "source": [
    "ph = \"'\" + \"', '\".join(temp_ph) + \"'\""
   ]
  },
  {
   "cell_type": "code",
   "execution_count": 7,
   "metadata": {},
   "outputs": [],
   "source": [
    "regions_dict = {\n",
    "                'Алтайский край':'Алтайский край',\n",
    "                'Амурская обл.':'Амурская область',\n",
    "                'Архангельская обл.':'Архангельская область',\n",
    "                'Архангельская область и Ненецкий автономный округ':'Архангельская область',\n",
    "                'Астраханская обл.':'Астраханская область',\n",
    "                'Белгородская обл.':'Белгородская область',\n",
    "                'Брянская обл.':'Брянская область',\n",
    "                'Владимирская обл.':'Владимирская область',\n",
    "                'Волгоградская обл.':'Волгоградская область',\n",
    "                'Волгоградская область':'Волгоградская область',\n",
    "                'Вологодская обл.':'Вологодская область',\n",
    "                'Воронежская обл.':'Воронежская область',\n",
    "                'Воронежская область':'Воронежская область',\n",
    "                'г. Владимир|Владимирская обл.':'Владимирская область',\n",
    "                'г. Кострома|р-н Костромской|Костромская обл.':'Костромская область',\n",
    "                'г. Москва и Московская область':'Москва и Московская область',\n",
    "                'г. Норильск|Красноярский край':'Красноярский край',\n",
    "                'г. Псков|Псковская обл.':'Псковская область',\n",
    "                'г. Санкт - Петербург и Ленинградская область':'Санкт-Петербург',\n",
    "                'г. Санкт-Петербург и Ленинградская область':'Санкт-Петербург',\n",
    "                'г. Севастополь':'Севастополь',\n",
    "                'г. Сочи|Краснодарский край':'Краснодарский край',\n",
    "                'Еврейская автономная обл.':'Еврейская автономная область',\n",
    "                'Забайкальский край':'Забайкальский край',\n",
    "                'Ивановская обл.':'Ивановская область',\n",
    "                'Иркутская обл.':'Иркутская область',\n",
    "                'Иркутская область':'Иркутская область',\n",
    "                'Кабардино-Балкарская Республика':'Кабардино-Балкарская Республика',\n",
    "                'Калининградская обл.':'Калининградская область',\n",
    "                'Калужская обл.':'Калужская область',\n",
    "                'Камчатский край':'Камчатский край',\n",
    "                'Карачаево-Черкесская Республика':'Карачаево-Черкесская Республика',\n",
    "                'Кемеровская обл.':'Кемеровская область',\n",
    "                'Кировская обл.':'Кировская область',\n",
    "                'Корякский округ|Камчатский край':'Камчатский край',\n",
    "                'Костромская обл.':'Костромская область',\n",
    "                'Краснодарский край':'Краснодарский край',\n",
    "                'Красноярский край':'Красноярский край',\n",
    "                'Курганская обл.':'Курганская область',\n",
    "                'Курская обл.':'Курская область',\n",
    "                'Липецкая обл.':'Липецкая область',\n",
    "                'Магаданская обл.':'Магаданская область',\n",
    "                'Мурманская обл.':'Мурманская область',\n",
    "                'Ненецкий АО':'Ненецкий автономный округ',\n",
    "                'Нижегородская обл.':'Нижегородская область',\n",
    "                'Новгородская обл.':'Новгородская область',\n",
    "                'Новосибирская обл.':'Новосибирская область',\n",
    "                'Омская обл.':'Омская область',\n",
    "                'Оренбургская обл.':'Оренбургская область',\n",
    "                'Орловская обл.':'Орловская область',\n",
    "                'Пензенская обл.':'Пензенская область',\n",
    "                'Пермский край':'Пермский край',\n",
    "                'Приморский край':'Приморский край',\n",
    "                'Псковская обл.':'Псковская область',\n",
    "                'р-ны Абзелиловский и Белорецкий|р-ны Абзелиловский и Белорецкий':'Республика Башкортостан',\n",
    "                'Республика Адыгея':'Республика Адыгея',\n",
    "                'Республика Алтай':'Республика Алтай',\n",
    "                'Республика Башкортостан':'Республика Башкортостан',\n",
    "                'Республика Бурятия':'Республика Бурятия',\n",
    "                'Республика Дагестан':'Республика Дагестан',\n",
    "                'Республика Ингушетия':'Республика Ингушетия',\n",
    "                'Республика Кабардино-Балкарская':'Кабардино-Балкарская Республика',\n",
    "                'Республика Калмыкия':'Республика Калмыкия',\n",
    "                'Республика Карачаево-Черкесская':'Карачаево-Черкесская Республика',\n",
    "                'Республика Карелия':'Республика Карелия',\n",
    "                'Республика Коми':'Республика Коми',\n",
    "                'Республика Крым':'Республика Крым',\n",
    "                'Республика Крым и г. Севастополь':'Севастополь',\n",
    "                'Республика Марий Эл':'Республика Марий Эл',\n",
    "                'Республика Мордовия':'Республика Мордовия',\n",
    "                'Республика Саха /Якутия/':'Республика Саха Якутия',\n",
    "                'Республика Северная Осетия - Алания':'Республика Северная Осетия — Алания',\n",
    "                'Республика Татарстан':'Республика Татарстан',\n",
    "                'Республика Тыва':'Республика Тыва',\n",
    "                'Республика Удмуртская':'Удмуртская Республика',\n",
    "                'Республика Хакасия':'Республика Хакасия',\n",
    "                'Российская Федерация':'Неизвестный регион',\n",
    "                'Ростовская обл.':'Ростовская область',\n",
    "                'Ростовская область':'Ростовская область',\n",
    "                'Рязанская обл.':'Рязанская область',\n",
    "                'Самарская обл.':'Самарская область',\n",
    "                'Самарская область':'Самарская область',\n",
    "                'Саратовская обл.':'Саратовская область',\n",
    "                'Сахалинская обл.':'Сахалинская область',\n",
    "                'Свердловская обл.':'Свердловская область',\n",
    "                'Свердловская область':'Свердловская область',\n",
    "                'Смоленская обл.':'Смоленская область',\n",
    "                'Смоленская область':'Смоленская область',\n",
    "                'Ставропольский край':'Ставропольский край',\n",
    "                'Сургутский район и г. Сургут':'Ханты-Мансийский автономный округ',\n",
    "                'Тамбовская обл.':'Тамбовская область',\n",
    "                'Тверская обл.':'Тверская область',\n",
    "                'Томская обл.':'Томская область',\n",
    "                'Томская область':'Томская область',\n",
    "                'Тульская обл.':'Тульская область',\n",
    "                'Тюменская обл.':'Тюменская область',\n",
    "                'Тюменская область':'Тюменская область',\n",
    "                'Удмуртская Республика':'Удмуртская Республика',\n",
    "                'Ульяновская обл.':'Ульяновская область',\n",
    "                'Хабаровский край':'Хабаровский край',\n",
    "                'Ханты - Мансийский - Югра АО':'Ханты-Мансийский автономный округ',\n",
    "                'Челябинская обл.':'Челябинская область',\n",
    "                'Челябинская область':'Челябинская область',\n",
    "                'Чеченская Республика':'Чеченская Республика',\n",
    "                'Чувашская Республика':'Чувашская Республика',\n",
    "                'Чувашская Республика - Чувашия':'Чувашская Республика',\n",
    "                'Чукотский АО':'Чукотский автономный округ',\n",
    "                'Ямало-Ненецкий АО':'Ямало-Ненецкий автономный округ',\n",
    "                'Ярославская обл.':'Ярославская область',\n",
    "                'Москва':'Москва и Московская область',\n",
    "                'Московская область':'Москва и Московская область',\n",
    "                'Алматы':'Алматы',\n",
    "                'Брестская область':'Брестская область',\n",
    "                'Витебская область':'Витебская область',\n",
    "                'Восточно-Казахстанская область':'Восточно-Казахстанская область',\n",
    "                'город республиканского значения Нур-Султан':'город республиканского значения Нур-Султан',\n",
    "                'Донецкая область':'Донецкая область',\n",
    "                'Ереван':'Ереван',\n",
    "                'Ленинградская область':'Санкт-Петербург',\n",
    "                'Минск':'Минск',\n",
    "                'Минская область':'Минская область',\n",
    "                'муниципалитет Тбилиси':'муниципалитет Тбилиси',\n",
    "                'Северо-Западный федеральный округ':'Санкт-Петербург',\n",
    "                'Северо-Казахстанская область':'Северо-Казахстанская область',\n",
    "                'Центральный федеральный округ':'Москва и Московская область',\n",
    "                'Киев':'Киев',\n",
    "                'Magnesia ad Sipylum':'Неизвестный регион',\n",
    "                'Wattala':'Неизвестный регион',\n",
    "                'автономное сообщество Андалусия':'Неизвестный регион',\n",
    "                'автономное сообщество Валенсия':'Неизвестный регион',\n",
    "                'Англия':'Неизвестный регион',\n",
    "                'Анкара':'Неизвестный регион',\n",
    "                'Анталья':'Неизвестный регион',\n",
    "                'Армавирская область':'Неизвестный регион',\n",
    "                'Атырауская область':'Неизвестный регион',\n",
    "                'Берлин':'Неизвестный регион',\n",
    "                'Будапешт':'Неизвестный регион',\n",
    "                'Бурса':'Неизвестный регион',\n",
    "                'Вена':'Неизвестный регион',\n",
    "                'Вестра-Гёталанд':'Неизвестный регион',\n",
    "                'Виктория':'Неизвестный регион',\n",
    "                'Гессен':'Неизвестный регион',\n",
    "                'Джорджия':'Неизвестный регион',\n",
    "                'Иль-де-Франс':'Неизвестный регион',\n",
    "                'Истарская жупания':'Неизвестный регион',\n",
    "                'Калифорния':'Неизвестный регион',\n",
    "                'Каталония':'Неизвестный регион',\n",
    "                'Кыршехир':'Неизвестный регион',\n",
    "                'Ломбардия':'Неизвестный регион',\n",
    "                'Мангистауская область':'Неизвестный регион',\n",
    "                'Марыйский велаят':'Неизвестный регион',\n",
    "                'Норд-Брабант':'Неизвестный регион',\n",
    "                'Норд-Холланд':'Неизвестный регион',\n",
    "                'область Варна':'Неизвестный регион',\n",
    "                'префектура Токио':'Неизвестный регион',\n",
    "                'Прованс-Альпы-Лазурный Берег':'Неизвестный регион',\n",
    "                'провинция Бали':'Неизвестный регион',\n",
    "                'провинция Кханьхоа':'Неизвестный регион',\n",
    "                'провинция Онтарио':'Неизвестный регион',\n",
    "                'Пусан':'Неизвестный регион',\n",
    "                'Пхукет':'Неизвестный регион',\n",
    "                'Северный Рейн-Вестфалия':'Неизвестный регион',\n",
    "                'Стокгольм':'Неизвестный регион',\n",
    "                'столичный регион Брюссель':'Неизвестный регион',\n",
    "                'Сулия':'Неизвестный регион',\n",
    "                'Тоскана':'Неизвестный регион',\n",
    "                'Утрехт':'Неизвестный регион',\n",
    "                'Уусимаа':'Неизвестный регион',\n",
    "                'Цюрих':'Неизвестный регион',\n",
    "                'штат Мэриленд':'Неизвестный регион',\n",
    "                'штат Нью-Йорк':'Неизвестный регион',\n",
    "                'штат Флорида':'Неизвестный регион',\n",
    "                'эмират Дубай':'Неизвестный регион',\n",
    "                'эмират Рас-эль-Хайма':'Неизвестный регион'\n",
    "}"
   ]
  },
  {
   "cell_type": "code",
   "execution_count": 8,
   "metadata": {},
   "outputs": [],
   "source": [
    "def phone_base():\n",
    "    base = pd.read_csv('DEF.csv')\n",
    "    \n",
    "    column_base = ['code', 'start', 'end', 'capacity', 'operator', 'region']\n",
    "    base.columns = column_base\n",
    "    \n",
    "    return base"
   ]
  },
  {
   "cell_type": "code",
   "execution_count": 9,
   "metadata": {},
   "outputs": [],
   "source": [
    "def phone_base_nikita():\n",
    "    base = pd.read_csv('phone_city_map.csv')\n",
    "    \n",
    "    column_base = ['idx', 'phone', 'region']\n",
    "    base['phone'] = base['phone'].astype(str)\n",
    "    base.columns = column_base\n",
    "    base['clean_region'] = ''\n",
    "    \n",
    "    for i in range(base.shape[0]):\n",
    "        temp = base['region'][i].replace('(', '').replace(')', '').replace(\"'\",\" \")\n",
    "        temp = list(temp.split(','))\n",
    "        for j in range(len(temp)):\n",
    "            temp[j] = temp[j].strip()\n",
    "            \n",
    "        temp = [x for x in temp if x]\n",
    "        if not temp:\n",
    "            temp = ['Заглушка','Неизвестный регион']\n",
    "        elif len(temp) == 1:\n",
    "            temp.insert(0, 'Заглушка')\n",
    "        \n",
    "        base['clean_region'][i] = temp\n",
    "    \n",
    "    return base"
   ]
  },
  {
   "cell_type": "code",
   "execution_count": 10,
   "metadata": {},
   "outputs": [
    {
     "name": "stderr",
     "output_type": "stream",
     "text": [
      "/home/sergey/anaconda3/lib/python3.7/site-packages/ipykernel_launcher.py:21: SettingWithCopyWarning: \n",
      "A value is trying to be set on a copy of a slice from a DataFrame\n",
      "\n",
      "See the caveats in the documentation: https://pandas.pydata.org/pandas-docs/stable/user_guide/indexing.html#returning-a-view-versus-a-copy\n"
     ]
    }
   ],
   "source": [
    "def get_region_by_two_bases(phone, base=phone_base(), base_n=phone_base_nikita()):\n",
    "    if type(phone) != str:\n",
    "        phone = str(phone)\n",
    "    phone = ''.join(i for i in phone if i.isdigit())    \n",
    "    if phone[0] == '8':\n",
    "        phone = '7'+ phone[1:]\n",
    "    if len(phone) != 11:\n",
    "        return 'Неизвестный регион'\n",
    "    \n",
    "    try:\n",
    "        return base_n.loc[(base_n['phone'] == phone)]['clean_region'].to_list()[0][1]\n",
    "    except:\n",
    "        return base.loc[(base['code'] == int(phone[1:4])) &\n",
    "                    (base['start'] <= int(phone[4:])) &\n",
    "                    (base['end'] >= int(phone[4:]))\n",
    "                    ]['region'].to_string(index=False).strip()"
   ]
  },
  {
   "cell_type": "code",
   "execution_count": 11,
   "metadata": {},
   "outputs": [],
   "source": [
    "def clean_region(region, dictionary=regions_dict):\n",
    "    if region in dictionary:\n",
    "        return dictionary[region]\n",
    "    return 'Неизвестный регион'"
   ]
  },
  {
   "cell_type": "code",
   "execution_count": 12,
   "metadata": {},
   "outputs": [],
   "source": [
    "sql = \"\"\"\n",
    "select \tper.id person_id,\n",
    "\t\tpatient.id patient_id,\n",
    "\t\tconcat_ws(' ', per.first_name, per.middle_name, per.last_name) patient_fio,\n",
    "\t\tper.phone,\n",
    "\t\tper.birthday,\n",
    "\t\tdate_part('year', timezone('Europe/Moscow', now() - \n",
    "\t\t\t(extract(hour from now())) * interval '1 hour' - \n",
    "\t\t\t(extract(minute from now())) * interval '1 minute' - \n",
    "\t\t\t(extract(second from now())) * interval '1 second')) - \n",
    "\t\t\tdate_part('year', per.birthday) age,\n",
    "\t\tper.sex,\n",
    "\t\tdate(a.finished + 3 * interval '1 hour') app_finished,\n",
    "\t\t'CHAT' in (\n",
    "            select reference.code\n",
    "            from appointment_connection_type\n",
    "    \t\tleft join reference on reference.id = appointment_connection_type.reference_id\n",
    "    \t\twhere a.id = appointment_connection_type.appointment_id\n",
    "    \t\t) as is_chat,\n",
    "        'VIDEO' in (\n",
    "            select reference.code\n",
    "            from appointment_connection_type\n",
    "    \t\tleft join reference on reference.id = appointment_connection_type.reference_id\n",
    "    \t\twhere a.id = appointment_connection_type.appointment_id\n",
    "    \t\t) as is_video,\n",
    "        'AUDIO' in (\n",
    "            select reference.code\n",
    "            from appointment_connection_type\n",
    "    \t\tleft join reference on reference.id = appointment_connection_type.reference_id\n",
    "    \t\twhere a.id = appointment_connection_type.appointment_id\n",
    "    \t\t) as is_audio,\n",
    "        'PHONE' in (\n",
    "            select reference.code\n",
    "            from appointment_connection_type\n",
    "    \t\tleft join reference on reference.id = appointment_connection_type.reference_id\n",
    "    \t\twhere a.id = appointment_connection_type.appointment_id\n",
    "    \t\t) as is_phone\n",
    "from person per\n",
    "inner join patient on per.id = patient.person_id \n",
    "inner join appointment a on a.patient_id = patient.id\n",
    "left join promotion promo on a.promotion_id = promo.id\n",
    "where a.finished at time zone 'UTC' > '2020-03-30'\n",
    "and promo.description_tsvector = 'телемедицина_вэб'\n",
    "and phone in ({})\n",
    "and a.good\n",
    "  and not (\n",
    "    a.patient_id in (\n",
    "        select patient_id\n",
    "        from patient_categories pcat\n",
    "        inner join reference rf\n",
    "           on rf.id=pcat.reference_id\n",
    "        where rf.code='TEST'\n",
    "        )\n",
    "    or lower(a.report_comment)='тест'\n",
    "    )\n",
    "order by patient.id\n",
    "\"\"\".format(ph)"
   ]
  },
  {
   "cell_type": "code",
   "execution_count": 13,
   "metadata": {},
   "outputs": [
    {
     "name": "stdout",
     "output_type": "stream",
     "text": [
      "2020-05-07 12:09:23 connect to postgres database using config file \"/home/sergey/drclinics/common/../.credentials/telemed/prom.cfg\"\n",
      "2020-05-07 12:09:23 creating ssh tunnel to 172.16.100.19 as root...\n",
      "2020-05-07 12:09:24 connect postgres using parameters:\n",
      "                    database: telemed\n",
      "\t\t\t\t    user: norekhov\n",
      "\t\t\t\t    password: ***masked***\n",
      "\t\t\t\t    host: localhost\n",
      "\t\t\t\t    port: 37827\n",
      "2020-05-07 12:09:24 @telemed: execute sql:\n",
      "\t\t\t\t    SET TIME ZONE 'Europe/Moscow'\n",
      "\t\t\t\t    None\n",
      "2020-05-07 12:09:24 @telemed query:\n",
      "                    select \tper.id person_id,\n",
      "\t\t\t\t    \t\tpatient.id patient_id,\n",
      "\t\t\t\t    \t\tconcat_ws(' ', per.first_name, per.middle_name, per.last_name) patient_fio,\n",
      "\t\t\t\t    \t\tper.phone,\n",
      "\t\t\t\t    \t\tper.birthday,\n",
      "\t\t\t\t    \t\tdate_part('year', timezone('Europe/Moscow', now() - \n",
      "\t\t\t\t    \t\t\t(extract(hour from now())) * interval '1 hour' - \n",
      "\t\t\t\t    \t\t\t(extract(minute from now())) * interval '1 minute' - \n",
      "\t\t\t\t    \t\t\t(extract(second from now())) * interval '1 second')) - \n",
      "\t\t\t\t    \t\t\tdate_part('year', per.birthday) age,\n",
      "\t\t\t\t    \t\tper.sex,\n",
      "\t\t\t\t    \t\tdate(a.finished + 3 * interval '1 hour') app_finished,\n",
      "\t\t\t\t    \t\t'CHAT' in (\n",
      "\t\t\t\t                select reference.code\n",
      "\t\t\t\t                from appointment_connection_type\n",
      "\t\t\t\t        \t\tleft join reference on reference.id = appointment_connection_type.reference_id\n",
      "\t\t\t\t        \t\twhere a.id = appointment_connection_type.appointment_id\n",
      "\t\t\t\t        \t\t) as is_chat,\n",
      "\t\t\t\t            'VIDEO' in (\n",
      "\t\t\t\t                select reference.code\n",
      "\t\t\t\t                from appointment_connection_type\n",
      "\t\t\t\t        \t\tleft join reference on reference.id = appointment_connection_type.reference_id\n",
      "\t\t\t\t        \t\twhere a.id = appointment_connection_type.appointment_id\n",
      "\t\t\t\t        \t\t) as is_video,\n",
      "\t\t\t\t            'AUDIO' in (\n",
      "\t\t\t\t                select reference.code\n",
      "\t\t\t\t                from appointment_connection_type\n",
      "\t\t\t\t        \t\tleft join reference on reference.id = appointment_connection_type.reference_id\n",
      "\t\t\t\t        \t\twhere a.id = appointment_connection_type.appointment_id\n",
      "\t\t\t\t        \t\t) as is_audio,\n",
      "\t\t\t\t            'PHONE' in (\n",
      "\t\t\t\t                select reference.code\n",
      "\t\t\t\t                from appointment_connection_type\n",
      "\t\t\t\t        \t\tleft join reference on reference.id = appointment_connection_type.reference_id\n",
      "\t\t\t\t        \t\twhere a.id = appointment_connection_type.appointment_id\n",
      "\t\t\t\t        \t\t) as is_phone\n",
      "\t\t\t\t    from person per\n",
      "\t\t\t\t    inner join patient on per.id = patient.person_id \n",
      "\t\t\t\t    inner join appointment a on a.patient_id = patient.id\n",
      "\t\t\t\t    left join promotion promo on a.promotion_id = promo.id\n",
      "\t\t\t\t    where a.finished at time zone 'UTC' > '2020-03-30'\n",
      "\t\t\t\t    and promo.description_tsvector = 'телемедицина_вэб'\n",
      "\t\t\t\t    and phone in ('79774978848', '79209781044', '79999080837', '79095863136', '79163485944', '79205443564', '79878407077', '79536506862', '79161803041', '79611193037', '79165736320', '79800798157', '79022802043', '79965606546', '79111862707', '79656367707', '79109903266', '79157232296', '79012854703', '79652224883', '79260140729', '74953071404', '79687505951', '79107680145', '79104066527', '79867542418', '79530584171', '79822826406', '79137974901', '79142665042', '79679277021', '79502901319', '79615931060', '79522803387', '79500899310', '79887825453', '79138391346', '79266069809', '79132477090', '79130900769', '79836056792', '79877831743', '79518027114', '79059359977', '79826032025', '79047823911', '79855253556', '79836051043', '79103415557', '79178608933', '79505972796', '79995207209', '79006411766', '79202859201', '79236167511', '79998554192', '79058150508', '79833811314', '79050883170', '79649170335', '79237078951', '79059250033', '79191517138', '79035163855', '79606350932', '79689323015', '79252785117', '79655947470', '79132764775', '79278912907', '79258707767', '79854288510', '79104901689', '79670219242', '79174536435', '79600633044', '79194339994', '79091860931', '79043812270', '79648661337', '79537033389', '79162651319', '79042310674', '79806880398', '79005028410', '79132477090', '79222800858', '79237447934', '79611171005', '79048595151', '79600528867', '79835453781', '79991558874', '79255301531', '79268495815', '79673359616', '79817146030', '79132614559', '79646972717', '79166108858', '79081737703', '79208789317', '79887410215', '79175599337', '79647636964', '79991703676', '79085753548', '79519666236', '79377345653', '79821148589', '79273877750', '79622029486', '79153373145', '79174536435', '79015798420', '79132767840', '79611171005', '79146519012', '79177442482', '79274078510', '79612075697', '79143884017', '79206520627', '79203425833', '79626908011', '79005797302', '79166671265', '79120108917', '79206168900', '79294295969', '79180449309', '79953329978', '79122105760', '79132572422', '79648661133', '79274456700', '79874082199', '79081732523', '79897157070', '79132160119', '79516935406', '79185365313', '79045263074', '79160697117', '79276803254', '79005797302', '79295225320', '79967715143', '79206778447', '79163439796', '79829256100', '79087026663', '79831054283', '79103645102', '79127532198', '79281402160', '79169750285', '79050100733', '79953328400', '79165406456', '79500859950', '79184034332', '79857596722', '79998231974', '79067115538', '79675350519', '79381511797', '79166690401', '79608655412', '79773119421', '79207705999', '79959281593', '79913294923', '79877433503', '79108808250', '79100842075', '79162857106', '79184808805', '79274520141', '79275137235', '79055960232', '79886791274', '79107692866', '79397923081', '79197523184', '79507107327', '79275099800', '79132240431', '79183888809', '79251282867', '79377966866', '79105642907', '79536190151', '79192069062', '79085093473', '79253354766', '79059249873', '79529450422', '79673672976', '79043021462', '79023066081', '79277117493', '79236127558', '79106909980', '79885497191', '79253407950', '79536232903', '79605020868', '79265927479', '79303452741', '79831248707', '79051701159', '79104655909', '79817717771', '79252823115', '79882701980', '79016519250', '79280659273', '79296014647', '79859570191', '79281539030', '79814027809', '79126629160', '79266651174', '79165769565', '79805274701', '79990708777', '79600348591', '79605284391', '79028382440', '79210199163', '79196456689', '79037990379', '79080600287', '79033064430', '79183398440', '79274533468', '79999291662', '79532791007', '79504033334', '79526012021', '79012899913', '79852247521', '79215515541', '79037808279', '79002424883', '79019497165', '79207621339', '79133932701', '79099333676', '79518664377', '79200331886', '79290131339', '79131847893', '79274562400', '79105937647', '79087561788', '79049593269', '79308162286', '79172472732', '79056783463', '79230071401', '79058222870', '79121390793', '79375217310', '79779395366', '79516733793', '79619696880', '79100064190', '79024033725', '79023066081', '79098052722', '79149774800', '79040715214', '79088280450', '79627956678', '79112851406', '79870683812', '79605020868', '79104691178', '79158310484', '79186953081', '79124423222', '79190581551', '79521973970', '79140364312', '79039671114', '79999080837', '79315006740', '79672308031', '79509193867', '79684009630', '79514268486', '79644956565', '79955075637', '79624225563', '79870487174', '79252707857', '79857492534', '79163774518', '79854569525', '79612229639', '79853308320', '79191517138', '79221309802', '79176050370', '79261241533', '79109407535', '79200594815', '79106969907', '79771779436', '79601758086', '79504835881', '79638125228', '79157232296', '79651027021', '79203730857', '77019522117', '79295191103', '79059680535', '79841605163', '79874049266', '79526757373', '79086821633', '79052328452', '79169309160', '79104763680', '79290590141', '79777508841', '79537966112', '79268581312', '79158475716', '79960261921', '79859300148', '79166576276', '79013659510', '79115447408', '79656585482', '79607860332', '79096717344', '79624957551', '79616691027', '79004778459', '79857521574', '79857677977', '79168886870', '79167929687', '79852378819', '79246607519', '79536997953', '79203693611', '79892660789', '79093083097', '79165584075', '79509193874', '79112261841', '79252707857', '79134738359', '79100064190', '79218582635', '79132270339', '79002935697', '79051701159', '79228667099', '79811431723', '79137574155', '79260140729', '79232574746', '79279054940', '79129128718', '79514268486', '79155577350', '79058623065', '79040159264', '79040544304', '79633336930', '79151778028', '79051904405', '79606956946', '79264607303', '79530545189', '79220315229', '79127200826', '79312891875', '79269411344', '79268407700', '79393801717', '79679496179', '79182878233', '79213611126', '79107481892', '79105830032', '79659506094', '79105595631', '79614317271', '79819872681', '79233582737', '79025641992', '79053177081', '79146893544', '79155916320', '79611109422', '79380222980', '79817527479', '79226362015', '79811590702', '79003482344', '79165733778', '79534304920', '79146953745', '79814081228', '79139199435', '79895359346', '79250942753', '79028820841', '79172999222', '79269160201', '79032320143', '79060467749', '79269005510', '79090425302', '79538967460', '79680451166', '79150861789', '79807015707', '79059110775', '79159933616', '79106644614', '79605950435', '79172603363', '79052523803', '79206536639', '79169415851', '79219191448', '79250788795', '79033720016', '79867654506', '79064270888', '79164410197', '79295571184', '79856205688', '79253589126', '79607860332', '79051701159', '79002798186', '79289362247', '79671048445', '79851201471', '79081266562', '79882783402', '79293354137', '79323244657', '79996511739', '79873847035', '79887825453', '79213058309', '79258227243', '79039334920', '79502900744', '79259186005', '79504229260', '79050596449', '79217558808', '79175238118', '79618038080', '79673682608', '79040542004', '79033534127', '79955075637', '79602741728', '79137298304', '79169176665', '79631703100', '79202174333', '79269411344', '79855156083', '79161488764', '79606956946', '79640098550', '79009095353', '79235409120', '79384311783', '79385446203', '79185501900', '79168076600', '79606479290', '79288753030', '79889888967', '79101676310', '79202510101', '79103844650', '79150585618', '79301272543', '79135124482', '79215905453', '79169229983', '79234181142', '78127056097', '79600307772', '79203400579', '79263824742', '79144156781', '79261341239', '79788121078', '79885852769', '79819037283', '79033405803', '79290475457', '79146953745', '79832031017', '79197523184', '79042119501', '79081452712', '79261790714', '79162131330', '79082930574', '79099479351', '79295758686', '79952201550', '79037260453', '79172899928', '790[...31876 chars removed from log...]\n",
      "                    None\n",
      "2020-05-07 12:09:26 return 7339 rows\n",
      "2020-05-07 12:09:26 @telemed: closing postgres connection...\n",
      "2020-05-07 12:09:26 closing ssh tunnel to 172.16.100.19...\n"
     ]
    }
   ],
   "source": [
    "conn = connect_telemed()\n",
    "df: pd.DataFrame = conn.query(sql)\n",
    "conn.close()"
   ]
  },
  {
   "cell_type": "code",
   "execution_count": 14,
   "metadata": {},
   "outputs": [],
   "source": [
    "d = {\n",
    "    52452:'MALE', 84640:'FEMALE', 144261:'FEMALE', 358284:'MALE', 437315:'MALE', 468809:'FEMALE', 3091467:'FEMALE', \n",
    "    3050272:'FEMALE', 3049512:'FEMALE', 3192928:'FEMALE', 3174578:'FEMALE', 3165476:'FEMALE', 3165337:'FEMALE', \n",
    "    3048066:'MALE', 3486251:'FEMALE', 3483688:'FEMALE', 3202156:'MALE', 3201951:'FEMALE', 3193306:'FEMALE', 3047850:'FEMALE',\n",
    "    3495740:'FEMALE', 3495717:'FEMALE', 3495537:'FEMALE', 3495250:'FEMALE', 3494275:'FEMALE', 3488376:'FEMALE', \n",
    "    3045906:'MALE', 3045247:'FEMALE', 3031471:'MALE', 3026541:'FEMALE', 3498675:'MALE', 3497919:'FEMALE', 3496864:'FEMALE', \n",
    "    3496642:'FEMALE', 3496582:'FEMALE', 3496503:'FEMALE', 3496143:'FEMALE', 3496059:'MALE', 3495880:'FEMALE', 3495810:'FEMALE',\n",
    "    3504844:'FEMALE', 3502890:'FEMALE', 3502849:'FEMALE', 3502557:'FEMALE', 3502354:'FEMALE', 3502031:'MALE', \n",
    "    3501997:'FEMALE', 3501149:'FEMALE', 3501056:'FEMALE', 3498758:'FEMALE', 3000090:'FEMALE', 2995467:'FEMALE',\n",
    "    2983494:'FEMALE', 2973433:'FEMALE', 3510604:'FEMALE', 3510515:'MALE', 3510448:'FEMALE', 3509963:'FEMALE', 3509941:'FEMALE', \n",
    "    3508716:'FEMALE', 3505395:'FEMALE', 3505541:'FEMALE', 3505595:'FEMALE', 3505622:'FEMALE', 3514809:'FEMALE', 3514733:'MALE',\n",
    "    3514643:'FEMALE', 3514584:'FEMALE', 3513871:'FEMALE', 3513656:'FEMALE', 3513481:'FEMALE', 3513439:'FEMALE', 3516559:'FEMALE',\n",
    "    3516382:'FEMALE', 3516158:'FEMALE', 3516071:'FEMALE', 3515017:'FEMALE', 506161:'FEMALE', 3506172:'FEMALE', 3513174:'FEMALE',\n",
    "    3520987:'FEMALE', 3520741:'FEMALE', 3519365:'FEMALE', 3519123:'FEMALE', 3518869:'FEMALE', 3517044:'FEMALE', 2915315:'MALE',\n",
    "    3504913:'FEMALE', 3505970:'FEMALE', 3506161:'FEMALE', 3525893:'FEMALE', 3525721:'MALE', 3525688:'FEMALE', 3525370:'FEMALE',\n",
    "    3525050:'FEMALE', 3524743:'FEMALE', 3524611:'FEMALE', 3521044:'FEMALE', 3521033:'FEMALE', 3516840:'FEMALE', 3514982:'FEMALE',\n",
    "    3527462:'MALE', 3527408:'FEMALE', 3527240:'FEMALE', 3527210:'FEMALE', 3527209:'MALE', 3521019:'FEMALE', 3526638:'MALE',\n",
    "    3527846:'FEMALE', 3527783:'MALE', 3527763:'FEMALE', 3527712:'FEMALE', 3527663:'FEMALE', 3527648:'FEMALE', 3527034:'FEMALE',\n",
    "    3528752:'FEMALE', 3528726:'FEMALE', 3528118:'MALE', 3528036:'FEMALE', 3527980:'FEMALE', 3527969:'FEMALE', 3527956:'MALE',\n",
    "    3527578:'FEMALE', 3527045:'FEMALE', 3530484:'FEMALE', 3530073:'FEMALE', 3529910:'FEMALE', 3529754:'FEMALE', 3529463:'FEMALE',\n",
    "    3529428:'FEMALE', 3529390:'FEMALE', 3529071:'FEMALE', 3528910:'MALE', 3526699:'FEMALE', 3531577:'FEMALE', 3530637:'FEMALE',\n",
    "    3530545:'FEMALE', 3526692:'FEMALE', 3526478:'FEMALE', 3515008:'FEMALE', 3514814:'FEMALE', 3512796:'FEMALE', 2904780:'FEMALE',\n",
    "    2676391:'FEMALE', 2595303:'FEMALE', 2198022:'FEMALE', 2123509:'FEMALE', 1738326:'FEMALE', 1307873:'FEMALE', 482226:'FEMALE',\n",
    "    12311:'MALE', 3836:'MALE' # ANONYMOUS x2\n",
    "}"
   ]
  },
  {
   "cell_type": "code",
   "execution_count": 19,
   "metadata": {},
   "outputs": [],
   "source": [
    "df['app_finished'] = df['app_finished'].apply(pd.to_datetime)"
   ]
  },
  {
   "cell_type": "code",
   "execution_count": 15,
   "metadata": {},
   "outputs": [],
   "source": [
    "for i in range(df.shape[0]):\n",
    "    if df['patient_id'][i] in d:\n",
    "        df['sex'][i] = d[df['patient_id'][i]]"
   ]
  },
  {
   "cell_type": "code",
   "execution_count": 140,
   "metadata": {},
   "outputs": [],
   "source": [
    "df['using_application'] = ''\n",
    "df['using_phone'] = ''"
   ]
  },
  {
   "cell_type": "code",
   "execution_count": 141,
   "metadata": {},
   "outputs": [],
   "source": [
    "for i in range(df.shape[0]):\n",
    "    if df['is_phone'][i] == True:\n",
    "        df['using_phone'][i] = 'Phone'\n",
    "    if df['is_chat'][i] == True or df['is_video'][i] == True or df['is_audio'][i] == True:\n",
    "        df['using_application'] = 'Application'\n"
   ]
  },
  {
   "cell_type": "code",
   "execution_count": 21,
   "metadata": {},
   "outputs": [],
   "source": [
    "df['age_cat'] = df['age'].apply(lambda age: (age < 30 and 1) or (age < 40 and 2) or (age < 50 and 3) \n",
    "                                          or (age > 49 and 4))\n",
    "# 1 - < 30\n",
    "# 2 - 30-40\n",
    "# 3 - 40-50\n",
    "# 4 - 50+"
   ]
  },
  {
   "cell_type": "code",
   "execution_count": 22,
   "metadata": {},
   "outputs": [],
   "source": [
    "df['dirty_region'] = df['phone'].apply(get_region_by_two_bases)\n",
    "df = df.replace('Series([], )', 'Неизвестный регион')\n",
    "df['region'] = df['dirty_region'].apply(clean_region)"
   ]
  },
  {
   "cell_type": "markdown",
   "metadata": {},
   "source": [
    "### Data has been completed!"
   ]
  },
  {
   "cell_type": "code",
   "execution_count": 142,
   "metadata": {},
   "outputs": [
    {
     "data": {
      "text/html": [
       "<div>\n",
       "<style scoped>\n",
       "    .dataframe tbody tr th:only-of-type {\n",
       "        vertical-align: middle;\n",
       "    }\n",
       "\n",
       "    .dataframe tbody tr th {\n",
       "        vertical-align: top;\n",
       "    }\n",
       "\n",
       "    .dataframe thead th {\n",
       "        text-align: right;\n",
       "    }\n",
       "</style>\n",
       "<table border=\"1\" class=\"dataframe\">\n",
       "  <thead>\n",
       "    <tr style=\"text-align: right;\">\n",
       "      <th></th>\n",
       "      <th>person_id</th>\n",
       "      <th>patient_id</th>\n",
       "      <th>patient_fio</th>\n",
       "      <th>phone</th>\n",
       "      <th>birthday</th>\n",
       "      <th>age</th>\n",
       "      <th>sex</th>\n",
       "      <th>app_finished</th>\n",
       "      <th>is_chat</th>\n",
       "      <th>is_video</th>\n",
       "      <th>is_audio</th>\n",
       "      <th>is_phone</th>\n",
       "      <th>using_application</th>\n",
       "      <th>using_phone</th>\n",
       "      <th>age_cat</th>\n",
       "      <th>dirty_region</th>\n",
       "      <th>region</th>\n",
       "    </tr>\n",
       "  </thead>\n",
       "  <tbody>\n",
       "    <tr>\n",
       "      <th>7334</th>\n",
       "      <td>3571577</td>\n",
       "      <td>3534722</td>\n",
       "      <td>Галина Владимировна Синельникова</td>\n",
       "      <td>79619301291</td>\n",
       "      <td>1969-07-08</td>\n",
       "      <td>51.0</td>\n",
       "      <td>FEMALE</td>\n",
       "      <td>2020-04-30</td>\n",
       "      <td>False</td>\n",
       "      <td>False</td>\n",
       "      <td>False</td>\n",
       "      <td>True</td>\n",
       "      <td>Application</td>\n",
       "      <td>Phone</td>\n",
       "      <td>4</td>\n",
       "      <td>Оренбургская обл.</td>\n",
       "      <td>Оренбургская область</td>\n",
       "    </tr>\n",
       "    <tr>\n",
       "      <th>7335</th>\n",
       "      <td>3578229</td>\n",
       "      <td>3541352</td>\n",
       "      <td>оксана николаевна макарова</td>\n",
       "      <td>79192088900</td>\n",
       "      <td>1982-11-30</td>\n",
       "      <td>38.0</td>\n",
       "      <td>FEMALE</td>\n",
       "      <td>2020-04-30</td>\n",
       "      <td>False</td>\n",
       "      <td>False</td>\n",
       "      <td>False</td>\n",
       "      <td>True</td>\n",
       "      <td>Application</td>\n",
       "      <td>Phone</td>\n",
       "      <td>2</td>\n",
       "      <td>Орловская обл.</td>\n",
       "      <td>Орловская область</td>\n",
       "    </tr>\n",
       "    <tr>\n",
       "      <th>7336</th>\n",
       "      <td>3586101</td>\n",
       "      <td>3549223</td>\n",
       "      <td>Мария Ивановна Вершинина</td>\n",
       "      <td>79195818448</td>\n",
       "      <td>1949-11-02</td>\n",
       "      <td>71.0</td>\n",
       "      <td>FEMALE</td>\n",
       "      <td>2020-05-03</td>\n",
       "      <td>False</td>\n",
       "      <td>False</td>\n",
       "      <td>False</td>\n",
       "      <td>True</td>\n",
       "      <td>Application</td>\n",
       "      <td>Phone</td>\n",
       "      <td>4</td>\n",
       "      <td>Курганская обл.</td>\n",
       "      <td>Курганская область</td>\n",
       "    </tr>\n",
       "    <tr>\n",
       "      <th>7337</th>\n",
       "      <td>3588471</td>\n",
       "      <td>3551593</td>\n",
       "      <td>Юлия Станиславовна Каляева</td>\n",
       "      <td>79177789315</td>\n",
       "      <td>1982-01-01</td>\n",
       "      <td>38.0</td>\n",
       "      <td>FEMALE</td>\n",
       "      <td>2020-05-06</td>\n",
       "      <td>False</td>\n",
       "      <td>False</td>\n",
       "      <td>True</td>\n",
       "      <td>False</td>\n",
       "      <td>Application</td>\n",
       "      <td></td>\n",
       "      <td>2</td>\n",
       "      <td>Республика Башкортостан</td>\n",
       "      <td>Республика Башкортостан</td>\n",
       "    </tr>\n",
       "    <tr>\n",
       "      <th>7338</th>\n",
       "      <td>3588471</td>\n",
       "      <td>3551593</td>\n",
       "      <td>Юлия Станиславовна Каляева</td>\n",
       "      <td>79177789315</td>\n",
       "      <td>1982-01-01</td>\n",
       "      <td>38.0</td>\n",
       "      <td>FEMALE</td>\n",
       "      <td>2020-05-04</td>\n",
       "      <td>False</td>\n",
       "      <td>False</td>\n",
       "      <td>False</td>\n",
       "      <td>True</td>\n",
       "      <td>Application</td>\n",
       "      <td>Phone</td>\n",
       "      <td>2</td>\n",
       "      <td>Республика Башкортостан</td>\n",
       "      <td>Республика Башкортостан</td>\n",
       "    </tr>\n",
       "  </tbody>\n",
       "</table>\n",
       "</div>"
      ],
      "text/plain": [
       "      person_id  patient_id                       patient_fio        phone  \\\n",
       "7334    3571577     3534722  Галина Владимировна Синельникова  79619301291   \n",
       "7335    3578229     3541352        оксана николаевна макарова  79192088900   \n",
       "7336    3586101     3549223          Мария Ивановна Вершинина  79195818448   \n",
       "7337    3588471     3551593        Юлия Станиславовна Каляева  79177789315   \n",
       "7338    3588471     3551593        Юлия Станиславовна Каляева  79177789315   \n",
       "\n",
       "        birthday   age     sex app_finished  is_chat  is_video  is_audio  \\\n",
       "7334  1969-07-08  51.0  FEMALE   2020-04-30    False     False     False   \n",
       "7335  1982-11-30  38.0  FEMALE   2020-04-30    False     False     False   \n",
       "7336  1949-11-02  71.0  FEMALE   2020-05-03    False     False     False   \n",
       "7337  1982-01-01  38.0  FEMALE   2020-05-06    False     False      True   \n",
       "7338  1982-01-01  38.0  FEMALE   2020-05-04    False     False     False   \n",
       "\n",
       "      is_phone using_application using_phone  age_cat  \\\n",
       "7334      True       Application       Phone        4   \n",
       "7335      True       Application       Phone        2   \n",
       "7336      True       Application       Phone        4   \n",
       "7337     False       Application                    2   \n",
       "7338      True       Application       Phone        2   \n",
       "\n",
       "                 dirty_region                   region  \n",
       "7334        Оренбургская обл.     Оренбургская область  \n",
       "7335           Орловская обл.        Орловская область  \n",
       "7336          Курганская обл.       Курганская область  \n",
       "7337  Республика Башкортостан  Республика Башкортостан  \n",
       "7338  Республика Башкортостан  Республика Башкортостан  "
      ]
     },
     "execution_count": 142,
     "metadata": {},
     "output_type": "execute_result"
    }
   ],
   "source": [
    "df.tail(5)"
   ]
  },
  {
   "cell_type": "code",
   "execution_count": 135,
   "metadata": {},
   "outputs": [
    {
     "data": {
      "text/plain": [
       "False"
      ]
     },
     "execution_count": 135,
     "metadata": {},
     "output_type": "execute_result"
    }
   ],
   "source": [
    "df['is_chat'][7334] == True or df['is_video'][7334] == True or df['is_audio'][7334] == True"
   ]
  },
  {
   "cell_type": "code",
   "execution_count": 133,
   "metadata": {},
   "outputs": [
    {
     "data": {
      "text/plain": [
       "False"
      ]
     },
     "execution_count": 133,
     "metadata": {},
     "output_type": "execute_result"
    }
   ],
   "source": [
    "df['is_audio'][7334]"
   ]
  },
  {
   "cell_type": "code",
   "execution_count": 61,
   "metadata": {},
   "outputs": [],
   "source": [
    "#### ДОЛЯ НОВЫХ"
   ]
  },
  {
   "cell_type": "code",
   "execution_count": 56,
   "metadata": {},
   "outputs": [
    {
     "data": {
      "text/plain": [
       "146"
      ]
     },
     "execution_count": 56,
     "metadata": {},
     "output_type": "execute_result"
    }
   ],
   "source": [
    "# patients 2020-05-03\n",
    "patients_2020_05_03 = len(df[df['app_finished'] == pd.Timestamp(2020,5,3)].groupby(['patient_id'])['phone'].count())\n",
    "len(df[df['app_finished'] == pd.Timestamp(2020,5,3)].groupby(['patient_id'])['phone'].count())"
   ]
  },
  {
   "cell_type": "code",
   "execution_count": 57,
   "metadata": {},
   "outputs": [
    {
     "data": {
      "text/plain": [
       "2038"
      ]
     },
     "execution_count": 57,
     "metadata": {},
     "output_type": "execute_result"
    }
   ],
   "source": [
    "# total patients (from excel-file)\n",
    "total_patients = len(df.groupby(['patient_id'])['phone'].count())\n",
    "len(df.groupby(['patient_id'])['phone'].count())"
   ]
  },
  {
   "cell_type": "code",
   "execution_count": 58,
   "metadata": {},
   "outputs": [
    {
     "data": {
      "text/plain": [
       "7.16"
      ]
     },
     "execution_count": 58,
     "metadata": {},
     "output_type": "execute_result"
    }
   ],
   "source": [
    "round(patients_2020_05_03 * 100 / total_patients, 2)"
   ]
  },
  {
   "cell_type": "code",
   "execution_count": 62,
   "metadata": {},
   "outputs": [],
   "source": [
    "##### ДОЛЯ СТАРЫХ"
   ]
  },
  {
   "cell_type": "code",
   "execution_count": 67,
   "metadata": {},
   "outputs": [
    {
     "data": {
      "text/plain": [
       "1384"
      ]
     },
     "execution_count": 67,
     "metadata": {},
     "output_type": "execute_result"
    }
   ],
   "source": [
    "# patients with more than 1 consultation\n",
    "patients_old = len(df.groupby(['patient_id'])['phone'].count()[df.groupby(['patient_id'])['phone'].count() > 1])\n",
    "len(df.groupby(['patient_id'])['phone'].count()[df.groupby(['patient_id'])['phone'].count() > 1])"
   ]
  },
  {
   "cell_type": "code",
   "execution_count": 69,
   "metadata": {},
   "outputs": [
    {
     "data": {
      "text/plain": [
       "6685"
      ]
     },
     "execution_count": 69,
     "metadata": {},
     "output_type": "execute_result"
    }
   ],
   "source": [
    "# total consultations for patients with more than 1 consultation\n",
    "patients_old_consultations = pd.DataFrame(df.groupby(['patient_id'])['phone'].count()[df.groupby(['patient_id'])['phone'].count() > 1]).reset_index()['phone'].sum()\n",
    "pd.DataFrame(df.groupby(['patient_id'])['phone'].count()[df.groupby(['patient_id'])['phone'].count() > 1]).reset_index()['phone'].sum()"
   ]
  },
  {
   "cell_type": "code",
   "execution_count": 64,
   "metadata": {},
   "outputs": [
    {
     "data": {
      "text/plain": [
       "67.91"
      ]
     },
     "execution_count": 64,
     "metadata": {},
     "output_type": "execute_result"
    }
   ],
   "source": [
    "round(patients_old * 100 / total_patients, 2)"
   ]
  },
  {
   "cell_type": "code",
   "execution_count": 71,
   "metadata": {},
   "outputs": [
    {
     "data": {
      "text/plain": [
       "4.83"
      ]
     },
     "execution_count": 71,
     "metadata": {},
     "output_type": "execute_result"
    }
   ],
   "source": [
    "round(patients_old_consultations / patients_old, 2)"
   ]
  },
  {
   "cell_type": "code",
   "execution_count": 65,
   "metadata": {},
   "outputs": [],
   "source": [
    "#### ПОЛ ПРОЦЕНТОВКА"
   ]
  },
  {
   "cell_type": "code",
   "execution_count": 42,
   "metadata": {},
   "outputs": [
    {
     "data": {
      "text/plain": [
       "sex\n",
       "FEMALE    6255\n",
       "MALE      1084\n",
       "Name: phone, dtype: int64"
      ]
     },
     "execution_count": 42,
     "metadata": {},
     "output_type": "execute_result"
    }
   ],
   "source": [
    "df.groupby(['sex'])['phone'].count()"
   ]
  },
  {
   "cell_type": "code",
   "execution_count": 88,
   "metadata": {},
   "outputs": [
    {
     "data": {
      "text/plain": [
       "1672"
      ]
     },
     "execution_count": 88,
     "metadata": {},
     "output_type": "execute_result"
    }
   ],
   "source": [
    "# FEMALE\n",
    "female = pd.DataFrame(df[df['sex'] == 'FEMALE'].groupby('patient_id')['phone'].count().reset_index())['phone'].count()\n",
    "pd.DataFrame(df[df['sex'] == 'FEMALE'].groupby('patient_id')['phone'].count().reset_index())['phone'].count()"
   ]
  },
  {
   "cell_type": "code",
   "execution_count": 89,
   "metadata": {},
   "outputs": [
    {
     "data": {
      "text/plain": [
       "366"
      ]
     },
     "execution_count": 89,
     "metadata": {},
     "output_type": "execute_result"
    }
   ],
   "source": [
    "# MALE\n",
    "male = pd.DataFrame(df[df['sex'] == 'MALE'].groupby('patient_id')['phone'].count().reset_index())['phone'].count()\n",
    "pd.DataFrame(df[df['sex'] == 'MALE'].groupby('patient_id')['phone'].count().reset_index())['phone'].count()"
   ]
  },
  {
   "cell_type": "code",
   "execution_count": 108,
   "metadata": {},
   "outputs": [
    {
     "data": {
      "text/plain": [
       "0.82"
      ]
     },
     "execution_count": 108,
     "metadata": {},
     "output_type": "execute_result"
    }
   ],
   "source": [
    "per_women = round(female/total_patients, 2)\n",
    "per_women"
   ]
  },
  {
   "cell_type": "code",
   "execution_count": 109,
   "metadata": {},
   "outputs": [
    {
     "data": {
      "text/plain": [
       "0.18"
      ]
     },
     "execution_count": 109,
     "metadata": {},
     "output_type": "execute_result"
    }
   ],
   "source": [
    "per_men = round(male/total_patients, 2)\n",
    "per_men"
   ]
  },
  {
   "cell_type": "code",
   "execution_count": 122,
   "metadata": {},
   "outputs": [],
   "source": [
    "### КАТЕГОРИИ ПО ВОЗРАСТАМ"
   ]
  },
  {
   "cell_type": "code",
   "execution_count": 98,
   "metadata": {},
   "outputs": [
    {
     "data": {
      "text/plain": [
       "age_cat\n",
       "1    546\n",
       "2    737\n",
       "3    373\n",
       "4    382\n",
       "Name: patient_id, dtype: int64"
      ]
     },
     "execution_count": 98,
     "metadata": {},
     "output_type": "execute_result"
    }
   ],
   "source": [
    "pd.DataFrame(df.groupby(['patient_id', 'age_cat'])['phone'].count().reset_index()).groupby('age_cat')['patient_id'].count()"
   ]
  },
  {
   "cell_type": "code",
   "execution_count": 103,
   "metadata": {},
   "outputs": [
    {
     "data": {
      "text/plain": [
       "546"
      ]
     },
     "execution_count": 103,
     "metadata": {},
     "output_type": "execute_result"
    }
   ],
   "source": [
    "# below 30\n",
    "pat_b30 = pd.DataFrame(df.groupby(['patient_id', 'age_cat'])['phone'].count().reset_index()).groupby('age_cat')['patient_id'].count()[1]\n",
    "pd.DataFrame(df.groupby(['patient_id', 'age_cat'])['phone'].count().reset_index()).groupby('age_cat')['patient_id'].count()[1]"
   ]
  },
  {
   "cell_type": "code",
   "execution_count": 104,
   "metadata": {},
   "outputs": [
    {
     "data": {
      "text/plain": [
       "737"
      ]
     },
     "execution_count": 104,
     "metadata": {},
     "output_type": "execute_result"
    }
   ],
   "source": [
    "# 30-40\n",
    "pat_30_40 = pd.DataFrame(df.groupby(['patient_id', 'age_cat'])['phone'].count().reset_index()).groupby('age_cat')['patient_id'].count()[2]\n",
    "pd.DataFrame(df.groupby(['patient_id', 'age_cat'])['phone'].count().reset_index()).groupby('age_cat')['patient_id'].count()[2]"
   ]
  },
  {
   "cell_type": "code",
   "execution_count": 105,
   "metadata": {},
   "outputs": [
    {
     "data": {
      "text/plain": [
       "373"
      ]
     },
     "execution_count": 105,
     "metadata": {},
     "output_type": "execute_result"
    }
   ],
   "source": [
    "# 40-50\n",
    "pat_40_50 = pd.DataFrame(df.groupby(['patient_id', 'age_cat'])['phone'].count().reset_index()).groupby('age_cat')['patient_id'].count()[3]\n",
    "pd.DataFrame(df.groupby(['patient_id', 'age_cat'])['phone'].count().reset_index()).groupby('age_cat')['patient_id'].count()[3]"
   ]
  },
  {
   "cell_type": "code",
   "execution_count": 106,
   "metadata": {},
   "outputs": [
    {
     "data": {
      "text/plain": [
       "382"
      ]
     },
     "execution_count": 106,
     "metadata": {},
     "output_type": "execute_result"
    }
   ],
   "source": [
    "# 50+\n",
    "pat_a50 = pd.DataFrame(df.groupby(['patient_id', 'age_cat'])['phone'].count().reset_index()).groupby('age_cat')['patient_id'].count()[4]\n",
    "pd.DataFrame(df.groupby(['patient_id', 'age_cat'])['phone'].count().reset_index()).groupby('age_cat')['patient_id'].count()[4]"
   ]
  },
  {
   "cell_type": "code",
   "execution_count": null,
   "metadata": {},
   "outputs": [],
   "source": []
  },
  {
   "cell_type": "code",
   "execution_count": 115,
   "metadata": {},
   "outputs": [
    {
     "data": {
      "text/plain": [
       "26.79"
      ]
     },
     "execution_count": 115,
     "metadata": {},
     "output_type": "execute_result"
    }
   ],
   "source": [
    "per_pat_b30 = round(pat_b30 / total_patients * 100, 2)\n",
    "per_pat_b30"
   ]
  },
  {
   "cell_type": "code",
   "execution_count": 119,
   "metadata": {},
   "outputs": [
    {
     "data": {
      "text/plain": [
       "36.16"
      ]
     },
     "execution_count": 119,
     "metadata": {},
     "output_type": "execute_result"
    }
   ],
   "source": [
    "per_pat_30_40 = round(pat_30_40 / total_patients * 100, 2)\n",
    "per_pat_30_40"
   ]
  },
  {
   "cell_type": "code",
   "execution_count": 120,
   "metadata": {},
   "outputs": [
    {
     "data": {
      "text/plain": [
       "18.3"
      ]
     },
     "execution_count": 120,
     "metadata": {},
     "output_type": "execute_result"
    }
   ],
   "source": [
    "per_pat_40_50 = round(pat_40_50 / total_patients * 100, 2)\n",
    "per_pat_40_50"
   ]
  },
  {
   "cell_type": "code",
   "execution_count": 121,
   "metadata": {},
   "outputs": [
    {
     "data": {
      "text/plain": [
       "18.74"
      ]
     },
     "execution_count": 121,
     "metadata": {},
     "output_type": "execute_result"
    }
   ],
   "source": [
    "per_pat_a50 = round(pat_a50 / total_patients * 100, 2)\n",
    "per_pat_a50"
   ]
  },
  {
   "cell_type": "code",
   "execution_count": null,
   "metadata": {},
   "outputs": [],
   "source": []
  },
  {
   "cell_type": "code",
   "execution_count": 123,
   "metadata": {},
   "outputs": [],
   "source": [
    "df.to_excel('WEB-report22.xls', index=False)"
   ]
  },
  {
   "cell_type": "code",
   "execution_count": null,
   "metadata": {},
   "outputs": [],
   "source": []
  }
 ],
 "metadata": {
  "kernelspec": {
   "display_name": "Python 3",
   "language": "python",
   "name": "python3"
  },
  "language_info": {
   "codemirror_mode": {
    "name": "ipython",
    "version": 3
   },
   "file_extension": ".py",
   "mimetype": "text/x-python",
   "name": "python",
   "nbconvert_exporter": "python",
   "pygments_lexer": "ipython3",
   "version": "3.7.6"
  }
 },
 "nbformat": 4,
 "nbformat_minor": 4
}
