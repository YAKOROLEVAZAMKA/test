{
 "cells": [
  {
   "cell_type": "code",
   "execution_count": 1,
   "metadata": {},
   "outputs": [],
   "source": [
    "#\n",
    "import sys\n",
    "import os\n",
    "sys.path.append(\"/home/sergey/drclinics/common\")\n",
    "sys.path.append(\"/home/sergey/drclinics/reports\")\n",
    "#\n",
    "\n",
    "\n",
    "import pandas as pd\n",
    "from report_utils import query_by_name, send_mail\n",
    "from configs import load_json_config\n",
    "\n",
    "from connect_platform import connect_telemed\n",
    "from log import log\n",
    "import datetime\n",
    "from utils import get_path, DATETIME_FORMAT\n",
    "\n",
    "from universal_connection import UniversalConnection, DBType\n",
    "\n",
    "from log import log"
   ]
  },
  {
   "cell_type": "code",
   "execution_count": 2,
   "metadata": {},
   "outputs": [],
   "source": [
    "sql = \"\"\"\n",
    "with t1 as (\n",
    "select \ta.patient_id,\n",
    "\t\trow_number() over (partition by patient.id order by end_ desc) rownum,\n",
    "\t\tconcat_ws(' ', p_patient.last_name, p_patient.first_name, p_patient.middle_name) patient_fio,\n",
    "\t\tcase when pc.product_id in (\n",
    "            select id from product\n",
    "            where full_name like '%ВЭБ%') then 'VEBMED'\n",
    "        \telse 'ПРОЧИЕ'\n",
    "        end promo_type,\n",
    "        promo.start_,\n",
    "        promo.end_\n",
    "from appointment a\n",
    "left join promotion promo on a.promotion_id = promo.id\n",
    "inner join product_condition pc\n",
    "   on promo.product_condition_id = pc.id\n",
    "---\n",
    "left join patient on a.patient_id = patient.id\n",
    "inner join person p_patient on p_patient.id = patient.person_id\n",
    "---\n",
    "where a.finished at time zone 'UTC' > '2020-03-30'\n",
    "and a.good\n",
    "  and not (\n",
    "    a.patient_id in (\n",
    "        select patient_id\n",
    "        from patient_categories pcat\n",
    "        inner join reference rf\n",
    "           on rf.id=pcat.reference_id\n",
    "        where rf.code='TEST'\n",
    "        )\n",
    "    or lower(a.report_comment)='тест'\n",
    "    )\n",
    "and pc.product_id in (\n",
    "            select id from product\n",
    "            where full_name like '%ВЭБ%')       \n",
    "-----\n",
    "),\n",
    "-----\n",
    "t1_group as (\n",
    "select\t\tpatient_id,\n",
    "\t\t\tpatient_fio,\n",
    "\t\t\tpromo_type,\n",
    "\t\t\tend_\n",
    "from t1 \n",
    "--\n",
    "where rownum = 1\n",
    "),\n",
    "t2 as (\n",
    "select \trow_number() over (partition by patient.id order by end_ desc) rownum,\n",
    "\t\tpatient.id patient_id,\n",
    "\t\tconcat_ws(' ', p_patient.last_name, p_patient.first_name, p_patient.middle_name) patient_fio,\n",
    "        partner.\"name\" partner_name,\n",
    "        --promo.start_,\n",
    "        promo.start_,\n",
    "        promo.end_\n",
    "from patient\n",
    "--\n",
    "inner join person p_patient on p_patient.id = patient.person_id\n",
    "--\n",
    "inner join patient_promotion as pp on pp.patient_id = patient.id\n",
    "inner join promotion promo on promo.id = pp.promotion_id \n",
    "--\n",
    "left join product_condition pc\n",
    "   \t\ton promo.product_condition_id = pc.id\n",
    "--\n",
    "inner join appointment a on a.patient_id = patient.id \n",
    "--\n",
    "inner join partner on promo.partner_id = partner.id \n",
    "--\n",
    "where pc.product_id not in (\n",
    "            \tselect id from product\n",
    "            \twhere full_name like '%ВЭБ%')\n",
    "and patient.id in (select distinct patient_id from t1)\n",
    "-----\n",
    "),\n",
    "-----\n",
    "t2_group as (\n",
    "select\t\tpatient_id,\n",
    "\t\t\tpatient_fio,\n",
    "\t\t\tpartner_name,\n",
    "\t\t\tstart_,\n",
    "\t\t\tend_\n",
    "from t2 \n",
    "--\n",
    "where rownum = 1\n",
    "and end_ > '2020-05-31'\n",
    "and start_ <= '2020-05-31'\n",
    ")\n",
    "-----------------------------\n",
    "select \tt1_group.patient_id,\n",
    "\t\tt1_group.patient_fio,\n",
    "\t\tt1_group.promo_type,\n",
    "\t\tt1_group.end_,\n",
    "\t\tt2_group.partner_name,\n",
    "\t\tt2_group.start_ partner_start,\n",
    "\t\tt2_group.end_ partner_end\n",
    "from t1_group left join t2_group \n",
    "on t1_group.patient_id = t2_group.patient_id\n",
    "order by t1_group.patient_id\n",
    "\n",
    "\"\"\""
   ]
  },
  {
   "cell_type": "code",
   "execution_count": 3,
   "metadata": {},
   "outputs": [
    {
     "name": "stdout",
     "output_type": "stream",
     "text": [
      "2020-05-19 17:07:46 connect to postgres database using config file \"../../../.credentials/telemed/prom.cfg\"\n",
      "2020-05-19 17:07:46 creating ssh tunnel to 172.16.100.19 as root...\n",
      "2020-05-19 17:07:47 connect postgres using parameters:\n",
      "                    database: telemed\n",
      "\t\t\t\t    user: norekhov\n",
      "\t\t\t\t    password: ***masked***\n",
      "\t\t\t\t    host: localhost\n",
      "\t\t\t\t    port: 34145\n",
      "2020-05-19 17:07:47 @telemed: execute sql:\n",
      "\t\t\t\t    SET TIME ZONE 'Europe/Moscow'\n",
      "\t\t\t\t    None\n",
      "2020-05-19 17:07:47 @telemed query:\n",
      "                    with t1 as (\n",
      "\t\t\t\t    select \ta.patient_id,\n",
      "\t\t\t\t    \t\trow_number() over (partition by patient.id order by end_ desc) rownum,\n",
      "\t\t\t\t    \t\tconcat_ws(' ', p_patient.last_name, p_patient.first_name, p_patient.middle_name) patient_fio,\n",
      "\t\t\t\t    \t\tcase when pc.product_id in (\n",
      "\t\t\t\t                select id from product\n",
      "\t\t\t\t                where full_name like '%ВЭБ%') then 'VEBMED'\n",
      "\t\t\t\t            \telse 'ПРОЧИЕ'\n",
      "\t\t\t\t            end promo_type,\n",
      "\t\t\t\t            promo.start_,\n",
      "\t\t\t\t            promo.end_\n",
      "\t\t\t\t    from appointment a\n",
      "\t\t\t\t    left join promotion promo on a.promotion_id = promo.id\n",
      "\t\t\t\t    inner join product_condition pc\n",
      "\t\t\t\t       on promo.product_condition_id = pc.id\n",
      "\t\t\t\t    ---\n",
      "\t\t\t\t    left join patient on a.patient_id = patient.id\n",
      "\t\t\t\t    inner join person p_patient on p_patient.id = patient.person_id\n",
      "\t\t\t\t    ---\n",
      "\t\t\t\t    where a.finished at time zone 'UTC' > '2020-03-30'\n",
      "\t\t\t\t    and a.good\n",
      "\t\t\t\t      and not (\n",
      "\t\t\t\t        a.patient_id in (\n",
      "\t\t\t\t            select patient_id\n",
      "\t\t\t\t            from patient_categories pcat\n",
      "\t\t\t\t            inner join reference rf\n",
      "\t\t\t\t               on rf.id=pcat.reference_id\n",
      "\t\t\t\t            where rf.code='TEST'\n",
      "\t\t\t\t            )\n",
      "\t\t\t\t        or lower(a.report_comment)='тест'\n",
      "\t\t\t\t        )\n",
      "\t\t\t\t    and pc.product_id in (\n",
      "\t\t\t\t                select id from product\n",
      "\t\t\t\t                where full_name like '%ВЭБ%')       \n",
      "\t\t\t\t    -----\n",
      "\t\t\t\t    ),\n",
      "\t\t\t\t    -----\n",
      "\t\t\t\t    t1_group as (\n",
      "\t\t\t\t    select\t\tpatient_id,\n",
      "\t\t\t\t    \t\t\tpatient_fio,\n",
      "\t\t\t\t    \t\t\tpromo_type,\n",
      "\t\t\t\t    \t\t\tend_\n",
      "\t\t\t\t    from t1 \n",
      "\t\t\t\t    --\n",
      "\t\t\t\t    where rownum = 1\n",
      "\t\t\t\t    ),\n",
      "\t\t\t\t    t2 as (\n",
      "\t\t\t\t    select \trow_number() over (partition by patient.id order by end_ desc) rownum,\n",
      "\t\t\t\t    \t\tpatient.id patient_id,\n",
      "\t\t\t\t    \t\tconcat_ws(' ', p_patient.last_name, p_patient.first_name, p_patient.middle_name) patient_fio,\n",
      "\t\t\t\t            partner.\"name\" partner_name,\n",
      "\t\t\t\t            --promo.start_,\n",
      "\t\t\t\t            promo.start_,\n",
      "\t\t\t\t            promo.end_\n",
      "\t\t\t\t    from patient\n",
      "\t\t\t\t    --\n",
      "\t\t\t\t    inner join person p_patient on p_patient.id = patient.person_id\n",
      "\t\t\t\t    --\n",
      "\t\t\t\t    inner join patient_promotion as pp on pp.patient_id = patient.id\n",
      "\t\t\t\t    inner join promotion promo on promo.id = pp.promotion_id \n",
      "\t\t\t\t    --\n",
      "\t\t\t\t    left join product_condition pc\n",
      "\t\t\t\t       \t\ton promo.product_condition_id = pc.id\n",
      "\t\t\t\t    --\n",
      "\t\t\t\t    inner join appointment a on a.patient_id = patient.id \n",
      "\t\t\t\t    --\n",
      "\t\t\t\t    inner join partner on promo.partner_id = partner.id \n",
      "\t\t\t\t    --\n",
      "\t\t\t\t    where pc.product_id not in (\n",
      "\t\t\t\t                \tselect id from product\n",
      "\t\t\t\t                \twhere full_name like '%ВЭБ%')\n",
      "\t\t\t\t    and patient.id in (select distinct patient_id from t1)\n",
      "\t\t\t\t    -----\n",
      "\t\t\t\t    ),\n",
      "\t\t\t\t    -----\n",
      "\t\t\t\t    t2_group as (\n",
      "\t\t\t\t    select\t\tpatient_id,\n",
      "\t\t\t\t    \t\t\tpatient_fio,\n",
      "\t\t\t\t    \t\t\tpartner_name,\n",
      "\t\t\t\t    \t\t\tstart_,\n",
      "\t\t\t\t    \t\t\tend_\n",
      "\t\t\t\t    from t2 \n",
      "\t\t\t\t    --\n",
      "\t\t\t\t    where rownum = 1\n",
      "\t\t\t\t    and end_ > '2020-05-31'\n",
      "\t\t\t\t    and start_ <= '2020-05-31'\n",
      "\t\t\t\t    )\n",
      "\t\t\t\t    -----------------------------\n",
      "\t\t\t\t    select \tt1_group.patient_id,\n",
      "\t\t\t\t    \t\tt1_group.patient_fio,\n",
      "\t\t\t\t    \t\tt1_group.promo_type,\n",
      "\t\t\t\t    \t\tt1_group.end_,\n",
      "\t\t\t\t    \t\tt2_group.partner_name,\n",
      "\t\t\t\t    \t\tt2_group.start_ partner_start,\n",
      "\t\t\t\t    \t\tt2_group.end_ partner_end\n",
      "\t\t\t\t    from t1_group left join t2_group \n",
      "\t\t\t\t    on t1_group.patient_id = t2_group.patient_id\n",
      "\t\t\t\t    order by t1_group.patient_id\n",
      "                    None\n",
      "2020-05-19 17:07:54 return 20224 rows\n",
      "2020-05-19 17:07:54 @telemed: closing postgres connection...\n",
      "2020-05-19 17:07:54 closing ssh tunnel to 172.16.100.19...\n"
     ]
    }
   ],
   "source": [
    "connection = UniversalConnection('../../../.credentials/telemed/prom.cfg', DBType.Postgres)\n",
    "data = connection.query(sql)\n",
    "connection.close()"
   ]
  },
  {
   "cell_type": "code",
   "execution_count": 4,
   "metadata": {},
   "outputs": [],
   "source": [
    "df = pd.DataFrame(data).copy()"
   ]
  },
  {
   "cell_type": "code",
   "execution_count": 5,
   "metadata": {},
   "outputs": [
    {
     "data": {
      "text/html": [
       "<div>\n",
       "<style scoped>\n",
       "    .dataframe tbody tr th:only-of-type {\n",
       "        vertical-align: middle;\n",
       "    }\n",
       "\n",
       "    .dataframe tbody tr th {\n",
       "        vertical-align: top;\n",
       "    }\n",
       "\n",
       "    .dataframe thead th {\n",
       "        text-align: right;\n",
       "    }\n",
       "</style>\n",
       "<table border=\"1\" class=\"dataframe\">\n",
       "  <thead>\n",
       "    <tr style=\"text-align: right;\">\n",
       "      <th></th>\n",
       "      <th>patient_id</th>\n",
       "      <th>patient_fio</th>\n",
       "      <th>promo_type</th>\n",
       "      <th>end_</th>\n",
       "      <th>partner_name</th>\n",
       "      <th>partner_start</th>\n",
       "      <th>partner_end</th>\n",
       "    </tr>\n",
       "  </thead>\n",
       "  <tbody>\n",
       "    <tr>\n",
       "      <th>0</th>\n",
       "      <td>1038</td>\n",
       "      <td>Новохатская Татьяна Владимировна</td>\n",
       "      <td>VEBMED</td>\n",
       "      <td>2020-05-31</td>\n",
       "      <td>None</td>\n",
       "      <td>None</td>\n",
       "      <td>None</td>\n",
       "    </tr>\n",
       "    <tr>\n",
       "      <th>1</th>\n",
       "      <td>1093</td>\n",
       "      <td>Жинкина Анна Михайловна</td>\n",
       "      <td>VEBMED</td>\n",
       "      <td>2020-05-31</td>\n",
       "      <td>None</td>\n",
       "      <td>None</td>\n",
       "      <td>None</td>\n",
       "    </tr>\n",
       "    <tr>\n",
       "      <th>2</th>\n",
       "      <td>2383</td>\n",
       "      <td>Ковалева Лариса Валерьевна</td>\n",
       "      <td>VEBMED</td>\n",
       "      <td>2020-05-31</td>\n",
       "      <td>None</td>\n",
       "      <td>None</td>\n",
       "      <td>None</td>\n",
       "    </tr>\n",
       "    <tr>\n",
       "      <th>3</th>\n",
       "      <td>3836</td>\n",
       "      <td>Анонимp4545 Анонимp4545</td>\n",
       "      <td>VEBMED</td>\n",
       "      <td>2020-05-31</td>\n",
       "      <td>None</td>\n",
       "      <td>None</td>\n",
       "      <td>None</td>\n",
       "    </tr>\n",
       "    <tr>\n",
       "      <th>4</th>\n",
       "      <td>4435</td>\n",
       "      <td>Константинов Евгений Алексеевич</td>\n",
       "      <td>VEBMED</td>\n",
       "      <td>2020-05-31</td>\n",
       "      <td>None</td>\n",
       "      <td>None</td>\n",
       "      <td>None</td>\n",
       "    </tr>\n",
       "    <tr>\n",
       "      <th>5</th>\n",
       "      <td>4568</td>\n",
       "      <td>Орлова Гульнара Рафаэлевна</td>\n",
       "      <td>VEBMED</td>\n",
       "      <td>2020-05-31</td>\n",
       "      <td>None</td>\n",
       "      <td>None</td>\n",
       "      <td>None</td>\n",
       "    </tr>\n",
       "    <tr>\n",
       "      <th>6</th>\n",
       "      <td>4984</td>\n",
       "      <td>Коньшин Александр Вадимович</td>\n",
       "      <td>VEBMED</td>\n",
       "      <td>2020-05-31</td>\n",
       "      <td>Альянс Жизнь</td>\n",
       "      <td>2020-05-01</td>\n",
       "      <td>2021-04-30</td>\n",
       "    </tr>\n",
       "    <tr>\n",
       "      <th>7</th>\n",
       "      <td>5117</td>\n",
       "      <td>Шкумат Людмила Борисовна</td>\n",
       "      <td>VEBMED</td>\n",
       "      <td>2020-05-31</td>\n",
       "      <td>None</td>\n",
       "      <td>None</td>\n",
       "      <td>None</td>\n",
       "    </tr>\n",
       "    <tr>\n",
       "      <th>8</th>\n",
       "      <td>6004</td>\n",
       "      <td>Кузнецова Виктория Викторовна</td>\n",
       "      <td>VEBMED</td>\n",
       "      <td>2020-05-31</td>\n",
       "      <td>None</td>\n",
       "      <td>None</td>\n",
       "      <td>None</td>\n",
       "    </tr>\n",
       "    <tr>\n",
       "      <th>9</th>\n",
       "      <td>6022</td>\n",
       "      <td>Kzdsz Kzdsz Kzdsz</td>\n",
       "      <td>VEBMED</td>\n",
       "      <td>2020-05-31</td>\n",
       "      <td>None</td>\n",
       "      <td>None</td>\n",
       "      <td>None</td>\n",
       "    </tr>\n",
       "    <tr>\n",
       "      <th>10</th>\n",
       "      <td>7220</td>\n",
       "      <td>Сагундукова Зульфия Альбертовна</td>\n",
       "      <td>VEBMED</td>\n",
       "      <td>2020-05-31</td>\n",
       "      <td>None</td>\n",
       "      <td>None</td>\n",
       "      <td>None</td>\n",
       "    </tr>\n",
       "    <tr>\n",
       "      <th>11</th>\n",
       "      <td>7258</td>\n",
       "      <td>Егорова Татьяна Леонидовна</td>\n",
       "      <td>VEBMED</td>\n",
       "      <td>2020-05-31</td>\n",
       "      <td>None</td>\n",
       "      <td>None</td>\n",
       "      <td>None</td>\n",
       "    </tr>\n",
       "    <tr>\n",
       "      <th>12</th>\n",
       "      <td>7675</td>\n",
       "      <td>Никитина Елена Александровна</td>\n",
       "      <td>VEBMED</td>\n",
       "      <td>2020-05-31</td>\n",
       "      <td>None</td>\n",
       "      <td>None</td>\n",
       "      <td>None</td>\n",
       "    </tr>\n",
       "    <tr>\n",
       "      <th>13</th>\n",
       "      <td>8044</td>\n",
       "      <td>Смирнова Елена Сергеевна</td>\n",
       "      <td>VEBMED</td>\n",
       "      <td>2020-05-31</td>\n",
       "      <td>None</td>\n",
       "      <td>None</td>\n",
       "      <td>None</td>\n",
       "    </tr>\n",
       "    <tr>\n",
       "      <th>14</th>\n",
       "      <td>8374</td>\n",
       "      <td>Лебедева Евгения Витальевна</td>\n",
       "      <td>VEBMED</td>\n",
       "      <td>2020-05-31</td>\n",
       "      <td>None</td>\n",
       "      <td>None</td>\n",
       "      <td>None</td>\n",
       "    </tr>\n",
       "  </tbody>\n",
       "</table>\n",
       "</div>"
      ],
      "text/plain": [
       "    patient_id                       patient_fio promo_type        end_  \\\n",
       "0         1038  Новохатская Татьяна Владимировна     VEBMED  2020-05-31   \n",
       "1         1093           Жинкина Анна Михайловна     VEBMED  2020-05-31   \n",
       "2         2383        Ковалева Лариса Валерьевна     VEBMED  2020-05-31   \n",
       "3         3836           Анонимp4545 Анонимp4545     VEBMED  2020-05-31   \n",
       "4         4435   Константинов Евгений Алексеевич     VEBMED  2020-05-31   \n",
       "5         4568        Орлова Гульнара Рафаэлевна     VEBMED  2020-05-31   \n",
       "6         4984       Коньшин Александр Вадимович     VEBMED  2020-05-31   \n",
       "7         5117          Шкумат Людмила Борисовна     VEBMED  2020-05-31   \n",
       "8         6004     Кузнецова Виктория Викторовна     VEBMED  2020-05-31   \n",
       "9         6022                 Kzdsz Kzdsz Kzdsz     VEBMED  2020-05-31   \n",
       "10        7220   Сагундукова Зульфия Альбертовна     VEBMED  2020-05-31   \n",
       "11        7258        Егорова Татьяна Леонидовна     VEBMED  2020-05-31   \n",
       "12        7675      Никитина Елена Александровна     VEBMED  2020-05-31   \n",
       "13        8044          Смирнова Елена Сергеевна     VEBMED  2020-05-31   \n",
       "14        8374       Лебедева Евгения Витальевна     VEBMED  2020-05-31   \n",
       "\n",
       "    partner_name partner_start partner_end  \n",
       "0           None          None        None  \n",
       "1           None          None        None  \n",
       "2           None          None        None  \n",
       "3           None          None        None  \n",
       "4           None          None        None  \n",
       "5           None          None        None  \n",
       "6   Альянс Жизнь    2020-05-01  2021-04-30  \n",
       "7           None          None        None  \n",
       "8           None          None        None  \n",
       "9           None          None        None  \n",
       "10          None          None        None  \n",
       "11          None          None        None  \n",
       "12          None          None        None  \n",
       "13          None          None        None  \n",
       "14          None          None        None  "
      ]
     },
     "execution_count": 5,
     "metadata": {},
     "output_type": "execute_result"
    }
   ],
   "source": [
    "df.head(15)"
   ]
  },
  {
   "cell_type": "code",
   "execution_count": 6,
   "metadata": {},
   "outputs": [
    {
     "name": "stdout",
     "output_type": "stream",
     "text": [
      "<class 'pandas.core.frame.DataFrame'>\n",
      "RangeIndex: 20224 entries, 0 to 20223\n",
      "Data columns (total 7 columns):\n",
      " #   Column         Non-Null Count  Dtype \n",
      "---  ------         --------------  ----- \n",
      " 0   patient_id     20224 non-null  int64 \n",
      " 1   patient_fio    20224 non-null  object\n",
      " 2   promo_type     20224 non-null  object\n",
      " 3   end_           20224 non-null  object\n",
      " 4   partner_name   452 non-null    object\n",
      " 5   partner_start  452 non-null    object\n",
      " 6   partner_end    452 non-null    object\n",
      "dtypes: int64(1), object(6)\n",
      "memory usage: 1.1+ MB\n"
     ]
    }
   ],
   "source": [
    "df.info()"
   ]
  },
  {
   "cell_type": "code",
   "execution_count": 7,
   "metadata": {},
   "outputs": [
    {
     "data": {
      "text/plain": [
       "20224"
      ]
     },
     "execution_count": 7,
     "metadata": {},
     "output_type": "execute_result"
    }
   ],
   "source": [
    "# web-patients\n",
    "len(df.patient_id.unique())"
   ]
  },
  {
   "cell_type": "code",
   "execution_count": 8,
   "metadata": {},
   "outputs": [
    {
     "data": {
      "text/plain": [
       "19772"
      ]
     },
     "execution_count": 8,
     "metadata": {},
     "output_type": "execute_result"
    }
   ],
   "source": [
    "df['partner_name'].isnull().values.sum()"
   ]
  },
  {
   "cell_type": "code",
   "execution_count": 9,
   "metadata": {},
   "outputs": [
    {
     "data": {
      "text/plain": [
       "452"
      ]
     },
     "execution_count": 9,
     "metadata": {},
     "output_type": "execute_result"
    }
   ],
   "source": [
    "len(df.patient_id.unique()) - df['partner_name'].isnull().values.sum()"
   ]
  },
  {
   "cell_type": "code",
   "execution_count": null,
   "metadata": {},
   "outputs": [],
   "source": []
  },
  {
   "cell_type": "code",
   "execution_count": 10,
   "metadata": {},
   "outputs": [],
   "source": [
    "d = dict()\n",
    "\n",
    "d = {\n",
    "    'Всего пациентов WEB':len(df.patient_id.unique()),\n",
    "    'Пациентов с другим продуктом':len(df.patient_id.unique()) - df['partner_name'].isnull().values.sum()\n",
    "    \n",
    "}"
   ]
  },
  {
   "cell_type": "code",
   "execution_count": 11,
   "metadata": {},
   "outputs": [],
   "source": [
    "report = pd.DataFrame.from_dict(d, orient='index').sort_index()\n",
    "report.columns = ['Количество']"
   ]
  },
  {
   "cell_type": "code",
   "execution_count": 12,
   "metadata": {},
   "outputs": [
    {
     "data": {
      "text/html": [
       "<div>\n",
       "<style scoped>\n",
       "    .dataframe tbody tr th:only-of-type {\n",
       "        vertical-align: middle;\n",
       "    }\n",
       "\n",
       "    .dataframe tbody tr th {\n",
       "        vertical-align: top;\n",
       "    }\n",
       "\n",
       "    .dataframe thead th {\n",
       "        text-align: right;\n",
       "    }\n",
       "</style>\n",
       "<table border=\"1\" class=\"dataframe\">\n",
       "  <thead>\n",
       "    <tr style=\"text-align: right;\">\n",
       "      <th></th>\n",
       "      <th>Количество</th>\n",
       "    </tr>\n",
       "  </thead>\n",
       "  <tbody>\n",
       "    <tr>\n",
       "      <th>Всего пациентов WEB</th>\n",
       "      <td>20224</td>\n",
       "    </tr>\n",
       "    <tr>\n",
       "      <th>Пациентов с другим продуктом</th>\n",
       "      <td>452</td>\n",
       "    </tr>\n",
       "  </tbody>\n",
       "</table>\n",
       "</div>"
      ],
      "text/plain": [
       "                              Количество\n",
       "Всего пациентов WEB                20224\n",
       "Пациентов с другим продуктом         452"
      ]
     },
     "execution_count": 12,
     "metadata": {},
     "output_type": "execute_result"
    }
   ],
   "source": [
    "report"
   ]
  },
  {
   "cell_type": "code",
   "execution_count": null,
   "metadata": {},
   "outputs": [],
   "source": []
  },
  {
   "cell_type": "code",
   "execution_count": 13,
   "metadata": {},
   "outputs": [],
   "source": [
    "report_date: str = datetime.datetime.now().strftime(DATETIME_FORMAT).replace(':', '-')"
   ]
  },
  {
   "cell_type": "code",
   "execution_count": null,
   "metadata": {},
   "outputs": [],
   "source": []
  },
  {
   "cell_type": "code",
   "execution_count": null,
   "metadata": {},
   "outputs": [],
   "source": []
  },
  {
   "cell_type": "code",
   "execution_count": 14,
   "metadata": {},
   "outputs": [
    {
     "data": {
      "text/plain": [
       "\"\\nfile_name = 'after_web' + report_date + '.xlsx'\\nwriter = pd.ExcelWriter(file_name, engine='xlsxwriter')\\n\\ndf.to_excel(writer, sheet_name='Data', index=False)\\nworksheet = writer.sheets['Data']\\n# worksheet.set_column('A:A', 50)\\nworksheet.set_column(0, 0, 12)\\nworksheet.set_column(1, 1, 35)\\nworksheet.set_column(2, 3, 12)\\nworksheet.set_column(4, 4, 25)\\nworksheet.set_column(5, 5, 12)\\n\\nreport.to_excel(writer, sheet_name='Count')\\nworksheet = writer.sheets['Count']\\nworksheet.set_column('A:A', 35)\\nworksheet.set_column(1, len(report.columns), 12)\\n\\n\\nwriter.save()\\n\""
      ]
     },
     "execution_count": 14,
     "metadata": {},
     "output_type": "execute_result"
    }
   ],
   "source": [
    "\"\"\"\n",
    "file_name = 'after_web' + report_date + '.xlsx'\n",
    "writer = pd.ExcelWriter(file_name, engine='xlsxwriter')\n",
    "\n",
    "df.to_excel(writer, sheet_name='Data', index=False)\n",
    "worksheet = writer.sheets['Data']\n",
    "# worksheet.set_column('A:A', 50)\n",
    "worksheet.set_column(0, 0, 12)\n",
    "worksheet.set_column(1, 1, 35)\n",
    "worksheet.set_column(2, 3, 12)\n",
    "worksheet.set_column(4, 4, 25)\n",
    "worksheet.set_column(5, 5, 12)\n",
    "\n",
    "report.to_excel(writer, sheet_name='Count')\n",
    "worksheet = writer.sheets['Count']\n",
    "worksheet.set_column('A:A', 35)\n",
    "worksheet.set_column(1, len(report.columns), 12)\n",
    "\n",
    "\n",
    "writer.save()\n",
    "\"\"\""
   ]
  },
  {
   "cell_type": "code",
   "execution_count": null,
   "metadata": {},
   "outputs": [],
   "source": []
  },
  {
   "cell_type": "markdown",
   "metadata": {},
   "source": [
    "# AUTO-WIDTH"
   ]
  },
  {
   "cell_type": "code",
   "execution_count": 16,
   "metadata": {},
   "outputs": [],
   "source": [
    "global writer\n",
    "writer = None"
   ]
  },
  {
   "cell_type": "code",
   "execution_count": 17,
   "metadata": {},
   "outputs": [],
   "source": [
    "def corr_width(x: int):\n",
    "    if x <= 7:\n",
    "        return 7\n",
    "    elif x >=50:\n",
    "        return 50\n",
    "    return x\n",
    "\n",
    "def auto_columns_width(file_name, data, sheet_name, formatting=[]):\n",
    "    \n",
    "    # writer\n",
    "    global writer\n",
    "    if not writer:\n",
    "        writer = pd.ExcelWriter(file_name, engine='xlsxwriter')\n",
    "    \n",
    "    # drop pandas RangeIndex\n",
    "    if isinstance(data.index, pd.core.indexes.range.RangeIndex):\n",
    "        data.to_excel(writer, sheet_name=sheet_name, index=False)\n",
    "    else:\n",
    "        data.to_excel(writer, sheet_name=sheet_name)\n",
    "    \n",
    "    # select current worksheet\n",
    "    worksheet = writer.sheets[sheet_name]\n",
    "    \n",
    "    # read columns\n",
    "    cols = list(data.columns)\n",
    "    cols_iter = list(data.columns)\n",
    "    \n",
    "    # datacolumns to str\n",
    "    for i in range(len(cols)):\n",
    "        if isinstance(cols[i], datetime.date):\n",
    "            cols[i] = cols[i].strftime('%Y-%m-%d')\n",
    "    \n",
    "    # if index exists = set k=1\n",
    "    k = 0\n",
    "    if data.index.dtype == object:\n",
    "        k = 1\n",
    "    \n",
    "    # setting index length\n",
    "    worksheet.set_column(0, 0, max(data.index.astype(str).map(len)) * 1.5)\n",
    "    \n",
    "    # setting columns length\n",
    "    for i, col in enumerate(cols, k):\n",
    "        \n",
    "        if data[cols_iter[i-k]].dtype == int:\n",
    "            col_len = corr_width(len(col)) * 1.5\n",
    "        else:\n",
    "            # эта помойка выбирает что длиннее - название столбца или какое-то значение внутри него\n",
    "            col_len = max(corr_width(max(data[(cols_iter[i-k])].fillna(0).astype(str).map(len))), len(col))\n",
    "            col_len *= 1.5\n",
    "        \n",
    "        print(i, col, col_len)\n",
    "        worksheet.set_column(i, i, col_len)\n",
    "        "
   ]
  },
  {
   "cell_type": "code",
   "execution_count": 18,
   "metadata": {},
   "outputs": [],
   "source": [
    "file_name = 'subscribe-after-web' + report_date + '.xlsx'"
   ]
  },
  {
   "cell_type": "code",
   "execution_count": 19,
   "metadata": {},
   "outputs": [
    {
     "name": "stdout",
     "output_type": "stream",
     "text": [
      "0 patient_id 15.0\n",
      "1 patient_fio 67.5\n",
      "2 promo_type 15.0\n",
      "3 end_ 15.0\n",
      "4 partner_name 45.0\n",
      "5 partner_start 19.5\n",
      "6 partner_end 16.5\n"
     ]
    }
   ],
   "source": [
    "auto_columns_width(file_name, df, 'data')"
   ]
  },
  {
   "cell_type": "code",
   "execution_count": 20,
   "metadata": {},
   "outputs": [
    {
     "name": "stdout",
     "output_type": "stream",
     "text": [
      "1 Количество 15.0\n"
     ]
    }
   ],
   "source": [
    "auto_columns_width(file_name, report, 'Quantity')"
   ]
  },
  {
   "cell_type": "code",
   "execution_count": 21,
   "metadata": {},
   "outputs": [],
   "source": [
    "writer.save()"
   ]
  },
  {
   "cell_type": "markdown",
   "metadata": {},
   "source": [
    "# END"
   ]
  },
  {
   "cell_type": "code",
   "execution_count": 22,
   "metadata": {},
   "outputs": [],
   "source": [
    "# writer"
   ]
  },
  {
   "cell_type": "code",
   "execution_count": 23,
   "metadata": {},
   "outputs": [],
   "source": [
    "#isinstance(df.index, pd.core.indexes.range.RangeIndex)"
   ]
  },
  {
   "cell_type": "code",
   "execution_count": 24,
   "metadata": {},
   "outputs": [],
   "source": [
    "# type(df.index)"
   ]
  },
  {
   "cell_type": "code",
   "execution_count": 25,
   "metadata": {},
   "outputs": [],
   "source": [
    "# report.index"
   ]
  },
  {
   "cell_type": "code",
   "execution_count": 26,
   "metadata": {},
   "outputs": [
    {
     "data": {
      "text/plain": [
       "45"
      ]
     },
     "execution_count": 26,
     "metadata": {},
     "output_type": "execute_result"
    }
   ],
   "source": [
    "max(df.patient_fio.map(len))"
   ]
  },
  {
   "cell_type": "code",
   "execution_count": 27,
   "metadata": {},
   "outputs": [
    {
     "data": {
      "text/plain": [
       "dtype('O')"
      ]
     },
     "execution_count": 27,
     "metadata": {},
     "output_type": "execute_result"
    }
   ],
   "source": [
    "df['patient_fio'].dtype"
   ]
  },
  {
   "cell_type": "code",
   "execution_count": 28,
   "metadata": {},
   "outputs": [
    {
     "data": {
      "text/plain": [
       "dtype('int64')"
      ]
     },
     "execution_count": 28,
     "metadata": {},
     "output_type": "execute_result"
    }
   ],
   "source": [
    "df['patient_id'].dtype"
   ]
  },
  {
   "cell_type": "code",
   "execution_count": 29,
   "metadata": {},
   "outputs": [
    {
     "data": {
      "text/plain": [
       "True"
      ]
     },
     "execution_count": 29,
     "metadata": {},
     "output_type": "execute_result"
    }
   ],
   "source": [
    "isinstance(df['promo_type'].dtype, object)"
   ]
  },
  {
   "cell_type": "code",
   "execution_count": 30,
   "metadata": {},
   "outputs": [
    {
     "data": {
      "text/plain": [
       "True"
      ]
     },
     "execution_count": 30,
     "metadata": {},
     "output_type": "execute_result"
    }
   ],
   "source": [
    "df['patient_id'].dtype == int"
   ]
  },
  {
   "cell_type": "code",
   "execution_count": 31,
   "metadata": {},
   "outputs": [
    {
     "data": {
      "text/plain": [
       "28"
      ]
     },
     "execution_count": 31,
     "metadata": {},
     "output_type": "execute_result"
    }
   ],
   "source": [
    "max(report.index.map(len))"
   ]
  },
  {
   "cell_type": "code",
   "execution_count": 32,
   "metadata": {},
   "outputs": [
    {
     "data": {
      "text/plain": [
       "pandas.core.indexes.base.Index"
      ]
     },
     "execution_count": 32,
     "metadata": {},
     "output_type": "execute_result"
    }
   ],
   "source": [
    "type(report.index)"
   ]
  },
  {
   "cell_type": "code",
   "execution_count": 33,
   "metadata": {},
   "outputs": [
    {
     "data": {
      "text/plain": [
       "True"
      ]
     },
     "execution_count": 33,
     "metadata": {},
     "output_type": "execute_result"
    }
   ],
   "source": [
    "report.index.dtype == object"
   ]
  },
  {
   "cell_type": "code",
   "execution_count": 34,
   "metadata": {},
   "outputs": [
    {
     "data": {
      "text/plain": [
       "dtype('O')"
      ]
     },
     "execution_count": 34,
     "metadata": {},
     "output_type": "execute_result"
    }
   ],
   "source": [
    "report.index.dtype"
   ]
  },
  {
   "cell_type": "code",
   "execution_count": 35,
   "metadata": {},
   "outputs": [
    {
     "data": {
      "text/plain": [
       "10"
      ]
     },
     "execution_count": 35,
     "metadata": {},
     "output_type": "execute_result"
    }
   ],
   "source": [
    "max(df['end_'].fillna(0).astype(str).map(len))"
   ]
  },
  {
   "cell_type": "code",
   "execution_count": 36,
   "metadata": {},
   "outputs": [
    {
     "data": {
      "text/plain": [
       "['patient_id',\n",
       " 'patient_fio',\n",
       " 'promo_type',\n",
       " 'end_',\n",
       " 'partner_name',\n",
       " 'partner_start',\n",
       " 'partner_end']"
      ]
     },
     "execution_count": 36,
     "metadata": {},
     "output_type": "execute_result"
    }
   ],
   "source": [
    "list(df.columns)"
   ]
  },
  {
   "cell_type": "code",
   "execution_count": 37,
   "metadata": {},
   "outputs": [
    {
     "data": {
      "text/plain": [
       "0        2020-05-31\n",
       "1        2020-05-31\n",
       "2        2020-05-31\n",
       "3        2020-05-31\n",
       "4        2020-05-31\n",
       "            ...    \n",
       "20219    2020-05-31\n",
       "20220    2020-05-31\n",
       "20221    2020-05-31\n",
       "20222    2020-05-31\n",
       "20223    2020-05-31\n",
       "Name: end_, Length: 20224, dtype: object"
      ]
     },
     "execution_count": 37,
     "metadata": {},
     "output_type": "execute_result"
    }
   ],
   "source": [
    "df.end_"
   ]
  },
  {
   "cell_type": "code",
   "execution_count": 38,
   "metadata": {},
   "outputs": [
    {
     "data": {
      "text/plain": [
       "dtype('O')"
      ]
     },
     "execution_count": 38,
     "metadata": {},
     "output_type": "execute_result"
    }
   ],
   "source": [
    "df['end_'].dtype"
   ]
  },
  {
   "cell_type": "code",
   "execution_count": 39,
   "metadata": {},
   "outputs": [
    {
     "data": {
      "text/plain": [
       "'patient_id'"
      ]
     },
     "execution_count": 39,
     "metadata": {},
     "output_type": "execute_result"
    }
   ],
   "source": [
    "df.columns[0]"
   ]
  },
  {
   "cell_type": "code",
   "execution_count": 40,
   "metadata": {},
   "outputs": [
    {
     "data": {
      "text/plain": [
       "'Количество'"
      ]
     },
     "execution_count": 40,
     "metadata": {},
     "output_type": "execute_result"
    }
   ],
   "source": [
    "report.columns[0]"
   ]
  },
  {
   "cell_type": "code",
   "execution_count": null,
   "metadata": {},
   "outputs": [],
   "source": []
  },
  {
   "cell_type": "code",
   "execution_count": null,
   "metadata": {},
   "outputs": [],
   "source": []
  }
 ],
 "metadata": {
  "kernelspec": {
   "display_name": "Python 3",
   "language": "python",
   "name": "python3"
  },
  "language_info": {
   "codemirror_mode": {
    "name": "ipython",
    "version": 3
   },
   "file_extension": ".py",
   "mimetype": "text/x-python",
   "name": "python",
   "nbconvert_exporter": "python",
   "pygments_lexer": "ipython3",
   "version": "3.7.6"
  }
 },
 "nbformat": 4,
 "nbformat_minor": 4
}
