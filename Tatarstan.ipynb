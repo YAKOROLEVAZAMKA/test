{
 "cells": [
  {
   "cell_type": "code",
   "execution_count": 1,
   "metadata": {},
   "outputs": [],
   "source": [
    "import configparser\n",
    "import unittest\n",
    "import datetime\n",
    "import sys\n",
    "import pandas as pd\n",
    "\n",
    "# from tqdm import tqdm_notebook\n",
    "\n",
    "sys.path.append(\"/home/sergey/drclinics/common\")\n",
    "from universal_connection import UniversalConnection, DBType\n",
    "\n",
    "sys.path.append(\"/home/sergey/drclinics/reports\")\n",
    "from report_utils import excel_report\n",
    "\n",
    "import numpy as np\n",
    "from log import log"
   ]
  },
  {
   "cell_type": "code",
   "execution_count": 2,
   "metadata": {},
   "outputs": [],
   "source": [
    "# проверка телефона на валидность\n",
    "\n",
    "def valid_phone(phone):\n",
    "    try:\n",
    "        if len(phone) == 11:\n",
    "            return phone\n",
    "        else:\n",
    "            return 'Invalid phone'\n",
    "    except:\n",
    "        return 'Invalid phone'"
   ]
  },
  {
   "cell_type": "code",
   "execution_count": 3,
   "metadata": {},
   "outputs": [],
   "source": [
    "# получение всех консультаций\n",
    "\n",
    "sql = \"\"\"\n",
    "with temp as (\n",
    "select a.id appoint_id,\n",
    "\t   p.person_id,\n",
    "\t   per.phone,\n",
    "\t   --per.partner_id,\n",
    "\t   --par.\"name\", \n",
    "\t   case \n",
    "        \twhen promo.description_tsvector = 'телемедицина_вэб' then 'VEBMED'\n",
    "        \telse 'ПРОЧИЕ' \n",
    "       end \"name\",\n",
    "\t   case\n",
    "\t   \t\twhen (((substring(per.phone, 2, 3) = '901' and cast(substring(per.phone, 5, 7) as numeric) between 9460000 and 9469999) \n",
    "\t   \t\t\t or (substring(per.phone, 2, 3) = '902' and cast(substring(per.phone, 5, 7) as numeric) between 7110000 and 7119999)\n",
    "\t   \t\t\t or (substring(per.phone, 2, 3) = '902' and cast(substring(per.phone, 5, 7) as numeric) between 7150000 and 7159999)\n",
    "\t   \t\t\t or (substring(per.phone, 2, 3) = '902' and cast(substring(per.phone, 5, 7) as numeric) between 7180000 and 7199999)\n",
    "\t   \t\t\t or (substring(per.phone, 2, 3) = '903' and cast(substring(per.phone, 5, 7) as numeric) between 0610000 and 0629999)\n",
    "\t   \t\t\t or (substring(per.phone, 2, 3) = '903' and cast(substring(per.phone, 5, 7) as numeric) between 3050000 and 3079999)\n",
    "\t   \t\t\t or (substring(per.phone, 2, 3) = '903' and cast(substring(per.phone, 5, 7) as numeric) between 3130000 and 3149999)\n",
    "\t   \t\t\t or (substring(per.phone, 2, 3) = '903' and cast(substring(per.phone, 5, 7) as numeric) between 3180000 and 3199999)\n",
    "\t   \t\t\t or (substring(per.phone, 2, 3) = '903' and cast(substring(per.phone, 5, 7) as numeric) between 3400000 and 3449999)\n",
    "\t   \t\t\t or (substring(per.phone, 2, 3) = '903' and cast(substring(per.phone, 5, 7) as numeric) between 3870000 and 3889999)\n",
    "\t   \t\t\t or (substring(per.phone, 2, 3) = '904' and cast(substring(per.phone, 5, 7) as numeric) between 6600000 and 6699999)\n",
    "\t   \t\t\t or (substring(per.phone, 2, 3) = '904' and cast(substring(per.phone, 5, 7) as numeric) between 6700000 and 6799999)\n",
    "\t   \t\t\t or (substring(per.phone, 2, 3) = '904' and cast(substring(per.phone, 5, 7) as numeric) between 7120000 and 7179999)\n",
    "\t   \t\t\t or (substring(per.phone, 2, 3) = '904' and cast(substring(per.phone, 5, 7) as numeric) between 7180000 and 7199999)\n",
    "\t   \t\t\t or (substring(per.phone, 2, 3) = '904' and cast(substring(per.phone, 5, 7) as numeric) between 7600000 and 7699999)\n",
    "\t   \t\t\t or (substring(per.phone, 2, 3) = '905' and cast(substring(per.phone, 5, 7) as numeric) between 0200000 and 0269999)\n",
    "\t   \t\t\t or (substring(per.phone, 2, 3) = '905' and cast(substring(per.phone, 5, 7) as numeric) between 0380000 and 0399999)\n",
    "\t   \t\t\t or (substring(per.phone, 2, 3) = '905' and cast(substring(per.phone, 5, 7) as numeric) between 3100000 and 3199999)\n",
    "\t   \t\t\t or (substring(per.phone, 2, 3) = '905' and cast(substring(per.phone, 5, 7) as numeric) between 3700000 and 3799999)\n",
    "\t   \t\t\t or (substring(per.phone, 2, 3) = '906' and cast(substring(per.phone, 5, 7) as numeric) between 1100000 and 1249999)\n",
    "\t   \t\t\t or (substring(per.phone, 2, 3) = '906' and cast(substring(per.phone, 5, 7) as numeric) between 3200000 and 3339999)\n",
    "\t   \t\t\t or (substring(per.phone, 2, 3) = '908' and cast(substring(per.phone, 5, 7) as numeric) between 3300000 and 3399999)\n",
    "\t   \t\t\t or (substring(per.phone, 2, 3) = '908' and cast(substring(per.phone, 5, 7) as numeric) between 3400000 and 3439999)\n",
    "\t   \t\t\t or (substring(per.phone, 2, 3) = '908' and cast(substring(per.phone, 5, 7) as numeric) between 3460000 and 3499999)\n",
    "\t   \t\t\t or (substring(per.phone, 2, 3) = '909' and cast(substring(per.phone, 5, 7) as numeric) between 3060000 and 3149999)\n",
    "\t   \t\t\t or (substring(per.phone, 2, 3) = '917' and cast(substring(per.phone, 5, 7) as numeric) between 2200000 and 2999999)\n",
    "\t   \t\t\t or (substring(per.phone, 2, 3) = '917' and cast(substring(per.phone, 5, 7) as numeric) between 3900000 and 3999999)\n",
    "\t   \t\t\t or (substring(per.phone, 2, 3) = '917' and cast(substring(per.phone, 5, 7) as numeric) between 8500000 and 9399999)\n",
    "\t   \t\t\t or (substring(per.phone, 2, 3) = '919' and cast(substring(per.phone, 5, 7) as numeric) between 6200000 and 6499999)\n",
    "\t   \t\t\t or (substring(per.phone, 2, 3) = '919' and cast(substring(per.phone, 5, 7) as numeric) between 6800000 and 6999999)\n",
    "\t   \t\t\t or (substring(per.phone, 2, 3) = '927' and cast(substring(per.phone, 5, 7) as numeric) between 0300000 and 0399999)\n",
    "\t   \t\t\t or (substring(per.phone, 2, 3) = '927' and cast(substring(per.phone, 5, 7) as numeric) between 0400000 and 0499999)\n",
    "\t   \t\t\t or (substring(per.phone, 2, 3) = '927' and cast(substring(per.phone, 5, 7) as numeric) between 2400000 and 2499999)\n",
    "\t   \t\t\t or (substring(per.phone, 2, 3) = '927' and cast(substring(per.phone, 5, 7) as numeric) between 4000000 and 4499999)\n",
    "\t   \t\t\t or (substring(per.phone, 2, 3) = '927' and cast(substring(per.phone, 5, 7) as numeric) between 4500000 and 4999999)\n",
    "\t   \t\t\t or (substring(per.phone, 2, 3) = '927' and cast(substring(per.phone, 5, 7) as numeric) between 6700000 and 6799999)\n",
    "\t   \t\t\t or (substring(per.phone, 2, 3) = '937' and cast(substring(per.phone, 5, 7) as numeric) between 2900000 and 2999999)\n",
    "\t   \t\t\t or (substring(per.phone, 2, 3) = '950' and cast(substring(per.phone, 5, 7) as numeric) between 3100000 and 3299999)\n",
    "\t   \t\t\t or (substring(per.phone, 2, 3) = '950' and cast(substring(per.phone, 5, 7) as numeric) between 6650000 and 6689999)\n",
    "\t   \t\t\t or (substring(per.phone, 2, 3) = '951' and cast(substring(per.phone, 5, 7) as numeric) between 0600000 and 0699999)\n",
    "\t   \t\t\t or (substring(per.phone, 2, 3) = '951' and cast(substring(per.phone, 5, 7) as numeric) between 8900000 and 8999999)\n",
    "\t   \t\t\t or (substring(per.phone, 2, 3) = '960' and cast(substring(per.phone, 5, 7) as numeric) between 0300000 and 0899999)\n",
    "\t   \t\t\t or (substring(per.phone, 2, 3) = '962' and cast(substring(per.phone, 5, 7) as numeric) between 5480000 and 5799999)\n",
    "\t   \t\t\t or (substring(per.phone, 2, 3) = '963' and cast(substring(per.phone, 5, 7) as numeric) between 1200000 and 1259999)\n",
    "\t   \t\t\t or (substring(per.phone, 2, 3) = '987' and cast(substring(per.phone, 5, 7) as numeric) between 2900000 and 2999999)\n",
    "\t   \t\t\t) and length(phone) = 11\n",
    "\t   \t\t\t)\n",
    "\t   \t\tthen 'Республика Татарстан'\n",
    "\t   \t\telse 'Другой регион'\n",
    "\t   end region--,\n",
    "\t   --a.created + 3 * interval '1 hour'\n",
    "from appointment a\n",
    "left join patient p on a.patient_id = p.id \n",
    "left join person per on p.person_id = per.id \n",
    "left join promotion promo on a.promotion_id = promo.id\n",
    "left join partner par on promo.partner_id = par.id\n",
    "where a.created + 3 * interval '1 hour' < timezone('Europe/Moscow', now() - (extract(hour from now())) * interval '1 hour' - (extract(minute from now())) * interval '1 minute' - (extract(second from now())) * interval '1 second')\n",
    "and a.good\n",
    "and a.patient_id not in (\n",
    "select patient_id\n",
    "from patient_categories pcat\n",
    "inner join reference rf\n",
    "      on rf.id=pcat.reference_id\n",
    "where rf.code='TEST'\n",
    "    )\n",
    ")\n",
    "--select count(distinct(person_id)) \n",
    "--from temp\n",
    "--where name = 'VEBMED'\n",
    "--select count (distinct(phone)) from temp\n",
    "select * from temp\n",
    "\n",
    "\"\"\""
   ]
  },
  {
   "cell_type": "code",
   "execution_count": 4,
   "metadata": {},
   "outputs": [
    {
     "name": "stdout",
     "output_type": "stream",
     "text": [
      "2020-04-08 17:31:59 connect to postgres database using config file \"../../.credentials/telemed/prom.cfg\"\n",
      "2020-04-08 17:31:59 creating ssh tunnel to 172.16.100.19 as root...\n",
      "2020-04-08 17:32:10 connect postgres using parameters:\n",
      "                    database: telemed\n",
      "\t\t\t\t    user: norekhov\n",
      "\t\t\t\t    password: ***masked***\n",
      "\t\t\t\t    host: localhost\n",
      "\t\t\t\t    port: 36367\n",
      "2020-04-08 17:32:10 @telemed: execute sql:\n",
      "\t\t\t\t    SET TIME ZONE 'Europe/Moscow'\n",
      "\t\t\t\t    None\n"
     ]
    }
   ],
   "source": [
    "connection = UniversalConnection('../../.credentials/telemed/prom.cfg', DBType.Postgres)"
   ]
  },
  {
   "cell_type": "code",
   "execution_count": 5,
   "metadata": {},
   "outputs": [
    {
     "name": "stdout",
     "output_type": "stream",
     "text": [
      "2020-04-08 17:32:10 @telemed query:\n",
      "                    with temp as (\n",
      "\t\t\t\t    select a.id appoint_id,\n",
      "\t\t\t\t    \t   p.person_id,\n",
      "\t\t\t\t    \t   per.phone,\n",
      "\t\t\t\t    \t   --per.partner_id,\n",
      "\t\t\t\t    \t   --par.\"name\", \n",
      "\t\t\t\t    \t   case \n",
      "\t\t\t\t            \twhen promo.description_tsvector = 'телемедицина_вэб' then 'VEBMED'\n",
      "\t\t\t\t            \telse 'ПРОЧИЕ' \n",
      "\t\t\t\t           end \"name\",\n",
      "\t\t\t\t    \t   case\n",
      "\t\t\t\t    \t   \t\twhen (((substring(per.phone, 2, 3) = '901' and cast(substring(per.phone, 5, 7) as numeric) between 9460000 and 9469999) \n",
      "\t\t\t\t    \t   \t\t\t or (substring(per.phone, 2, 3) = '902' and cast(substring(per.phone, 5, 7) as numeric) between 7110000 and 7119999)\n",
      "\t\t\t\t    \t   \t\t\t or (substring(per.phone, 2, 3) = '902' and cast(substring(per.phone, 5, 7) as numeric) between 7150000 and 7159999)\n",
      "\t\t\t\t    \t   \t\t\t or (substring(per.phone, 2, 3) = '902' and cast(substring(per.phone, 5, 7) as numeric) between 7180000 and 7199999)\n",
      "\t\t\t\t    \t   \t\t\t or (substring(per.phone, 2, 3) = '903' and cast(substring(per.phone, 5, 7) as numeric) between 0610000 and 0629999)\n",
      "\t\t\t\t    \t   \t\t\t or (substring(per.phone, 2, 3) = '903' and cast(substring(per.phone, 5, 7) as numeric) between 3050000 and 3079999)\n",
      "\t\t\t\t    \t   \t\t\t or (substring(per.phone, 2, 3) = '903' and cast(substring(per.phone, 5, 7) as numeric) between 3130000 and 3149999)\n",
      "\t\t\t\t    \t   \t\t\t or (substring(per.phone, 2, 3) = '903' and cast(substring(per.phone, 5, 7) as numeric) between 3180000 and 3199999)\n",
      "\t\t\t\t    \t   \t\t\t or (substring(per.phone, 2, 3) = '903' and cast(substring(per.phone, 5, 7) as numeric) between 3400000 and 3449999)\n",
      "\t\t\t\t    \t   \t\t\t or (substring(per.phone, 2, 3) = '903' and cast(substring(per.phone, 5, 7) as numeric) between 3870000 and 3889999)\n",
      "\t\t\t\t    \t   \t\t\t or (substring(per.phone, 2, 3) = '904' and cast(substring(per.phone, 5, 7) as numeric) between 6600000 and 6699999)\n",
      "\t\t\t\t    \t   \t\t\t or (substring(per.phone, 2, 3) = '904' and cast(substring(per.phone, 5, 7) as numeric) between 6700000 and 6799999)\n",
      "\t\t\t\t    \t   \t\t\t or (substring(per.phone, 2, 3) = '904' and cast(substring(per.phone, 5, 7) as numeric) between 7120000 and 7179999)\n",
      "\t\t\t\t    \t   \t\t\t or (substring(per.phone, 2, 3) = '904' and cast(substring(per.phone, 5, 7) as numeric) between 7180000 and 7199999)\n",
      "\t\t\t\t    \t   \t\t\t or (substring(per.phone, 2, 3) = '904' and cast(substring(per.phone, 5, 7) as numeric) between 7600000 and 7699999)\n",
      "\t\t\t\t    \t   \t\t\t or (substring(per.phone, 2, 3) = '905' and cast(substring(per.phone, 5, 7) as numeric) between 0200000 and 0269999)\n",
      "\t\t\t\t    \t   \t\t\t or (substring(per.phone, 2, 3) = '905' and cast(substring(per.phone, 5, 7) as numeric) between 0380000 and 0399999)\n",
      "\t\t\t\t    \t   \t\t\t or (substring(per.phone, 2, 3) = '905' and cast(substring(per.phone, 5, 7) as numeric) between 3100000 and 3199999)\n",
      "\t\t\t\t    \t   \t\t\t or (substring(per.phone, 2, 3) = '905' and cast(substring(per.phone, 5, 7) as numeric) between 3700000 and 3799999)\n",
      "\t\t\t\t    \t   \t\t\t or (substring(per.phone, 2, 3) = '906' and cast(substring(per.phone, 5, 7) as numeric) between 1100000 and 1249999)\n",
      "\t\t\t\t    \t   \t\t\t or (substring(per.phone, 2, 3) = '906' and cast(substring(per.phone, 5, 7) as numeric) between 3200000 and 3339999)\n",
      "\t\t\t\t    \t   \t\t\t or (substring(per.phone, 2, 3) = '908' and cast(substring(per.phone, 5, 7) as numeric) between 3300000 and 3399999)\n",
      "\t\t\t\t    \t   \t\t\t or (substring(per.phone, 2, 3) = '908' and cast(substring(per.phone, 5, 7) as numeric) between 3400000 and 3439999)\n",
      "\t\t\t\t    \t   \t\t\t or (substring(per.phone, 2, 3) = '908' and cast(substring(per.phone, 5, 7) as numeric) between 3460000 and 3499999)\n",
      "\t\t\t\t    \t   \t\t\t or (substring(per.phone, 2, 3) = '909' and cast(substring(per.phone, 5, 7) as numeric) between 3060000 and 3149999)\n",
      "\t\t\t\t    \t   \t\t\t or (substring(per.phone, 2, 3) = '917' and cast(substring(per.phone, 5, 7) as numeric) between 2200000 and 2999999)\n",
      "\t\t\t\t    \t   \t\t\t or (substring(per.phone, 2, 3) = '917' and cast(substring(per.phone, 5, 7) as numeric) between 3900000 and 3999999)\n",
      "\t\t\t\t    \t   \t\t\t or (substring(per.phone, 2, 3) = '917' and cast(substring(per.phone, 5, 7) as numeric) between 8500000 and 9399999)\n",
      "\t\t\t\t    \t   \t\t\t or (substring(per.phone, 2, 3) = '919' and cast(substring(per.phone, 5, 7) as numeric) between 6200000 and 6499999)\n",
      "\t\t\t\t    \t   \t\t\t or (substring(per.phone, 2, 3) = '919' and cast(substring(per.phone, 5, 7) as numeric) between 6800000 and 6999999)\n",
      "\t\t\t\t    \t   \t\t\t or (substring(per.phone, 2, 3) = '927' and cast(substring(per.phone, 5, 7) as numeric) between 0300000 and 0399999)\n",
      "\t\t\t\t    \t   \t\t\t or (substring(per.phone, 2, 3) = '927' and cast(substring(per.phone, 5, 7) as numeric) between 0400000 and 0499999)\n",
      "\t\t\t\t    \t   \t\t\t or (substring(per.phone, 2, 3) = '927' and cast(substring(per.phone, 5, 7) as numeric) between 2400000 and 2499999)\n",
      "\t\t\t\t    \t   \t\t\t or (substring(per.phone, 2, 3) = '927' and cast(substring(per.phone, 5, 7) as numeric) between 4000000 and 4499999)\n",
      "\t\t\t\t    \t   \t\t\t or (substring(per.phone, 2, 3) = '927' and cast(substring(per.phone, 5, 7) as numeric) between 4500000 and 4999999)\n",
      "\t\t\t\t    \t   \t\t\t or (substring(per.phone, 2, 3) = '927' and cast(substring(per.phone, 5, 7) as numeric) between 6700000 and 6799999)\n",
      "\t\t\t\t    \t   \t\t\t or (substring(per.phone, 2, 3) = '937' and cast(substring(per.phone, 5, 7) as numeric) between 2900000 and 2999999)\n",
      "\t\t\t\t    \t   \t\t\t or (substring(per.phone, 2, 3) = '950' and cast(substring(per.phone, 5, 7) as numeric) between 3100000 and 3299999)\n",
      "\t\t\t\t    \t   \t\t\t or (substring(per.phone, 2, 3) = '950' and cast(substring(per.phone, 5, 7) as numeric) between 6650000 and 6689999)\n",
      "\t\t\t\t    \t   \t\t\t or (substring(per.phone, 2, 3) = '951' and cast(substring(per.phone, 5, 7) as numeric) between 0600000 and 0699999)\n",
      "\t\t\t\t    \t   \t\t\t or (substring(per.phone, 2, 3) = '951' and cast(substring(per.phone, 5, 7) as numeric) between 8900000 and 8999999)\n",
      "\t\t\t\t    \t   \t\t\t or (substring(per.phone, 2, 3) = '960' and cast(substring(per.phone, 5, 7) as numeric) between 0300000 and 0899999)\n",
      "\t\t\t\t    \t   \t\t\t or (substring(per.phone, 2, 3) = '962' and cast(substring(per.phone, 5, 7) as numeric) between 5480000 and 5799999)\n",
      "\t\t\t\t    \t   \t\t\t or (substring(per.phone, 2, 3) = '963' and cast(substring(per.phone, 5, 7) as numeric) between 1200000 and 1259999)\n",
      "\t\t\t\t    \t   \t\t\t or (substring(per.phone, 2, 3) = '987' and cast(substring(per.phone, 5, 7) as numeric) between 2900000 and 2999999)\n",
      "\t\t\t\t    \t   \t\t\t) and length(phone) = 11\n",
      "\t\t\t\t    \t   \t\t\t)\n",
      "\t\t\t\t    \t   \t\tthen 'Республика Татарстан'\n",
      "\t\t\t\t    \t   \t\telse 'Другой регион'\n",
      "\t\t\t\t    \t   end region--,\n",
      "\t\t\t\t    \t   --a.created + 3 * interval '1 hour'\n",
      "\t\t\t\t    from appointment a\n",
      "\t\t\t\t    left join patient p on a.patient_id = p.id \n",
      "\t\t\t\t    left join person per on p.person_id = per.id \n",
      "\t\t\t\t    left join promotion promo on a.promotion_id = promo.id\n",
      "\t\t\t\t    left join partner par on promo.partner_id = par.id\n",
      "\t\t\t\t    where a.created + 3 * interval '1 hour' < timezone('Europe/Moscow', now() - (extract(hour from now())) * interval '1 hour' - (extract(minute from now())) * interval '1 minute' - (extract(second from now())) * interval '1 second')\n",
      "\t\t\t\t    and a.good\n",
      "\t\t\t\t    and a.patient_id not in (\n",
      "\t\t\t\t    select patient_id\n",
      "\t\t\t\t    from patient_categories pcat\n",
      "\t\t\t\t    inner join reference rf\n",
      "\t\t\t\t          on rf.id=pcat.reference_id\n",
      "\t\t\t\t    where rf.code='TEST'\n",
      "\t\t\t\t        )\n",
      "\t\t\t\t    )\n",
      "\t\t\t\t    --select count(distinct(person_id)) \n",
      "\t\t\t\t    --from temp\n",
      "\t\t\t\t    --where name = 'VEBMED'\n",
      "\t\t\t\t    --select count (distinct(phone)) from temp\n",
      "\t\t\t\t    select * from temp\n",
      "                    None\n",
      "2020-04-08 17:32:14 return 92533 rows\n"
     ]
    }
   ],
   "source": [
    "data = connection.query(sql)"
   ]
  },
  {
   "cell_type": "code",
   "execution_count": 6,
   "metadata": {},
   "outputs": [
    {
     "name": "stdout",
     "output_type": "stream",
     "text": [
      "2020-04-08 17:32:14 @telemed: closing postgres connection...\n",
      "2020-04-08 17:32:14 closing ssh tunnel to 172.16.100.19...\n"
     ]
    }
   ],
   "source": [
    "connection.close()"
   ]
  },
  {
   "cell_type": "code",
   "execution_count": 7,
   "metadata": {},
   "outputs": [],
   "source": [
    "df = pd.DataFrame(data)"
   ]
  },
  {
   "cell_type": "markdown",
   "metadata": {},
   "source": [
    "---------"
   ]
  },
  {
   "cell_type": "markdown",
   "metadata": {},
   "source": [
    "------"
   ]
  },
  {
   "cell_type": "code",
   "execution_count": 8,
   "metadata": {},
   "outputs": [],
   "source": [
    "# тут все аналогично пациентам\n",
    "df['phone'] = df['phone'].apply(valid_phone)\n",
    "\n",
    "total_appointment = df.shape[0]\n",
    "\n",
    "appointment_with_valid_phone = total_appointment - df[df['phone'] == 'Invalid phone'].shape[0]\n",
    "\n",
    "appointment_web = df[(df['phone'] != 'Invalid phone') & \n",
    "                         (df['name'] == 'VEBMED')].shape[0]\n",
    "\n",
    "appointment_tatarstan = df[(df['phone'] != 'Invalid phone') & \n",
    "                               (df['region'] == 'Республика Татарстан')].shape[0]\n",
    "\n",
    "appointment_tatarstan_web = df[(df['phone'] != 'Invalid phone') & \n",
    "                                   (df['region'] == 'Республика Татарстан') & \n",
    "                                   (df['name'] == 'VEBMED')].shape[0]"
   ]
  },
  {
   "cell_type": "code",
   "execution_count": 9,
   "metadata": {},
   "outputs": [],
   "source": [
    "total_patients = len(df.person_id.unique())\n",
    "\n",
    "patients_with_valid_phone = len(df.phone.unique()) - 1 # нимаем телефон-инвалид\n",
    "\n",
    "patients_web = len(df[df['name'] == 'VEBMED'].groupby('phone')['name'].count())\n",
    "\n",
    "patient_tatarstan = len(df[df['region'] == 'Республика Татарстан'].groupby('phone')['name'].count())\n",
    "\n",
    "patient_tatarstan_web = len(df[(df['region'] == 'Республика Татарстан') & (df['name'] == 'VEBMED')].groupby('phone')['name'].count())"
   ]
  },
  {
   "cell_type": "code",
   "execution_count": null,
   "metadata": {},
   "outputs": [],
   "source": []
  },
  {
   "cell_type": "code",
   "execution_count": 10,
   "metadata": {},
   "outputs": [],
   "source": [
    "final_report = {\n",
    "          'Всего': [total_patients, total_appointment],\n",
    "          'С телефоном': [patients_with_valid_phone, appointment_with_valid_phone],\n",
    "          'По VEBMED': [patients_web, appointment_web],\n",
    "          'Из Татарстана': [patient_tatarstan, appointment_tatarstan],\n",
    "          'По VEBMED из Татарстана': [patient_tatarstan_web, appointment_tatarstan_web]   \n",
    "}"
   ]
  },
  {
   "cell_type": "code",
   "execution_count": 11,
   "metadata": {},
   "outputs": [],
   "source": [
    "report = pd.DataFrame.from_dict(final_report, orient='index')"
   ]
  },
  {
   "cell_type": "code",
   "execution_count": 12,
   "metadata": {},
   "outputs": [],
   "source": [
    "report.columns = ['Пациентов', 'Консультаций']"
   ]
  },
  {
   "cell_type": "code",
   "execution_count": 13,
   "metadata": {},
   "outputs": [
    {
     "data": {
      "text/html": [
       "<div>\n",
       "<style scoped>\n",
       "    .dataframe tbody tr th:only-of-type {\n",
       "        vertical-align: middle;\n",
       "    }\n",
       "\n",
       "    .dataframe tbody tr th {\n",
       "        vertical-align: top;\n",
       "    }\n",
       "\n",
       "    .dataframe thead th {\n",
       "        text-align: right;\n",
       "    }\n",
       "</style>\n",
       "<table border=\"1\" class=\"dataframe\">\n",
       "  <thead>\n",
       "    <tr style=\"text-align: right;\">\n",
       "      <th></th>\n",
       "      <th>Пациентов</th>\n",
       "      <th>Консультаций</th>\n",
       "    </tr>\n",
       "  </thead>\n",
       "  <tbody>\n",
       "    <tr>\n",
       "      <th>Всего</th>\n",
       "      <td>39559</td>\n",
       "      <td>92533</td>\n",
       "    </tr>\n",
       "    <tr>\n",
       "      <th>С телефоном</th>\n",
       "      <td>39287</td>\n",
       "      <td>92484</td>\n",
       "    </tr>\n",
       "    <tr>\n",
       "      <th>По VEBMED</th>\n",
       "      <td>2104</td>\n",
       "      <td>2707</td>\n",
       "    </tr>\n",
       "    <tr>\n",
       "      <th>Из Татарстана</th>\n",
       "      <td>723</td>\n",
       "      <td>1849</td>\n",
       "    </tr>\n",
       "    <tr>\n",
       "      <th>По VEBMED из Татарстана</th>\n",
       "      <td>99</td>\n",
       "      <td>115</td>\n",
       "    </tr>\n",
       "  </tbody>\n",
       "</table>\n",
       "</div>"
      ],
      "text/plain": [
       "                         Пациентов  Консультаций\n",
       "Всего                        39559         92533\n",
       "С телефоном                  39287         92484\n",
       "По VEBMED                     2104          2707\n",
       "Из Татарстана                  723          1849\n",
       "По VEBMED из Татарстана         99           115"
      ]
     },
     "execution_count": 13,
     "metadata": {},
     "output_type": "execute_result"
    }
   ],
   "source": [
    "report"
   ]
  },
  {
   "cell_type": "code",
   "execution_count": 14,
   "metadata": {},
   "outputs": [],
   "source": [
    "report.to_csv('Report_Tatarstan.csv')"
   ]
  },
  {
   "cell_type": "code",
   "execution_count": null,
   "metadata": {},
   "outputs": [],
   "source": []
  },
  {
   "cell_type": "code",
   "execution_count": null,
   "metadata": {},
   "outputs": [],
   "source": []
  },
  {
   "cell_type": "code",
   "execution_count": null,
   "metadata": {},
   "outputs": [],
   "source": []
  },
  {
   "cell_type": "code",
   "execution_count": 15,
   "metadata": {},
   "outputs": [
    {
     "data": {
      "text/plain": [
       "39559"
      ]
     },
     "execution_count": 15,
     "metadata": {},
     "output_type": "execute_result"
    }
   ],
   "source": [
    "total_patients = len(df.person_id.unique())\n",
    "total_patients"
   ]
  },
  {
   "cell_type": "code",
   "execution_count": 16,
   "metadata": {},
   "outputs": [
    {
     "data": {
      "text/plain": [
       "39287"
      ]
     },
     "execution_count": 16,
     "metadata": {},
     "output_type": "execute_result"
    }
   ],
   "source": [
    "patients_with_valid_phone = len(df.phone.unique()) - 1 # нимаем телефон-инвалид\n",
    "patients_with_valid_phone"
   ]
  },
  {
   "cell_type": "code",
   "execution_count": 17,
   "metadata": {},
   "outputs": [
    {
     "data": {
      "text/plain": [
       "2104"
      ]
     },
     "execution_count": 17,
     "metadata": {},
     "output_type": "execute_result"
    }
   ],
   "source": [
    "patients_web = len(df[df['name'] == 'VEBMED'].groupby('phone')['name'].count())\n",
    "patients_web"
   ]
  },
  {
   "cell_type": "code",
   "execution_count": 18,
   "metadata": {},
   "outputs": [
    {
     "data": {
      "text/plain": [
       "723"
      ]
     },
     "execution_count": 18,
     "metadata": {},
     "output_type": "execute_result"
    }
   ],
   "source": [
    "patient_tatarstan = len(df[df['region'] == 'Республика Татарстан'].groupby('phone')['name'].count())\n",
    "patient_tatarstan"
   ]
  },
  {
   "cell_type": "code",
   "execution_count": 19,
   "metadata": {},
   "outputs": [
    {
     "data": {
      "text/plain": [
       "99"
      ]
     },
     "execution_count": 19,
     "metadata": {},
     "output_type": "execute_result"
    }
   ],
   "source": [
    "patient_tatarstan_web = len(df[(df['region'] == 'Республика Татарстан') & \n",
    "                               (df['name'] == 'VEBMED')].groupby('phone')['name'].count())\n",
    "patient_tatarstan_web"
   ]
  },
  {
   "cell_type": "code",
   "execution_count": null,
   "metadata": {},
   "outputs": [],
   "source": []
  },
  {
   "cell_type": "code",
   "execution_count": null,
   "metadata": {},
   "outputs": [],
   "source": []
  },
  {
   "cell_type": "code",
   "execution_count": 20,
   "metadata": {},
   "outputs": [
    {
     "data": {
      "text/plain": [
       "phone\n",
       "77755522244      2\n",
       "79000195510      1\n",
       "79000198486      1\n",
       "79000427442      1\n",
       "79000540935      3\n",
       "                ..\n",
       "79999783151      1\n",
       "79999791334      4\n",
       "79999792404      1\n",
       "79999883963      1\n",
       "Invalid phone    5\n",
       "Name: name, Length: 2104, dtype: int64"
      ]
     },
     "execution_count": 20,
     "metadata": {},
     "output_type": "execute_result"
    }
   ],
   "source": [
    "df[df['name'] == 'VEBMED'].groupby('phone')['name'].count()"
   ]
  },
  {
   "cell_type": "code",
   "execution_count": 21,
   "metadata": {},
   "outputs": [
    {
     "data": {
      "text/plain": [
       "phone\n",
       "79027113858    1\n",
       "79027114540    2\n",
       "79027157202    1\n",
       "79027199087    2\n",
       "79030620182    2\n",
       "              ..\n",
       "79872957854    1\n",
       "79872962479    2\n",
       "79872976129    5\n",
       "79872986204    3\n",
       "79872987369    1\n",
       "Name: name, Length: 723, dtype: int64"
      ]
     },
     "execution_count": 21,
     "metadata": {},
     "output_type": "execute_result"
    }
   ],
   "source": [
    "df[df['region'] == 'Республика Татарстан'].groupby('phone')['name'].count()"
   ]
  },
  {
   "cell_type": "code",
   "execution_count": 22,
   "metadata": {},
   "outputs": [
    {
     "data": {
      "text/plain": [
       "phone\n",
       "79027157202    1\n",
       "79033056942    1\n",
       "79033057556    1\n",
       "79033067412    1\n",
       "79033180744    1\n",
       "              ..\n",
       "79625591201    1\n",
       "79625655621    1\n",
       "79625770462    1\n",
       "79872946064    1\n",
       "79872957378    1\n",
       "Name: name, Length: 99, dtype: int64"
      ]
     },
     "execution_count": 22,
     "metadata": {},
     "output_type": "execute_result"
    }
   ],
   "source": [
    "df[(df['region'] == 'Республика Татарстан') & (df['name'] == 'VEBMED')].groupby('phone')['name'].count()"
   ]
  },
  {
   "cell_type": "code",
   "execution_count": null,
   "metadata": {},
   "outputs": [],
   "source": []
  }
 ],
 "metadata": {
  "kernelspec": {
   "display_name": "Python 3",
   "language": "python",
   "name": "python3"
  },
  "language_info": {
   "codemirror_mode": {
    "name": "ipython",
    "version": 3
   },
   "file_extension": ".py",
   "mimetype": "text/x-python",
   "name": "python",
   "nbconvert_exporter": "python",
   "pygments_lexer": "ipython3",
   "version": "3.7.6"
  }
 },
 "nbformat": 4,
 "nbformat_minor": 4
}
