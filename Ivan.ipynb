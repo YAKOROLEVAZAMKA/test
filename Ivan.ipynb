{
 "cells": [
  {
   "cell_type": "code",
   "execution_count": 5,
   "metadata": {},
   "outputs": [],
   "source": [
    "# блиотеки\n",
    "import pandas as pd\n",
    "import sys\n",
    "import os"
   ]
  },
  {
   "cell_type": "code",
   "execution_count": 22,
   "metadata": {},
   "outputs": [
    {
     "name": "stdout",
     "output_type": "stream",
     "text": [
      "/home/sergey/drclinics/reports/telemed/test_task/123/KNOMAS/reports/ already exists\n"
     ]
    }
   ],
   "source": [
    "# куда выплюнуть финальный файл\n",
    "output_dir = os.getcwd() + '/reports/'\n",
    "# откуда забираем, сейчас текущая папка скрипта + название папки\n",
    "input_dir = os.getcwd() + '/xls_files/'\n",
    "\n",
    "# если папки выгрузки нет то она создается\n",
    "if os.path.isdir(output_dir):\n",
    "    print(f'{output_dir} already exists')\n",
    "else:\n",
    "    print(output_dir)\n",
    "    os.mkdir(f'{output_dir}') \n",
    "    \n",
    "# читаем названия файлов из папки\n",
    "files = os.listdir(input_dir)\n",
    "files.sort()"
   ]
  },
  {
   "cell_type": "code",
   "execution_count": 62,
   "metadata": {},
   "outputs": [],
   "source": [
    "# создаем финальную таблицу\n",
    "df_final = None\n",
    "\n",
    "for file in files:\n",
    "    # получаем расштрение файла\n",
    "    extension = file.split('.')[-1]\n",
    "    # если расширение это xls\\xlsx то открываем файл, иначе пропускаем\n",
    "    if extension == 'xls' or extension == 'xlsx':\n",
    "        \n",
    "        # цикл по всем файлам из папки\n",
    "        df_temp: pd.DataFrame = pd.read_excel(input_dir + file)\n",
    "\n",
    "        # цепляем ключ (36 вместо 38 потому что заголовок не считается + нумерация идет с 0)\n",
    "        k = df_temp.loc[36, 'Значение']\n",
    "        # получаем DataFrame значений по ключу LINE\n",
    "        val_df_temp = df_temp[df_temp['Техническое имя'] == 'LINE'].copy()\n",
    "        \n",
    "        val = list()\n",
    "        # проходим по всем строкам временной таблицы с ключом LINE\n",
    "        for val_temp in list(val_df_temp['Значение'].unique()):\n",
    "            # делим значение по одинарным кавычкам на список\n",
    "            for i, name in enumerate(val_temp.split(\"'\")):\n",
    "                # каждое нечетное значение базаем в список \n",
    "                if i % 2 == 1:\n",
    "                    val.append(name)\n",
    "        val = ', '.join(val)\n",
    "\n",
    "        # если финальная таблица пустая то она создается из k, val\n",
    "        if df_final is None:\n",
    "            df_final = pd.DataFrame(zip([k], [val], [file]),\n",
    "                   columns = ['Key', 'Value(s)', 'file'])\n",
    "        # иначе к ней конкатинируется временная таблица\n",
    "        else:\n",
    "            df_temp = pd.DataFrame(zip([k], [val], [file]),\n",
    "                   columns = ['Key', 'Value(s)', 'file'])\n",
    "\n",
    "            df_final = pd.concat([df_final, df_temp]).reset_index(drop=True)\n",
    "      \n",
    "    else:\n",
    "        pass\n",
    "# сохраняем финальную табличку в эксель\n",
    "df_final.to_excel(output_dir + 'final.xlsx')"
   ]
  },
  {
   "cell_type": "code",
   "execution_count": null,
   "metadata": {},
   "outputs": [],
   "source": []
  }
 ],
 "metadata": {
  "kernelspec": {
   "display_name": "Python 3",
   "language": "python",
   "name": "python3"
  },
  "language_info": {
   "codemirror_mode": {
    "name": "ipython",
    "version": 3
   },
   "file_extension": ".py",
   "mimetype": "text/x-python",
   "name": "python",
   "nbconvert_exporter": "python",
   "pygments_lexer": "ipython3",
   "version": "3.7.6"
  }
 },
 "nbformat": 4,
 "nbformat_minor": 4
}
