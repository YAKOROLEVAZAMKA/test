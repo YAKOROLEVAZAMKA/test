{
 "cells": [
  {
   "cell_type": "code",
   "execution_count": 1,
   "metadata": {},
   "outputs": [],
   "source": [
    "import datetime\n",
    "import pandas as pd\n",
    "import sys\n",
    "\n",
    "sys.path.append(\"/home/sergey/drclinics/reports\")\n",
    "sys.path.append(\"/home/sergey/drclinics/common\")\n",
    "\n",
    "from log import log\n",
    "from utils import get_path, DATETIME_FORMAT\n",
    "from report_utils import save_to_excel, send_mail\n",
    "from connect_platform import connect_telemed\n",
    "\n",
    "from report_utils import excel_report_by_template"
   ]
  },
  {
   "cell_type": "code",
   "execution_count": 2,
   "metadata": {},
   "outputs": [],
   "source": [
    "sql = \"\"\"\n",
    "select \tdistinct partner.\"name\" partnerName, \n",
    "\t\tproduct.full_name productName,\n",
    "\t\tproduct.id productId,\n",
    "\t\tpo.patient_id patientId,\n",
    "\t\tpo.policy_number policyNumber,\n",
    "\t\tp_patient.last_name lastName,\n",
    "\t  \tp_patient.first_name firstName,\n",
    "\t   \tp_patient.middle_name middleName,\n",
    "\t   \tp_patient.birthday,\n",
    "\t   \tp_patient.phone,\n",
    "\t   \tp_patient.email\n",
    "from partner\n",
    "inner join product on partner.id = product.partner_id \n",
    "inner join product_order po on product.id = po.product_id \n",
    "inner join patient on po.patient_id = patient.id\n",
    "inner join person p_patient on patient.person_id = p_patient.id \n",
    "where partner.external_id = '021'\n",
    "\"\"\""
   ]
  },
  {
   "cell_type": "code",
   "execution_count": 3,
   "metadata": {},
   "outputs": [
    {
     "name": "stdout",
     "output_type": "stream",
     "text": [
      "2020-04-23 12:46:11 connect to postgres database using config file \"/home/sergey/drclinics/common/../.credentials/telemed/prom.cfg\"\n",
      "2020-04-23 12:46:11 creating ssh tunnel to 172.16.100.19 as root...\n",
      "2020-04-23 12:46:43 connect postgres using parameters:\n",
      "                    database: telemed\n",
      "\t\t\t\t    user: norekhov\n",
      "\t\t\t\t    password: ***masked***\n",
      "\t\t\t\t    host: localhost\n",
      "\t\t\t\t    port: 40259\n",
      "2020-04-23 12:46:43 @telemed: execute sql:\n",
      "\t\t\t\t    SET TIME ZONE 'Europe/Moscow'\n",
      "\t\t\t\t    None\n"
     ]
    }
   ],
   "source": [
    "conn = connect_telemed()"
   ]
  },
  {
   "cell_type": "code",
   "execution_count": 4,
   "metadata": {},
   "outputs": [
    {
     "name": "stdout",
     "output_type": "stream",
     "text": [
      "2020-04-23 12:46:43 @telemed query:\n",
      "                    select \tdistinct partner.\"name\" partnerName, \n",
      "\t\t\t\t    \t\tproduct.full_name productName,\n",
      "\t\t\t\t    \t\tproduct.id productId,\n",
      "\t\t\t\t    \t\tpo.patient_id patientId,\n",
      "\t\t\t\t    \t\tpo.policy_number policyNumber,\n",
      "\t\t\t\t    \t\tp_patient.last_name lastName,\n",
      "\t\t\t\t    \t  \tp_patient.first_name firstName,\n",
      "\t\t\t\t    \t   \tp_patient.middle_name middleName,\n",
      "\t\t\t\t    \t   \tp_patient.birthday,\n",
      "\t\t\t\t    \t   \tp_patient.phone,\n",
      "\t\t\t\t    \t   \tp_patient.email\n",
      "\t\t\t\t    from partner\n",
      "\t\t\t\t    inner join product on partner.id = product.partner_id \n",
      "\t\t\t\t    inner join product_order po on product.id = po.product_id \n",
      "\t\t\t\t    inner join patient on po.patient_id = patient.id\n",
      "\t\t\t\t    inner join person p_patient on patient.person_id = p_patient.id \n",
      "\t\t\t\t    where partner.external_id = '021'\n",
      "                    None\n",
      "2020-04-23 12:46:48 return 34364 rows\n"
     ]
    }
   ],
   "source": [
    "df: pd.DataFrame = conn.query(sql)"
   ]
  },
  {
   "cell_type": "code",
   "execution_count": 5,
   "metadata": {},
   "outputs": [
    {
     "name": "stdout",
     "output_type": "stream",
     "text": [
      "2020-04-23 12:46:48 @telemed: closing postgres connection...\n",
      "2020-04-23 12:46:48 closing ssh tunnel to 172.16.100.19...\n"
     ]
    }
   ],
   "source": [
    "conn.close()"
   ]
  },
  {
   "cell_type": "code",
   "execution_count": null,
   "metadata": {},
   "outputs": [],
   "source": []
  },
  {
   "cell_type": "code",
   "execution_count": 6,
   "metadata": {},
   "outputs": [],
   "source": [
    "df.to_excel('СК-Ренессанс.xls', index=False)"
   ]
  },
  {
   "cell_type": "code",
   "execution_count": null,
   "metadata": {},
   "outputs": [],
   "source": []
  }
 ],
 "metadata": {
  "kernelspec": {
   "display_name": "Python 3",
   "language": "python",
   "name": "python3"
  },
  "language_info": {
   "codemirror_mode": {
    "name": "ipython",
    "version": 3
   },
   "file_extension": ".py",
   "mimetype": "text/x-python",
   "name": "python",
   "nbconvert_exporter": "python",
   "pygments_lexer": "ipython3",
   "version": "3.7.6"
  }
 },
 "nbformat": 4,
 "nbformat_minor": 4
}
