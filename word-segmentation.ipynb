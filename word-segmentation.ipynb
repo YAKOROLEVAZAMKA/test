{
 "cells": [
  {
   "cell_type": "code",
   "execution_count": 1,
   "metadata": {},
   "outputs": [],
   "source": [
    "import os\n",
    "import sys\n",
    "\n",
    "import pandas as pd\n",
    "\n",
    "sys.path.append(\"/home/sergey/drclinics/common\")\n",
    "sys.path.append(\"/home/sergey/drclinics/reports\")\n",
    "\n",
    "import datetime\n",
    "from utils import get_path, DATETIME_FORMAT"
   ]
  },
  {
   "cell_type": "code",
   "execution_count": 4,
   "metadata": {},
   "outputs": [],
   "source": [
    "from universal_connection import UniversalConnection, DBType"
   ]
  },
  {
   "cell_type": "code",
   "execution_count": 8,
   "metadata": {},
   "outputs": [],
   "source": [
    "import re"
   ]
  },
  {
   "cell_type": "code",
   "execution_count": 61,
   "metadata": {},
   "outputs": [],
   "source": [
    "import nltk\n",
    "# nltk.download('stopwords')\n",
    "from nltk.corpus import stopwords"
   ]
  },
  {
   "cell_type": "code",
   "execution_count": null,
   "metadata": {},
   "outputs": [],
   "source": [
    "# set(stopwords.words('russian'))"
   ]
  },
  {
   "cell_type": "code",
   "execution_count": 2,
   "metadata": {},
   "outputs": [],
   "source": [
    "sql = \"\"\"\n",
    "with temp as (\n",
    "select\ta.id app_id,\n",
    "\t\ta.report_comment,\n",
    "\t\tcase when pc.product_id in (\n",
    "\t\t            \t\tselect id from product\n",
    "\t\t            \t\twhere full_name like '%ВЭБ%') then 'VEBMED'\n",
    "\t\t        else 'ПРОЧИЕ'\n",
    "\t\tend promo_type\n",
    "from appointment a \n",
    "left join promotion p\n",
    "\t      on a.promotion_id = p.id\n",
    "\t    left join product_condition pc\n",
    "\t      on pc.id = p.product_condition_id\n",
    "\t      --\n",
    "\twhere a.good\n",
    "      and not (\n",
    "      \ta.patient_id in (\n",
    "\t      \tselect patient_id\n",
    "\t      \tfrom patient_categories pcat\n",
    "\t      \tinner join reference rf\n",
    "\t      \t   on rf.id=pcat.reference_id\n",
    "\t      \twhere rf.code='TEST'\n",
    "\t      \t)\n",
    "\t    or lower(a.report_comment)='тест'\n",
    "      \t)\n",
    ")\n",
    "select *\n",
    "from temp \n",
    "where promo_type = 'VEBMED'\n",
    "\n",
    "\n",
    "\n",
    "\n",
    "\n",
    "\"\"\""
   ]
  },
  {
   "cell_type": "code",
   "execution_count": 5,
   "metadata": {},
   "outputs": [
    {
     "name": "stdout",
     "output_type": "stream",
     "text": [
      "2020-05-28 17:54:38 connect to postgres database using config file \"../../../.credentials/telemed/prom.cfg\"\n",
      "2020-05-28 17:54:38 creating ssh tunnel to 172.16.100.19 as root...\n",
      "2020-05-28 17:54:38 connect postgres using parameters:\n",
      "                    database: telemed\n",
      "\t\t\t\t    user: norekhov\n",
      "\t\t\t\t    password: ***masked***\n",
      "\t\t\t\t    host: localhost\n",
      "\t\t\t\t    port: 33587\n",
      "2020-05-28 17:54:38 @telemed: execute sql:\n",
      "\t\t\t\t    SET TIME ZONE 'Europe/Moscow'\n",
      "\t\t\t\t    None\n",
      "2020-05-28 17:54:38 @telemed query:\n",
      "                    with temp as (\n",
      "\t\t\t\t    select\ta.id app_id,\n",
      "\t\t\t\t    \t\ta.report_comment,\n",
      "\t\t\t\t    \t\tcase when pc.product_id in (\n",
      "\t\t\t\t    \t\t            \t\tselect id from product\n",
      "\t\t\t\t    \t\t            \t\twhere full_name like '%ВЭБ%') then 'VEBMED'\n",
      "\t\t\t\t    \t\t        else 'ПРОЧИЕ'\n",
      "\t\t\t\t    \t\tend promo_type\n",
      "\t\t\t\t    from appointment a \n",
      "\t\t\t\t    left join promotion p\n",
      "\t\t\t\t    \t      on a.promotion_id = p.id\n",
      "\t\t\t\t    \t    left join product_condition pc\n",
      "\t\t\t\t    \t      on pc.id = p.product_condition_id\n",
      "\t\t\t\t    \t      --\n",
      "\t\t\t\t    \twhere a.good\n",
      "\t\t\t\t          and not (\n",
      "\t\t\t\t          \ta.patient_id in (\n",
      "\t\t\t\t    \t      \tselect patient_id\n",
      "\t\t\t\t    \t      \tfrom patient_categories pcat\n",
      "\t\t\t\t    \t      \tinner join reference rf\n",
      "\t\t\t\t    \t      \t   on rf.id=pcat.reference_id\n",
      "\t\t\t\t    \t      \twhere rf.code='TEST'\n",
      "\t\t\t\t    \t      \t)\n",
      "\t\t\t\t    \t    or lower(a.report_comment)='тест'\n",
      "\t\t\t\t          \t)\n",
      "\t\t\t\t    )\n",
      "\t\t\t\t    select *\n",
      "\t\t\t\t    from temp \n",
      "\t\t\t\t    where promo_type = 'VEBMED'\n",
      "                    None\n",
      "2020-05-28 17:54:44 return 60702 rows\n",
      "2020-05-28 17:54:44 @telemed: closing postgres connection...\n",
      "2020-05-28 17:54:44 closing ssh tunnel to 172.16.100.19...\n"
     ]
    }
   ],
   "source": [
    "connection = UniversalConnection('../../../.credentials/telemed/prom.cfg', DBType.Postgres)\n",
    "df_sql = connection.query(sql)\n",
    "connection.close()"
   ]
  },
  {
   "cell_type": "code",
   "execution_count": 6,
   "metadata": {},
   "outputs": [
    {
     "data": {
      "text/html": [
       "<div>\n",
       "<style scoped>\n",
       "    .dataframe tbody tr th:only-of-type {\n",
       "        vertical-align: middle;\n",
       "    }\n",
       "\n",
       "    .dataframe tbody tr th {\n",
       "        vertical-align: top;\n",
       "    }\n",
       "\n",
       "    .dataframe thead th {\n",
       "        text-align: right;\n",
       "    }\n",
       "</style>\n",
       "<table border=\"1\" class=\"dataframe\">\n",
       "  <thead>\n",
       "    <tr style=\"text-align: right;\">\n",
       "      <th></th>\n",
       "      <th>app_id</th>\n",
       "      <th>report_comment</th>\n",
       "      <th>promo_type</th>\n",
       "    </tr>\n",
       "  </thead>\n",
       "  <tbody>\n",
       "    <tr>\n",
       "      <th>0</th>\n",
       "      <td>127919</td>\n",
       "      <td>О.ринит? у ребенка 3-х мес жизни\\nРекомендован...</td>\n",
       "      <td>VEBMED</td>\n",
       "    </tr>\n",
       "    <tr>\n",
       "      <th>1</th>\n",
       "      <td>144566</td>\n",
       "      <td>консультация уролога - очная,\\r\\nузи простаты,...</td>\n",
       "      <td>VEBMED</td>\n",
       "    </tr>\n",
       "    <tr>\n",
       "      <th>2</th>\n",
       "      <td>135952</td>\n",
       "      <td>Диагностическая гипотеза : НМЦ по типу олигоме...</td>\n",
       "      <td>VEBMED</td>\n",
       "    </tr>\n",
       "    <tr>\n",
       "      <th>3</th>\n",
       "      <td>173510</td>\n",
       "      <td>Жалобы: на головную боль в затылочной области....</td>\n",
       "      <td>VEBMED</td>\n",
       "    </tr>\n",
       "    <tr>\n",
       "      <th>4</th>\n",
       "      <td>152628</td>\n",
       "      <td>на основании жалоб. данных анамнеза и показате...</td>\n",
       "      <td>VEBMED</td>\n",
       "    </tr>\n",
       "  </tbody>\n",
       "</table>\n",
       "</div>"
      ],
      "text/plain": [
       "   app_id                                     report_comment promo_type\n",
       "0  127919  О.ринит? у ребенка 3-х мес жизни\\nРекомендован...     VEBMED\n",
       "1  144566  консультация уролога - очная,\\r\\nузи простаты,...     VEBMED\n",
       "2  135952  Диагностическая гипотеза : НМЦ по типу олигоме...     VEBMED\n",
       "3  173510  Жалобы: на головную боль в затылочной области....     VEBMED\n",
       "4  152628  на основании жалоб. данных анамнеза и показате...     VEBMED"
      ]
     },
     "execution_count": 6,
     "metadata": {},
     "output_type": "execute_result"
    }
   ],
   "source": [
    "df_sql.head()"
   ]
  },
  {
   "cell_type": "code",
   "execution_count": null,
   "metadata": {},
   "outputs": [],
   "source": []
  },
  {
   "cell_type": "code",
   "execution_count": null,
   "metadata": {},
   "outputs": [],
   "source": []
  },
  {
   "cell_type": "code",
   "execution_count": 62,
   "metadata": {},
   "outputs": [],
   "source": [
    "d = dict()"
   ]
  },
  {
   "cell_type": "code",
   "execution_count": 63,
   "metadata": {},
   "outputs": [],
   "source": [
    "stop_words = set(stopwords.words('russian'))"
   ]
  },
  {
   "cell_type": "code",
   "execution_count": 64,
   "metadata": {},
   "outputs": [],
   "source": [
    "for i in range(df_sql.shape[0]):\n",
    "    temp = df_sql['report_comment'][i]\n",
    "    temp = re.sub(r'[^\\w\\s]+|[\\d]+', r'',temp.lower()).replace('ё', 'е').strip().split()\n",
    "    temp = [x for x in temp if not x in stop_words]\n",
    "    temp = [x for x in temp if len(x) > 2]\n",
    "    \n",
    "    for word in temp:\n",
    "        d[word] = d.get(word, 0) + 1"
   ]
  },
  {
   "cell_type": "code",
   "execution_count": 65,
   "metadata": {},
   "outputs": [],
   "source": [
    "words = pd.DataFrame.from_dict(d, orient='index').sort_index().reset_index().rename(columns={'index':'word', 0:'amount'})"
   ]
  },
  {
   "cell_type": "code",
   "execution_count": 68,
   "metadata": {},
   "outputs": [],
   "source": [
    "words = words.sort_values(by=['amount'], ascending=False).reset_index(drop=True)"
   ]
  },
  {
   "cell_type": "code",
   "execution_count": 69,
   "metadata": {},
   "outputs": [
    {
     "data": {
      "text/html": [
       "<div>\n",
       "<style scoped>\n",
       "    .dataframe tbody tr th:only-of-type {\n",
       "        vertical-align: middle;\n",
       "    }\n",
       "\n",
       "    .dataframe tbody tr th {\n",
       "        vertical-align: top;\n",
       "    }\n",
       "\n",
       "    .dataframe thead th {\n",
       "        text-align: right;\n",
       "    }\n",
       "</style>\n",
       "<table border=\"1\" class=\"dataframe\">\n",
       "  <thead>\n",
       "    <tr style=\"text-align: right;\">\n",
       "      <th></th>\n",
       "      <th>word</th>\n",
       "      <th>amount</th>\n",
       "    </tr>\n",
       "  </thead>\n",
       "  <tbody>\n",
       "    <tr>\n",
       "      <th>0</th>\n",
       "      <td>консультация</td>\n",
       "      <td>31101</td>\n",
       "    </tr>\n",
       "    <tr>\n",
       "      <th>1</th>\n",
       "      <td>рекомендовано</td>\n",
       "      <td>30014</td>\n",
       "    </tr>\n",
       "    <tr>\n",
       "      <th>2</th>\n",
       "      <td>диагностическая</td>\n",
       "      <td>29459</td>\n",
       "    </tr>\n",
       "    <tr>\n",
       "      <th>3</th>\n",
       "      <td>гипотеза</td>\n",
       "      <td>28084</td>\n",
       "    </tr>\n",
       "    <tr>\n",
       "      <th>4</th>\n",
       "      <td>жалобы</td>\n",
       "      <td>23214</td>\n",
       "    </tr>\n",
       "    <tr>\n",
       "      <th>...</th>\n",
       "      <td>...</td>\n",
       "      <td>...</td>\n",
       "    </tr>\n",
       "    <tr>\n",
       "      <th>107631</th>\n",
       "      <td>теба</td>\n",
       "      <td>1</td>\n",
       "    </tr>\n",
       "    <tr>\n",
       "      <th>107632</th>\n",
       "      <td>театральным</td>\n",
       "      <td>1</td>\n",
       "    </tr>\n",
       "    <tr>\n",
       "      <th>107633</th>\n",
       "      <td>театральную</td>\n",
       "      <td>1</td>\n",
       "    </tr>\n",
       "    <tr>\n",
       "      <th>107634</th>\n",
       "      <td>разводим</td>\n",
       "      <td>1</td>\n",
       "    </tr>\n",
       "    <tr>\n",
       "      <th>107635</th>\n",
       "      <td>яэриус</td>\n",
       "      <td>1</td>\n",
       "    </tr>\n",
       "  </tbody>\n",
       "</table>\n",
       "<p>107636 rows × 2 columns</p>\n",
       "</div>"
      ],
      "text/plain": [
       "                   word  amount\n",
       "0          консультация   31101\n",
       "1         рекомендовано   30014\n",
       "2       диагностическая   29459\n",
       "3              гипотеза   28084\n",
       "4                жалобы   23214\n",
       "...                 ...     ...\n",
       "107631             теба       1\n",
       "107632      театральным       1\n",
       "107633      театральную       1\n",
       "107634         разводим       1\n",
       "107635           яэриус       1\n",
       "\n",
       "[107636 rows x 2 columns]"
      ]
     },
     "execution_count": 69,
     "metadata": {},
     "output_type": "execute_result"
    }
   ],
   "source": [
    "words"
   ]
  },
  {
   "cell_type": "code",
   "execution_count": 71,
   "metadata": {},
   "outputs": [],
   "source": [
    "words.to_excel('words.xlsx', index=False)"
   ]
  },
  {
   "cell_type": "code",
   "execution_count": null,
   "metadata": {},
   "outputs": [],
   "source": []
  },
  {
   "cell_type": "code",
   "execution_count": null,
   "metadata": {},
   "outputs": [],
   "source": []
  },
  {
   "cell_type": "code",
   "execution_count": 23,
   "metadata": {},
   "outputs": [],
   "source": []
  },
  {
   "cell_type": "code",
   "execution_count": null,
   "metadata": {},
   "outputs": [],
   "source": []
  },
  {
   "cell_type": "code",
   "execution_count": 25,
   "metadata": {},
   "outputs": [],
   "source": []
  },
  {
   "cell_type": "code",
   "execution_count": 27,
   "metadata": {},
   "outputs": [],
   "source": []
  },
  {
   "cell_type": "code",
   "execution_count": null,
   "metadata": {},
   "outputs": [],
   "source": []
  }
 ],
 "metadata": {
  "kernelspec": {
   "display_name": "Python 3",
   "language": "python",
   "name": "python3"
  },
  "language_info": {
   "codemirror_mode": {
    "name": "ipython",
    "version": 3
   },
   "file_extension": ".py",
   "mimetype": "text/x-python",
   "name": "python",
   "nbconvert_exporter": "python",
   "pygments_lexer": "ipython3",
   "version": "3.7.6"
  }
 },
 "nbformat": 4,
 "nbformat_minor": 4
}
