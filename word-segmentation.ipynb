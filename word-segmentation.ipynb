{
 "cells": [
  {
   "cell_type": "code",
   "execution_count": 1,
   "metadata": {},
   "outputs": [],
   "source": [
    "import os\n",
    "import sys\n",
    "\n",
    "import pandas as pd\n",
    "\n",
    "sys.path.append(\"/home/sergey/drclinics/common\")\n",
    "sys.path.append(\"/home/sergey/drclinics/reports\")\n",
    "\n",
    "import datetime\n",
    "from utils import get_path, DATETIME_FORMAT"
   ]
  },
  {
   "cell_type": "code",
   "execution_count": 4,
   "metadata": {},
   "outputs": [],
   "source": [
    "from universal_connection import UniversalConnection, DBType"
   ]
  },
  {
   "cell_type": "code",
   "execution_count": 8,
   "metadata": {},
   "outputs": [],
   "source": [
    "import re"
   ]
  },
  {
   "cell_type": "code",
   "execution_count": 2,
   "metadata": {},
   "outputs": [],
   "source": [
    "sql = \"\"\"\n",
    "with temp as (\n",
    "select\ta.id app_id,\n",
    "\t\ta.report_comment,\n",
    "\t\tcase when pc.product_id in (\n",
    "\t\t            \t\tselect id from product\n",
    "\t\t            \t\twhere full_name like '%ВЭБ%') then 'VEBMED'\n",
    "\t\t        else 'ПРОЧИЕ'\n",
    "\t\tend promo_type\n",
    "from appointment a \n",
    "left join promotion p\n",
    "\t      on a.promotion_id = p.id\n",
    "\t    left join product_condition pc\n",
    "\t      on pc.id = p.product_condition_id\n",
    "\t      --\n",
    "\twhere a.good\n",
    "      and not (\n",
    "      \ta.patient_id in (\n",
    "\t      \tselect patient_id\n",
    "\t      \tfrom patient_categories pcat\n",
    "\t      \tinner join reference rf\n",
    "\t      \t   on rf.id=pcat.reference_id\n",
    "\t      \twhere rf.code='TEST'\n",
    "\t      \t)\n",
    "\t    or lower(a.report_comment)='тест'\n",
    "      \t)\n",
    ")\n",
    "select *\n",
    "from temp \n",
    "where promo_type = 'VEBMED'\n",
    "\n",
    "\n",
    "\n",
    "\n",
    "\n",
    "\"\"\""
   ]
  },
  {
   "cell_type": "code",
   "execution_count": 5,
   "metadata": {},
   "outputs": [
    {
     "name": "stdout",
     "output_type": "stream",
     "text": [
      "2020-05-28 17:54:38 connect to postgres database using config file \"../../../.credentials/telemed/prom.cfg\"\n",
      "2020-05-28 17:54:38 creating ssh tunnel to 172.16.100.19 as root...\n",
      "2020-05-28 17:54:38 connect postgres using parameters:\n",
      "                    database: telemed\n",
      "\t\t\t\t    user: norekhov\n",
      "\t\t\t\t    password: ***masked***\n",
      "\t\t\t\t    host: localhost\n",
      "\t\t\t\t    port: 33587\n",
      "2020-05-28 17:54:38 @telemed: execute sql:\n",
      "\t\t\t\t    SET TIME ZONE 'Europe/Moscow'\n",
      "\t\t\t\t    None\n",
      "2020-05-28 17:54:38 @telemed query:\n",
      "                    with temp as (\n",
      "\t\t\t\t    select\ta.id app_id,\n",
      "\t\t\t\t    \t\ta.report_comment,\n",
      "\t\t\t\t    \t\tcase when pc.product_id in (\n",
      "\t\t\t\t    \t\t            \t\tselect id from product\n",
      "\t\t\t\t    \t\t            \t\twhere full_name like '%ВЭБ%') then 'VEBMED'\n",
      "\t\t\t\t    \t\t        else 'ПРОЧИЕ'\n",
      "\t\t\t\t    \t\tend promo_type\n",
      "\t\t\t\t    from appointment a \n",
      "\t\t\t\t    left join promotion p\n",
      "\t\t\t\t    \t      on a.promotion_id = p.id\n",
      "\t\t\t\t    \t    left join product_condition pc\n",
      "\t\t\t\t    \t      on pc.id = p.product_condition_id\n",
      "\t\t\t\t    \t      --\n",
      "\t\t\t\t    \twhere a.good\n",
      "\t\t\t\t          and not (\n",
      "\t\t\t\t          \ta.patient_id in (\n",
      "\t\t\t\t    \t      \tselect patient_id\n",
      "\t\t\t\t    \t      \tfrom patient_categories pcat\n",
      "\t\t\t\t    \t      \tinner join reference rf\n",
      "\t\t\t\t    \t      \t   on rf.id=pcat.reference_id\n",
      "\t\t\t\t    \t      \twhere rf.code='TEST'\n",
      "\t\t\t\t    \t      \t)\n",
      "\t\t\t\t    \t    or lower(a.report_comment)='тест'\n",
      "\t\t\t\t          \t)\n",
      "\t\t\t\t    )\n",
      "\t\t\t\t    select *\n",
      "\t\t\t\t    from temp \n",
      "\t\t\t\t    where promo_type = 'VEBMED'\n",
      "                    None\n",
      "2020-05-28 17:54:44 return 60702 rows\n",
      "2020-05-28 17:54:44 @telemed: closing postgres connection...\n",
      "2020-05-28 17:54:44 closing ssh tunnel to 172.16.100.19...\n"
     ]
    }
   ],
   "source": [
    "connection = UniversalConnection('../../../.credentials/telemed/prom.cfg', DBType.Postgres)\n",
    "df_sql = connection.query(sql)\n",
    "connection.close()"
   ]
  },
  {
   "cell_type": "code",
   "execution_count": 6,
   "metadata": {},
   "outputs": [
    {
     "data": {
      "text/html": [
       "<div>\n",
       "<style scoped>\n",
       "    .dataframe tbody tr th:only-of-type {\n",
       "        vertical-align: middle;\n",
       "    }\n",
       "\n",
       "    .dataframe tbody tr th {\n",
       "        vertical-align: top;\n",
       "    }\n",
       "\n",
       "    .dataframe thead th {\n",
       "        text-align: right;\n",
       "    }\n",
       "</style>\n",
       "<table border=\"1\" class=\"dataframe\">\n",
       "  <thead>\n",
       "    <tr style=\"text-align: right;\">\n",
       "      <th></th>\n",
       "      <th>app_id</th>\n",
       "      <th>report_comment</th>\n",
       "      <th>promo_type</th>\n",
       "    </tr>\n",
       "  </thead>\n",
       "  <tbody>\n",
       "    <tr>\n",
       "      <th>0</th>\n",
       "      <td>127919</td>\n",
       "      <td>О.ринит? у ребенка 3-х мес жизни\\nРекомендован...</td>\n",
       "      <td>VEBMED</td>\n",
       "    </tr>\n",
       "    <tr>\n",
       "      <th>1</th>\n",
       "      <td>144566</td>\n",
       "      <td>консультация уролога - очная,\\r\\nузи простаты,...</td>\n",
       "      <td>VEBMED</td>\n",
       "    </tr>\n",
       "    <tr>\n",
       "      <th>2</th>\n",
       "      <td>135952</td>\n",
       "      <td>Диагностическая гипотеза : НМЦ по типу олигоме...</td>\n",
       "      <td>VEBMED</td>\n",
       "    </tr>\n",
       "    <tr>\n",
       "      <th>3</th>\n",
       "      <td>173510</td>\n",
       "      <td>Жалобы: на головную боль в затылочной области....</td>\n",
       "      <td>VEBMED</td>\n",
       "    </tr>\n",
       "    <tr>\n",
       "      <th>4</th>\n",
       "      <td>152628</td>\n",
       "      <td>на основании жалоб. данных анамнеза и показате...</td>\n",
       "      <td>VEBMED</td>\n",
       "    </tr>\n",
       "  </tbody>\n",
       "</table>\n",
       "</div>"
      ],
      "text/plain": [
       "   app_id                                     report_comment promo_type\n",
       "0  127919  О.ринит? у ребенка 3-х мес жизни\\nРекомендован...     VEBMED\n",
       "1  144566  консультация уролога - очная,\\r\\nузи простаты,...     VEBMED\n",
       "2  135952  Диагностическая гипотеза : НМЦ по типу олигоме...     VEBMED\n",
       "3  173510  Жалобы: на головную боль в затылочной области....     VEBMED\n",
       "4  152628  на основании жалоб. данных анамнеза и показате...     VEBMED"
      ]
     },
     "execution_count": 6,
     "metadata": {},
     "output_type": "execute_result"
    }
   ],
   "source": [
    "df_sql.head()"
   ]
  },
  {
   "cell_type": "code",
   "execution_count": null,
   "metadata": {},
   "outputs": [],
   "source": []
  },
  {
   "cell_type": "code",
   "execution_count": null,
   "metadata": {},
   "outputs": [],
   "source": []
  },
  {
   "cell_type": "code",
   "execution_count": 7,
   "metadata": {},
   "outputs": [],
   "source": [
    "d = dict()"
   ]
  },
  {
   "cell_type": "code",
   "execution_count": 10,
   "metadata": {},
   "outputs": [],
   "source": [
    "for i in range(df_sql.shape[0]):\n",
    "    temp = df_sql['report_comment'][i]\n",
    "    temp = re.sub(r'[^\\w\\s]+|[\\d]+', r'',temp.lower()).strip().split()\n",
    "    \n",
    "    for word in temp:\n",
    "        d[word] = d.get(word, 0) + 1"
   ]
  },
  {
   "cell_type": "code",
   "execution_count": 13,
   "metadata": {},
   "outputs": [],
   "source": [
    "words = pd.DataFrame.from_dict(d, orient='index').sort_index().reset_index().rename(columns={'index':'word', 0:'amount'})"
   ]
  },
  {
   "cell_type": "code",
   "execution_count": 16,
   "metadata": {},
   "outputs": [
    {
     "data": {
      "text/html": [
       "<div>\n",
       "<style scoped>\n",
       "    .dataframe tbody tr th:only-of-type {\n",
       "        vertical-align: middle;\n",
       "    }\n",
       "\n",
       "    .dataframe tbody tr th {\n",
       "        vertical-align: top;\n",
       "    }\n",
       "\n",
       "    .dataframe thead th {\n",
       "        text-align: right;\n",
       "    }\n",
       "</style>\n",
       "<table border=\"1\" class=\"dataframe\">\n",
       "  <thead>\n",
       "    <tr style=\"text-align: right;\">\n",
       "      <th></th>\n",
       "      <th>word</th>\n",
       "      <th>amount</th>\n",
       "    </tr>\n",
       "  </thead>\n",
       "  <tbody>\n",
       "    <tr>\n",
       "      <th>95054</th>\n",
       "      <td>тетки</td>\n",
       "      <td>1</td>\n",
       "    </tr>\n",
       "    <tr>\n",
       "      <th>78300</th>\n",
       "      <td>путейграви</td>\n",
       "      <td>1</td>\n",
       "    </tr>\n",
       "    <tr>\n",
       "      <th>90432</th>\n",
       "      <td>спрашивайте</td>\n",
       "      <td>1</td>\n",
       "    </tr>\n",
       "    <tr>\n",
       "      <th>40951</th>\n",
       "      <td>кризовый</td>\n",
       "      <td>1</td>\n",
       "    </tr>\n",
       "    <tr>\n",
       "      <th>40952</th>\n",
       "      <td>кризовых</td>\n",
       "      <td>1</td>\n",
       "    </tr>\n",
       "    <tr>\n",
       "      <th>...</th>\n",
       "      <td>...</td>\n",
       "      <td>...</td>\n",
       "    </tr>\n",
       "    <tr>\n",
       "      <th>67823</th>\n",
       "      <td>по</td>\n",
       "      <td>43643</td>\n",
       "    </tr>\n",
       "    <tr>\n",
       "      <th>83747</th>\n",
       "      <td>с</td>\n",
       "      <td>63205</td>\n",
       "    </tr>\n",
       "    <tr>\n",
       "      <th>31869</th>\n",
       "      <td>и</td>\n",
       "      <td>76812</td>\n",
       "    </tr>\n",
       "    <tr>\n",
       "      <th>50765</th>\n",
       "      <td>на</td>\n",
       "      <td>89302</td>\n",
       "    </tr>\n",
       "    <tr>\n",
       "      <th>10269</th>\n",
       "      <td>в</td>\n",
       "      <td>118747</td>\n",
       "    </tr>\n",
       "  </tbody>\n",
       "</table>\n",
       "<p>109255 rows × 2 columns</p>\n",
       "</div>"
      ],
      "text/plain": [
       "              word  amount\n",
       "95054        тетки       1\n",
       "78300   путейграви       1\n",
       "90432  спрашивайте       1\n",
       "40951     кризовый       1\n",
       "40952     кризовых       1\n",
       "...            ...     ...\n",
       "67823           по   43643\n",
       "83747            с   63205\n",
       "31869            и   76812\n",
       "50765           на   89302\n",
       "10269            в  118747\n",
       "\n",
       "[109255 rows x 2 columns]"
      ]
     },
     "execution_count": 16,
     "metadata": {},
     "output_type": "execute_result"
    }
   ],
   "source": [
    "words.sort_values(by=['amount'])"
   ]
  },
  {
   "cell_type": "code",
   "execution_count": null,
   "metadata": {},
   "outputs": [],
   "source": []
  }
 ],
 "metadata": {
  "kernelspec": {
   "display_name": "Python 3",
   "language": "python",
   "name": "python3"
  },
  "language_info": {
   "codemirror_mode": {
    "name": "ipython",
    "version": 3
   },
   "file_extension": ".py",
   "mimetype": "text/x-python",
   "name": "python",
   "nbconvert_exporter": "python",
   "pygments_lexer": "ipython3",
   "version": "3.7.6"
  }
 },
 "nbformat": 4,
 "nbformat_minor": 4
}
