{
 "cells": [
  {
   "cell_type": "code",
   "execution_count": 1,
   "metadata": {},
   "outputs": [],
   "source": [
    "import os\n",
    "import sys\n",
    "\n",
    "import pandas as pd\n",
    "\n",
    "sys.path.append(\"/home/sergey/drclinics/common\")\n",
    "sys.path.append(\"/home/sergey/drclinics/reports\")\n",
    "\n",
    "import datetime\n",
    "from utils import get_path, DATETIME_FORMAT"
   ]
  },
  {
   "cell_type": "code",
   "execution_count": 2,
   "metadata": {},
   "outputs": [],
   "source": [
    "from universal_connection import UniversalConnection, DBType"
   ]
  },
  {
   "cell_type": "code",
   "execution_count": 3,
   "metadata": {},
   "outputs": [],
   "source": [
    "import re"
   ]
  },
  {
   "cell_type": "code",
   "execution_count": 4,
   "metadata": {},
   "outputs": [],
   "source": [
    "import nltk\n",
    "# nltk.download('stopwords')\n",
    "from nltk.corpus import stopwords"
   ]
  },
  {
   "cell_type": "code",
   "execution_count": 5,
   "metadata": {},
   "outputs": [],
   "source": [
    "# set(stopwords.words('russian'))"
   ]
  },
  {
   "cell_type": "code",
   "execution_count": 6,
   "metadata": {},
   "outputs": [],
   "source": [
    "sql = \"\"\"\n",
    "with temp as (\n",
    "select\ta.id app_id,\n",
    "\t\ta.report_comment,\n",
    "\t\tcase when pc.product_id in (\n",
    "\t\t            \t\tselect id from product\n",
    "\t\t            \t\twhere full_name like '%ВЭБ%') then 'VEBMED'\n",
    "\t\t        else 'ПРОЧИЕ'\n",
    "\t\tend promo_type\n",
    "from appointment a \n",
    "left join promotion p\n",
    "\t      on a.promotion_id = p.id\n",
    "\t    left join product_condition pc\n",
    "\t      on pc.id = p.product_condition_id\n",
    "\t      --\n",
    "\twhere a.good\n",
    "      and not (\n",
    "      \ta.patient_id in (\n",
    "\t      \tselect patient_id\n",
    "\t      \tfrom patient_categories pcat\n",
    "\t      \tinner join reference rf\n",
    "\t      \t   on rf.id=pcat.reference_id\n",
    "\t      \twhere rf.code='TEST'\n",
    "\t      \t)\n",
    "\t    or lower(a.report_comment)='тест'\n",
    "      \t)\n",
    ")\n",
    "select *\n",
    "from temp \n",
    "where promo_type = 'VEBMED'\n",
    "\n",
    "\n",
    "\n",
    "\n",
    "\n",
    "\"\"\""
   ]
  },
  {
   "cell_type": "code",
   "execution_count": 7,
   "metadata": {},
   "outputs": [
    {
     "name": "stdout",
     "output_type": "stream",
     "text": [
      "2020-06-10 14:33:30 connect to postgres database using config file \"../../../.credentials/telemed/prom.cfg\"\n",
      "2020-06-10 14:33:30 creating ssh tunnel to 172.16.100.19 as root...\n",
      "2020-06-10 14:33:30 connect postgres using parameters:\n",
      "                    database: telemed\n",
      "\t\t\t\t    user: norekhov\n",
      "\t\t\t\t    password: ***masked***\n",
      "\t\t\t\t    host: localhost\n",
      "\t\t\t\t    port: 41349\n",
      "2020-06-10 14:33:30 @telemed: execute sql:\n",
      "\t\t\t\t    SET TIME ZONE 'Europe/Moscow'\n",
      "\t\t\t\t    None\n",
      "2020-06-10 14:33:30 @telemed query:\n",
      "                    with temp as (\n",
      "\t\t\t\t    select\ta.id app_id,\n",
      "\t\t\t\t    \t\ta.report_comment,\n",
      "\t\t\t\t    \t\tcase when pc.product_id in (\n",
      "\t\t\t\t    \t\t            \t\tselect id from product\n",
      "\t\t\t\t    \t\t            \t\twhere full_name like '%ВЭБ%') then 'VEBMED'\n",
      "\t\t\t\t    \t\t        else 'ПРОЧИЕ'\n",
      "\t\t\t\t    \t\tend promo_type\n",
      "\t\t\t\t    from appointment a \n",
      "\t\t\t\t    left join promotion p\n",
      "\t\t\t\t    \t      on a.promotion_id = p.id\n",
      "\t\t\t\t    \t    left join product_condition pc\n",
      "\t\t\t\t    \t      on pc.id = p.product_condition_id\n",
      "\t\t\t\t    \t      --\n",
      "\t\t\t\t    \twhere a.good\n",
      "\t\t\t\t          and not (\n",
      "\t\t\t\t          \ta.patient_id in (\n",
      "\t\t\t\t    \t      \tselect patient_id\n",
      "\t\t\t\t    \t      \tfrom patient_categories pcat\n",
      "\t\t\t\t    \t      \tinner join reference rf\n",
      "\t\t\t\t    \t      \t   on rf.id=pcat.reference_id\n",
      "\t\t\t\t    \t      \twhere rf.code='TEST'\n",
      "\t\t\t\t    \t      \t)\n",
      "\t\t\t\t    \t    or lower(a.report_comment)='тест'\n",
      "\t\t\t\t          \t)\n",
      "\t\t\t\t    )\n",
      "\t\t\t\t    select *\n",
      "\t\t\t\t    from temp \n",
      "\t\t\t\t    where promo_type = 'VEBMED'\n",
      "                    None\n",
      "2020-06-10 14:33:47 return 75229 rows\n",
      "2020-06-10 14:33:47 @telemed: closing postgres connection...\n",
      "2020-06-10 14:33:47 closing ssh tunnel to 172.16.100.19...\n"
     ]
    }
   ],
   "source": [
    "connection = UniversalConnection('../../../.credentials/telemed/prom.cfg', DBType.Postgres)\n",
    "df_sql = connection.query(sql)\n",
    "connection.close()"
   ]
  },
  {
   "cell_type": "code",
   "execution_count": 8,
   "metadata": {},
   "outputs": [
    {
     "data": {
      "text/html": [
       "<div>\n",
       "<style scoped>\n",
       "    .dataframe tbody tr th:only-of-type {\n",
       "        vertical-align: middle;\n",
       "    }\n",
       "\n",
       "    .dataframe tbody tr th {\n",
       "        vertical-align: top;\n",
       "    }\n",
       "\n",
       "    .dataframe thead th {\n",
       "        text-align: right;\n",
       "    }\n",
       "</style>\n",
       "<table border=\"1\" class=\"dataframe\">\n",
       "  <thead>\n",
       "    <tr style=\"text-align: right;\">\n",
       "      <th></th>\n",
       "      <th>app_id</th>\n",
       "      <th>report_comment</th>\n",
       "      <th>promo_type</th>\n",
       "    </tr>\n",
       "  </thead>\n",
       "  <tbody>\n",
       "    <tr>\n",
       "      <th>0</th>\n",
       "      <td>127919</td>\n",
       "      <td>О.ринит? у ребенка 3-х мес жизни\\nРекомендован...</td>\n",
       "      <td>VEBMED</td>\n",
       "    </tr>\n",
       "    <tr>\n",
       "      <th>1</th>\n",
       "      <td>144566</td>\n",
       "      <td>консультация уролога - очная,\\r\\nузи простаты,...</td>\n",
       "      <td>VEBMED</td>\n",
       "    </tr>\n",
       "    <tr>\n",
       "      <th>2</th>\n",
       "      <td>135952</td>\n",
       "      <td>Диагностическая гипотеза : НМЦ по типу олигоме...</td>\n",
       "      <td>VEBMED</td>\n",
       "    </tr>\n",
       "    <tr>\n",
       "      <th>3</th>\n",
       "      <td>253668</td>\n",
       "      <td>жалобы на повышение АД до 160/90\\nРекомендован...</td>\n",
       "      <td>VEBMED</td>\n",
       "    </tr>\n",
       "    <tr>\n",
       "      <th>4</th>\n",
       "      <td>254688</td>\n",
       "      <td>диагностическая гипотеза : остеохондроз грудно...</td>\n",
       "      <td>VEBMED</td>\n",
       "    </tr>\n",
       "  </tbody>\n",
       "</table>\n",
       "</div>"
      ],
      "text/plain": [
       "   app_id                                     report_comment promo_type\n",
       "0  127919  О.ринит? у ребенка 3-х мес жизни\\nРекомендован...     VEBMED\n",
       "1  144566  консультация уролога - очная,\\r\\nузи простаты,...     VEBMED\n",
       "2  135952  Диагностическая гипотеза : НМЦ по типу олигоме...     VEBMED\n",
       "3  253668  жалобы на повышение АД до 160/90\\nРекомендован...     VEBMED\n",
       "4  254688  диагностическая гипотеза : остеохондроз грудно...     VEBMED"
      ]
     },
     "execution_count": 8,
     "metadata": {},
     "output_type": "execute_result"
    }
   ],
   "source": [
    "df_sql.head()"
   ]
  },
  {
   "cell_type": "code",
   "execution_count": null,
   "metadata": {},
   "outputs": [],
   "source": []
  },
  {
   "cell_type": "code",
   "execution_count": null,
   "metadata": {},
   "outputs": [],
   "source": []
  },
  {
   "cell_type": "code",
   "execution_count": 9,
   "metadata": {},
   "outputs": [],
   "source": [
    "d = dict()"
   ]
  },
  {
   "cell_type": "code",
   "execution_count": 10,
   "metadata": {},
   "outputs": [],
   "source": [
    "stop_words = set(stopwords.words('russian'))"
   ]
  },
  {
   "cell_type": "code",
   "execution_count": 11,
   "metadata": {},
   "outputs": [],
   "source": [
    "for i in range(df_sql.shape[0]):\n",
    "    temp = df_sql['report_comment'][i]\n",
    "    temp = re.sub(r'[^\\w\\s]+|[\\d]+', r'',temp.lower()).replace('ё', 'е').strip().split()\n",
    "    temp = [x for x in temp if not x in stop_words]\n",
    "    temp = [x for x in temp if len(x) > 2]\n",
    "    \n",
    "    for word in temp:\n",
    "        d[word] = d.get(word, 0) + 1"
   ]
  },
  {
   "cell_type": "code",
   "execution_count": 12,
   "metadata": {},
   "outputs": [],
   "source": [
    "words = pd.DataFrame.from_dict(d, orient='index').sort_index().reset_index().rename(columns={'index':'word', 0:'amount'})"
   ]
  },
  {
   "cell_type": "code",
   "execution_count": 13,
   "metadata": {},
   "outputs": [],
   "source": [
    "words = words.sort_values(by=['amount'], ascending=False).reset_index(drop=True)"
   ]
  },
  {
   "cell_type": "code",
   "execution_count": 38,
   "metadata": {},
   "outputs": [
    {
     "data": {
      "text/html": [
       "<div>\n",
       "<style scoped>\n",
       "    .dataframe tbody tr th:only-of-type {\n",
       "        vertical-align: middle;\n",
       "    }\n",
       "\n",
       "    .dataframe tbody tr th {\n",
       "        vertical-align: top;\n",
       "    }\n",
       "\n",
       "    .dataframe thead th {\n",
       "        text-align: right;\n",
       "    }\n",
       "</style>\n",
       "<table border=\"1\" class=\"dataframe\">\n",
       "  <thead>\n",
       "    <tr style=\"text-align: right;\">\n",
       "      <th></th>\n",
       "      <th>word</th>\n",
       "      <th>amount</th>\n",
       "    </tr>\n",
       "  </thead>\n",
       "  <tbody>\n",
       "    <tr>\n",
       "      <th>0</th>\n",
       "      <td>крови</td>\n",
       "      <td>19774</td>\n",
       "    </tr>\n",
       "    <tr>\n",
       "      <th>1</th>\n",
       "      <td>анализ</td>\n",
       "      <td>18781</td>\n",
       "    </tr>\n",
       "    <tr>\n",
       "      <th>2</th>\n",
       "      <td>узи</td>\n",
       "      <td>15410</td>\n",
       "    </tr>\n",
       "    <tr>\n",
       "      <th>3</th>\n",
       "      <td>очная</td>\n",
       "      <td>15064</td>\n",
       "    </tr>\n",
       "    <tr>\n",
       "      <th>4</th>\n",
       "      <td>осмотр</td>\n",
       "      <td>14568</td>\n",
       "    </tr>\n",
       "    <tr>\n",
       "      <th>...</th>\n",
       "      <td>...</td>\n",
       "      <td>...</td>\n",
       "    </tr>\n",
       "    <tr>\n",
       "      <th>120196</th>\n",
       "      <td>массивными</td>\n",
       "      <td>1</td>\n",
       "    </tr>\n",
       "    <tr>\n",
       "      <th>120197</th>\n",
       "      <td>массивным</td>\n",
       "      <td>1</td>\n",
       "    </tr>\n",
       "    <tr>\n",
       "      <th>120198</th>\n",
       "      <td>массивные</td>\n",
       "      <td>1</td>\n",
       "    </tr>\n",
       "    <tr>\n",
       "      <th>120199</th>\n",
       "      <td>массивное</td>\n",
       "      <td>1</td>\n",
       "    </tr>\n",
       "    <tr>\n",
       "      <th>120200</th>\n",
       "      <td>яэриус</td>\n",
       "      <td>1</td>\n",
       "    </tr>\n",
       "  </tbody>\n",
       "</table>\n",
       "<p>120201 rows × 2 columns</p>\n",
       "</div>"
      ],
      "text/plain": [
       "              word  amount\n",
       "0            крови   19774\n",
       "1           анализ   18781\n",
       "2              узи   15410\n",
       "3            очная   15064\n",
       "4           осмотр   14568\n",
       "...            ...     ...\n",
       "120196  массивными       1\n",
       "120197   массивным       1\n",
       "120198   массивные       1\n",
       "120199   массивное       1\n",
       "120200      яэриус       1\n",
       "\n",
       "[120201 rows x 2 columns]"
      ]
     },
     "execution_count": 38,
     "metadata": {},
     "output_type": "execute_result"
    }
   ],
   "source": [
    "words"
   ]
  },
  {
   "cell_type": "code",
   "execution_count": 37,
   "metadata": {},
   "outputs": [],
   "source": [
    "words.to_excel('words_new.xlsx', index=False)"
   ]
  },
  {
   "cell_type": "code",
   "execution_count": null,
   "metadata": {},
   "outputs": [],
   "source": []
  },
  {
   "cell_type": "code",
   "execution_count": 74,
   "metadata": {},
   "outputs": [],
   "source": [
    "#df_sql.to_excel('full-comments.xlsx', index=False)"
   ]
  },
  {
   "cell_type": "code",
   "execution_count": 75,
   "metadata": {},
   "outputs": [],
   "source": [
    "#df_sql[df_sql.report_comment.str.contains('озвоночни') == True].to_excel('Позвоночник.xlsx', index=False)"
   ]
  },
  {
   "cell_type": "code",
   "execution_count": null,
   "metadata": {},
   "outputs": [],
   "source": []
  },
  {
   "cell_type": "code",
   "execution_count": 27,
   "metadata": {},
   "outputs": [],
   "source": [
    "int_words = []"
   ]
  },
  {
   "cell_type": "code",
   "execution_count": 28,
   "metadata": {},
   "outputs": [],
   "source": [
    "a = open('interesting_words.txt')\n",
    "for line in a:\n",
    "    #print(line)\n",
    "    int_words.append(line.strip())\n",
    "a.close()"
   ]
  },
  {
   "cell_type": "code",
   "execution_count": 29,
   "metadata": {},
   "outputs": [
    {
     "data": {
      "text/plain": [
       "['грудной',\n",
       " 'пневмония',\n",
       " 'кашель',\n",
       " 'дыхания',\n",
       " 'дыхательных',\n",
       " 'отхаркивающие',\n",
       " 'одышка',\n",
       " 'мокроты',\n",
       " 'дыхательная']"
      ]
     },
     "execution_count": 29,
     "metadata": {},
     "output_type": "execute_result"
    }
   ],
   "source": [
    "int_words"
   ]
  },
  {
   "cell_type": "code",
   "execution_count": null,
   "metadata": {},
   "outputs": [],
   "source": []
  },
  {
   "cell_type": "code",
   "execution_count": 30,
   "metadata": {},
   "outputs": [],
   "source": [
    "d_int_words = dict()"
   ]
  },
  {
   "cell_type": "code",
   "execution_count": 31,
   "metadata": {},
   "outputs": [],
   "source": [
    "for i in range(df_sql.shape[0]):\n",
    "    if any(word in df_sql['report_comment'][i] for word in int_words):\n",
    "        \n",
    "        temp = df_sql['report_comment'][i]\n",
    "        temp = re.sub(r'[^\\w\\s]+|[\\d]+', r'',temp.lower()).replace('ё', 'е').strip().split()\n",
    "        temp = [x for x in temp if not x in stop_words]\n",
    "        temp = [x for x in temp if len(x) > 2]\n",
    "\n",
    "        for word in temp:\n",
    "            d_int_words[word] = d_int_words.get(word, 0) + 1"
   ]
  },
  {
   "cell_type": "code",
   "execution_count": null,
   "metadata": {},
   "outputs": [],
   "source": [
    "# if any(number < 10 for number in numbers):"
   ]
  },
  {
   "cell_type": "code",
   "execution_count": 32,
   "metadata": {},
   "outputs": [],
   "source": [
    "df_int_words = pd.DataFrame.from_dict(d_int_words, orient='index').sort_index().reset_index().rename(columns={'index':'word', 0:'amount'})"
   ]
  },
  {
   "cell_type": "code",
   "execution_count": 33,
   "metadata": {},
   "outputs": [],
   "source": [
    "df_int_words = df_int_words.sort_values(by=['amount'], ascending=False).reset_index(drop=True)"
   ]
  },
  {
   "cell_type": "code",
   "execution_count": 34,
   "metadata": {},
   "outputs": [
    {
     "data": {
      "text/html": [
       "<div>\n",
       "<style scoped>\n",
       "    .dataframe tbody tr th:only-of-type {\n",
       "        vertical-align: middle;\n",
       "    }\n",
       "\n",
       "    .dataframe tbody tr th {\n",
       "        vertical-align: top;\n",
       "    }\n",
       "\n",
       "    .dataframe thead th {\n",
       "        text-align: right;\n",
       "    }\n",
       "</style>\n",
       "<table border=\"1\" class=\"dataframe\">\n",
       "  <thead>\n",
       "    <tr style=\"text-align: right;\">\n",
       "      <th></th>\n",
       "      <th>word</th>\n",
       "      <th>amount</th>\n",
       "    </tr>\n",
       "  </thead>\n",
       "  <tbody>\n",
       "    <tr>\n",
       "      <th>0</th>\n",
       "      <td>температуры</td>\n",
       "      <td>2049</td>\n",
       "    </tr>\n",
       "    <tr>\n",
       "      <th>1</th>\n",
       "      <td>анализ</td>\n",
       "      <td>1939</td>\n",
       "    </tr>\n",
       "    <tr>\n",
       "      <th>2</th>\n",
       "      <td>грудной</td>\n",
       "      <td>1911</td>\n",
       "    </tr>\n",
       "    <tr>\n",
       "      <th>3</th>\n",
       "      <td>очный</td>\n",
       "      <td>1845</td>\n",
       "    </tr>\n",
       "    <tr>\n",
       "      <th>4</th>\n",
       "      <td>крови</td>\n",
       "      <td>1799</td>\n",
       "    </tr>\n",
       "    <tr>\n",
       "      <th>...</th>\n",
       "      <td>...</td>\n",
       "      <td>...</td>\n",
       "    </tr>\n",
       "    <tr>\n",
       "      <th>23054</th>\n",
       "      <td>мельников</td>\n",
       "      <td>1</td>\n",
       "    </tr>\n",
       "    <tr>\n",
       "      <th>23055</th>\n",
       "      <td>мельникова</td>\n",
       "      <td>1</td>\n",
       "    </tr>\n",
       "    <tr>\n",
       "      <th>23056</th>\n",
       "      <td>мембран</td>\n",
       "      <td>1</td>\n",
       "    </tr>\n",
       "    <tr>\n",
       "      <th>23057</th>\n",
       "      <td>мемлсо</td>\n",
       "      <td>1</td>\n",
       "    </tr>\n",
       "    <tr>\n",
       "      <th>23058</th>\n",
       "      <td>ячневую</td>\n",
       "      <td>1</td>\n",
       "    </tr>\n",
       "  </tbody>\n",
       "</table>\n",
       "<p>23059 rows × 2 columns</p>\n",
       "</div>"
      ],
      "text/plain": [
       "              word  amount\n",
       "0      температуры    2049\n",
       "1           анализ    1939\n",
       "2          грудной    1911\n",
       "3            очный    1845\n",
       "4            крови    1799\n",
       "...            ...     ...\n",
       "23054    мельников       1\n",
       "23055   мельникова       1\n",
       "23056      мембран       1\n",
       "23057       мемлсо       1\n",
       "23058      ячневую       1\n",
       "\n",
       "[23059 rows x 2 columns]"
      ]
     },
     "execution_count": 34,
     "metadata": {},
     "output_type": "execute_result"
    }
   ],
   "source": [
    "df_int_words"
   ]
  },
  {
   "cell_type": "code",
   "execution_count": 39,
   "metadata": {},
   "outputs": [],
   "source": [
    "df_int_words.to_excel('df_int_words.xlsx', index=False)"
   ]
  },
  {
   "cell_type": "code",
   "execution_count": null,
   "metadata": {},
   "outputs": [],
   "source": []
  }
 ],
 "metadata": {
  "kernelspec": {
   "display_name": "Python 3",
   "language": "python",
   "name": "python3"
  },
  "language_info": {
   "codemirror_mode": {
    "name": "ipython",
    "version": 3
   },
   "file_extension": ".py",
   "mimetype": "text/x-python",
   "name": "python",
   "nbconvert_exporter": "python",
   "pygments_lexer": "ipython3",
   "version": "3.7.6"
  }
 },
 "nbformat": 4,
 "nbformat_minor": 4
}
