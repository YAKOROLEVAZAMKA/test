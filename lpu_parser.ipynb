{
 "cells": [
  {
   "cell_type": "code",
   "execution_count": 14,
   "id": "bd7eaa08-d8f3-4920-8bfa-fed8f26b1628",
   "metadata": {},
   "outputs": [],
   "source": [
    "import requests\n",
    "import pandas as pd"
   ]
  },
  {
   "cell_type": "markdown",
   "id": "1e484c9f-081e-4229-a239-462ddbd3de51",
   "metadata": {},
   "source": [
    "#### read excel"
   ]
  },
  {
   "cell_type": "code",
   "execution_count": 83,
   "id": "c96d0b75-ab8c-4b63-adb8-43891670fc45",
   "metadata": {},
   "outputs": [],
   "source": [
    "rename_dict = {\n",
    "    'Город': 'city',\n",
    "    'Населенный пункт': 'city',\n",
    "    #\n",
    "    'Адреса': 'address',\n",
    "    'Адрес': 'address',\n",
    "    #\n",
    "    'Название': 'name'\n",
    "}"
   ]
  },
  {
   "cell_type": "code",
   "execution_count": 84,
   "id": "5b3c1a01-f65e-43c9-9dfb-f4b31a0e6a25",
   "metadata": {},
   "outputs": [],
   "source": [
    "#file = 'ЛПУ по городам 20.09.2022 (2) (1) (1).xlsx'\n",
    "file = 'Лаборатории_по_городам_от_03_09_22_1.xlsx'\n",
    "\n",
    "df = pd.read_excel(file)\n",
    "df.rename(columns=rename_dict, inplace=True)"
   ]
  },
  {
   "cell_type": "code",
   "execution_count": 85,
   "id": "4a676ca4-5955-4be7-9cb1-f6efe2282696",
   "metadata": {},
   "outputs": [
    {
     "data": {
      "text/html": [
       "<div>\n",
       "<style scoped>\n",
       "    .dataframe tbody tr th:only-of-type {\n",
       "        vertical-align: middle;\n",
       "    }\n",
       "\n",
       "    .dataframe tbody tr th {\n",
       "        vertical-align: top;\n",
       "    }\n",
       "\n",
       "    .dataframe thead th {\n",
       "        text-align: right;\n",
       "    }\n",
       "</style>\n",
       "<table border=\"1\" class=\"dataframe\">\n",
       "  <thead>\n",
       "    <tr style=\"text-align: right;\">\n",
       "      <th></th>\n",
       "      <th>city</th>\n",
       "      <th>address</th>\n",
       "      <th>Название лаборатории</th>\n",
       "    </tr>\n",
       "  </thead>\n",
       "  <tbody>\n",
       "    <tr>\n",
       "      <th>0</th>\n",
       "      <td>г. Москва</td>\n",
       "      <td>город Москва, Шоссе Энтузиастов, дом 22/18</td>\n",
       "      <td>Инвитро</td>\n",
       "    </tr>\n",
       "    <tr>\n",
       "      <th>1</th>\n",
       "      <td>г. Москва</td>\n",
       "      <td>город Москва, улица Солдатская, дом 10, корп. 2</td>\n",
       "      <td>Инвитро</td>\n",
       "    </tr>\n",
       "    <tr>\n",
       "      <th>2</th>\n",
       "      <td>г. Москва</td>\n",
       "      <td>город Москва, 1-ый Кожуховский пр-д, дом 9</td>\n",
       "      <td>Инвитро</td>\n",
       "    </tr>\n",
       "    <tr>\n",
       "      <th>3</th>\n",
       "      <td>г. Москва</td>\n",
       "      <td>город Москва, улица Профсоюзная, дом 5/9</td>\n",
       "      <td>Инвитро</td>\n",
       "    </tr>\n",
       "    <tr>\n",
       "      <th>4</th>\n",
       "      <td>г. Москва</td>\n",
       "      <td>город Москва, улица Староалексеевская, дом 8</td>\n",
       "      <td>Инвитро</td>\n",
       "    </tr>\n",
       "  </tbody>\n",
       "</table>\n",
       "</div>"
      ],
      "text/plain": [
       "        city                                          address  \\\n",
       "0  г. Москва       город Москва, Шоссе Энтузиастов, дом 22/18   \n",
       "1  г. Москва  город Москва, улица Солдатская, дом 10, корп. 2   \n",
       "2  г. Москва      город Москва, 1-ый Кожуховский пр-д, дом 9    \n",
       "3  г. Москва         город Москва, улица Профсоюзная, дом 5/9   \n",
       "4  г. Москва     город Москва, улица Староалексеевская, дом 8   \n",
       "\n",
       "  Название лаборатории  \n",
       "0              Инвитро  \n",
       "1              Инвитро  \n",
       "2              Инвитро  \n",
       "3              Инвитро  \n",
       "4              Инвитро  "
      ]
     },
     "execution_count": 85,
     "metadata": {},
     "output_type": "execute_result"
    }
   ],
   "source": [
    "df.head()"
   ]
  },
  {
   "cell_type": "markdown",
   "id": "4b500724-8fd1-4d77-b707-967dfe29c8ec",
   "metadata": {},
   "source": [
    "#### API"
   ]
  },
  {
   "cell_type": "code",
   "execution_count": 3,
   "id": "9599e3b0-8817-4b1c-a0cc-6eff82ba2579",
   "metadata": {},
   "outputs": [],
   "source": [
    "url = 'https://api.apidq.io/v1/clean/address'"
   ]
  },
  {
   "cell_type": "code",
   "execution_count": 71,
   "id": "4276b91c-5e29-4d5b-b4a0-fbbb07215da2",
   "metadata": {},
   "outputs": [],
   "source": [
    "data = {\n",
    "  \"query\": \"г. Севастополь, Республика Крым, город Севастополь, пр-т Октябрьской революции, дом 42\",\n",
    "  \"countryCode\": \"RU\"\n",
    "}"
   ]
  },
  {
   "cell_type": "code",
   "execution_count": 72,
   "id": "4d780783-91c2-40f4-ba5c-ffa86a8a9006",
   "metadata": {},
   "outputs": [],
   "source": [
    "r = requests.post(url, json=data)"
   ]
  },
  {
   "cell_type": "code",
   "execution_count": 73,
   "id": "db3c6b80-4f59-47a7-814c-d004b72c48d6",
   "metadata": {},
   "outputs": [],
   "source": [
    "true = True\n",
    "false = False\n"
   ]
  },
  {
   "cell_type": "code",
   "execution_count": 74,
   "id": "20abffe5-9235-4289-9215-7a0d91df35cc",
   "metadata": {},
   "outputs": [],
   "source": [
    "d = eval(r.text)"
   ]
  },
  {
   "cell_type": "code",
   "execution_count": 80,
   "id": "849ef26c-ea67-4414-81a1-7a2211a04970",
   "metadata": {},
   "outputs": [
    {
     "data": {
      "text/plain": [
       "'г Севастополь'"
      ]
     },
     "execution_count": 80,
     "metadata": {},
     "output_type": "execute_result"
    }
   ],
   "source": [
    "d['region']['fullName']"
   ]
  },
  {
   "cell_type": "code",
   "execution_count": 76,
   "id": "4c8b3516-b163-41ab-a09e-cad1ffd27aec",
   "metadata": {},
   "outputs": [
    {
     "data": {
      "text/plain": [
       "'г Севастополь, пр-кт Октябрьской революции, дом 42'"
      ]
     },
     "execution_count": 76,
     "metadata": {},
     "output_type": "execute_result"
    }
   ],
   "source": [
    "d['addressFull']"
   ]
  },
  {
   "cell_type": "code",
   "execution_count": 77,
   "id": "4cb76724-fe2b-458a-ba4f-a3fe6b34db4f",
   "metadata": {},
   "outputs": [
    {
     "data": {
      "text/plain": [
       "''"
      ]
     },
     "execution_count": 77,
     "metadata": {},
     "output_type": "execute_result"
    }
   ],
   "source": [
    "d['city']['fullName']"
   ]
  },
  {
   "cell_type": "code",
   "execution_count": 78,
   "id": "c206f335-0288-4466-9b9f-767712d23445",
   "metadata": {},
   "outputs": [
    {
     "data": {
      "text/plain": [
       "''"
      ]
     },
     "execution_count": 78,
     "metadata": {},
     "output_type": "execute_result"
    }
   ],
   "source": [
    "d['settlement']['fullName']"
   ]
  },
  {
   "cell_type": "code",
   "execution_count": 79,
   "id": "0080c72a-1b8a-48fb-9bf3-80b6940feb1f",
   "metadata": {},
   "outputs": [
    {
     "data": {
      "text/plain": [
       "{'original': 'г. севастополь, республика крым, город севастополь, пр-т октябрьской революции, дом 42',\n",
       " 'addressFull': 'г Севастополь, пр-кт Октябрьской революции, дом 42',\n",
       " 'address': 'г Севастополь, пр-кт Октябрьской революции',\n",
       " 'postcodeIn': '',\n",
       " 'postcode': '299038',\n",
       " 'region': {'fullName': 'г Севастополь',\n",
       "  'name': 'Севастополь',\n",
       "  'type': 'г',\n",
       "  'codes': {'fias': '6fdecb78-893a-4e3f-a5ba-aa062459463b',\n",
       "   'ga': 'RU0920000000000000000000000',\n",
       "   'osm': 'R1574364',\n",
       "   'gar': '1461214',\n",
       "   'kladr': '9200000000000'}},\n",
       " 'area': {'fullName': '',\n",
       "  'name': '',\n",
       "  'type': '',\n",
       "  'codes': {'fias': '', 'ga': '', 'osm': '', 'gar': '', 'kladr': ''}},\n",
       " 'city': {'fullName': '',\n",
       "  'name': '',\n",
       "  'type': '',\n",
       "  'codes': {'fias': '', 'ga': '', 'osm': '', 'gar': '', 'kladr': ''}},\n",
       " 'cityArea': {'fullName': '',\n",
       "  'name': '',\n",
       "  'type': '',\n",
       "  'codes': {'fias': '', 'ga': '', 'osm': '', 'gar': '', 'kladr': ''}},\n",
       " 'settlement': {'fullName': '',\n",
       "  'name': '',\n",
       "  'type': '',\n",
       "  'codes': {'fias': '', 'ga': '', 'osm': '', 'gar': '', 'kladr': ''}},\n",
       " 'planStructure': {'fullName': '',\n",
       "  'name': '',\n",
       "  'type': '',\n",
       "  'codes': {'fias': '', 'ga': '', 'osm': '', 'gar': '', 'kladr': ''}},\n",
       " 'street': {'fullName': 'пр-кт Октябрьской революции',\n",
       "  'name': 'Октябрьской революции',\n",
       "  'type': 'пр-кт',\n",
       "  'codes': {'fias': 'fbe9ecbe-fb43-4d68-9bb7-b0603ab5b3c0',\n",
       "   'ga': 'RU0920000000000000000000243',\n",
       "   'osm': '',\n",
       "   'gar': '1462111',\n",
       "   'kladr': '92000000000024300'}},\n",
       " 'houseDetails': {'fullName': 'дом 42',\n",
       "  'floor': '',\n",
       "  'house': '42',\n",
       "  'case': '',\n",
       "  'build': '',\n",
       "  'liter': '',\n",
       "  'lend': '',\n",
       "  'block': '',\n",
       "  'pav': '',\n",
       "  'flat': '',\n",
       "  'office': '',\n",
       "  'kab': '',\n",
       "  'abon': '',\n",
       "  'plot': '',\n",
       "  'sek': '',\n",
       "  'entr': '',\n",
       "  'room': '',\n",
       "  'hostel': '',\n",
       "  'munit': '',\n",
       "  'codes': {'fias': '5c3ef421-29f3-4626-989c-363063bb209c',\n",
       "   'ga': '',\n",
       "   'osm': '',\n",
       "   'gar': '59266547',\n",
       "   'kladr': ''}},\n",
       " 'coordinates': {'latitude': 44.5880478, 'longitude': 33.4591769},\n",
       " 'country': {'name': 'Россия',\n",
       "  'alpha2': 'RU',\n",
       "  'alpha3': 'RUS',\n",
       "  'numeric': 643},\n",
       " 'valid': True,\n",
       " 'quality': {'unique': 0,\n",
       "  'actuality': 0,\n",
       "  'undefined': 0,\n",
       "  'level': 8,\n",
       "  'house': 3,\n",
       "  'geo': 8}}"
      ]
     },
     "execution_count": 79,
     "metadata": {},
     "output_type": "execute_result"
    }
   ],
   "source": [
    "d"
   ]
  },
  {
   "cell_type": "markdown",
   "id": "42f675eb-ef6e-4b94-b805-9042e6d192c3",
   "metadata": {},
   "source": [
    "#### clean address"
   ]
  },
  {
   "cell_type": "code",
   "execution_count": 86,
   "id": "35dc87d8-056b-4f0d-b5fa-d3f0447b6cc3",
   "metadata": {},
   "outputs": [],
   "source": [
    "true = True\n",
    "false = False\n",
    "\n",
    "df['address_clean'] = ''\n",
    "df['city_clean'] = ''\n",
    "\n",
    "big_cities = [\n",
    "    'г Москва',\n",
    "    'г Санкт-Петербург',\n",
    "    'г Севастополь'\n",
    "]"
   ]
  },
  {
   "cell_type": "code",
   "execution_count": 87,
   "id": "91543cf5-ee00-4c2b-8a69-0b620bae13fb",
   "metadata": {},
   "outputs": [],
   "source": [
    "for i in range(df.shape[0]):\n",
    "    temp_addr = ''\n",
    "    addressFull = ''\n",
    "    bigcity = ''\n",
    "    city = ''\n",
    "    settlement = ''\n",
    "    \n",
    "    if df['city'][i] not in df['address']:\n",
    "        temp_addr = df['city'][i] + ', ' + df['address'][i]\n",
    "    else:\n",
    "        temp_addr = df['address'][i]\n",
    "        \n",
    "    data = {\n",
    "      \"query\": temp_addr,\n",
    "      \"countryCode\": \"RU\"\n",
    "    }\n",
    "    \n",
    "    r = requests.post(url, json=data)\n",
    "    \n",
    "    d = eval(r.text)\n",
    "    \n",
    "    try:\n",
    "        bigcity = d['region']['fullName']\n",
    "    except:\n",
    "        bigcity = ''\n",
    "        \n",
    "    try:\n",
    "        addressFull = d['addressFull']\n",
    "    except:\n",
    "        addressFull = 'Не найдено'\n",
    "    \n",
    "    try:\n",
    "        city = d['city']['fullName']\n",
    "    except:\n",
    "        addressFull = ''\n",
    "    \n",
    "    try:\n",
    "        settlement = d['settlement']['fullName']\n",
    "    except:\n",
    "        settlement = 'Не найдено'\n",
    "    \n",
    "    df['address_clean'][i] = addressFull\n",
    "    \n",
    "    if bigcity in big_cities:\n",
    "        df['city_clean'][i] = bigcity\n",
    "    elif city:\n",
    "        df['city_clean'][i] = city\n",
    "    else:\n",
    "        df['city_clean'][i] = settlement"
   ]
  },
  {
   "cell_type": "code",
   "execution_count": 88,
   "id": "1e91a49a-51e8-4d00-b610-3bee070038c2",
   "metadata": {},
   "outputs": [],
   "source": [
    "#df.to_excel('test1.xlsx')"
   ]
  },
  {
   "cell_type": "code",
   "execution_count": 89,
   "id": "987b0fa2-e0ab-46ff-bf30-c7d7abf44fb5",
   "metadata": {},
   "outputs": [
    {
     "data": {
      "text/html": [
       "<div>\n",
       "<style scoped>\n",
       "    .dataframe tbody tr th:only-of-type {\n",
       "        vertical-align: middle;\n",
       "    }\n",
       "\n",
       "    .dataframe tbody tr th {\n",
       "        vertical-align: top;\n",
       "    }\n",
       "\n",
       "    .dataframe thead th {\n",
       "        text-align: right;\n",
       "    }\n",
       "</style>\n",
       "<table border=\"1\" class=\"dataframe\">\n",
       "  <thead>\n",
       "    <tr style=\"text-align: right;\">\n",
       "      <th></th>\n",
       "      <th>city</th>\n",
       "      <th>address</th>\n",
       "      <th>Название лаборатории</th>\n",
       "      <th>address_clean</th>\n",
       "      <th>city_clean</th>\n",
       "    </tr>\n",
       "  </thead>\n",
       "  <tbody>\n",
       "    <tr>\n",
       "      <th>0</th>\n",
       "      <td>г. Москва</td>\n",
       "      <td>город Москва, Шоссе Энтузиастов, дом 22/18</td>\n",
       "      <td>Инвитро</td>\n",
       "      <td>г Москва, Энтузиастов ш, дом 22/18</td>\n",
       "      <td>г Москва</td>\n",
       "    </tr>\n",
       "    <tr>\n",
       "      <th>1</th>\n",
       "      <td>г. Москва</td>\n",
       "      <td>город Москва, улица Солдатская, дом 10, корп. 2</td>\n",
       "      <td>Инвитро</td>\n",
       "      <td>г Москва, ул Солдатская, дом 10, корпус 2</td>\n",
       "      <td>г Москва</td>\n",
       "    </tr>\n",
       "    <tr>\n",
       "      <th>2</th>\n",
       "      <td>г. Москва</td>\n",
       "      <td>город Москва, 1-ый Кожуховский пр-д, дом 9</td>\n",
       "      <td>Инвитро</td>\n",
       "      <td>г Москва, 1-й Кожуховский проезд, дом 9</td>\n",
       "      <td>г Москва</td>\n",
       "    </tr>\n",
       "    <tr>\n",
       "      <th>3</th>\n",
       "      <td>г. Москва</td>\n",
       "      <td>город Москва, улица Профсоюзная, дом 5/9</td>\n",
       "      <td>Инвитро</td>\n",
       "      <td>г Москва, ул Профсоюзная, дом 5/9</td>\n",
       "      <td>г Москва</td>\n",
       "    </tr>\n",
       "    <tr>\n",
       "      <th>4</th>\n",
       "      <td>г. Москва</td>\n",
       "      <td>город Москва, улица Староалексеевская, дом 8</td>\n",
       "      <td>Инвитро</td>\n",
       "      <td>г Москва, ул Староалексеевская, дом 8</td>\n",
       "      <td>г Москва</td>\n",
       "    </tr>\n",
       "    <tr>\n",
       "      <th>...</th>\n",
       "      <td>...</td>\n",
       "      <td>...</td>\n",
       "      <td>...</td>\n",
       "      <td>...</td>\n",
       "      <td>...</td>\n",
       "    </tr>\n",
       "    <tr>\n",
       "      <th>3086</th>\n",
       "      <td>Уссурийск</td>\n",
       "      <td>Чичерина, 83</td>\n",
       "      <td>Юнилаб</td>\n",
       "      <td>Приморский край, г Уссурийск, ул Чичерина, дом 83</td>\n",
       "      <td>г Уссурийск</td>\n",
       "    </tr>\n",
       "    <tr>\n",
       "      <th>3087</th>\n",
       "      <td>Уссурийск</td>\n",
       "      <td>Пионерская, 19</td>\n",
       "      <td>Юнилаб</td>\n",
       "      <td>Приморский край, г Уссурийск, ул Пионерская, д...</td>\n",
       "      <td>г Уссурийск</td>\n",
       "    </tr>\n",
       "    <tr>\n",
       "      <th>3088</th>\n",
       "      <td>Фокино</td>\n",
       "      <td>Клубная,15а</td>\n",
       "      <td>Юнилаб</td>\n",
       "      <td>Приморский край, г Фокино, ул Клубная, дом 15а</td>\n",
       "      <td>г Фокино</td>\n",
       "    </tr>\n",
       "    <tr>\n",
       "      <th>3089</th>\n",
       "      <td>Ю Сахалинск</td>\n",
       "      <td>Чехова, 87</td>\n",
       "      <td>Юнилаб</td>\n",
       "      <td>Сахалинская обл, г Южно-Сахалинск, ул Чехова, ...</td>\n",
       "      <td>г Южно-Сахалинск</td>\n",
       "    </tr>\n",
       "    <tr>\n",
       "      <th>3090</th>\n",
       "      <td>Ю Сахалинск</td>\n",
       "      <td>Есенина,50</td>\n",
       "      <td>Юнилаб</td>\n",
       "      <td>Сахалинская обл, г Южно-Сахалинск, ул Есенина,...</td>\n",
       "      <td>г Южно-Сахалинск</td>\n",
       "    </tr>\n",
       "  </tbody>\n",
       "</table>\n",
       "<p>3091 rows × 5 columns</p>\n",
       "</div>"
      ],
      "text/plain": [
       "             city                                          address  \\\n",
       "0       г. Москва       город Москва, Шоссе Энтузиастов, дом 22/18   \n",
       "1       г. Москва  город Москва, улица Солдатская, дом 10, корп. 2   \n",
       "2       г. Москва      город Москва, 1-ый Кожуховский пр-д, дом 9    \n",
       "3       г. Москва         город Москва, улица Профсоюзная, дом 5/9   \n",
       "4       г. Москва     город Москва, улица Староалексеевская, дом 8   \n",
       "...           ...                                              ...   \n",
       "3086    Уссурийск                                     Чичерина, 83   \n",
       "3087    Уссурийск                                   Пионерская, 19   \n",
       "3088       Фокино                                      Клубная,15а   \n",
       "3089  Ю Сахалинск                                       Чехова, 87   \n",
       "3090  Ю Сахалинск                                       Есенина,50   \n",
       "\n",
       "     Название лаборатории                                      address_clean  \\\n",
       "0                 Инвитро                 г Москва, Энтузиастов ш, дом 22/18   \n",
       "1                 Инвитро          г Москва, ул Солдатская, дом 10, корпус 2   \n",
       "2                 Инвитро            г Москва, 1-й Кожуховский проезд, дом 9   \n",
       "3                 Инвитро                  г Москва, ул Профсоюзная, дом 5/9   \n",
       "4                 Инвитро              г Москва, ул Староалексеевская, дом 8   \n",
       "...                   ...                                                ...   \n",
       "3086               Юнилаб  Приморский край, г Уссурийск, ул Чичерина, дом 83   \n",
       "3087               Юнилаб  Приморский край, г Уссурийск, ул Пионерская, д...   \n",
       "3088               Юнилаб     Приморский край, г Фокино, ул Клубная, дом 15а   \n",
       "3089               Юнилаб  Сахалинская обл, г Южно-Сахалинск, ул Чехова, ...   \n",
       "3090               Юнилаб  Сахалинская обл, г Южно-Сахалинск, ул Есенина,...   \n",
       "\n",
       "            city_clean  \n",
       "0             г Москва  \n",
       "1             г Москва  \n",
       "2             г Москва  \n",
       "3             г Москва  \n",
       "4             г Москва  \n",
       "...                ...  \n",
       "3086       г Уссурийск  \n",
       "3087       г Уссурийск  \n",
       "3088          г Фокино  \n",
       "3089  г Южно-Сахалинск  \n",
       "3090  г Южно-Сахалинск  \n",
       "\n",
       "[3091 rows x 5 columns]"
      ]
     },
     "execution_count": 89,
     "metadata": {},
     "output_type": "execute_result"
    }
   ],
   "source": [
    "df"
   ]
  },
  {
   "cell_type": "code",
   "execution_count": 42,
   "id": "69179a9a-5c0a-418c-821a-54957244236b",
   "metadata": {},
   "outputs": [
    {
     "data": {
      "text/plain": [
       "{'code': 5, 'message': 'Ничего не найдено', 'details': []}"
      ]
     },
     "execution_count": 42,
     "metadata": {},
     "output_type": "execute_result"
    }
   ],
   "source": [
    "d"
   ]
  },
  {
   "cell_type": "code",
   "execution_count": 90,
   "id": "bbd75d5b-ac6b-4f09-b202-fae49b2076a3",
   "metadata": {},
   "outputs": [],
   "source": [
    "df.to_excel('clean_' + file)"
   ]
  },
  {
   "cell_type": "code",
   "execution_count": null,
   "id": "865219cb-076a-4bfa-80a9-0f6b14f53cd0",
   "metadata": {},
   "outputs": [],
   "source": []
  }
 ],
 "metadata": {
  "kernelspec": {
   "display_name": "Python 3 (ipykernel)",
   "language": "python",
   "name": "python3"
  },
  "language_info": {
   "codemirror_mode": {
    "name": "ipython",
    "version": 3
   },
   "file_extension": ".py",
   "mimetype": "text/x-python",
   "name": "python",
   "nbconvert_exporter": "python",
   "pygments_lexer": "ipython3",
   "version": "3.9.7"
  }
 },
 "nbformat": 4,
 "nbformat_minor": 5
}
