{
 "cells": [
  {
   "cell_type": "code",
   "execution_count": 2,
   "metadata": {},
   "outputs": [],
   "source": [
    "import os\n",
    "import sys\n",
    "\n",
    "import pandas as pd\n",
    "\n",
    "sys.path.append(\"/home/sergey/drclinics/common\")\n",
    "sys.path.append(\"/home/sergey/drclinics/reports\")\n",
    "\n",
    "import datetime\n",
    "from utils import get_path, DATETIME_FORMAT"
   ]
  },
  {
   "cell_type": "code",
   "execution_count": 3,
   "metadata": {},
   "outputs": [],
   "source": [
    "from universal_connection import UniversalConnection, DBType"
   ]
  },
  {
   "cell_type": "code",
   "execution_count": 4,
   "metadata": {},
   "outputs": [],
   "source": [
    "import numpy as np"
   ]
  },
  {
   "cell_type": "code",
   "execution_count": 5,
   "metadata": {},
   "outputs": [],
   "source": [
    "import hashlib"
   ]
  },
  {
   "cell_type": "code",
   "execution_count": 6,
   "metadata": {},
   "outputs": [],
   "source": [
    "from log import log"
   ]
  },
  {
   "cell_type": "code",
   "execution_count": 7,
   "metadata": {},
   "outputs": [],
   "source": [
    "sql = \"\"\"\n",
    "with temp as (\n",
    "select \ta.id app_id,\n",
    "\t\tp_patient.phone,\n",
    "\t\tcase when pc.product_id in (\n",
    "            select id from product\n",
    "            where full_name like '%ВЭБ%') then 'VEBMED'\n",
    "        \telse 'ПРОЧИЕ'\n",
    "        end WEBpartition\n",
    "--\n",
    "from appointment a\n",
    "left join patient on a.patient_id = patient.id \n",
    "left join person p_patient on patient.person_id = p_patient.id\n",
    "--\n",
    "left join promotion promo on a.promotion_id = promo.id\n",
    "inner join product_condition pc\n",
    "   on promo.product_condition_id = pc.id\n",
    "--\n",
    "where a.finished at time zone 'UTC' > '2020-03-30'\n",
    "and a.good\n",
    "  and not (\n",
    "    a.patient_id in (\n",
    "        select patient_id\n",
    "        from patient_categories pcat\n",
    "        inner join reference rf\n",
    "           on rf.id=pcat.reference_id\n",
    "        where rf.code='TEST'\n",
    "        )\n",
    "    or lower(a.report_comment)='тест'\n",
    "    )\n",
    "--\n",
    ")\n",
    "select distinct phone\n",
    "from temp \n",
    "where webpartition = 'VEBMED'\n",
    "\n",
    "\n",
    "\"\"\""
   ]
  },
  {
   "cell_type": "code",
   "execution_count": 8,
   "metadata": {},
   "outputs": [
    {
     "name": "stdout",
     "output_type": "stream",
     "text": [
      "2020-06-18 16:50:08 connect to postgres database using config file \"../../../.credentials/telemed/prom.cfg\"\n",
      "2020-06-18 16:50:08 creating ssh tunnel to 172.16.100.19 as root...\n",
      "2020-06-18 16:50:09 connect postgres using parameters:\n",
      "                    database: telemed\n",
      "\t\t\t\t    user: norekhov\n",
      "\t\t\t\t    password: ***masked***\n",
      "\t\t\t\t    host: localhost\n",
      "\t\t\t\t    port: 42107\n",
      "2020-06-18 16:50:09 @telemed: execute sql:\n",
      "\t\t\t\t    SET TIME ZONE 'Europe/Moscow'\n",
      "\t\t\t\t    None\n",
      "2020-06-18 16:50:09 @telemed query:\n",
      "                    with temp as (\n",
      "\t\t\t\t    select \ta.id app_id,\n",
      "\t\t\t\t    \t\tp_patient.phone,\n",
      "\t\t\t\t    \t\tcase when pc.product_id in (\n",
      "\t\t\t\t                select id from product\n",
      "\t\t\t\t                where full_name like '%ВЭБ%') then 'VEBMED'\n",
      "\t\t\t\t            \telse 'ПРОЧИЕ'\n",
      "\t\t\t\t            end WEBpartition\n",
      "\t\t\t\t    --\n",
      "\t\t\t\t    from appointment a\n",
      "\t\t\t\t    left join patient on a.patient_id = patient.id \n",
      "\t\t\t\t    left join person p_patient on patient.person_id = p_patient.id\n",
      "\t\t\t\t    --\n",
      "\t\t\t\t    left join promotion promo on a.promotion_id = promo.id\n",
      "\t\t\t\t    inner join product_condition pc\n",
      "\t\t\t\t       on promo.product_condition_id = pc.id\n",
      "\t\t\t\t    --\n",
      "\t\t\t\t    where a.finished at time zone 'UTC' > '2020-03-30'\n",
      "\t\t\t\t    and a.good\n",
      "\t\t\t\t      and not (\n",
      "\t\t\t\t        a.patient_id in (\n",
      "\t\t\t\t            select patient_id\n",
      "\t\t\t\t            from patient_categories pcat\n",
      "\t\t\t\t            inner join reference rf\n",
      "\t\t\t\t               on rf.id=pcat.reference_id\n",
      "\t\t\t\t            where rf.code='TEST'\n",
      "\t\t\t\t            )\n",
      "\t\t\t\t        or lower(a.report_comment)='тест'\n",
      "\t\t\t\t        )\n",
      "\t\t\t\t    --\n",
      "\t\t\t\t    )\n",
      "\t\t\t\t    select distinct phone\n",
      "\t\t\t\t    from temp \n",
      "\t\t\t\t    where webpartition = 'VEBMED'\n",
      "                    None\n",
      "2020-06-18 16:50:20 return 31525 rows\n",
      "2020-06-18 16:50:20 @telemed: closing postgres connection...\n",
      "2020-06-18 16:50:20 closing ssh tunnel to 172.16.100.19...\n"
     ]
    }
   ],
   "source": [
    "connection = UniversalConnection('../../../.credentials/telemed/prom.cfg', DBType.Postgres)\n",
    "df_sql = connection.query(sql)\n",
    "connection.close()"
   ]
  },
  {
   "cell_type": "code",
   "execution_count": null,
   "metadata": {},
   "outputs": [],
   "source": []
  },
  {
   "cell_type": "code",
   "execution_count": 9,
   "metadata": {},
   "outputs": [
    {
     "data": {
      "text/html": [
       "<div>\n",
       "<style scoped>\n",
       "    .dataframe tbody tr th:only-of-type {\n",
       "        vertical-align: middle;\n",
       "    }\n",
       "\n",
       "    .dataframe tbody tr th {\n",
       "        vertical-align: top;\n",
       "    }\n",
       "\n",
       "    .dataframe thead th {\n",
       "        text-align: right;\n",
       "    }\n",
       "</style>\n",
       "<table border=\"1\" class=\"dataframe\">\n",
       "  <thead>\n",
       "    <tr style=\"text-align: right;\">\n",
       "      <th></th>\n",
       "      <th>phone</th>\n",
       "    </tr>\n",
       "  </thead>\n",
       "  <tbody>\n",
       "    <tr>\n",
       "      <th>0</th>\n",
       "      <td>00000000000</td>\n",
       "    </tr>\n",
       "    <tr>\n",
       "      <th>1</th>\n",
       "      <td>13054580697</td>\n",
       "    </tr>\n",
       "    <tr>\n",
       "      <th>2</th>\n",
       "      <td>201090919208</td>\n",
       "    </tr>\n",
       "    <tr>\n",
       "      <th>3</th>\n",
       "      <td>34622457762</td>\n",
       "    </tr>\n",
       "    <tr>\n",
       "      <th>4</th>\n",
       "      <td>393667232467</td>\n",
       "    </tr>\n",
       "    <tr>\n",
       "      <th>...</th>\n",
       "      <td>...</td>\n",
       "    </tr>\n",
       "    <tr>\n",
       "      <th>31520</th>\n",
       "      <td>9773621722</td>\n",
       "    </tr>\n",
       "    <tr>\n",
       "      <th>31521</th>\n",
       "      <td>992928280078</td>\n",
       "    </tr>\n",
       "    <tr>\n",
       "      <th>31522</th>\n",
       "      <td>995597072689</td>\n",
       "    </tr>\n",
       "    <tr>\n",
       "      <th>31523</th>\n",
       "      <td>9956885541</td>\n",
       "    </tr>\n",
       "    <tr>\n",
       "      <th>31524</th>\n",
       "      <td>9994639148</td>\n",
       "    </tr>\n",
       "  </tbody>\n",
       "</table>\n",
       "<p>31525 rows × 1 columns</p>\n",
       "</div>"
      ],
      "text/plain": [
       "              phone\n",
       "0       00000000000\n",
       "1       13054580697\n",
       "2      201090919208\n",
       "3       34622457762\n",
       "4      393667232467\n",
       "...             ...\n",
       "31520    9773621722\n",
       "31521  992928280078\n",
       "31522  995597072689\n",
       "31523    9956885541\n",
       "31524    9994639148\n",
       "\n",
       "[31525 rows x 1 columns]"
      ]
     },
     "execution_count": 9,
     "metadata": {},
     "output_type": "execute_result"
    }
   ],
   "source": [
    "df_sql"
   ]
  },
  {
   "cell_type": "code",
   "execution_count": null,
   "metadata": {},
   "outputs": [],
   "source": []
  },
  {
   "cell_type": "code",
   "execution_count": 10,
   "metadata": {},
   "outputs": [],
   "source": [
    "def correct_phone(phone):\n",
    "    try:\n",
    "        if len(phone) == 11 and phone[0] == '7':\n",
    "            return phone\n",
    "        elif len(phone) == 11 and phone[0] == '8':\n",
    "            return '7' + phone[1:]\n",
    "        elif len(phone) == 10 and phone[0] == '9':\n",
    "            return '7' + phone\n",
    "        elif len(phone) == 10 and phone[0] == '4':\n",
    "            return '7' + phone\n",
    "        return np.nan\n",
    "    except:\n",
    "        return np.nan\n"
   ]
  },
  {
   "cell_type": "code",
   "execution_count": 11,
   "metadata": {},
   "outputs": [],
   "source": [
    "df = df_sql.phone.apply(correct_phone)"
   ]
  },
  {
   "cell_type": "code",
   "execution_count": 12,
   "metadata": {},
   "outputs": [],
   "source": [
    "df = pd.DataFrame(df)"
   ]
  },
  {
   "cell_type": "code",
   "execution_count": 13,
   "metadata": {},
   "outputs": [],
   "source": [
    "df = df[~df.phone.isna()].reset_index(drop=True)"
   ]
  },
  {
   "cell_type": "code",
   "execution_count": 14,
   "metadata": {},
   "outputs": [
    {
     "data": {
      "text/html": [
       "<div>\n",
       "<style scoped>\n",
       "    .dataframe tbody tr th:only-of-type {\n",
       "        vertical-align: middle;\n",
       "    }\n",
       "\n",
       "    .dataframe tbody tr th {\n",
       "        vertical-align: top;\n",
       "    }\n",
       "\n",
       "    .dataframe thead th {\n",
       "        text-align: right;\n",
       "    }\n",
       "</style>\n",
       "<table border=\"1\" class=\"dataframe\">\n",
       "  <thead>\n",
       "    <tr style=\"text-align: right;\">\n",
       "      <th></th>\n",
       "      <th>phone</th>\n",
       "    </tr>\n",
       "  </thead>\n",
       "  <tbody>\n",
       "    <tr>\n",
       "      <th>0</th>\n",
       "      <td>74842597922</td>\n",
       "    </tr>\n",
       "    <tr>\n",
       "      <th>1</th>\n",
       "      <td>74932298951</td>\n",
       "    </tr>\n",
       "    <tr>\n",
       "      <th>2</th>\n",
       "      <td>74957357329</td>\n",
       "    </tr>\n",
       "    <tr>\n",
       "      <th>3</th>\n",
       "      <td>74999434486</td>\n",
       "    </tr>\n",
       "    <tr>\n",
       "      <th>4</th>\n",
       "      <td>70000000000</td>\n",
       "    </tr>\n",
       "    <tr>\n",
       "      <th>...</th>\n",
       "      <td>...</td>\n",
       "    </tr>\n",
       "    <tr>\n",
       "      <th>31502</th>\n",
       "      <td>79771032096</td>\n",
       "    </tr>\n",
       "    <tr>\n",
       "      <th>31503</th>\n",
       "      <td>79771370522</td>\n",
       "    </tr>\n",
       "    <tr>\n",
       "      <th>31504</th>\n",
       "      <td>79773621722</td>\n",
       "    </tr>\n",
       "    <tr>\n",
       "      <th>31505</th>\n",
       "      <td>79956885541</td>\n",
       "    </tr>\n",
       "    <tr>\n",
       "      <th>31506</th>\n",
       "      <td>79994639148</td>\n",
       "    </tr>\n",
       "  </tbody>\n",
       "</table>\n",
       "<p>31507 rows × 1 columns</p>\n",
       "</div>"
      ],
      "text/plain": [
       "             phone\n",
       "0      74842597922\n",
       "1      74932298951\n",
       "2      74957357329\n",
       "3      74999434486\n",
       "4      70000000000\n",
       "...            ...\n",
       "31502  79771032096\n",
       "31503  79771370522\n",
       "31504  79773621722\n",
       "31505  79956885541\n",
       "31506  79994639148\n",
       "\n",
       "[31507 rows x 1 columns]"
      ]
     },
     "execution_count": 14,
     "metadata": {},
     "output_type": "execute_result"
    }
   ],
   "source": [
    "df"
   ]
  },
  {
   "cell_type": "code",
   "execution_count": 34,
   "metadata": {},
   "outputs": [],
   "source": [
    "df.to_excel('phone_numbers.xlsx', index=False)"
   ]
  },
  {
   "cell_type": "code",
   "execution_count": null,
   "metadata": {},
   "outputs": [],
   "source": []
  },
  {
   "cell_type": "code",
   "execution_count": 42,
   "metadata": {},
   "outputs": [],
   "source": [
    "def create_hash(filename):\n",
    "        BLOCK_SIZE = 65536 * 100  # The size of each read from the file\n",
    "        file_hash = hashlib.sha256()  # Create the hash object, can use something other than `.sha256()` if you wish\n",
    "        with open(filename, 'rb') as f:  # Open the file to read it's bytes\n",
    "            fb = f.read(BLOCK_SIZE)  # Read from the file. Take in the amount declared above\n",
    "            while len(fb) > 0:  # While there is still data being read from the file\n",
    "                file_hash.update(fb)  # Update the hash\n",
    "                fb = f.read(BLOCK_SIZE)  # Read the next block from the file\n",
    "\n",
    "        with open(filename[:-4] + 'sha256', 'w') as f:\n",
    "            log('writing sha256')\n",
    "            f.write(file_hash.hexdigest())\n"
   ]
  },
  {
   "cell_type": "code",
   "execution_count": 43,
   "metadata": {},
   "outputs": [
    {
     "name": "stdout",
     "output_type": "stream",
     "text": [
      "2020-06-15 11:28:17 writing sha256\n"
     ]
    }
   ],
   "source": [
    "create_hash('phone_numbers.xlsx')"
   ]
  },
  {
   "cell_type": "code",
   "execution_count": null,
   "metadata": {},
   "outputs": [],
   "source": [
    "def make_hash(s):\n",
    "    return hashlib.sha256(s.encode('utf-8')).hexdigest()"
   ]
  },
  {
   "cell_type": "code",
   "execution_count": 15,
   "metadata": {},
   "outputs": [],
   "source": [
    "def make_hash_MD5(s):\n",
    "    return hashlib.md5(s.encode('utf-8')).hexdigest()"
   ]
  },
  {
   "cell_type": "code",
   "execution_count": 16,
   "metadata": {},
   "outputs": [],
   "source": [
    "df['hashed_phone'] = df['phone'].apply(make_hash_MD5)"
   ]
  },
  {
   "cell_type": "code",
   "execution_count": 17,
   "metadata": {},
   "outputs": [
    {
     "data": {
      "text/html": [
       "<div>\n",
       "<style scoped>\n",
       "    .dataframe tbody tr th:only-of-type {\n",
       "        vertical-align: middle;\n",
       "    }\n",
       "\n",
       "    .dataframe tbody tr th {\n",
       "        vertical-align: top;\n",
       "    }\n",
       "\n",
       "    .dataframe thead th {\n",
       "        text-align: right;\n",
       "    }\n",
       "</style>\n",
       "<table border=\"1\" class=\"dataframe\">\n",
       "  <thead>\n",
       "    <tr style=\"text-align: right;\">\n",
       "      <th></th>\n",
       "      <th>phone</th>\n",
       "      <th>hashed_phone</th>\n",
       "    </tr>\n",
       "  </thead>\n",
       "  <tbody>\n",
       "    <tr>\n",
       "      <th>0</th>\n",
       "      <td>74842597922</td>\n",
       "      <td>80b10973371ef0750cbca7e0c0156bb0</td>\n",
       "    </tr>\n",
       "    <tr>\n",
       "      <th>1</th>\n",
       "      <td>74932298951</td>\n",
       "      <td>d1163aada4392ffed41da91ff513a01c</td>\n",
       "    </tr>\n",
       "    <tr>\n",
       "      <th>2</th>\n",
       "      <td>74957357329</td>\n",
       "      <td>ff873d050498e067aebea48e36bc2386</td>\n",
       "    </tr>\n",
       "    <tr>\n",
       "      <th>3</th>\n",
       "      <td>74999434486</td>\n",
       "      <td>2e983058c743828806502a22b6491133</td>\n",
       "    </tr>\n",
       "    <tr>\n",
       "      <th>4</th>\n",
       "      <td>70000000000</td>\n",
       "      <td>4e4ba20f78121c0c351f6829b24ebbfc</td>\n",
       "    </tr>\n",
       "    <tr>\n",
       "      <th>...</th>\n",
       "      <td>...</td>\n",
       "      <td>...</td>\n",
       "    </tr>\n",
       "    <tr>\n",
       "      <th>31502</th>\n",
       "      <td>79771032096</td>\n",
       "      <td>6d30e48e79a2bdff5826182842bfd2ea</td>\n",
       "    </tr>\n",
       "    <tr>\n",
       "      <th>31503</th>\n",
       "      <td>79771370522</td>\n",
       "      <td>1adf028a9532d3d3b6147c959328836f</td>\n",
       "    </tr>\n",
       "    <tr>\n",
       "      <th>31504</th>\n",
       "      <td>79773621722</td>\n",
       "      <td>775ffbb0db6374c85b52e48a5997134e</td>\n",
       "    </tr>\n",
       "    <tr>\n",
       "      <th>31505</th>\n",
       "      <td>79956885541</td>\n",
       "      <td>9eb17647e8e5b93f5c52f22125564f38</td>\n",
       "    </tr>\n",
       "    <tr>\n",
       "      <th>31506</th>\n",
       "      <td>79994639148</td>\n",
       "      <td>d0868e7f18f4b5556f518d05afff694f</td>\n",
       "    </tr>\n",
       "  </tbody>\n",
       "</table>\n",
       "<p>31507 rows × 2 columns</p>\n",
       "</div>"
      ],
      "text/plain": [
       "             phone                      hashed_phone\n",
       "0      74842597922  80b10973371ef0750cbca7e0c0156bb0\n",
       "1      74932298951  d1163aada4392ffed41da91ff513a01c\n",
       "2      74957357329  ff873d050498e067aebea48e36bc2386\n",
       "3      74999434486  2e983058c743828806502a22b6491133\n",
       "4      70000000000  4e4ba20f78121c0c351f6829b24ebbfc\n",
       "...            ...                               ...\n",
       "31502  79771032096  6d30e48e79a2bdff5826182842bfd2ea\n",
       "31503  79771370522  1adf028a9532d3d3b6147c959328836f\n",
       "31504  79773621722  775ffbb0db6374c85b52e48a5997134e\n",
       "31505  79956885541  9eb17647e8e5b93f5c52f22125564f38\n",
       "31506  79994639148  d0868e7f18f4b5556f518d05afff694f\n",
       "\n",
       "[31507 rows x 2 columns]"
      ]
     },
     "execution_count": 17,
     "metadata": {},
     "output_type": "execute_result"
    }
   ],
   "source": [
    "df"
   ]
  },
  {
   "cell_type": "code",
   "execution_count": null,
   "metadata": {},
   "outputs": [],
   "source": []
  },
  {
   "cell_type": "code",
   "execution_count": 18,
   "metadata": {},
   "outputs": [],
   "source": [
    "df_hash = pd.DataFrame(df['hashed_phone'])"
   ]
  },
  {
   "cell_type": "code",
   "execution_count": 19,
   "metadata": {},
   "outputs": [
    {
     "data": {
      "text/html": [
       "<div>\n",
       "<style scoped>\n",
       "    .dataframe tbody tr th:only-of-type {\n",
       "        vertical-align: middle;\n",
       "    }\n",
       "\n",
       "    .dataframe tbody tr th {\n",
       "        vertical-align: top;\n",
       "    }\n",
       "\n",
       "    .dataframe thead th {\n",
       "        text-align: right;\n",
       "    }\n",
       "</style>\n",
       "<table border=\"1\" class=\"dataframe\">\n",
       "  <thead>\n",
       "    <tr style=\"text-align: right;\">\n",
       "      <th></th>\n",
       "      <th>hashed_phone</th>\n",
       "    </tr>\n",
       "  </thead>\n",
       "  <tbody>\n",
       "    <tr>\n",
       "      <th>0</th>\n",
       "      <td>80b10973371ef0750cbca7e0c0156bb0</td>\n",
       "    </tr>\n",
       "    <tr>\n",
       "      <th>1</th>\n",
       "      <td>d1163aada4392ffed41da91ff513a01c</td>\n",
       "    </tr>\n",
       "    <tr>\n",
       "      <th>2</th>\n",
       "      <td>ff873d050498e067aebea48e36bc2386</td>\n",
       "    </tr>\n",
       "    <tr>\n",
       "      <th>3</th>\n",
       "      <td>2e983058c743828806502a22b6491133</td>\n",
       "    </tr>\n",
       "    <tr>\n",
       "      <th>4</th>\n",
       "      <td>4e4ba20f78121c0c351f6829b24ebbfc</td>\n",
       "    </tr>\n",
       "    <tr>\n",
       "      <th>...</th>\n",
       "      <td>...</td>\n",
       "    </tr>\n",
       "    <tr>\n",
       "      <th>31502</th>\n",
       "      <td>6d30e48e79a2bdff5826182842bfd2ea</td>\n",
       "    </tr>\n",
       "    <tr>\n",
       "      <th>31503</th>\n",
       "      <td>1adf028a9532d3d3b6147c959328836f</td>\n",
       "    </tr>\n",
       "    <tr>\n",
       "      <th>31504</th>\n",
       "      <td>775ffbb0db6374c85b52e48a5997134e</td>\n",
       "    </tr>\n",
       "    <tr>\n",
       "      <th>31505</th>\n",
       "      <td>9eb17647e8e5b93f5c52f22125564f38</td>\n",
       "    </tr>\n",
       "    <tr>\n",
       "      <th>31506</th>\n",
       "      <td>d0868e7f18f4b5556f518d05afff694f</td>\n",
       "    </tr>\n",
       "  </tbody>\n",
       "</table>\n",
       "<p>31507 rows × 1 columns</p>\n",
       "</div>"
      ],
      "text/plain": [
       "                           hashed_phone\n",
       "0      80b10973371ef0750cbca7e0c0156bb0\n",
       "1      d1163aada4392ffed41da91ff513a01c\n",
       "2      ff873d050498e067aebea48e36bc2386\n",
       "3      2e983058c743828806502a22b6491133\n",
       "4      4e4ba20f78121c0c351f6829b24ebbfc\n",
       "...                                 ...\n",
       "31502  6d30e48e79a2bdff5826182842bfd2ea\n",
       "31503  1adf028a9532d3d3b6147c959328836f\n",
       "31504  775ffbb0db6374c85b52e48a5997134e\n",
       "31505  9eb17647e8e5b93f5c52f22125564f38\n",
       "31506  d0868e7f18f4b5556f518d05afff694f\n",
       "\n",
       "[31507 rows x 1 columns]"
      ]
     },
     "execution_count": 19,
     "metadata": {},
     "output_type": "execute_result"
    }
   ],
   "source": [
    "df_hash"
   ]
  },
  {
   "cell_type": "code",
   "execution_count": 20,
   "metadata": {},
   "outputs": [],
   "source": [
    "df_hash.to_excel('hashed_phones_md5.xlsx', index=False)"
   ]
  },
  {
   "cell_type": "code",
   "execution_count": 68,
   "metadata": {},
   "outputs": [],
   "source": [
    "#print(hashlib.sha256(df['phone'][0].encode('utf-8')).hexdigest())"
   ]
  },
  {
   "cell_type": "code",
   "execution_count": 69,
   "metadata": {},
   "outputs": [],
   "source": [
    "#type(df['phone'][0])"
   ]
  },
  {
   "cell_type": "code",
   "execution_count": 70,
   "metadata": {},
   "outputs": [],
   "source": [
    "#print(hashlib.sha256('asd').hexdigest())"
   ]
  },
  {
   "cell_type": "code",
   "execution_count": null,
   "metadata": {},
   "outputs": [],
   "source": []
  }
 ],
 "metadata": {
  "kernelspec": {
   "display_name": "Python 3",
   "language": "python",
   "name": "python3"
  },
  "language_info": {
   "codemirror_mode": {
    "name": "ipython",
    "version": 3
   },
   "file_extension": ".py",
   "mimetype": "text/x-python",
   "name": "python",
   "nbconvert_exporter": "python",
   "pygments_lexer": "ipython3",
   "version": "3.7.6"
  }
 },
 "nbformat": 4,
 "nbformat_minor": 4
}
